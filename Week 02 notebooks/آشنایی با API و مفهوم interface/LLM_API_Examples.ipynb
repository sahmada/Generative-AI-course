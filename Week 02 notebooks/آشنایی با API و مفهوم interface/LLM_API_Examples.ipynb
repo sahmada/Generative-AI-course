{
  "cells": [
    {
      "cell_type": "markdown",
      "id": "c9304074",
      "metadata": {
        "id": "c9304074"
      },
      "source": [
        "# LLM API Integrations\n",
        "This notebook contains sample codes for OpenAI, Anthropic's Claude, and Cohere API integrations."
      ]
    },
    {
      "cell_type": "code",
      "execution_count": null,
      "id": "65d8ca75",
      "metadata": {
        "id": "65d8ca75"
      },
      "outputs": [],
      "source": [
        "import openai\n",
        "\n",
        "# Set your OpenAI API key\n",
        "openai.api_key = 'YOUR_API_KEY'\n",
        "\n",
        "# Function to generate a response from OpenAI's GPT model\n",
        "def generate_response(prompt):\n",
        "    response = openai.Completion.create(\n",
        "        engine='text-davinci-003',  # Specify the engine, e.g., 'text-davinci-003'\n",
        "        prompt=prompt,\n",
        "        max_tokens=150,             # Adjust the response length\n",
        "        temperature=0.7             # Adjust the creativity level\n",
        "    )\n",
        "    return response.choices[0].text.strip()\n",
        "\n",
        "# Example usage\n",
        "prompt = \"Explain the concept of machine learning.\"\n",
        "response = generate_response(prompt)\n",
        "print(response)\n"
      ]
    },
    {
      "cell_type": "code",
      "execution_count": null,
      "id": "b4f543cb",
      "metadata": {
        "id": "b4f543cb"
      },
      "outputs": [],
      "source": [
        "import requests\n",
        "\n",
        "# Set your Anthropic API key\n",
        "api_key = 'YOUR_API_KEY'\n",
        "api_url = 'https://api.anthropic.com/v1/complete'\n",
        "\n",
        "# Function to generate a response from Claude\n",
        "def generate_claude_response(prompt):\n",
        "    headers = {\n",
        "        'Authorization': f'Bearer {api_key}',\n",
        "        'Content-Type': 'application/json',\n",
        "    }\n",
        "    data = {\n",
        "        'prompt': prompt,\n",
        "        'model': 'claude-v1',  # Specify the model version\n",
        "        'max_tokens_to_sample': 150,\n",
        "        'temperature': 0.7,\n",
        "    }\n",
        "    response = requests.post(api_url, headers=headers, json=data)\n",
        "    if response.status_code == 200:\n",
        "        return response.json()['completion']\n",
        "    else:\n",
        "        raise Exception(f\"Error: {response.status_code}, {response.text}\")\n",
        "\n",
        "# Example usage\n",
        "prompt = \"Describe the process of photosynthesis.\"\n",
        "response = generate_claude_response(prompt)\n",
        "print(response)\n"
      ]
    },
    {
      "cell_type": "code",
      "execution_count": null,
      "id": "4eecea92",
      "metadata": {
        "id": "4eecea92"
      },
      "outputs": [],
      "source": [
        "import cohere\n",
        "\n",
        "# Set your Cohere API key\n",
        "api_key = 'YOUR_API_KEY'\n",
        "co = cohere.Client(api_key)\n",
        "\n",
        "# Function to generate a response from Cohere's model\n",
        "def generate_cohere_response(prompt):\n",
        "    response = co.generate(\n",
        "        model='command-xlarge-nightly',  # Specify the model\n",
        "        prompt=prompt,\n",
        "        max_tokens=150,                  # Adjust the response length\n",
        "        temperature=0.7                  # Adjust the creativity level\n",
        "    )\n",
        "    return response.generations[0].text.strip()\n",
        "\n",
        "# Example usage\n",
        "prompt = \"What are the benefits of renewable energy?\"\n",
        "response = generate_cohere_response(prompt)\n",
        "print(response)\n"
      ]
    }
  ],
  "metadata": {
    "colab": {
      "provenance": []
    }
  },
  "nbformat": 4,
  "nbformat_minor": 5
}