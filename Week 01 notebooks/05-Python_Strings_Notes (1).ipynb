{
  "cells": [
    {
      "cell_type": "markdown",
      "id": "6c20443d",
      "metadata": {
        "id": "6c20443d"
      },
      "source": [
        "# Python Strings - Teaching Notes"
      ]
    },
    {
      "cell_type": "markdown",
      "id": "dfb47780",
      "metadata": {
        "id": "dfb47780"
      },
      "source": [
        "## 1. Definition\n",
        "- A **string** is an immutable sequence of characters in Python.\n",
        "- Strings are used to represent textual data and are enclosed in quotes (`'`, `\"`, or `\"\"\"`)."
      ]
    },
    {
      "cell_type": "markdown",
      "id": "e4602350",
      "metadata": {
        "id": "e4602350"
      },
      "source": [
        "## 2. Syntax\n",
        "```python\n",
        "# Creating strings\n",
        "single_quote_str = 'Hello'\n",
        "double_quote_str = \"World\"\n",
        "multi_line_str = \"\"\"This is\n",
        "a multi-line string.\"\"\"\n",
        "```"
      ]
    },
    {
      "cell_type": "code",
      "source": [
        "double_quote_str = \"World\"\n"
      ],
      "metadata": {
        "colab": {
          "base_uri": "https://localhost:8080/",
          "height": 106
        },
        "id": "_ExvLPEapYWh",
        "outputId": "71ad88ef-fbb7-40da-c119-6ce10cbd4aa5"
      },
      "id": "_ExvLPEapYWh",
      "execution_count": null,
      "outputs": [
        {
          "output_type": "error",
          "ename": "SyntaxError",
          "evalue": "unterminated string literal (detected at line 1) (<ipython-input-1-d979ce8cf2a6>, line 1)",
          "traceback": [
            "\u001b[0;36m  File \u001b[0;32m\"<ipython-input-1-d979ce8cf2a6>\"\u001b[0;36m, line \u001b[0;32m1\u001b[0m\n\u001b[0;31m    double_quote_str = \"World\u001b[0m\n\u001b[0m                       ^\u001b[0m\n\u001b[0;31mSyntaxError\u001b[0m\u001b[0;31m:\u001b[0m unterminated string literal (detected at line 1)\n"
          ]
        }
      ]
    },
    {
      "cell_type": "code",
      "source": [
        "multi_line_str = \"\"\"this is our first attempt on:\n",
        "\n",
        "\n",
        "\n",
        "\n",
        "\n",
        "genai\"\"\"\n",
        "print(type(multi_line_str))"
      ],
      "metadata": {
        "colab": {
          "base_uri": "https://localhost:8080/"
        },
        "id": "h7KaSo9i-3Ql",
        "outputId": "e42fe0b4-d43c-47bd-acae-8a27e2ae9217"
      },
      "id": "h7KaSo9i-3Ql",
      "execution_count": null,
      "outputs": [
        {
          "output_type": "stream",
          "name": "stdout",
          "text": [
            "<class 'str'>\n"
          ]
        }
      ]
    },
    {
      "cell_type": "code",
      "source": [
        "text = \" LangChain\"\n",
        "print(text[0])   # Output: 'L'\n",
        "print(text[-1])  # Output: 'n'"
      ],
      "metadata": {
        "colab": {
          "base_uri": "https://localhost:8080/"
        },
        "id": "G-aLMZjK_j1F",
        "outputId": "72789f9b-eeb4-41b7-f065-79445920d37d"
      },
      "id": "G-aLMZjK_j1F",
      "execution_count": null,
      "outputs": [
        {
          "output_type": "stream",
          "name": "stdout",
          "text": [
            " \n",
            "n\n"
          ]
        }
      ]
    },
    {
      "cell_type": "code",
      "source": [
        "text = \"LangChain\"\n",
        "print(text[0:4])  # Output: 'Lang'\n",
        "print(text[4:-1])"
      ],
      "metadata": {
        "colab": {
          "base_uri": "https://localhost:8080/"
        },
        "id": "H4DuKcvg__xC",
        "outputId": "a3a19130-5243-46eb-ef98-ca318629d57d"
      },
      "id": "H4DuKcvg__xC",
      "execution_count": null,
      "outputs": [
        {
          "output_type": "stream",
          "name": "stdout",
          "text": [
            "Lang\n",
            "Chai\n"
          ]
        }
      ]
    },
    {
      "cell_type": "code",
      "source": [
        "repeat = \"*\" * 100\n",
        "print(repeat)  #"
      ],
      "metadata": {
        "colab": {
          "base_uri": "https://localhost:8080/"
        },
        "id": "U-p-JlUOASIT",
        "outputId": "62ea8cc2-b840-49fd-8273-6f28f19dee7c"
      },
      "id": "U-p-JlUOASIT",
      "execution_count": null,
      "outputs": [
        {
          "output_type": "stream",
          "name": "stdout",
          "text": [
            "****************************************************************************************************\n"
          ]
        }
      ]
    },
    {
      "cell_type": "code",
      "source": [
        "text = \"Lang  Chain.t  x   t\"\n",
        "\n",
        "text.replace('  ', '')\n"
      ],
      "metadata": {
        "colab": {
          "base_uri": "https://localhost:8080/",
          "height": 36
        },
        "id": "5regk0A_AehI",
        "outputId": "0055a557-c526-4fe6-b372-0a28504cd65a"
      },
      "id": "5regk0A_AehI",
      "execution_count": null,
      "outputs": [
        {
          "output_type": "execute_result",
          "data": {
            "text/plain": [
              "'LangChain.tx t'"
            ],
            "application/vnd.google.colaboratory.intrinsic+json": {
              "type": "string"
            }
          },
          "metadata": {},
          "execution_count": 22
        }
      ]
    },
    {
      "cell_type": "code",
      "source": [
        "greeting = \"Hello\" + \"/n\" + \"World\"\n",
        "print(greeting)  # Output: 'Hello World'"
      ],
      "metadata": {
        "colab": {
          "base_uri": "https://localhost:8080/"
        },
        "id": "-u_xLoDmqeM2",
        "outputId": "8f34e274-070b-488d-e867-d51306acfdaf"
      },
      "id": "-u_xLoDmqeM2",
      "execution_count": null,
      "outputs": [
        {
          "output_type": "stream",
          "name": "stdout",
          "text": [
            "Hello/nWorld\n"
          ]
        }
      ]
    },
    {
      "cell_type": "code",
      "source": [
        "text = \"LangChain\"\n",
        "print(\"Lang\" in text)  # Output: True\n",
        "print(\"Model\" in text) # Output: False"
      ],
      "metadata": {
        "colab": {
          "base_uri": "https://localhost:8080/"
        },
        "id": "eyGu6EHnqvpo",
        "outputId": "b05123a6-b594-4202-eae1-2a2b801fcab3"
      },
      "id": "eyGu6EHnqvpo",
      "execution_count": null,
      "outputs": [
        {
          "output_type": "stream",
          "name": "stdout",
          "text": [
            "True\n",
            "False\n"
          ]
        }
      ]
    },
    {
      "cell_type": "markdown",
      "id": "9972e77b",
      "metadata": {
        "id": "9972e77b"
      },
      "source": [
        "## 3. Common String Operations\n",
        "**Accessing Characters**\n",
        "```python\n",
        "text = \"LangChain\"\n",
        "print(text[0])   # Output: 'L'\n",
        "print(text[-1])  # Output: 'n'\n",
        "```\n",
        "\n",
        "**Slicing**\n",
        "```python\n",
        "text = \"LangChain\"\n",
        "print(text[0:4])  # Output: 'Lang'\n",
        "print(text[4:])   # Output: 'Chain'\n",
        "```\n",
        "\n",
        "**String Concatenation**\n",
        "```python\n",
        "greeting = \"Hello\" + \" \" + \"World\"\n",
        "print(greeting)  # Output: 'Hello World'\n",
        "```\n",
        "\n",
        "**Repetition**\n",
        "```python\n",
        "repeat = \"A\" * 5\n",
        "print(repeat)  # Output: 'AAAAA'\n",
        "```\n",
        "\n",
        "**Checking Substrings**\n",
        "```python\n",
        "text = \"LangChain\"\n",
        "print(\"Lang\" in text)  # Output: True\n",
        "print(\"Model\" in text) # Output: False\n",
        "```"
      ]
    },
    {
      "cell_type": "code",
      "source": [
        "name = \"Bob\"\n",
        "age = 30\n",
        "message = f\"My name is {name} and I am {age} years old.\"\n",
        "print(message)"
      ],
      "metadata": {
        "colab": {
          "base_uri": "https://localhost:8080/"
        },
        "id": "Xrct7hREA5ve",
        "outputId": "0a78f272-fbdb-4243-edd1-9109c1bb160f"
      },
      "id": "Xrct7hREA5ve",
      "execution_count": null,
      "outputs": [
        {
          "output_type": "stream",
          "name": "stdout",
          "text": [
            "My name is Bob and I am 30 years old.\n"
          ]
        }
      ]
    },
    {
      "cell_type": "code",
      "source": [],
      "metadata": {
        "id": "IPILCw8QCTeW"
      },
      "id": "IPILCw8QCTeW",
      "execution_count": null,
      "outputs": []
    },
    {
      "cell_type": "code",
      "source": [
        "message = \"My name is {} and I am {} years old.\".format(name, age)\n",
        "print(message)"
      ],
      "metadata": {
        "colab": {
          "base_uri": "https://localhost:8080/"
        },
        "id": "ZI9VhJ0kCL30",
        "outputId": "2847cc1a-cb55-4985-aee3-b39fd457246d"
      },
      "id": "ZI9VhJ0kCL30",
      "execution_count": null,
      "outputs": [
        {
          "output_type": "stream",
          "name": "stdout",
          "text": [
            "My name is Bob and I am 30 years old.\n"
          ]
        }
      ]
    },
    {
      "cell_type": "code",
      "source": [
        "message = \"My name is %s and I am %s years old.\" % (name, age)\n",
        "print(message)"
      ],
      "metadata": {
        "colab": {
          "base_uri": "https://localhost:8080/"
        },
        "id": "SYOuZ98QC2Wm",
        "outputId": "328b69f1-aad1-4644-a6d6-48683756d306"
      },
      "id": "SYOuZ98QC2Wm",
      "execution_count": null,
      "outputs": [
        {
          "output_type": "stream",
          "name": "stdout",
          "text": [
            "My name is Bob and I am 30 years old.\n"
          ]
        }
      ]
    },
    {
      "cell_type": "code",
      "source": [
        "path = '/content/sample_data/mnist_train_small.csv'\n",
        "\n",
        "path.split('/')\n",
        "\n"
      ],
      "metadata": {
        "colab": {
          "base_uri": "https://localhost:8080/"
        },
        "id": "DlmiucXvrzsS",
        "outputId": "4cf1b351-812f-4076-d141-6f9f3b6d70e2"
      },
      "id": "DlmiucXvrzsS",
      "execution_count": null,
      "outputs": [
        {
          "output_type": "execute_result",
          "data": {
            "text/plain": [
              "['', 'content', 'sample_data', 'mnist_train_small.csv']"
            ]
          },
          "metadata": {},
          "execution_count": 16
        }
      ]
    },
    {
      "cell_type": "code",
      "source": [
        "path_in_list = ['', 'content', 'sample_data', 'california_housing_test.csv']\n",
        "\n",
        "'|'.join(path_in_list)"
      ],
      "metadata": {
        "colab": {
          "base_uri": "https://localhost:8080/",
          "height": 36
        },
        "id": "lF76dOvUD_dp",
        "outputId": "b29a4bcd-af04-4d91-ca09-09667fa050af"
      },
      "id": "lF76dOvUD_dp",
      "execution_count": null,
      "outputs": [
        {
          "output_type": "execute_result",
          "data": {
            "text/plain": [
              "'|content|sample_data|california_housing_test.csv'"
            ],
            "application/vnd.google.colaboratory.intrinsic+json": {
              "type": "string"
            }
          },
          "metadata": {},
          "execution_count": 19
        }
      ]
    },
    {
      "cell_type": "markdown",
      "id": "58fad8fc",
      "metadata": {
        "id": "58fad8fc"
      },
      "source": [
        "## 4. String Methods\n",
        "| Method               | Description                                      | Example                      | Output                       |\n",
        "|----------------------|--------------------------------------------------|------------------------------|------------------------------|\n",
        "| `lower()`            | Converts all characters to lowercase            | `'HELLO'.lower()`            | `'hello'`                   |\n",
        "| `upper()`            | Converts all characters to uppercase            | `'hello'.upper()`            | `'HELLO'`                   |\n",
        "| `strip()`            | Removes leading and trailing whitespace         | `'  hello  '.strip()`        | `'hello'`                   |\n",
        "| `replace(old, new)`  | Replaces occurrences of a substring             | `'hello'.replace('l', 'x')`  | `'hexxo'`                   |\n",
        "| `split()`            | Splits string into a list by whitespace         | `'a b c'.split()`            | `['a', 'b', 'c']`           |\n",
        "| `join(iterable)`     | Joins a list into a string with a delimiter      | `', '.join(['a', 'b', 'c'])` | `'a, b, c'`                 |\n"
      ]
    },
    {
      "cell_type": "markdown",
      "id": "9cd1f3e3",
      "metadata": {
        "id": "9cd1f3e3"
      },
      "source": [
        "## 5. String Formatting\n",
        "Formatting strings is crucial for working with dynamic data.\n",
        "\n",
        "**Using f-strings**\n",
        "```python\n",
        "name = \"Alice\"\n",
        "age = 30\n",
        "message = f\"My name is {name} and I am {age} years old.\"\n",
        "print(message)  # Output: 'My name is Alice and I am 30 years old.'\n",
        "```\n",
        "\n",
        "**Using `.format()`**\n",
        "```python\n",
        "message = \"My name is {} and I am {} years old.\".format(name, age)\n",
        "print(message)\n",
        "```\n",
        "\n",
        "**Using `%` Formatting**\n",
        "```python\n",
        "message = \"My name is %s and I am %d years old.\" % (name, age)\n",
        "print(message)\n",
        "```"
      ]
    },
    {
      "cell_type": "markdown",
      "id": "5d9adbd5",
      "metadata": {
        "id": "5d9adbd5"
      },
      "source": [
        "## 6. Escape Characters\n",
        "Special characters in strings:\n",
        "```python\n",
        "escaped = \"This is a line break:\\nNext line starts here.\"\n",
        "print(escaped)\n",
        "# Output:\n",
        "# This is a line break:\n",
        "# Next line starts here.\n",
        "```"
      ]
    },
    {
      "cell_type": "code",
      "source": [
        "escaped = \"This is a line break:\\n\\nNext line starts here.\"\n",
        "print(escaped)"
      ],
      "metadata": {
        "colab": {
          "base_uri": "https://localhost:8080/"
        },
        "id": "ZTE04MnyExN1",
        "outputId": "f5d3e2c2-a84a-4e0b-b7ce-f4f3498cb759"
      },
      "id": "ZTE04MnyExN1",
      "execution_count": null,
      "outputs": [
        {
          "output_type": "stream",
          "name": "stdout",
          "text": [
            "This is a line break:\n",
            "\n",
            "Next line starts here.\n"
          ]
        }
      ]
    },
    {
      "cell_type": "markdown",
      "id": "6960e886",
      "metadata": {
        "id": "6960e886"
      },
      "source": [
        "## 7. String Length\n",
        "Use `len()` to get the length of a string:\n",
        "```python\n",
        "text = \"LangChain\"\n",
        "print(len(text))  # Output: 9\n",
        "```"
      ]
    },
    {
      "cell_type": "code",
      "source": [
        "text = \"LangChain\"\n",
        "print(len(text))"
      ],
      "metadata": {
        "colab": {
          "base_uri": "https://localhost:8080/"
        },
        "id": "V-Z9tSuLsn7z",
        "outputId": "afe9236c-30a1-4605-f919-bf1a7551b3ea"
      },
      "id": "V-Z9tSuLsn7z",
      "execution_count": null,
      "outputs": [
        {
          "output_type": "stream",
          "name": "stdout",
          "text": [
            "9\n"
          ]
        }
      ]
    },
    {
      "cell_type": "code",
      "source": [
        "'langchain'[8]"
      ],
      "metadata": {
        "colab": {
          "base_uri": "https://localhost:8080/",
          "height": 36
        },
        "id": "H47nCiVmE5Hf",
        "outputId": "3f1d489a-ea19-4e76-aec3-2760a038ecdf"
      },
      "id": "H47nCiVmE5Hf",
      "execution_count": null,
      "outputs": [
        {
          "output_type": "execute_result",
          "data": {
            "text/plain": [
              "'n'"
            ],
            "application/vnd.google.colaboratory.intrinsic+json": {
              "type": "string"
            }
          },
          "metadata": {},
          "execution_count": 24
        }
      ]
    },
    {
      "cell_type": "code",
      "source": [
        "template = \"What is the capital of {country}?\"\n",
        "prompt = template.format(country=\"France\")"
      ],
      "metadata": {
        "id": "UVIbv3-RFGJi"
      },
      "id": "UVIbv3-RFGJi",
      "execution_count": null,
      "outputs": []
    },
    {
      "cell_type": "code",
      "source": [
        "prompt"
      ],
      "metadata": {
        "colab": {
          "base_uri": "https://localhost:8080/",
          "height": 36
        },
        "id": "9acdsf-Xs4px",
        "outputId": "ca4a3c7f-2f7a-4894-85fe-7c1c77ab21d6"
      },
      "id": "9acdsf-Xs4px",
      "execution_count": null,
      "outputs": [
        {
          "output_type": "execute_result",
          "data": {
            "text/plain": [
              "'What is the capital of France?'"
            ],
            "application/vnd.google.colaboratory.intrinsic+json": {
              "type": "string"
            }
          },
          "metadata": {},
          "execution_count": 26
        }
      ]
    },
    {
      "cell_type": "markdown",
      "id": "8ac5a57f",
      "metadata": {
        "id": "8ac5a57f"
      },
      "source": [
        "## 8. Practical Use Cases in AI Applications\n",
        "1. **Logging Outputs**\n",
        "```python\n",
        "def log_output(message):\n",
        "    print(f\"LOG: {message}\")\n",
        "log_output(\"Model loaded successfully.\")\n",
        "```\n",
        "\n",
        "2. **Dynamic Prompt Creation**\n",
        "```python\n",
        "template = \"What is the capital of {country}?\"\n",
        "prompt = template.format(country=\"France\")\n",
        "print(prompt)  # Output: 'What is the capital of France?'\n",
        "```\n",
        "\n",
        "3. **String Cleaning for NLP**\n",
        "```python\n",
        "text = \"  Hello, World!   \"\n",
        "cleaned_text = text.strip().lower()\n",
        "print(cleaned_text)  # Output: 'hello, world!'\n",
        "```"
      ]
    },
    {
      "cell_type": "code",
      "source": [
        "'yes'=='Yes'.lower()"
      ],
      "metadata": {
        "colab": {
          "base_uri": "https://localhost:8080/"
        },
        "id": "sCV0YoWIFW3T",
        "outputId": "8cb5b3ce-3046-4dad-fd93-cc26f49a956d"
      },
      "id": "sCV0YoWIFW3T",
      "execution_count": null,
      "outputs": [
        {
          "output_type": "execute_result",
          "data": {
            "text/plain": [
              "True"
            ]
          },
          "metadata": {},
          "execution_count": 50
        }
      ]
    },
    {
      "cell_type": "markdown",
      "id": "7487e8b3",
      "metadata": {
        "id": "7487e8b3"
      },
      "source": [
        "## 9. Example Exercises\n",
        "1. Write a program to capitalize the first letter of a given string.\n",
        "2. Create a string that repeats \"Python\" 5 times and print it.\n",
        "3. Write a function to check if a substring exists in a given string.\n",
        "4. Use f-strings to create a sentence that dynamically inserts a person's name and profession.\n",
        "5. Write a program to remove all vowels from a string.\n"
      ]
    },
    {
      "cell_type": "code",
      "source": [
        "'Yes'.lower() == 'yes'"
      ],
      "metadata": {
        "colab": {
          "base_uri": "https://localhost:8080/"
        },
        "id": "nWFBvB0ptGFP",
        "outputId": "fb9f0248-b606-4c8d-b8ff-60b6e9132cf3"
      },
      "id": "nWFBvB0ptGFP",
      "execution_count": null,
      "outputs": [
        {
          "output_type": "execute_result",
          "data": {
            "text/plain": [
              "True"
            ]
          },
          "metadata": {},
          "execution_count": 28
        }
      ]
    },
    {
      "cell_type": "code",
      "source": [],
      "metadata": {
        "id": "6L2oTQIAtIjX"
      },
      "id": "6L2oTQIAtIjX",
      "execution_count": null,
      "outputs": []
    }
  ],
  "metadata": {
    "colab": {
      "provenance": []
    },
    "language_info": {
      "name": "python"
    },
    "kernelspec": {
      "name": "python3",
      "display_name": "Python 3"
    }
  },
  "nbformat": 4,
  "nbformat_minor": 5
}