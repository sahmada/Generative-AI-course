{
  "cells": [
    {
      "cell_type": "markdown",
      "id": "a7ed4f39",
      "metadata": {
        "id": "a7ed4f39"
      },
      "source": [
        "# Python Tuples - Teaching Notes"
      ]
    },
    {
      "cell_type": "markdown",
      "id": "b7c3d023",
      "metadata": {
        "id": "b7c3d023"
      },
      "source": [
        "## 1. Definition\n",
        "- A **tuple** is an immutable, ordered collection of items in Python.\n",
        "- Once created, the elements in a tuple cannot be modified.\n",
        "- Tuples are often used to represent fixed collections of related items."
      ]
    },
    {
      "cell_type": "markdown",
      "id": "cd2cedb1",
      "metadata": {
        "id": "cd2cedb1"
      },
      "source": [
        "## 2. Syntax\n",
        "```python\n",
        "# Creating tuples\n",
        "my_tuple = (1, 2, 3, \"Python\", True)\n",
        "empty_tuple = ()  # Empty tuple\n",
        "single_element_tuple = (5,)  # Tuple with one element (note the comma)\n",
        "```"
      ]
    },
    {
      "cell_type": "code",
      "source": [
        "single_element_tuple = (5)"
      ],
      "metadata": {
        "id": "UmzAJxlmeWYC"
      },
      "id": "UmzAJxlmeWYC",
      "execution_count": null,
      "outputs": []
    },
    {
      "cell_type": "code",
      "source": [
        "type(single_element_tuple)"
      ],
      "metadata": {
        "colab": {
          "base_uri": "https://localhost:8080/"
        },
        "id": "mu2AmJdgeaKQ",
        "outputId": "32f922df-4fca-4423-e924-07e432504e8d"
      },
      "id": "mu2AmJdgeaKQ",
      "execution_count": null,
      "outputs": [
        {
          "output_type": "execute_result",
          "data": {
            "text/plain": [
              "int"
            ]
          },
          "metadata": {},
          "execution_count": 4
        }
      ]
    },
    {
      "cell_type": "markdown",
      "id": "6840a419",
      "metadata": {
        "id": "6840a419"
      },
      "source": [
        "## 3. Accessing Elements\n",
        "**Using Indexing**\n",
        "```python\n",
        "my_tuple = (10, 20, 30, 40)\n",
        "print(my_tuple[0])   # Output: 10 (first element)\n",
        "print(my_tuple[-1])  # Output: 40 (last element)\n",
        "```\n",
        "\n",
        "**Using Slicing**\n",
        "```python\n",
        "print(my_tuple[1:3])  # Output: (20, 30)\n",
        "print(my_tuple[:2])   # Output: (10, 20)\n",
        "print(my_tuple[2:])   # Output: (30, 40)\n",
        "```"
      ]
    },
    {
      "cell_type": "code",
      "source": [
        "my_tuple = (1, 2, 3)\n",
        "my_tuple[0] = 10"
      ],
      "metadata": {
        "colab": {
          "base_uri": "https://localhost:8080/",
          "height": 158
        },
        "id": "ITMtqw7Teq__",
        "outputId": "afa43a6b-8a5b-4ad3-f407-5845caa83233"
      },
      "id": "ITMtqw7Teq__",
      "execution_count": null,
      "outputs": [
        {
          "output_type": "error",
          "ename": "TypeError",
          "evalue": "'tuple' object does not support item assignment",
          "traceback": [
            "\u001b[0;31m---------------------------------------------------------------------------\u001b[0m",
            "\u001b[0;31mTypeError\u001b[0m                                 Traceback (most recent call last)",
            "\u001b[0;32m<ipython-input-6-8a9c87d93ff4>\u001b[0m in \u001b[0;36m<cell line: 0>\u001b[0;34m()\u001b[0m\n\u001b[1;32m      1\u001b[0m \u001b[0mmy_tuple\u001b[0m \u001b[0;34m=\u001b[0m \u001b[0;34m(\u001b[0m\u001b[0;36m1\u001b[0m\u001b[0;34m,\u001b[0m \u001b[0;36m2\u001b[0m\u001b[0;34m,\u001b[0m \u001b[0;36m3\u001b[0m\u001b[0;34m)\u001b[0m\u001b[0;34m\u001b[0m\u001b[0;34m\u001b[0m\u001b[0m\n\u001b[0;32m----> 2\u001b[0;31m \u001b[0mmy_tuple\u001b[0m\u001b[0;34m[\u001b[0m\u001b[0;36m0\u001b[0m\u001b[0;34m]\u001b[0m \u001b[0;34m=\u001b[0m \u001b[0;36m10\u001b[0m\u001b[0;34m\u001b[0m\u001b[0;34m\u001b[0m\u001b[0m\n\u001b[0m",
            "\u001b[0;31mTypeError\u001b[0m: 'tuple' object does not support item assignment"
          ]
        }
      ]
    },
    {
      "cell_type": "markdown",
      "id": "1399f9db",
      "metadata": {
        "id": "1399f9db"
      },
      "source": [
        "## 4. Tuple Operations\n",
        "| Operation             | Description                          | Example                          | Output             |\n",
        "|-----------------------|--------------------------------------|----------------------------------|--------------------|\n",
        "| `len(tuple)`          | Returns the number of elements       | `len((1, 2, 3))`                 | `3`                |\n",
        "| `tuple.count(x)`      | Counts occurrences of `x`           | `(1, 2, 2, 3).count(2)`          | `2`                |\n",
        "| `tuple.index(x)`      | Returns the index of the first occurrence of `x` | `(1, 2, 3).index(2)`  | `1`                |\n",
        "| `+` (concatenation)   | Combines two tuples                 | `(1, 2) + (3, 4)`                | `(1, 2, 3, 4)`     |\n",
        "| `*` (repetition)      | Repeats the tuple multiple times     | `(1, 2) * 3`                     | `(1, 2, 1, 2, 1, 2)` |"
      ]
    },
    {
      "cell_type": "markdown",
      "id": "a6d1e1d6",
      "metadata": {
        "id": "a6d1e1d6"
      },
      "source": [
        "## 5. Immutability\n",
        "- Tuples are immutable, meaning their elements cannot be changed after creation.\n",
        "- Any attempt to modify a tuple results in a `TypeError`.\n",
        "```python\n",
        "my_tuple = (1, 2, 3)\n",
        "my_tuple[0] = 10  # TypeError: 'tuple' object does not support item assignment\n",
        "```"
      ]
    },
    {
      "cell_type": "markdown",
      "id": "6001f1ba",
      "metadata": {
        "id": "6001f1ba"
      },
      "source": [
        "## 6. Tuple Unpacking\n",
        "- Tuple unpacking allows you to assign tuple elements to variables in one step.\n",
        "```python\n",
        "coordinates = (10.5, 20.3, 30.7)\n",
        "x, y, z = coordinates\n",
        "print(f\"x: {x}, y: {y}, z: {z}\")  # Output: x: 10.5, y: 20.3, z: 30.7\n",
        "```"
      ]
    },
    {
      "cell_type": "code",
      "source": [
        "coordinates = (10.5, 20.3, 30.7)\n",
        "x, y, z = coordinates\n",
        "print(f\"x: {x}, y: {y}, z: {z}\")"
      ],
      "metadata": {
        "colab": {
          "base_uri": "https://localhost:8080/"
        },
        "id": "5l7ChPoYezlJ",
        "outputId": "5b2b3616-7d59-45c6-f22f-ab88eab04dcf"
      },
      "id": "5l7ChPoYezlJ",
      "execution_count": null,
      "outputs": [
        {
          "output_type": "stream",
          "name": "stdout",
          "text": [
            "x: 10.5, y: 20.3, z: 30.7\n"
          ]
        }
      ]
    },
    {
      "cell_type": "markdown",
      "id": "2d4ae38f",
      "metadata": {
        "id": "2d4ae38f"
      },
      "source": [
        "## 7. Nested Tuples\n",
        "- Tuples can contain other tuples as elements.\n",
        "```python\n",
        "nested_tuple = ((1, 2), (3, 4), (5, 6))\n",
        "print(nested_tuple[0])      # Output: (1, 2)\n",
        "print(nested_tuple[0][1])   # Output: 2\n",
        "```"
      ]
    },
    {
      "cell_type": "code",
      "source": [
        "my_tuple=(1,2,3)\n",
        "my_list=list(my_tuple)# Converts tuple to list\n",
        "print(my_list)#\n",
        "my_list.append(4)\n",
        "new_tuple = tuple(my_list)  # Converts list back to tuple\n",
        "print(new_tuple)  # Output: (1, 2, 3, 4)"
      ],
      "metadata": {
        "colab": {
          "base_uri": "https://localhost:8080/"
        },
        "id": "cnLYKz-De-SB",
        "outputId": "f590e9ed-53ba-4935-cd40-eb0707419521"
      },
      "id": "cnLYKz-De-SB",
      "execution_count": null,
      "outputs": [
        {
          "output_type": "stream",
          "name": "stdout",
          "text": [
            "[1, 2, 3]\n",
            "(1, 2, 3, 4)\n"
          ]
        }
      ]
    },
    {
      "cell_type": "markdown",
      "id": "740a667c",
      "metadata": {
        "id": "740a667c"
      },
      "source": [
        "## 8. Converting Between Tuples and Lists\n",
        "You can convert a tuple to a list and vice versa.\n",
        "```python\n",
        "my_tuple = (1, 2, 3)\n",
        "my_list = list(my_tuple)  # Converts tuple to list\n",
        "print(my_list)  # Output: [1, 2, 3]\n",
        "\n",
        "my_list.append(4)\n",
        "new_tuple = tuple(my_list)  # Converts list back to tuple\n",
        "print(new_tuple)  # Output: (1, 2, 3, 4)\n",
        "```"
      ]
    },
    {
      "cell_type": "code",
      "source": [
        "my_tuple = (1, 2, 3)\n",
        "my_list = list(my_tuple)  # Converts tuple to list\n",
        "print('my list is: ', my_list)  # Output: [1, 2, 3]\n",
        "\n",
        "my_list.append(4)\n",
        "new_tuple = tuple(my_list)  # Converts list back to tuple\n",
        "print(new_tuple)  # Out"
      ],
      "metadata": {
        "colab": {
          "base_uri": "https://localhost:8080/"
        },
        "id": "zN0hsZEE9NQX",
        "outputId": "45aa2ee1-e329-4955-993a-d21c1b22032d"
      },
      "id": "zN0hsZEE9NQX",
      "execution_count": null,
      "outputs": [
        {
          "output_type": "stream",
          "name": "stdout",
          "text": [
            "my list is:  [1, 2, 3]\n",
            "(1, 2, 3, 4)\n"
          ]
        }
      ]
    },
    {
      "cell_type": "markdown",
      "id": "28b1dbd7",
      "metadata": {
        "id": "28b1dbd7"
      },
      "source": [
        "## 9. Practical Use Cases for Tuples\n",
        "1. **Returning Multiple Values from a Function**\n",
        "```python\n",
        "def get_stats():\n",
        "    return (25, 175)  # age, height\n",
        "\n",
        "age, height = get_stats()\n",
        "print(f\"Age: {age}, Height: {height}\")\n",
        "# Output: Age: 25, Height: 175\n",
        "```\n",
        "\n",
        "2. **Using Tuples as Dictionary Keys**\n",
        "```python\n",
        "location = {(40.7128, -74.0060): \"New York\", (34.0522, -118.2437): \"Los Angeles\"}\n",
        "print(location[(40.7128, -74.0060)])  # Output: New York\n",
        "```"
      ]
    },
    {
      "cell_type": "markdown",
      "id": "7accb8b3",
      "metadata": {
        "id": "7accb8b3"
      },
      "source": [
        "## 10. Common Mistakes\n",
        "1. **Forgetting the Comma for Single-Element Tuples**:\n",
        "   ```python\n",
        "   single_element = (5)  # This is an integer, not a tuple\n",
        "   single_element_tuple = (5,)  # Correct\n",
        "   ```\n",
        "\n",
        "2. **Trying to Modify a Tuple**:\n",
        "   ```python\n",
        "   my_tuple = (1, 2, 3)\n",
        "   my_tuple[0] = 10  # TypeError\n",
        "   ```"
      ]
    },
    {
      "cell_type": "markdown",
      "id": "9018c011",
      "metadata": {
        "id": "9018c011"
      },
      "source": [
        "## 11. Example Exercises\n",
        "1. Create a tuple of numbers and print the sum of all elements.\n",
        "2. Write a program to count the occurrences of a specific value in a tuple.\n",
        "3. Create a nested tuple representing a 2D grid and access specific elements.\n",
        "4. Write a function that returns a tuple containing the maximum and minimum of a given list.\n",
        "5. Convert a tuple of words into a single string separated by commas.\n"
      ]
    }
  ],
  "metadata": {
    "colab": {
      "provenance": []
    },
    "language_info": {
      "name": "python"
    },
    "kernelspec": {
      "name": "python3",
      "display_name": "Python 3"
    }
  },
  "nbformat": 4,
  "nbformat_minor": 5
}