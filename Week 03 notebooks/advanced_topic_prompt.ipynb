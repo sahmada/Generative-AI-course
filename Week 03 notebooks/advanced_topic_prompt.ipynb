{
  "nbformat": 4,
  "nbformat_minor": 0,
  "metadata": {
    "colab": {
      "provenance": []
    },
    "kernelspec": {
      "name": "python3",
      "display_name": "Python 3"
    },
    "language_info": {
      "name": "python"
    }
  },
  "cells": [
    {
      "cell_type": "code",
      "execution_count": null,
      "metadata": {
        "id": "riC81H-VCcNg"
      },
      "outputs": [],
      "source": [
        "!pip install -q  langchain-openai langchain_community tiktoken langchain\n",
        "# !pip install -q  langchain-cohere\n",
        "%pip install -qU langchain-google-genai"
      ]
    },
    {
      "cell_type": "code",
      "source": [
        "import os\n",
        "from google.colab import userdata\n",
        "if \"OPENAI_API_KEY\" not in os.environ:\n",
        "    os.environ[\"OPENAI_API_KEY\"] =  userdata.get('openai_api_key')"
      ],
      "metadata": {
        "id": "Ib7ckYs9EOwd"
      },
      "execution_count": null,
      "outputs": []
    },
    {
      "cell_type": "code",
      "source": [
        "from langchain_openai import ChatOpenAI\n",
        "\n",
        "MODEL_NAME = \"gpt-4o-mini\"  # Ensure you use a valid OpenAI model name\n",
        "llm = ChatOpenAI(model_name=MODEL_NAME, temperature=0, max_tokens=512)\n",
        "\n",
        "print(f\"Using model: {llm.model_name}\")\n"
      ],
      "metadata": {
        "colab": {
          "base_uri": "https://localhost:8080/"
        },
        "id": "v1_Q8svUEW0J",
        "outputId": "4b28024a-f1d9-497b-d8e1-4a84b4974a8a"
      },
      "execution_count": null,
      "outputs": [
        {
          "output_type": "stream",
          "name": "stdout",
          "text": [
            "Using model: gpt-4o-mini\n"
          ]
        }
      ]
    },
    {
      "cell_type": "code",
      "source": [],
      "metadata": {
        "id": "_66Ch2cWEZP_"
      },
      "execution_count": null,
      "outputs": []
    },
    {
      "cell_type": "markdown",
      "source": [
        "# Step 1: Starting with a Simple and Reasonable Prompt\n",
        "\n",
        "Let’s begin with a simple prompt for the task of generating a formal email.\n",
        "\n",
        "## Initial Prompt:\n",
        "\n",
        "> “Create a formal email.”\n",
        "\n",
        "At this point, the prompt is quite basic, and while it's clear that we want a formal email, it lacks context, specific guidelines, and a defined structure. It doesn't address the purpose, tone, or relationship between the sender and recipient, which leaves a lot of room for ambiguity. Let's improve it.\n"
      ],
      "metadata": {
        "id": "tZ8zG9TyEo2P"
      }
    },
    {
      "cell_type": "code",
      "source": [],
      "metadata": {
        "id": "6P5b0JsoEvdh"
      },
      "execution_count": null,
      "outputs": []
    },
    {
      "cell_type": "code",
      "source": [
        "template = 'Create a formal email'\n",
        "llm.invoke(template).content"
      ],
      "metadata": {
        "colab": {
          "base_uri": "https://localhost:8080/",
          "height": 244
        },
        "id": "Q5TdnSSoEpbu",
        "outputId": "8290a034-ed48-48dc-982c-ff05261ad5e6"
      },
      "execution_count": null,
      "outputs": [
        {
          "output_type": "execute_result",
          "data": {
            "text/plain": [
              "\"Certainly! Below is a template for a formal email. You can customize it according to your needs.\\n\\n---\\n\\n**Subject:** [Your Subject Here]\\n\\nDear [Recipient's Name],\\n\\nI hope this message finds you well. My name is [Your Name], and I am [Your Position/Title] at [Your Company/Organization]. I am writing to [briefly state the purpose of your email, e.g., discuss a potential collaboration, request information, follow up on a previous conversation, etc.].\\n\\n[In this paragraph, provide more details about your request or the information you wish to convey. Be clear and concise, and ensure that you include any necessary context or background information.]\\n\\nI would appreciate your assistance with this matter and look forward to your response. Please let me know if you need any further information or if there is a convenient time for us to discuss this in more detail.\\n\\nThank you for your attention to this matter.\\n\\nBest regards,\\n\\n[Your Name]  \\n[Your Position/Title]  \\n[Your Company/Organization]  \\n[Your Phone Number]  \\n[Your Email Address]  \\n\\n---\\n\\nFeel free to fill in the placeholders and adjust the content as needed!\""
            ],
            "application/vnd.google.colaboratory.intrinsic+json": {
              "type": "string"
            }
          },
          "metadata": {},
          "execution_count": 31
        }
      ]
    },
    {
      "cell_type": "code",
      "source": [],
      "metadata": {
        "id": "6T3Kur-dFGqJ"
      },
      "execution_count": null,
      "outputs": []
    },
    {
      "cell_type": "code",
      "source": [],
      "metadata": {
        "id": "pYV2MAkmE2AC"
      },
      "execution_count": null,
      "outputs": []
    },
    {
      "cell_type": "markdown",
      "source": [
        "# Step 2: Adding Context and Clarification\n",
        "\n",
        "Now, let’s improve the prompt by adding some context. This makes it clear to the model that the email should adhere to certain formal communication norms and gives more direction for crafting the response.\n",
        "\n",
        "## Updated Prompt:\n",
        "\n",
        "> “Create a formal email in a professional business context.”\n",
        "\n",
        "Here, we’ve made the prompt a bit more specific by indicating that it should be business-related. However, we still don’t know whether the email is an inquiry, request, or response, nor do we know the relationship between the sender and the recipient. It’s an improvement but still lacks full structure. Let's move on to Step 3.\n"
      ],
      "metadata": {
        "id": "QLJ0DurvFfnf"
      }
    },
    {
      "cell_type": "code",
      "source": [
        "prompt = \"\"\"Create a formal email in a professional business context\"\"\"\n",
        "\n",
        "llm.invoke(prompt).content"
      ],
      "metadata": {
        "colab": {
          "base_uri": "https://localhost:8080/",
          "height": 157
        },
        "id": "KLNr0kfdFhfV",
        "outputId": "eded6b70-bba2-4b50-d79f-e1bf81c3883a"
      },
      "execution_count": null,
      "outputs": [
        {
          "output_type": "execute_result",
          "data": {
            "text/plain": [
              "\"Subject: Request for Meeting to Discuss Project Updates\\n\\nDear [Recipient's Name],\\n\\nI hope this message finds you well. I am writing to request a meeting to discuss the current status of our ongoing project, [Project Name]. As we approach the next phase, I believe it would be beneficial for us to review our progress, address any challenges, and outline our next steps.\\n\\nCould you please let me know your availability for a meeting next week? I am flexible with timings and can adjust to accommodate your schedule.\\n\\nThank you for your attention to this matter. I look forward to your response.\\n\\nBest regards,\\n\\n[Your Name]  \\n[Your Job Title]  \\n[Your Company]  \\n[Your Phone Number]  \\n[Your Email Address]  \""
            ],
            "application/vnd.google.colaboratory.intrinsic+json": {
              "type": "string"
            }
          },
          "metadata": {},
          "execution_count": 32
        }
      ]
    },
    {
      "cell_type": "markdown",
      "source": [
        "# Step 3: Clarifying the Identity and Purpose\n",
        "\n",
        "At this point, we’ll make the prompt more structured by defining the identity of the model and the purpose of the email. This helps establish a clearer tone and sets expectations.\n",
        "\n",
        "## Updated Prompt:\n",
        "\n",
        "> “You are an expert in formal communication. Create a professional business email with a polite tone, intended to inquire about the status of a project.”\n",
        "\n",
        "Here, we’ve clarified the purpose (inquiry) and established the tone (polite). The model now knows it's crafting a business email, but we can still be more specific about the details and the format.\n"
      ],
      "metadata": {
        "id": "Ar5imd86FHPI"
      }
    },
    {
      "cell_type": "code",
      "source": [
        "prompt = \"\"\"You are an expert in formal communication. Create a professional business email with a polite tone,\n",
        "intended to inquire about the status of a project\"\"\"\n",
        "\n",
        "llm.invoke(prompt).content"
      ],
      "metadata": {
        "colab": {
          "base_uri": "https://localhost:8080/",
          "height": 174
        },
        "id": "lcmiUegRFH3m",
        "outputId": "5793d881-21ce-49ca-9cec-af926ab1e3aa"
      },
      "execution_count": null,
      "outputs": [
        {
          "output_type": "execute_result",
          "data": {
            "text/plain": [
              "\"Subject: Inquiry on Project Status\\n\\nDear [Recipient's Name],\\n\\nI hope this message finds you well.\\n\\nI am writing to inquire about the current status of the [Project Name] that we have been collaborating on. As we approach the next phase of our timeline, I would appreciate any updates you could provide regarding progress, challenges, or any adjustments to our schedule.\\n\\nUnderstanding the current status will greatly assist us in aligning our resources and planning accordingly. If there are any specific areas where you require support or additional information from our side, please do not hesitate to let me know.\\n\\nThank you for your attention to this matter. I look forward to your prompt response.\\n\\nBest regards,\\n\\n[Your Name]  \\n[Your Position]  \\n[Your Company]  \\n[Your Phone Number]  \\n[Your Email Address]  \""
            ],
            "application/vnd.google.colaboratory.intrinsic+json": {
              "type": "string"
            }
          },
          "metadata": {},
          "execution_count": 33
        }
      ]
    },
    {
      "cell_type": "code",
      "source": [],
      "metadata": {
        "id": "kUo0PDkiFQzl"
      },
      "execution_count": null,
      "outputs": []
    },
    {
      "cell_type": "markdown",
      "source": [
        "# Step 4: Adding Specific Instructions for Tone, Formatting, and Details\n",
        "\n",
        "Now, we’ll refine the prompt further to guide the model through a step-by-step email creation process, ensuring we cover all the key points. We can specify things like the format of the email, the relationship between the sender and recipient, and expectations for politeness and structure.\n",
        "\n",
        "## Updated Prompt:\n",
        "\n",
        "> “You are an expert in formal business communication. Your task is to write a professional and polite email inquiring about the status of a project. Ensure the email follows standard business email formatting, with a clear subject, greeting, body, and closing. The tone should be respectful and professional, appropriate for a formal work environment. Include an appropriate greeting and closing, and ensure the email is concise and free from errors.”\n",
        "\n",
        "This prompt is much more detailed, clearly outlining the structure, tone, and content of the email. It addresses both formality and professionalism, but let's refine it even further by breaking it down into steps for clarity.\n"
      ],
      "metadata": {
        "id": "DDiM7DwKGBpU"
      }
    },
    {
      "cell_type": "code",
      "source": [
        "prompt = \"\"\"You are an expert in formal business communication.\n",
        "Your task is to write a professional and polite email inquiring about the status of a project.\n",
        "Ensure the email follows standard business email formatting, with a clear subject, greeting, body, and closing.\n",
        "The tone should be respectful and professional, appropriate for a formal work environment.\n",
        "Include an appropriate greeting and closing,and ensure the email is concise and free from errors.\"\"\"\n",
        "\n",
        "llm.invoke(prompt).content"
      ],
      "metadata": {
        "colab": {
          "base_uri": "https://localhost:8080/",
          "height": 122
        },
        "id": "XdhaaduiFQl9",
        "outputId": "8e37d374-c68c-45e4-9faf-9b26c564a850"
      },
      "execution_count": null,
      "outputs": [
        {
          "output_type": "execute_result",
          "data": {
            "text/plain": [
              "\"Subject: Inquiry on Project Status\\n\\nDear [Recipient's Name],\\n\\nI hope this message finds you well.\\n\\nI am writing to inquire about the current status of the [Project Name] project. As we are approaching the next phase, I would appreciate any updates you could provide regarding its progress and any potential challenges that may have arisen.\\n\\nThank you for your attention to this matter. I look forward to your response.\\n\\nBest regards,\\n\\n[Your Name]  \\n[Your Job Title]  \\n[Your Company]  \\n[Your Phone Number]  \\n[Your Email Address]  \""
            ],
            "application/vnd.google.colaboratory.intrinsic+json": {
              "type": "string"
            }
          },
          "metadata": {},
          "execution_count": 34
        }
      ]
    },
    {
      "cell_type": "code",
      "source": [],
      "metadata": {
        "id": "Hs2-UY5HGSUg"
      },
      "execution_count": null,
      "outputs": []
    },
    {
      "cell_type": "markdown",
      "source": [
        "#Step 5: Breaking the Task into Steps\n",
        "Now, we’ll break down the task into steps for the model to follow, ensuring that the email is written in a polished, systematic manner. This will make the process more user-friendly, especially for learners.\n",
        "\n",
        "##Updated Prompt:\n",
        "\n",
        "*“You are an expert in formal business communication with extensive knowledge in professional etiquette. Your purpose is to help craft or respond to formal emails that adhere to business standards. For this task, create a professional and polite email inquiring about the status of a project. Follow these steps:\n",
        "\n",
        "Understand the context and purpose of the email.\n",
        "Use a suitable greeting that reflects formality.\n",
        "State the purpose of the email clearly in the introduction.\n",
        "In the body, ask about the status of the project politely and professionally.\n",
        "Conclude the email with a courteous closing.\n",
        "Review the email for clarity, coherence, conciseness, and professionalism. The email should be concise, free from grammatical errors, and formatted in a standard business email style. Ensure that the tone remains polite and professional throughout.”*"
      ],
      "metadata": {
        "id": "zp9En9mdGXvM"
      }
    },
    {
      "cell_type": "code",
      "source": [
        "prompt = \"\"\"You are an expert in formal business communication with extensive knowledge in professional etiquette.\n",
        "Your purpose is to help craft or respond to formal emails that adhere to business standards.\n",
        "For this task, create a professional and polite email inquiring about the status of a project.\n",
        "Follow these steps:\n",
        "\n",
        "Understand the context and purpose of the email.\n",
        "Use a suitable greeting that reflects formality.\n",
        "State the purpose of the email clearly in the introduction.\n",
        "In the body, ask about the status of the project politely and professionally.\n",
        "Conclude the email with a courteous closing.\n",
        "Review the email for clarity, coherence, conciseness, and professionalism. The email should be concise, free from grammatical errors, and formatted in a standard business email style. Ensure that the tone remains polite and professional throughout\"\"\"\n",
        "\n",
        "llm.invoke(prompt).content"
      ],
      "metadata": {
        "colab": {
          "base_uri": "https://localhost:8080/",
          "height": 140
        },
        "id": "JlAWDuuEFP_a",
        "outputId": "efb759e0-6aab-4d0b-9bcf-e0eaacd7d29d"
      },
      "execution_count": null,
      "outputs": [
        {
          "output_type": "execute_result",
          "data": {
            "text/plain": [
              "\"Subject: Inquiry on Project Status\\n\\nDear [Recipient's Name],\\n\\nI hope this message finds you well.\\n\\nI am writing to inquire about the current status of the [Project Name] that we have been collaborating on. As we approach the upcoming deadlines, I would appreciate any updates you could provide regarding its progress and any potential challenges that may have arisen.\\n\\nThank you for your attention to this matter. I look forward to your response.\\n\\nBest regards,\\n\\n[Your Name]  \\n[Your Position]  \\n[Your Company]  \\n[Your Phone Number]  \\n[Your Email Address]  \""
            ],
            "application/vnd.google.colaboratory.intrinsic+json": {
              "type": "string"
            }
          },
          "metadata": {},
          "execution_count": 11
        }
      ]
    },
    {
      "cell_type": "code",
      "source": [],
      "metadata": {
        "id": "6vpJtLBVGlGr"
      },
      "execution_count": null,
      "outputs": []
    },
    {
      "cell_type": "markdown",
      "source": [
        "# Step 6: Final Refinements for Role and Task Clarity\n",
        "\n",
        "Now, we’ll finalize the prompt by adding more detail about the model's role and the formatting expectations, ensuring that it delivers a fully professional, polished email.\n",
        "\n",
        "## Final Prompt:\n",
        "\n",
        "> *“You are an expert in formal business communication with extensive knowledge in professional etiquette. Your purpose is to assist in crafting or responding to emails that reflect professionalism, clarity, and respect. For this task, you will create a formal business email to inquire about the status of a project. Ensure the email follows these steps:*\n",
        "\n",
        "> **Understand the context:** Read the provided input carefully to grasp the context, purpose, and required tone of the email.\n",
        "\n",
        "> **Construct the email:**\n",
        "> - Use an appropriate greeting (e.g., “Dear [Title] [Last Name],” or “Hello [First Name],” depending on formality).\n",
        "> - Introduce the purpose of the email in the opening paragraph.\n",
        "> - In the body, politely and professionally ask about the status of the project.\n",
        "> - Conclude with a respectful closing remark (e.g., “Sincerely,” “Best regards,”).\n",
        "\n",
        "> **Polish the draft:** Review the email for clarity, conciseness, and professionalism. Check for grammatical errors and formatting issues.\n",
        "\n",
        "> **Final Output:** The email should be formatted in standard business email style, free from errors, and concise, while maintaining a polite, respectful tone.”*\n",
        "\n",
        "This final version ensures clarity in the model’s role and step-by-step instructions for generating a well-structured email.\n"
      ],
      "metadata": {
        "id": "3G92iVMkHHb7"
      }
    },
    {
      "cell_type": "code",
      "source": [
        "prompt = \"\"\"You are an expert in formal business communication with extensive knowledge in professional etiquette.\n",
        "Your purpose is to assist in crafting or responding to emails that reflect professionalism, clarity, and respect.\n",
        "For this task, you will create a formal business email to inquire about the status of a project.\n",
        "Ensure the email follows these steps:\n",
        "\n",
        "1-Understand the context: Read the provided input carefully to grasp the context, purpose, and required tone of the email.\n",
        "\n",
        "2-Construct the email:\n",
        "\n",
        "Use an appropriate greeting (e.g., “Dear [Title] [Last Name],” or “Hello [First Name],” depending on formality).\n",
        "Introduce the purpose of the email in the opening paragraph.\n",
        "In the body, politely and professionally ask about the status of the project.\n",
        "Conclude with a respectful closing remark (e.g., “Sincerely,” “Best regards,”).\n",
        "3-Polish the draft: Review the email for clarity, conciseness, and professionalism. Check for grammatical errors and formatting issues.\n",
        "\n",
        "4-Final Output: The email should be formatted in standard business email style, free from errors, and concise, while maintaining a polite, respectful tone.\"\"\"\n",
        "\n",
        "llm.invoke(prompt).content"
      ],
      "metadata": {
        "id": "f7tUZF1RHIRH"
      },
      "execution_count": null,
      "outputs": []
    },
    {
      "cell_type": "code",
      "source": [
        "b"
      ],
      "metadata": {
        "id": "r--HPA6-HuK_"
      },
      "execution_count": null,
      "outputs": []
    },
    {
      "cell_type": "code",
      "source": [],
      "metadata": {
        "id": "R50tsVAHHxMv"
      },
      "execution_count": null,
      "outputs": []
    },
    {
      "cell_type": "code",
      "source": [],
      "metadata": {
        "id": "EjLkpMouINDl"
      },
      "execution_count": null,
      "outputs": []
    },
    {
      "cell_type": "code",
      "source": [],
      "metadata": {
        "id": "6gOoY8tXKBQM"
      },
      "execution_count": null,
      "outputs": []
    },
    {
      "cell_type": "code",
      "source": [],
      "metadata": {
        "id": "pfZYoJNpKJfw"
      },
      "execution_count": null,
      "outputs": []
    }
  ]
}