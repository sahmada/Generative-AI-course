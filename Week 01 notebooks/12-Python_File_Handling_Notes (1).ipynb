{
  "cells": [
    {
      "cell_type": "markdown",
      "id": "3092e8df",
      "metadata": {
        "id": "3092e8df"
      },
      "source": [
        "# Python File Handling - Teaching Notes"
      ]
    },
    {
      "cell_type": "code",
      "source": [
        "\n",
        "path_to_file = '/content/Generative_AI_Class_Greeting.txt'\n",
        "with open(path_to_file, 'r') as file:\n",
        "    content = file.read()\n",
        "\n"
      ],
      "metadata": {
        "id": "Hm6IaChSrsDL"
      },
      "id": "Hm6IaChSrsDL",
      "execution_count": null,
      "outputs": []
    },
    {
      "cell_type": "code",
      "source": [
        "content = ''\n",
        "with open(path_to_file, 'r') as file:\n",
        "    for line in file:\n",
        "        content += line.strip().upper()\n",
        "        print(line.strip())"
      ],
      "metadata": {
        "colab": {
          "base_uri": "https://localhost:8080/"
        },
        "id": "gyCNaCTbsUlk",
        "outputId": "6e81867a-fea4-4af8-e168-84861d16b994"
      },
      "id": "gyCNaCTbsUlk",
      "execution_count": null,
      "outputs": [
        {
          "output_type": "stream",
          "name": "stdout",
          "text": [
            "Hello, Students!\n",
            "\n",
            "Welcome to the Generative AI Class!\n",
            "\n",
            "It’s truly exciting to embark on this journey of learning Generative AI together. This field is shaping the future of technology, creativity, and problem-solving, and you’re at the forefront of this incredible transformation.\n",
            "\n",
            "Take pride in being part of this cutting-edge domain, where you’ll explore how AI generates art, writes stories, codes programs, and so much more. Remember, every great innovation starts with learning and curiosity, and you’ve already taken the first step!\n",
            "\n",
            "I wish you all the best as you dive deep into concepts, experiment with ideas, and unlock your potential in this fascinating field. Let’s learn, grow, and build the future together!\n",
            "\n",
            "Here’s to an amazing adventure ahead!\n",
            "\n",
            "Best regards,\n",
            "\n",
            "Mehdi pashazadeh\n"
          ]
        }
      ]
    },
    {
      "cell_type": "code",
      "source": [
        "content"
      ],
      "metadata": {
        "colab": {
          "base_uri": "https://localhost:8080/",
          "height": 209
        },
        "id": "DHiaDiJLs6p9",
        "outputId": "36e71c3f-6b85-4bdc-8e84-bc62fbefe4d9"
      },
      "id": "DHiaDiJLs6p9",
      "execution_count": null,
      "outputs": [
        {
          "output_type": "execute_result",
          "data": {
            "text/plain": [
              "'HELLO, STUDENTS!WELCOME TO THE GENERATIVE AI CLASS!IT’S TRULY EXCITING TO EMBARK ON THIS JOURNEY OF LEARNING GENERATIVE AI TOGETHER. THIS FIELD IS SHAPING THE FUTURE OF TECHNOLOGY, CREATIVITY, AND PROBLEM-SOLVING, AND YOU’RE AT THE FOREFRONT OF THIS INCREDIBLE TRANSFORMATION.TAKE PRIDE IN BEING PART OF THIS CUTTING-EDGE DOMAIN, WHERE YOU’LL EXPLORE HOW AI GENERATES ART, WRITES STORIES, CODES PROGRAMS, AND SO MUCH MORE. REMEMBER, EVERY GREAT INNOVATION STARTS WITH LEARNING AND CURIOSITY, AND YOU’VE ALREADY TAKEN THE FIRST STEP!I WISH YOU ALL THE BEST AS YOU DIVE DEEP INTO CONCEPTS, EXPERIMENT WITH IDEAS, AND UNLOCK YOUR POTENTIAL IN THIS FASCINATING FIELD. LET’S LEARN, GROW, AND BUILD THE FUTURE TOGETHER!HERE’S TO AN AMAZING ADVENTURE AHEAD!BEST REGARDS,MEHDI PASHAZADEH'"
            ],
            "application/vnd.google.colaboratory.intrinsic+json": {
              "type": "string"
            }
          },
          "metadata": {},
          "execution_count": 18
        }
      ]
    },
    {
      "cell_type": "code",
      "source": [
        "with open('uppercase_file.txt', 'w') as file:\n",
        "    file.write(content)"
      ],
      "metadata": {
        "id": "Tj17Ui7VtHsY"
      },
      "id": "Tj17Ui7VtHsY",
      "execution_count": null,
      "outputs": []
    },
    {
      "cell_type": "code",
      "source": [
        "with open(path_to_file, 'r') as file:\n",
        "    lines = file.readlines()\n",
        "    print(lines)"
      ],
      "metadata": {
        "colab": {
          "base_uri": "https://localhost:8080/"
        },
        "id": "4Ktal4HiuEl7",
        "outputId": "c0517554-1e84-435b-e538-0b0a62d517cc"
      },
      "id": "4Ktal4HiuEl7",
      "execution_count": null,
      "outputs": [
        {
          "output_type": "stream",
          "name": "stdout",
          "text": [
            "['Hello, Students!\\n', '\\n', 'Welcome to the Generative AI Class!\\n', '\\n', 'It’s truly exciting to embark on this journey of learning Generative AI together. This field is shaping the future of technology, creativity, and problem-solving, and you’re at the forefront of this incredible transformation.\\n', '\\n', 'Take pride in being part of this cutting-edge domain, where you’ll explore how AI generates art, writes stories, codes programs, and so much more. Remember, every great innovation starts with learning and curiosity, and you’ve already taken the first step!\\n', '\\n', 'I wish you all the best as you dive deep into concepts, experiment with ideas, and unlock your potential in this fascinating field. Let’s learn, grow, and build the future together!\\n', '\\n', 'Here’s to an amazing adventure ahead!\\n', '\\n', 'Best regards,\\n', '\\n', 'Mehdi pashazadeh\\n']\n"
          ]
        }
      ]
    },
    {
      "cell_type": "code",
      "source": [
        "with open('/content/uppercase_file.txt', 'w') as file:\n",
        "    file.write(\"\\nThis line will be appended.\")"
      ],
      "metadata": {
        "id": "EwOBXWcSuZtG"
      },
      "id": "EwOBXWcSuZtG",
      "execution_count": null,
      "outputs": []
    },
    {
      "cell_type": "code",
      "source": [
        "lines"
      ],
      "metadata": {
        "colab": {
          "base_uri": "https://localhost:8080/"
        },
        "id": "43e02-Q6uKkc",
        "outputId": "57b7915b-4297-4c68-9ecd-4eaf0f842862"
      },
      "id": "43e02-Q6uKkc",
      "execution_count": null,
      "outputs": [
        {
          "output_type": "execute_result",
          "data": {
            "text/plain": [
              "['Hello, Students!\\n',\n",
              " '\\n',\n",
              " 'Welcome to the Generative AI Class!\\n',\n",
              " '\\n',\n",
              " 'It’s truly exciting to embark on this journey of learning Generative AI together. This field is shaping the future of technology, creativity, and problem-solving, and you’re at the forefront of this incredible transformation.\\n',\n",
              " '\\n',\n",
              " 'Take pride in being part of this cutting-edge domain, where you’ll explore how AI generates art, writes stories, codes programs, and so much more. Remember, every great innovation starts with learning and curiosity, and you’ve already taken the first step!\\n',\n",
              " '\\n',\n",
              " 'I wish you all the best as you dive deep into concepts, experiment with ideas, and unlock your potential in this fascinating field. Let’s learn, grow, and build the future together!\\n',\n",
              " '\\n',\n",
              " 'Here’s to an amazing adventure ahead!\\n',\n",
              " '\\n',\n",
              " 'Best regards,\\n',\n",
              " '\\n',\n",
              " 'Mehdi pashazadeh\\n']"
            ]
          },
          "metadata": {},
          "execution_count": 21
        }
      ]
    },
    {
      "cell_type": "code",
      "source": [
        "lines = [\"First line\\n\", \"Second line\", \"Third line\\n\"]\n",
        "with open('example.txt', 'w') as file:\n",
        "    file.writelines(lines)"
      ],
      "metadata": {
        "id": "YlPpfMWRusp-"
      },
      "id": "YlPpfMWRusp-",
      "execution_count": null,
      "outputs": []
    },
    {
      "cell_type": "code",
      "source": [
        "import os\n",
        "if os.path.exists('/content/Uppercase_file.txt'):\n",
        "    print(\"The file exists.\")\n",
        "else:\n",
        "    print(\"The file does not exist.\")"
      ],
      "metadata": {
        "colab": {
          "base_uri": "https://localhost:8080/"
        },
        "id": "j1jpoIZivHFY",
        "outputId": "724aeff7-4881-4e1b-9e27-3fc6165a0c8d"
      },
      "id": "j1jpoIZivHFY",
      "execution_count": null,
      "outputs": [
        {
          "output_type": "stream",
          "name": "stdout",
          "text": [
            "The file does not exist.\n"
          ]
        }
      ]
    },
    {
      "cell_type": "code",
      "source": [
        "import os\n",
        "if os.path.exists('example.txt'):\n",
        "    os.remove('example.txt')\n",
        "    print(\"File deleted.\")\n",
        "else:\n",
        "    print(\"The file does not exist.\")"
      ],
      "metadata": {
        "colab": {
          "base_uri": "https://localhost:8080/"
        },
        "id": "9Lqr7rJovZgV",
        "outputId": "264d96ac-d72a-4967-ba3e-8b127650c2dd"
      },
      "id": "9Lqr7rJovZgV",
      "execution_count": null,
      "outputs": [
        {
          "output_type": "stream",
          "name": "stdout",
          "text": [
            "File deleted.\n"
          ]
        }
      ]
    },
    {
      "cell_type": "code",
      "source": [
        "'Uppercase_file'.upper()"
      ],
      "metadata": {
        "colab": {
          "base_uri": "https://localhost:8080/",
          "height": 36
        },
        "id": "GL31k9WxvlwF",
        "outputId": "92cf5e51-5229-4290-bee5-b8a2d081b96f"
      },
      "id": "GL31k9WxvlwF",
      "execution_count": null,
      "outputs": [
        {
          "output_type": "execute_result",
          "data": {
            "text/plain": [
              "'UPPERCASE_FILE'"
            ],
            "application/vnd.google.colaboratory.intrinsic+json": {
              "type": "string"
            }
          },
          "metadata": {},
          "execution_count": 30
        }
      ]
    },
    {
      "cell_type": "code",
      "source": [
        "import os\n",
        "os.rename('/content/uppercase_file.txt', '/content/UPPERCASE_FILE.txt')\n",
        "print(\"File renamed successfully.\")"
      ],
      "metadata": {
        "colab": {
          "base_uri": "https://localhost:8080/"
        },
        "id": "xkiXMiJDvgpG",
        "outputId": "71ce525b-97df-4585-9cc8-c08308442789"
      },
      "id": "xkiXMiJDvgpG",
      "execution_count": null,
      "outputs": [
        {
          "output_type": "stream",
          "name": "stdout",
          "text": [
            "File renamed successfully.\n"
          ]
        }
      ]
    },
    {
      "cell_type": "markdown",
      "id": "a46e6283",
      "metadata": {
        "id": "a46e6283"
      },
      "source": [
        "## 1. Definition\n",
        "- File handling allows you to work with files to read, write, append, and manipulate data.\n",
        "- Python provides built-in functions for file operations, such as `open()`, `read()`, `write()`, and `close()`."
      ]
    },
    {
      "cell_type": "markdown",
      "id": "0e9bbf84",
      "metadata": {
        "id": "0e9bbf84"
      },
      "source": [
        "## 2. File Modes\n",
        "| Mode | Description                                        |\n",
        "|------|----------------------------------------------------|\n",
        "| `'r'` | Read mode (default). Opens a file for reading.      |\n",
        "| `'w'` | Write mode. Creates a new file or overwrites an existing file. |\n",
        "| `'a'` | Append mode. Adds content to the end of the file. |\n",
        "| `'x'` | Exclusive creation. Fails if the file already exists. |\n",
        "| `'b'` | Binary mode. Used for binary files (e.g., images). |\n",
        "| `'t'` | Text mode (default). Used for text files.         |\n",
        "| `'+'` | Read and write mode.                             |"
      ]
    },
    {
      "cell_type": "markdown",
      "id": "593b04de",
      "metadata": {
        "id": "593b04de"
      },
      "source": [
        "## 3. Opening and Closing Files\n",
        "**Opening a File**\n",
        "```python\n",
        "file = open('example.txt', 'r')\n",
        "```\n",
        "\n",
        "**Closing a File**\n",
        "```python\n",
        "file.close()\n",
        "```\n",
        "To ensure proper cleanup, use a context manager (`with` statement) which automatically closes the file:\n",
        "```python\n",
        "with open('example.txt', 'r') as file:\n",
        "    content = file.read()\n",
        "```"
      ]
    },
    {
      "cell_type": "markdown",
      "id": "6eecebd3",
      "metadata": {
        "id": "6eecebd3"
      },
      "source": [
        "## 4. Reading Files\n",
        "**Reading the Entire File**\n",
        "```python\n",
        "with open('example.txt', 'r') as file:\n",
        "    content = file.read()\n",
        "    print(content)\n",
        "```\n",
        "\n",
        "**Reading Line by Line**\n",
        "```python\n",
        "with open('example.txt', 'r') as file:\n",
        "    for line in file:\n",
        "        print(line.strip())\n",
        "```\n",
        "\n",
        "**Reading All Lines as a List**\n",
        "```python\n",
        "with open('example.txt', 'r') as file:\n",
        "    lines = file.readlines()\n",
        "    print(lines)\n",
        "```"
      ]
    },
    {
      "cell_type": "markdown",
      "id": "0c7af03a",
      "metadata": {
        "id": "0c7af03a"
      },
      "source": [
        "## 5. Writing to Files\n",
        "**Write New Content**\n",
        "```python\n",
        "with open('example.txt', 'w') as file:\n",
        "    file.write(\"This will overwrite the file content.\")\n",
        "```\n",
        "\n",
        "**Append Content**\n",
        "```python\n",
        "with open('example.txt', 'a') as file:\n",
        "    file.write(\"\\nThis line will be appended.\")\n",
        "```\n",
        "\n",
        "**Write Multiple Lines**\n",
        "```python\n",
        "lines = [\"First line\\n\", \"Second line\\n\", \"Third line\\n\"]\n",
        "with open('example.txt', 'w') as file:\n",
        "    file.writelines(lines)\n",
        "```"
      ]
    },
    {
      "cell_type": "markdown",
      "id": "76521764",
      "metadata": {
        "id": "76521764"
      },
      "source": [
        "## 6. File Management\n",
        "**Check if a File Exists**\n",
        "```python\n",
        "import os\n",
        "if os.path.exists('example.txt'):\n",
        "    print(\"The file exists.\")\n",
        "else:\n",
        "    print(\"The file does not exist.\")\n",
        "```\n",
        "\n",
        "**Delete a File**\n",
        "```python\n",
        "import os\n",
        "if os.path.exists('example.txt'):\n",
        "    os.remove('example.txt')\n",
        "    print(\"File deleted.\")\n",
        "else:\n",
        "    print(\"The file does not exist.\")\n",
        "```\n",
        "\n",
        "**Rename a File**\n",
        "```python\n",
        "import os\n",
        "os.rename('example.txt', 'new_example.txt')\n",
        "print(\"File renamed successfully.\")\n",
        "```"
      ]
    },
    {
      "cell_type": "markdown",
      "id": "229682fb",
      "metadata": {
        "id": "229682fb"
      },
      "source": [
        "## 7. Handling Exceptions\n",
        "Handle potential errors during file operations to prevent crashes.\n",
        "```python\n",
        "try:\n",
        "    with open('example.txt', 'r') as file:\n",
        "        content = file.read()\n",
        "        print(content)\n",
        "except FileNotFoundError:\n",
        "    print(\"File not found. Please check the file path.\")\n",
        "except IOError:\n",
        "    print(\"An error occurred while handling the file.\")\n",
        "```"
      ]
    },
    {
      "cell_type": "markdown",
      "id": "446c4489",
      "metadata": {
        "id": "446c4489"
      },
      "source": [
        "## 8. Working with Binary Files\n",
        "**Writing to a Binary File**\n",
        "```python\n",
        "\n",
        "with open('output_image.jpg', 'wb') as output_file:\n",
        "    output_file.write(img_data)\n",
        "```\n",
        "\n",
        "**Reading from a Binary File**\n",
        "```python\n",
        "with open('input_image.jpg', 'rb') as img_file:\n",
        "    img_data = img_file.read()\n",
        "```"
      ]
    },
    {
      "cell_type": "code",
      "source": [],
      "metadata": {
        "id": "kANOnh4uqYdZ"
      },
      "id": "kANOnh4uqYdZ",
      "execution_count": null,
      "outputs": []
    }
  ],
  "metadata": {
    "colab": {
      "provenance": []
    },
    "language_info": {
      "name": "python"
    },
    "kernelspec": {
      "name": "python3",
      "display_name": "Python 3"
    }
  },
  "nbformat": 4,
  "nbformat_minor": 5
}