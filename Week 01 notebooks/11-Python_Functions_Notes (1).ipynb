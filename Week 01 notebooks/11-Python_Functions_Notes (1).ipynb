{
  "cells": [
    {
      "cell_type": "markdown",
      "id": "db59f1ef",
      "metadata": {
        "id": "db59f1ef"
      },
      "source": [
        "# Python Functions - Teaching Notes"
      ]
    },
    {
      "cell_type": "markdown",
      "id": "5232bf50",
      "metadata": {
        "id": "5232bf50"
      },
      "source": [
        "## 1. Definition\n",
        "- A **function** is a reusable block of code that performs a specific task.\n",
        "- Functions help organize code, avoid redundancy, and make programs more readable."
      ]
    },
    {
      "cell_type": "code",
      "source": [
        "def greet(name):\n",
        "    return f\"Hello, {name}!\"\n",
        "\n",
        "print(greet(\"mehdi\"))  # Output: Hello, Alice!"
      ],
      "metadata": {
        "colab": {
          "base_uri": "https://localhost:8080/"
        },
        "id": "XlC50g_1bBGp",
        "outputId": "cd4d6feb-a3b0-4a37-c022-1443394cd88c"
      },
      "id": "XlC50g_1bBGp",
      "execution_count": null,
      "outputs": [
        {
          "output_type": "stream",
          "name": "stdout",
          "text": [
            "Hello, mehdi!\n"
          ]
        }
      ]
    },
    {
      "cell_type": "code",
      "source": [
        "square = lambda x: x ** 2\n",
        "print(square(15))  # Output: 25"
      ],
      "metadata": {
        "colab": {
          "base_uri": "https://localhost:8080/"
        },
        "id": "Wxr6h7t5bwlO",
        "outputId": "08bf6117-0e9a-490f-d16a-856a9182dd21"
      },
      "id": "Wxr6h7t5bwlO",
      "execution_count": null,
      "outputs": [
        {
          "output_type": "stream",
          "name": "stdout",
          "text": [
            "225\n"
          ]
        }
      ]
    },
    {
      "cell_type": "code",
      "source": [
        "def square(x):\n",
        "    return x ** 2\n",
        "\n",
        "print(square(15))  # Output: 225"
      ],
      "metadata": {
        "colab": {
          "base_uri": "https://localhost:8080/"
        },
        "id": "4KYSVlA6b5yZ",
        "outputId": "def10555-cf08-495c-9e1c-bb05fa00580b"
      },
      "id": "4KYSVlA6b5yZ",
      "execution_count": null,
      "outputs": [
        {
          "output_type": "stream",
          "name": "stdout",
          "text": [
            "225\n"
          ]
        }
      ]
    },
    {
      "cell_type": "code",
      "source": [
        "def calculate(a, b):\n",
        "    return a + b, a - b, a * b, a / b\n",
        "\n",
        "result = calculate(10, 5)\n",
        "print(result)  # Output: (15, 5, 50, 2.0)\n",
        "\n",
        "# Tuple unpacking\n",
        "add, sub, mul, _ = calculate(10, 5)\n",
        "print(f\"Addition: {add}, Subtraction: {sub}\")"
      ],
      "metadata": {
        "colab": {
          "base_uri": "https://localhost:8080/"
        },
        "id": "T7I9CWMKcLcH",
        "outputId": "24f08aae-4930-4655-dfc9-9a4e159358e0"
      },
      "id": "T7I9CWMKcLcH",
      "execution_count": null,
      "outputs": [
        {
          "output_type": "stream",
          "name": "stdout",
          "text": [
            "(15, 5, 50, 2.0)\n",
            "Addition: 15, Subtraction: 5\n"
          ]
        }
      ]
    },
    {
      "cell_type": "code",
      "source": [
        "def outer_function(text):\n",
        "    def inner_function():\n",
        "        return text.upper()\n",
        "    return inner_function()\n",
        "\n",
        "print(outer_function(\"hello\"))  #"
      ],
      "metadata": {
        "colab": {
          "base_uri": "https://localhost:8080/"
        },
        "id": "FB0uv7kLcfd7",
        "outputId": "e0944815-750c-4df5-aae1-c9b604c01567"
      },
      "id": "FB0uv7kLcfd7",
      "execution_count": null,
      "outputs": [
        {
          "output_type": "stream",
          "name": "stdout",
          "text": [
            "HELLO\n"
          ]
        }
      ]
    },
    {
      "cell_type": "markdown",
      "id": "c4fca2e6",
      "metadata": {
        "id": "c4fca2e6"
      },
      "source": [
        "## 2. Syntax\n",
        "```python\n",
        "def function_name(parameters):\n",
        "    \"\"\"Docstring describing the function\"\"\"\n",
        "    # Code block\n",
        "    return result\n",
        "```"
      ]
    },
    {
      "cell_type": "markdown",
      "id": "56d1d72d",
      "metadata": {
        "id": "56d1d72d"
      },
      "source": [
        "### Example\n",
        "```python\n",
        "def greet(name):\n",
        "    return f\"Hello, {name}!\"\n",
        "\n",
        "print(greet(\"Alice\"))  # Output: Hello, Alice!\n",
        "```"
      ]
    },
    {
      "cell_type": "code",
      "source": [
        "def display_info(name, *args, **kwargs):\n",
        "    print(f\"Name: {name}\")\n",
        "    print(\"Args:\", args)\n",
        "    print(\"Kwargs:\", kwargs)\n",
        "\n",
        "display_info(\"Alice\", 25, \"Engineer\", city=\"New York\", hobby=\"Painting\")"
      ],
      "metadata": {
        "colab": {
          "base_uri": "https://localhost:8080/",
          "height": 106
        },
        "id": "MFtpUXmJY-YK",
        "outputId": "1afdd85b-7f6c-4ab2-8273-0c8ddc674899"
      },
      "id": "MFtpUXmJY-YK",
      "execution_count": null,
      "outputs": [
        {
          "output_type": "error",
          "ename": "SyntaxError",
          "evalue": "positional argument follows keyword argument (<ipython-input-2-00dacb27b2fd>, line 6)",
          "traceback": [
            "\u001b[0;36m  File \u001b[0;32m\"<ipython-input-2-00dacb27b2fd>\"\u001b[0;36m, line \u001b[0;32m6\u001b[0m\n\u001b[0;31m    display_info(name=\"Alice\", 25, \"Engineer\", city=\"New York\", hobby=\"Painting\")\u001b[0m\n\u001b[0m                                                                                ^\u001b[0m\n\u001b[0;31mSyntaxError\u001b[0m\u001b[0;31m:\u001b[0m positional argument follows keyword argument\n"
          ]
        }
      ]
    },
    {
      "cell_type": "markdown",
      "id": "436aefd1",
      "metadata": {
        "id": "436aefd1"
      },
      "source": [
        "## 3. Functions with Default Arguments\n",
        "You can provide default values for parameters.\n",
        "```python\n",
        "def greet(name=\"User\"):\n",
        "    return f\"Hello, {name}!\"\n",
        "\n",
        "print(greet())       # Output: Hello, User!\n",
        "print(greet(\"Bob\")) # Output: Hello, Bob!\n",
        "```"
      ]
    },
    {
      "cell_type": "markdown",
      "id": "f6cbec72",
      "metadata": {
        "id": "f6cbec72"
      },
      "source": [
        "## 4. Keyword Arguments and `*args`, `**kwargs`\n",
        "- **Keyword arguments**: Explicitly specify parameter names when calling a function.\n",
        "- **`*args`**: Allows a variable number of positional arguments.\n",
        "- **`**kwargs`**: Allows a variable number of keyword arguments.\n",
        "\n",
        "**Example**:\n",
        "```python\n",
        "def display_info(name, *args, **kwargs):\n",
        "    print(f\"Name: {name}\")\n",
        "    print(\"Args:\", args)\n",
        "    print(\"Kwargs:\", kwargs)\n",
        "\n",
        "display_info(\"Alice\", 25, \"Engineer\", city=\"New York\", hobby=\"Painting\")\n",
        "# Output:\n",
        "# Name: Alice\n",
        "# Args: (25, 'Engineer')\n",
        "# Kwargs: {'city': 'New York', 'hobby': 'Painting'}\n",
        "```"
      ]
    },
    {
      "cell_type": "markdown",
      "id": "7f2311a1",
      "metadata": {
        "id": "7f2311a1"
      },
      "source": [
        "## 5. Lambda Functions\n",
        "- A **lambda function** is a small anonymous function defined using the `lambda` keyword.\n",
        "- Useful for short, simple functions.\n",
        "```python\n",
        "square = lambda x: x ** 2\n",
        "print(square(5))  # Output: 25\n",
        "\n",
        "add = lambda x, y: x + y\n",
        "print(add(3, 4))  # Output: 7\n",
        "```"
      ]
    },
    {
      "cell_type": "markdown",
      "id": "b1437437",
      "metadata": {
        "id": "b1437437"
      },
      "source": [
        "## 6. Returning Multiple Values\n",
        "Functions can return multiple values as a tuple.\n",
        "```python\n",
        "def calculate(a, b):\n",
        "    return a + b, a - b, a * b, a / b\n",
        "\n",
        "result = calculate(10, 5)\n",
        "print(result)  # Output: (15, 5, 50, 2.0)\n",
        "\n",
        "# Tuple unpacking\n",
        "add, sub, mul, div = calculate(10, 5)\n",
        "print(f\"Addition: {add}, Subtraction: {sub}\")\n",
        "```"
      ]
    },
    {
      "cell_type": "markdown",
      "id": "ff21cc82",
      "metadata": {
        "id": "ff21cc82"
      },
      "source": [
        "## 7. Nested Functions\n",
        "Functions can be defined inside other functions.\n",
        "```python\n",
        "def outer_function(text):\n",
        "    def inner_function():\n",
        "        return text.upper()\n",
        "    return inner_function()\n",
        "\n",
        "print(outer_function(\"hello\"))  # Output: HELLO\n",
        "```"
      ]
    },
    {
      "cell_type": "markdown",
      "id": "7f5162fb",
      "metadata": {
        "id": "7f5162fb"
      },
      "source": [
        "## 8. Common Mistakes\n",
        "1. **Not Using Default Arguments Correctly**:\n",
        "   ```python\n",
        "   def append_to_list(value, my_list=[]):\n",
        "       my_list.append(value)\n",
        "       return my_list\n",
        "   print(append_to_list(1))  # Output: [1]\n",
        "   print(append_to_list(2))  # Output: [1, 2] (unexpected)\n",
        "   ```\n",
        "   **Solution**: Use `None` as the default value.\n",
        "   ```python\n",
        "   def append_to_list(value, my_list=None):\n",
        "       if my_list is None:\n",
        "           my_list = []\n",
        "       my_list.append(value)\n",
        "       return my_list\n",
        "   ```\n",
        "\n",
        "2. **Returning Nothing**:\n",
        "   ```python\n",
        "   def add(a, b):\n",
        "       result = a + b\n",
        "   print(add(3, 4))  # Output: None\n",
        "   ```\n",
        "   **Solution**: Use `return` to return the result.\n",
        "   ```python\n",
        "   def add(a, b):\n",
        "       return a + b\n",
        "   ```"
      ]
    },
    {
      "cell_type": "code",
      "source": [
        "def add(a, b):\n",
        "    result = a + b\n",
        "print(add(3, 4))"
      ],
      "metadata": {
        "id": "2qdFBCsXeSV3",
        "colab": {
          "base_uri": "https://localhost:8080/"
        },
        "outputId": "84d50310-e0dc-4cdf-fd5d-ff9e9c7143cd"
      },
      "id": "2qdFBCsXeSV3",
      "execution_count": null,
      "outputs": [
        {
          "output_type": "stream",
          "name": "stdout",
          "text": [
            "None\n"
          ]
        }
      ]
    },
    {
      "cell_type": "code",
      "source": [
        "result = add(3, 4)"
      ],
      "metadata": {
        "id": "vgU3Y9upcqtJ"
      },
      "id": "vgU3Y9upcqtJ",
      "execution_count": null,
      "outputs": []
    },
    {
      "cell_type": "code",
      "source": [
        "print(result)"
      ],
      "metadata": {
        "colab": {
          "base_uri": "https://localhost:8080/"
        },
        "id": "yTw6JiwBctXu",
        "outputId": "2c962804-e068-4d9c-f18a-b7ee1c96af31"
      },
      "id": "yTw6JiwBctXu",
      "execution_count": null,
      "outputs": [
        {
          "output_type": "stream",
          "name": "stdout",
          "text": [
            "None\n"
          ]
        }
      ]
    },
    {
      "cell_type": "code",
      "source": [
        "def process_sentence(sentence):\n",
        "    # Stage 1: Check for empty input\n",
        "    if not sentence:\n",
        "        return \"Error: The input sentence is empty.\"\n",
        "\n",
        "    # Stage 2: Check if the sentence is too short\n",
        "    if len(sentence) < 5:\n",
        "        return \"Error: The sentence is too short.\"\n",
        "\n",
        "    # Stage 3: Process the sentence (convert to lowercase and remove extra spaces)\n",
        "    processed_sentence = sentence.strip().lower()\n",
        "    return f\"Processed sentence: {processed_sentence}\"\n",
        "\n",
        "# Testing the function with different inputs\n",
        "print(process_sentence(\"\"))  # Output: Error: The input sentence is empty.\n",
        "print(process_sentence(\"Hi\"))  # Output: Error: The sentence is too short.\n",
        "print(process_sentence(\"  Hello, World!  \"))  # Output: Processed sentence: hello, world!\n"
      ],
      "metadata": {
        "id": "jUT13MM3cxr0"
      },
      "id": "jUT13MM3cxr0",
      "execution_count": null,
      "outputs": []
    }
  ],
  "metadata": {
    "colab": {
      "provenance": []
    },
    "language_info": {
      "name": "python"
    },
    "kernelspec": {
      "name": "python3",
      "display_name": "Python 3"
    }
  },
  "nbformat": 4,
  "nbformat_minor": 5
}