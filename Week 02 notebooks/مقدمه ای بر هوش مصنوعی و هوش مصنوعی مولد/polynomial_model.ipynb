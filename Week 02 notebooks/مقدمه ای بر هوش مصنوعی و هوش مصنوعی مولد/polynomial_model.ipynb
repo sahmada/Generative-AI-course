{
  "nbformat": 4,
  "nbformat_minor": 0,
  "metadata": {
    "colab": {
      "provenance": []
    },
    "kernelspec": {
      "name": "python3",
      "display_name": "Python 3"
    },
    "language_info": {
      "name": "python"
    },
    "widgets": {
      "application/vnd.jupyter.widget-state+json": {
        "a086439394be40968a6f666ea9efb5e2": {
          "model_module": "@jupyter-widgets/controls",
          "model_name": "VBoxModel",
          "model_module_version": "1.5.0",
          "state": {
            "_dom_classes": [
              "widget-interact"
            ],
            "_model_module": "@jupyter-widgets/controls",
            "_model_module_version": "1.5.0",
            "_model_name": "VBoxModel",
            "_view_count": null,
            "_view_module": "@jupyter-widgets/controls",
            "_view_module_version": "1.5.0",
            "_view_name": "VBoxView",
            "box_style": "",
            "children": [
              "IPY_MODEL_b0d53ec1c48749599a93de0264537e60",
              "IPY_MODEL_9eb61d24da054a02af4742f2fdf2c08b"
            ],
            "layout": "IPY_MODEL_e3d18db4f31540db9cfc2decc8768ae8"
          }
        },
        "b0d53ec1c48749599a93de0264537e60": {
          "model_module": "@jupyter-widgets/controls",
          "model_name": "IntSliderModel",
          "model_module_version": "1.5.0",
          "state": {
            "_dom_classes": [],
            "_model_module": "@jupyter-widgets/controls",
            "_model_module_version": "1.5.0",
            "_model_name": "IntSliderModel",
            "_view_count": null,
            "_view_module": "@jupyter-widgets/controls",
            "_view_module_version": "1.5.0",
            "_view_name": "IntSliderView",
            "continuous_update": true,
            "description": "degree",
            "description_tooltip": null,
            "disabled": false,
            "layout": "IPY_MODEL_4cdd330703c24a0886dfc04a2a1296bb",
            "max": 10,
            "min": 0,
            "orientation": "horizontal",
            "readout": true,
            "readout_format": "d",
            "step": 1,
            "style": "IPY_MODEL_8f39964ad5314a2ebd9aa493168321da",
            "value": 5
          }
        },
        "9eb61d24da054a02af4742f2fdf2c08b": {
          "model_module": "@jupyter-widgets/output",
          "model_name": "OutputModel",
          "model_module_version": "1.0.0",
          "state": {
            "_dom_classes": [],
            "_model_module": "@jupyter-widgets/output",
            "_model_module_version": "1.0.0",
            "_model_name": "OutputModel",
            "_view_count": null,
            "_view_module": "@jupyter-widgets/output",
            "_view_module_version": "1.0.0",
            "_view_name": "OutputView",
            "layout": "IPY_MODEL_cca08f2b2af14b33818900a3f0939566",
            "msg_id": "",
            "outputs": [
              {
                "output_type": "display_data",
                "data": {
                  "text/html": "<html>\n<head><meta charset=\"utf-8\" /></head>\n<body>\n    <div>            <script src=\"https://cdnjs.cloudflare.com/ajax/libs/mathjax/2.7.5/MathJax.js?config=TeX-AMS-MML_SVG\"></script><script type=\"text/javascript\">if (window.MathJax && window.MathJax.Hub && window.MathJax.Hub.Config) {window.MathJax.Hub.Config({SVG: {font: \"STIX-Web\"}});}</script>                <script type=\"text/javascript\">window.PlotlyConfig = {MathJaxConfig: 'local'};</script>\n        <script charset=\"utf-8\" src=\"https://cdn.plot.ly/plotly-3.0.0.min.js\"></script>                <div id=\"3aa955b9-2a57-45ea-81cf-76ce8476b0fa\" class=\"plotly-graph-div\" style=\"height:600px; width:1000px;\"></div>            <script type=\"text/javascript\">                window.PLOTLYENV=window.PLOTLYENV || {};                                if (document.getElementById(\"3aa955b9-2a57-45ea-81cf-76ce8476b0fa\")) {                    Plotly.newPlot(                        \"3aa955b9-2a57-45ea-81cf-76ce8476b0fa\",                        [{\"mode\":\"markers\",\"name\":\"Data\",\"x\":{\"dtype\":\"f8\",\"bdata\":\"AAAAAAAACMCEDz744IMHwAgffPDBBwfAjC666KKLBsAQPvjggw8GwJNNNtlkkwXAF1100UUXBcCbbLLJJpsEwB988MEHHwTAo4suuuiiA8Anm2yyySYDwKqqqqqqqgLALrrooosuAsCyySabbLIBwDbZZJNNNgHAuuiiiy66AMA++OCDDz4AwIQPPvjgg\\u002f+\\u002fjC666KKL\\u002fr+TTTbZZJP9v5tssskmm\\u002fy\\u002fo4suuuii+7+qqqqqqqr6v7LJJptssvm\\u002fuuiiiy66+L\\u002fCBx988MH3v8omm2yyyfa\\u002f0UUXXXTR9b\\u002fZZJNNNtn0v+GDDz744PO\\u002f6KKLLrro8r\\u002fwwQcffPDxv\\u002fjggw8++PC\\u002fAAAAAAAA8L8QPvjggw\\u002fuvyB88MEHH+y\\u002fMLrooosu6r88+OCDDz7ov0w22WSTTea\\u002fXHTRRRdd5L9ssskmm2ziv3zwwQcffOC\\u002fGF100UUX3b842WSTTTbZv1BVVVVVVdW\\u002fcNFFF1100b8gm2yyySbLv2CTTTbZZMO\\u002fQBdddNFFt78AH3zwwQefvwAffPDBB58\\u002fQBdddNFFtz9gk0022WTDPzCbbLLJJss\\u002feNFFF1100T9YVVVVVVXVPzjZZJNNNtk\\u002fGF100UUX3T988MEHH3zgP2yyySabbOI\\u002fYHTRRRdd5D9QNtlkk03mP0D44IMPPug\\u002fMLrooosu6j8gfPDBBx\\u002fsPxA++OCDD+4\\u002fAAAAAAAA8D\\u002f44IMPPvjwP\\u002fDBBx988PE\\u002f6KKLLrro8j\\u002fggw8++ODzP9hkk0022fQ\\u002f0EUXXXTR9T\\u002fMJptsssn2P8QHH3zwwfc\\u002fvOiiiy66+D+0ySabbLL5P6yqqqqqqvo\\u002fpIsuuuii+z+cbLLJJpv8P5RNNtlkk\\u002f0\\u002fjC666KKL\\u002fj+EDz744IP\\u002fPz744IMPPgBAuuiiiy66AEA22WSTTTYBQLLJJptssgFALrrooosuAkCsqqqqqqoCQCibbLLJJgNApIsuuuiiA0AgfPDBBx8EQJxssskmmwRAGF100UUXBUCUTTbZZJMFQBA++OCDDwZAjC666KKLBkAIH3zwwQcHQIQPPvjggwdAAAAAAAAACEA=\"},\"y\":{\"dtype\":\"f8\",\"bdata\":\"RKQTydTUAsCk4rrAPB0RwHAyKwLVUArARiY\\u002fZX9m9L94G9fIyGv7v+xXtSV+cBfA9sG1s9\\u002fHBsDOVijdooMRwFkwxQ+TvRDAg79Jp3VYCsAgMZHrEpMMwLZhrjicw\\u002fe\\u002flRw72i47A8D5puYVEO8JwFY80+YOGQXAWcUa7FBzBcBA9h6\\u002fPTnqv4WZTv4f+gnAQ+NJc+TJAsDNv6URLdMPwPlhXdb3nhnAOrjJS\\u002fyV978DaX\\u002fBPJbwv6Rbae1amgrAxH\\u002f5PgIF9T+meXQY4JoQwBSMhuxAevy\\u002fNq2xu3sQAMDwA8JH8S3mP6TwCA6aA+c\\u002fmQzIInUZ8r8aWPIOFJvlv2T+gi6FnwPAGqZkugHFD8CK7aVfFmn2v6fabS\\u002fYvOC\\u002fuHPuSFxY8z\\u002f6l5x2XJ30P1K1QJqfMu+\\u002fsBS9xeA857\\u002foyMNc6pb7v4T5vw9bSAHAjpTf7nq\\u002fA8DLITvNNBsJQEKshvHgl9u\\u002f8MgRwK7tyb\\u002ftBzsl39r0v2Wwukmwz\\u002f0\\u002f7vGDAYSk+b8TUpXSXNnjP4hfDzoEFtK\\u002fAr80Mdsx\\u002fD9SaA+Vpi3hP+TU2r1tMNa\\u002f\\u002fuCpuwcN+D8yfBI5K3kCQFWUFFXVM\\u002f4\\u002foRu2CAPnAkABLg6l2ELxPz7VVaHst\\u002fk\\u002fpTlocX459D+Sc4kre6z9P3MXWwAXuvQ\\u002fAAAWE3wIqD9Xd4V5kTAIQH8S3o18NQJAwM0Vah\\u002fA4T\\u002fitNvV6IUOQF+\\u002fzU6HGv4\\u002fSBoNtE2IC0CYARoyXlASQNq+bJdyZQ5Aqo7qwti+FUB+GPbEn\\u002fD\\u002fPwyTx2n3ShJAKjLc+XGCCECmjcjcVT8HQBoaYcRwuAtAat6o2NHlD0AMfFGB2KMSQLYNmboNmAdArR+q13ytGEDZvCBoMo0WQDb56tXHDAZAJTm+HiOoHUB2GVrEMUsgQMC6CpgHxRxA+mnnTy4aFUDRs5Wa\\u002fT0QQMTiuvxseh1ANQrUGaE3FUC0Lee3tHQfQGjqdtcP2xlA2Ife6WPzHkDz2FXRxbYbQILv8cDPTB5AIs1rr8ObGkAetlBlbd8iQJzVy9XQRhxAVQJIpnRpHkA=\"},\"type\":\"scatter\"},{\"mode\":\"lines\",\"name\":\"Polynomial Degree 5\",\"x\":{\"dtype\":\"f8\",\"bdata\":\"AAAAAAAACMCEDz744IMHwAgffPDBBwfAjC666KKLBsAQPvjggw8GwJNNNtlkkwXAF1100UUXBcCbbLLJJpsEwB988MEHHwTAo4suuuiiA8Anm2yyySYDwKqqqqqqqgLALrrooosuAsCyySabbLIBwDbZZJNNNgHAuuiiiy66AMA++OCDDz4AwIQPPvjgg\\u002f+\\u002fjC666KKL\\u002fr+TTTbZZJP9v5tssskmm\\u002fy\\u002fo4suuuii+7+qqqqqqqr6v7LJJptssvm\\u002fuuiiiy66+L\\u002fCBx988MH3v8omm2yyyfa\\u002f0UUXXXTR9b\\u002fZZJNNNtn0v+GDDz744PO\\u002f6KKLLrro8r\\u002fwwQcffPDxv\\u002fjggw8++PC\\u002fAAAAAAAA8L8QPvjggw\\u002fuvyB88MEHH+y\\u002fMLrooosu6r88+OCDDz7ov0w22WSTTea\\u002fXHTRRRdd5L9ssskmm2ziv3zwwQcffOC\\u002fGF100UUX3b842WSTTTbZv1BVVVVVVdW\\u002fcNFFF1100b8gm2yyySbLv2CTTTbZZMO\\u002fQBdddNFFt78AH3zwwQefvwAffPDBB58\\u002fQBdddNFFtz9gk0022WTDPzCbbLLJJss\\u002feNFFF1100T9YVVVVVVXVPzjZZJNNNtk\\u002fGF100UUX3T988MEHH3zgP2yyySabbOI\\u002fYHTRRRdd5D9QNtlkk03mP0D44IMPPug\\u002fMLrooosu6j8gfPDBBx\\u002fsPxA++OCDD+4\\u002fAAAAAAAA8D\\u002f44IMPPvjwP\\u002fDBBx988PE\\u002f6KKLLrro8j\\u002fggw8++ODzP9hkk0022fQ\\u002f0EUXXXTR9T\\u002fMJptsssn2P8QHH3zwwfc\\u002fvOiiiy66+D+0ySabbLL5P6yqqqqqqvo\\u002fpIsuuuii+z+cbLLJJpv8P5RNNtlkk\\u002f0\\u002fjC666KKL\\u002fj+EDz744IP\\u002fPz744IMPPgBAuuiiiy66AEA22WSTTTYBQLLJJptssgFALrrooosuAkCsqqqqqqoCQCibbLLJJgNApIsuuuiiA0AgfPDBBx8EQJxssskmmwRAGF100UUXBUCUTTbZZJMFQBA++OCDDwZAjC666KKLBkAIH3zwwQcHQIQPPvjggwdAAAAAAAAACEA=\"},\"y\":{\"dtype\":\"f8\",\"bdata\":\"i8xTKTSuB8BUu\\u002fvX\\u002fHgIwJCqqp8wGAnABE3y+xqPCcA6ijdb4OAJwNqjcu5+EArAHFvveM8gCsA7Fg0ghhQKwM8F\\u002fzoz7gnAQUqMIkSwCcAxGdAABF0JwNzi+aCc9gjAlXcNPxd\\u002fCMAXLaNXXfgHwAMEqHc5ZAfAP80dDFjEBsBkT9sxSBoGwCVsTIV8ZwXAu0Uy8kutBMBNZGOD8uwDwFnbizKSJwPAJG\\u002fttzNeAsAZuh9ax5EBwDtS0L0lwwDAHN0FayHm\\u002f7\\u002f2GKMiaET+v4AqWd1Movy\\u002fqAY2ENQA+7+yD\\u002fUJ22D5v\\u002fxff5IZw\\u002fe\\u002f0hRsiiMo9r9LmYCKapD0vxfxMIM\\u002f\\u002fPK\\u002fUAMgXNRr8b+kyj8ne77vvxJLZLznrOy\\u002fmiwQjKui6b9QMQaVUp\\u002fmv3rOaf86ouO\\u002fDMK\\u002fW5iq4L\\u002fOUN3D7W7bv\\u002fojf2B9j9W\\u002fyGN6Kdxoz780221hJrbDv1jQUC0tArC\\u002fEIOY+5PjnT8MUdhHxxG\\u002fP2miMhjuass\\u002f2AgOULy00z96wvBCycXZP4+XDk8z7N8\\u002fMwTykssV4z9w6A0hyUPmP5TexjTegek\\u002fGr+el9DR7D+zX1ZdrhrwPwBuzjsZ1\\u002fE\\u002feqHX6Pie8z8Y31vbE3P1P+yODmAlVPc\\u002fVFHs+dtC+T8XtLrC1z\\u002f7P6znh8uoS\\u002f0\\u002fVXQqfc1m\\u002fz+md2B82MgAQPjXGLxU5gFAgEJVV\\u002fsLA0DYNJAU4DkEQHOdZ9cJcAVAMrbc0HGuBkD63pOvAvUHQEV4FNCXQwlAxL0IbfyZCkDwoH3P6vcLQI6jIn8LXQ1AZrKJcvTIDkDkf7MflB0QQA9vaKWK2RBASM2\\u002ffAqYEUDEqwZwtVgSQKzzmvkhGxNAZlML3NreE0DgKze6XqMUQNh9bq8faBVALteR54IsFkAoQDI34O8WQMAosbOBsRdA8FVgS6NwGEAEz6FdciwZQM7KB1MN5BlADp10NYOWGkCqozpI00IbQAI0PKDs5xtANogLvK2EHEB6rAoc5BcdQFJsi9pLoB1A5j\\u002fvQ48cHkBaOcduRoseQPjx89P26h5AonfF5hI6H0A=\"},\"type\":\"scatter\"}],                        {\"template\":{\"data\":{\"histogram2dcontour\":[{\"type\":\"histogram2dcontour\",\"colorbar\":{\"outlinewidth\":0,\"ticks\":\"\"},\"colorscale\":[[0.0,\"#0d0887\"],[0.1111111111111111,\"#46039f\"],[0.2222222222222222,\"#7201a8\"],[0.3333333333333333,\"#9c179e\"],[0.4444444444444444,\"#bd3786\"],[0.5555555555555556,\"#d8576b\"],[0.6666666666666666,\"#ed7953\"],[0.7777777777777778,\"#fb9f3a\"],[0.8888888888888888,\"#fdca26\"],[1.0,\"#f0f921\"]]}],\"choropleth\":[{\"type\":\"choropleth\",\"colorbar\":{\"outlinewidth\":0,\"ticks\":\"\"}}],\"histogram2d\":[{\"type\":\"histogram2d\",\"colorbar\":{\"outlinewidth\":0,\"ticks\":\"\"},\"colorscale\":[[0.0,\"#0d0887\"],[0.1111111111111111,\"#46039f\"],[0.2222222222222222,\"#7201a8\"],[0.3333333333333333,\"#9c179e\"],[0.4444444444444444,\"#bd3786\"],[0.5555555555555556,\"#d8576b\"],[0.6666666666666666,\"#ed7953\"],[0.7777777777777778,\"#fb9f3a\"],[0.8888888888888888,\"#fdca26\"],[1.0,\"#f0f921\"]]}],\"heatmap\":[{\"type\":\"heatmap\",\"colorbar\":{\"outlinewidth\":0,\"ticks\":\"\"},\"colorscale\":[[0.0,\"#0d0887\"],[0.1111111111111111,\"#46039f\"],[0.2222222222222222,\"#7201a8\"],[0.3333333333333333,\"#9c179e\"],[0.4444444444444444,\"#bd3786\"],[0.5555555555555556,\"#d8576b\"],[0.6666666666666666,\"#ed7953\"],[0.7777777777777778,\"#fb9f3a\"],[0.8888888888888888,\"#fdca26\"],[1.0,\"#f0f921\"]]}],\"contourcarpet\":[{\"type\":\"contourcarpet\",\"colorbar\":{\"outlinewidth\":0,\"ticks\":\"\"}}],\"contour\":[{\"type\":\"contour\",\"colorbar\":{\"outlinewidth\":0,\"ticks\":\"\"},\"colorscale\":[[0.0,\"#0d0887\"],[0.1111111111111111,\"#46039f\"],[0.2222222222222222,\"#7201a8\"],[0.3333333333333333,\"#9c179e\"],[0.4444444444444444,\"#bd3786\"],[0.5555555555555556,\"#d8576b\"],[0.6666666666666666,\"#ed7953\"],[0.7777777777777778,\"#fb9f3a\"],[0.8888888888888888,\"#fdca26\"],[1.0,\"#f0f921\"]]}],\"surface\":[{\"type\":\"surface\",\"colorbar\":{\"outlinewidth\":0,\"ticks\":\"\"},\"colorscale\":[[0.0,\"#0d0887\"],[0.1111111111111111,\"#46039f\"],[0.2222222222222222,\"#7201a8\"],[0.3333333333333333,\"#9c179e\"],[0.4444444444444444,\"#bd3786\"],[0.5555555555555556,\"#d8576b\"],[0.6666666666666666,\"#ed7953\"],[0.7777777777777778,\"#fb9f3a\"],[0.8888888888888888,\"#fdca26\"],[1.0,\"#f0f921\"]]}],\"mesh3d\":[{\"type\":\"mesh3d\",\"colorbar\":{\"outlinewidth\":0,\"ticks\":\"\"}}],\"scatter\":[{\"fillpattern\":{\"fillmode\":\"overlay\",\"size\":10,\"solidity\":0.2},\"type\":\"scatter\"}],\"parcoords\":[{\"type\":\"parcoords\",\"line\":{\"colorbar\":{\"outlinewidth\":0,\"ticks\":\"\"}}}],\"scatterpolargl\":[{\"type\":\"scatterpolargl\",\"marker\":{\"colorbar\":{\"outlinewidth\":0,\"ticks\":\"\"}}}],\"bar\":[{\"error_x\":{\"color\":\"#2a3f5f\"},\"error_y\":{\"color\":\"#2a3f5f\"},\"marker\":{\"line\":{\"color\":\"#E5ECF6\",\"width\":0.5},\"pattern\":{\"fillmode\":\"overlay\",\"size\":10,\"solidity\":0.2}},\"type\":\"bar\"}],\"scattergeo\":[{\"type\":\"scattergeo\",\"marker\":{\"colorbar\":{\"outlinewidth\":0,\"ticks\":\"\"}}}],\"scatterpolar\":[{\"type\":\"scatterpolar\",\"marker\":{\"colorbar\":{\"outlinewidth\":0,\"ticks\":\"\"}}}],\"histogram\":[{\"marker\":{\"pattern\":{\"fillmode\":\"overlay\",\"size\":10,\"solidity\":0.2}},\"type\":\"histogram\"}],\"scattergl\":[{\"type\":\"scattergl\",\"marker\":{\"colorbar\":{\"outlinewidth\":0,\"ticks\":\"\"}}}],\"scatter3d\":[{\"type\":\"scatter3d\",\"line\":{\"colorbar\":{\"outlinewidth\":0,\"ticks\":\"\"}},\"marker\":{\"colorbar\":{\"outlinewidth\":0,\"ticks\":\"\"}}}],\"scattermap\":[{\"type\":\"scattermap\",\"marker\":{\"colorbar\":{\"outlinewidth\":0,\"ticks\":\"\"}}}],\"scattermapbox\":[{\"type\":\"scattermapbox\",\"marker\":{\"colorbar\":{\"outlinewidth\":0,\"ticks\":\"\"}}}],\"scatterternary\":[{\"type\":\"scatterternary\",\"marker\":{\"colorbar\":{\"outlinewidth\":0,\"ticks\":\"\"}}}],\"scattercarpet\":[{\"type\":\"scattercarpet\",\"marker\":{\"colorbar\":{\"outlinewidth\":0,\"ticks\":\"\"}}}],\"carpet\":[{\"aaxis\":{\"endlinecolor\":\"#2a3f5f\",\"gridcolor\":\"white\",\"linecolor\":\"white\",\"minorgridcolor\":\"white\",\"startlinecolor\":\"#2a3f5f\"},\"baxis\":{\"endlinecolor\":\"#2a3f5f\",\"gridcolor\":\"white\",\"linecolor\":\"white\",\"minorgridcolor\":\"white\",\"startlinecolor\":\"#2a3f5f\"},\"type\":\"carpet\"}],\"table\":[{\"cells\":{\"fill\":{\"color\":\"#EBF0F8\"},\"line\":{\"color\":\"white\"}},\"header\":{\"fill\":{\"color\":\"#C8D4E3\"},\"line\":{\"color\":\"white\"}},\"type\":\"table\"}],\"barpolar\":[{\"marker\":{\"line\":{\"color\":\"#E5ECF6\",\"width\":0.5},\"pattern\":{\"fillmode\":\"overlay\",\"size\":10,\"solidity\":0.2}},\"type\":\"barpolar\"}],\"pie\":[{\"automargin\":true,\"type\":\"pie\"}]},\"layout\":{\"autotypenumbers\":\"strict\",\"colorway\":[\"#636efa\",\"#EF553B\",\"#00cc96\",\"#ab63fa\",\"#FFA15A\",\"#19d3f3\",\"#FF6692\",\"#B6E880\",\"#FF97FF\",\"#FECB52\"],\"font\":{\"color\":\"#2a3f5f\"},\"hovermode\":\"closest\",\"hoverlabel\":{\"align\":\"left\"},\"paper_bgcolor\":\"white\",\"plot_bgcolor\":\"#E5ECF6\",\"polar\":{\"bgcolor\":\"#E5ECF6\",\"angularaxis\":{\"gridcolor\":\"white\",\"linecolor\":\"white\",\"ticks\":\"\"},\"radialaxis\":{\"gridcolor\":\"white\",\"linecolor\":\"white\",\"ticks\":\"\"}},\"ternary\":{\"bgcolor\":\"#E5ECF6\",\"aaxis\":{\"gridcolor\":\"white\",\"linecolor\":\"white\",\"ticks\":\"\"},\"baxis\":{\"gridcolor\":\"white\",\"linecolor\":\"white\",\"ticks\":\"\"},\"caxis\":{\"gridcolor\":\"white\",\"linecolor\":\"white\",\"ticks\":\"\"}},\"coloraxis\":{\"colorbar\":{\"outlinewidth\":0,\"ticks\":\"\"}},\"colorscale\":{\"sequential\":[[0.0,\"#0d0887\"],[0.1111111111111111,\"#46039f\"],[0.2222222222222222,\"#7201a8\"],[0.3333333333333333,\"#9c179e\"],[0.4444444444444444,\"#bd3786\"],[0.5555555555555556,\"#d8576b\"],[0.6666666666666666,\"#ed7953\"],[0.7777777777777778,\"#fb9f3a\"],[0.8888888888888888,\"#fdca26\"],[1.0,\"#f0f921\"]],\"sequentialminus\":[[0.0,\"#0d0887\"],[0.1111111111111111,\"#46039f\"],[0.2222222222222222,\"#7201a8\"],[0.3333333333333333,\"#9c179e\"],[0.4444444444444444,\"#bd3786\"],[0.5555555555555556,\"#d8576b\"],[0.6666666666666666,\"#ed7953\"],[0.7777777777777778,\"#fb9f3a\"],[0.8888888888888888,\"#fdca26\"],[1.0,\"#f0f921\"]],\"diverging\":[[0,\"#8e0152\"],[0.1,\"#c51b7d\"],[0.2,\"#de77ae\"],[0.3,\"#f1b6da\"],[0.4,\"#fde0ef\"],[0.5,\"#f7f7f7\"],[0.6,\"#e6f5d0\"],[0.7,\"#b8e186\"],[0.8,\"#7fbc41\"],[0.9,\"#4d9221\"],[1,\"#276419\"]]},\"xaxis\":{\"gridcolor\":\"white\",\"linecolor\":\"white\",\"ticks\":\"\",\"title\":{\"standoff\":15},\"zerolinecolor\":\"white\",\"automargin\":true,\"zerolinewidth\":2},\"yaxis\":{\"gridcolor\":\"white\",\"linecolor\":\"white\",\"ticks\":\"\",\"title\":{\"standoff\":15},\"zerolinecolor\":\"white\",\"automargin\":true,\"zerolinewidth\":2},\"scene\":{\"xaxis\":{\"backgroundcolor\":\"#E5ECF6\",\"gridcolor\":\"white\",\"linecolor\":\"white\",\"showbackground\":true,\"ticks\":\"\",\"zerolinecolor\":\"white\",\"gridwidth\":2},\"yaxis\":{\"backgroundcolor\":\"#E5ECF6\",\"gridcolor\":\"white\",\"linecolor\":\"white\",\"showbackground\":true,\"ticks\":\"\",\"zerolinecolor\":\"white\",\"gridwidth\":2},\"zaxis\":{\"backgroundcolor\":\"#E5ECF6\",\"gridcolor\":\"white\",\"linecolor\":\"white\",\"showbackground\":true,\"ticks\":\"\",\"zerolinecolor\":\"white\",\"gridwidth\":2}},\"shapedefaults\":{\"line\":{\"color\":\"#2a3f5f\"}},\"annotationdefaults\":{\"arrowcolor\":\"#2a3f5f\",\"arrowhead\":0,\"arrowwidth\":1},\"geo\":{\"bgcolor\":\"white\",\"landcolor\":\"#E5ECF6\",\"subunitcolor\":\"white\",\"showland\":true,\"showlakes\":true,\"lakecolor\":\"white\"},\"title\":{\"x\":0.05},\"mapbox\":{\"style\":\"light\"}}},\"title\":{\"text\":\"Polynomial Regression with Degree 5:\\n f*x^5 + g*x^4 + h*x^3 + i*x^2 + j*x^1 + k\"},\"xaxis\":{\"title\":{\"text\":\"X\"}},\"yaxis\":{\"title\":{\"text\":\"Y\"}},\"legend\":{\"title\":{\"text\":\"Legend\"}},\"width\":1000,\"height\":600},                        {\"responsive\": true}                    ).then(function(){\n                            \nvar gd = document.getElementById('3aa955b9-2a57-45ea-81cf-76ce8476b0fa');\nvar x = new MutationObserver(function (mutations, observer) {{\n        var display = window.getComputedStyle(gd).display;\n        if (!display || display === 'none') {{\n            console.log([gd, 'removed!']);\n            Plotly.purge(gd);\n            observer.disconnect();\n        }}\n}});\n\n// Listen for the removal of the full notebook cells\nvar notebookContainer = gd.closest('#notebook-container');\nif (notebookContainer) {{\n    x.observe(notebookContainer, {childList: true});\n}}\n\n// Listen for the clearing of the current output cell\nvar outputEl = gd.closest('.output');\nif (outputEl) {{\n    x.observe(outputEl, {childList: true});\n}}\n\n                        })                };            </script>        </div>\n</body>\n</html>"
                },
                "metadata": {}
              }
            ]
          }
        },
        "e3d18db4f31540db9cfc2decc8768ae8": {
          "model_module": "@jupyter-widgets/base",
          "model_name": "LayoutModel",
          "model_module_version": "1.2.0",
          "state": {
            "_model_module": "@jupyter-widgets/base",
            "_model_module_version": "1.2.0",
            "_model_name": "LayoutModel",
            "_view_count": null,
            "_view_module": "@jupyter-widgets/base",
            "_view_module_version": "1.2.0",
            "_view_name": "LayoutView",
            "align_content": null,
            "align_items": null,
            "align_self": null,
            "border": null,
            "bottom": null,
            "display": null,
            "flex": null,
            "flex_flow": null,
            "grid_area": null,
            "grid_auto_columns": null,
            "grid_auto_flow": null,
            "grid_auto_rows": null,
            "grid_column": null,
            "grid_gap": null,
            "grid_row": null,
            "grid_template_areas": null,
            "grid_template_columns": null,
            "grid_template_rows": null,
            "height": null,
            "justify_content": null,
            "justify_items": null,
            "left": null,
            "margin": null,
            "max_height": null,
            "max_width": null,
            "min_height": null,
            "min_width": null,
            "object_fit": null,
            "object_position": null,
            "order": null,
            "overflow": null,
            "overflow_x": null,
            "overflow_y": null,
            "padding": null,
            "right": null,
            "top": null,
            "visibility": null,
            "width": null
          }
        },
        "4cdd330703c24a0886dfc04a2a1296bb": {
          "model_module": "@jupyter-widgets/base",
          "model_name": "LayoutModel",
          "model_module_version": "1.2.0",
          "state": {
            "_model_module": "@jupyter-widgets/base",
            "_model_module_version": "1.2.0",
            "_model_name": "LayoutModel",
            "_view_count": null,
            "_view_module": "@jupyter-widgets/base",
            "_view_module_version": "1.2.0",
            "_view_name": "LayoutView",
            "align_content": null,
            "align_items": null,
            "align_self": null,
            "border": null,
            "bottom": null,
            "display": null,
            "flex": null,
            "flex_flow": null,
            "grid_area": null,
            "grid_auto_columns": null,
            "grid_auto_flow": null,
            "grid_auto_rows": null,
            "grid_column": null,
            "grid_gap": null,
            "grid_row": null,
            "grid_template_areas": null,
            "grid_template_columns": null,
            "grid_template_rows": null,
            "height": null,
            "justify_content": null,
            "justify_items": null,
            "left": null,
            "margin": null,
            "max_height": null,
            "max_width": null,
            "min_height": null,
            "min_width": null,
            "object_fit": null,
            "object_position": null,
            "order": null,
            "overflow": null,
            "overflow_x": null,
            "overflow_y": null,
            "padding": null,
            "right": null,
            "top": null,
            "visibility": null,
            "width": null
          }
        },
        "8f39964ad5314a2ebd9aa493168321da": {
          "model_module": "@jupyter-widgets/controls",
          "model_name": "SliderStyleModel",
          "model_module_version": "1.5.0",
          "state": {
            "_model_module": "@jupyter-widgets/controls",
            "_model_module_version": "1.5.0",
            "_model_name": "SliderStyleModel",
            "_view_count": null,
            "_view_module": "@jupyter-widgets/base",
            "_view_module_version": "1.2.0",
            "_view_name": "StyleView",
            "description_width": "",
            "handle_color": null
          }
        },
        "cca08f2b2af14b33818900a3f0939566": {
          "model_module": "@jupyter-widgets/base",
          "model_name": "LayoutModel",
          "model_module_version": "1.2.0",
          "state": {
            "_model_module": "@jupyter-widgets/base",
            "_model_module_version": "1.2.0",
            "_model_name": "LayoutModel",
            "_view_count": null,
            "_view_module": "@jupyter-widgets/base",
            "_view_module_version": "1.2.0",
            "_view_name": "LayoutView",
            "align_content": null,
            "align_items": null,
            "align_self": null,
            "border": null,
            "bottom": null,
            "display": null,
            "flex": null,
            "flex_flow": null,
            "grid_area": null,
            "grid_auto_columns": null,
            "grid_auto_flow": null,
            "grid_auto_rows": null,
            "grid_column": null,
            "grid_gap": null,
            "grid_row": null,
            "grid_template_areas": null,
            "grid_template_columns": null,
            "grid_template_rows": null,
            "height": null,
            "justify_content": null,
            "justify_items": null,
            "left": null,
            "margin": null,
            "max_height": null,
            "max_width": null,
            "min_height": null,
            "min_width": null,
            "object_fit": null,
            "object_position": null,
            "order": null,
            "overflow": null,
            "overflow_x": null,
            "overflow_y": null,
            "padding": null,
            "right": null,
            "top": null,
            "visibility": null,
            "width": null
          }
        }
      }
    }
  },
  "cells": [
    {
      "cell_type": "code",
      "source": [
        "# Ensure that Plotly is installed and up to date\n",
        "!pip install plotly --upgrade\n",
        "\n",
        "import plotly.io as pio\n",
        "pio.renderers.default = 'colab'"
      ],
      "metadata": {
        "colab": {
          "base_uri": "https://localhost:8080/"
        },
        "id": "8wPHvqQMykCb",
        "outputId": "feba5d99-162b-46d1-b42f-1e84c6b0b274"
      },
      "execution_count": null,
      "outputs": [
        {
          "output_type": "stream",
          "name": "stdout",
          "text": [
            "Requirement already satisfied: plotly in /usr/local/lib/python3.11/dist-packages (5.24.1)\n",
            "Collecting plotly\n",
            "  Downloading plotly-6.0.0-py3-none-any.whl.metadata (5.6 kB)\n",
            "Requirement already satisfied: narwhals>=1.15.1 in /usr/local/lib/python3.11/dist-packages (from plotly) (1.24.1)\n",
            "Requirement already satisfied: packaging in /usr/local/lib/python3.11/dist-packages (from plotly) (24.2)\n",
            "Downloading plotly-6.0.0-py3-none-any.whl (14.8 MB)\n",
            "\u001b[2K   \u001b[90m━━━━━━━━━━━━━━━━━━━━━━━━━━━━━━━━━━━━━━━━\u001b[0m \u001b[32m14.8/14.8 MB\u001b[0m \u001b[31m79.6 MB/s\u001b[0m eta \u001b[36m0:00:00\u001b[0m\n",
            "\u001b[?25hInstalling collected packages: plotly\n",
            "  Attempting uninstall: plotly\n",
            "    Found existing installation: plotly 5.24.1\n",
            "    Uninstalling plotly-5.24.1:\n",
            "      Successfully uninstalled plotly-5.24.1\n",
            "Successfully installed plotly-6.0.0\n"
          ]
        }
      ]
    },
    {
      "cell_type": "code",
      "execution_count": null,
      "metadata": {
        "colab": {
          "base_uri": "https://localhost:8080/",
          "height": 649,
          "referenced_widgets": [
            "a086439394be40968a6f666ea9efb5e2",
            "b0d53ec1c48749599a93de0264537e60",
            "9eb61d24da054a02af4742f2fdf2c08b",
            "e3d18db4f31540db9cfc2decc8768ae8",
            "4cdd330703c24a0886dfc04a2a1296bb",
            "8f39964ad5314a2ebd9aa493168321da",
            "cca08f2b2af14b33818900a3f0939566"
          ]
        },
        "id": "0ALBrPIWyeJm",
        "outputId": "c96a3e51-d3e5-40fb-b3fe-f91b9ee56a10"
      },
      "outputs": [
        {
          "output_type": "display_data",
          "data": {
            "text/plain": [
              "interactive(children=(IntSlider(value=5, description='degree', max=10), Output()), _dom_classes=('widget-inter…"
            ],
            "application/vnd.jupyter.widget-view+json": {
              "version_major": 2,
              "version_minor": 0,
              "model_id": "a086439394be40968a6f666ea9efb5e2"
            }
          },
          "metadata": {}
        }
      ],
      "source": [
        "import numpy as np\n",
        "import pandas as pd\n",
        "import plotly.graph_objs as go\n",
        "from ipywidgets import interactive\n",
        "from sklearn.linear_model import LinearRegression\n",
        "from sklearn.preprocessing import PolynomialFeatures\n",
        "from sklearn.pipeline import make_pipeline\n",
        "\n",
        "# Generate synthetic data\n",
        "np.random.seed(0)\n",
        "x = np.linspace(-3, 3, 100)\n",
        "y = 2 * x + 1 + np.random.normal(0, 1.5, size=100)\n",
        "data = pd.DataFrame({'x': x, 'y': y})\n",
        "\n",
        "# Function to update plot and display the equation\n",
        "def update_plot(degree):\n",
        "    # Fit models\n",
        "    model_poly = make_pipeline(PolynomialFeatures(degree), LinearRegression())\n",
        "    model_poly.fit(data[['x']], data['y'])\n",
        "    y_pred = model_poly.predict(data[['x']].sort_values(by='x'))\n",
        "\n",
        "    # Extract coefficients and intercept\n",
        "    coeffs = model_poly.named_steps['linearregression'].coef_\n",
        "    intercept = model_poly.named_steps['linearregression'].intercept_\n",
        "\n",
        "    # Define parameter names\n",
        "    param_names = ['a', 'b', 'c', 'd', 'e', 'f', 'g', 'h', 'i', 'j', 'k']\n",
        "    param_names.reverse()\n",
        "\n",
        "    # Create the equation string\n",
        "    equation = f\"{intercept:.2f} + \"\n",
        "    equation += \" + \".join(f\"{coeff:.2f}*x^{i}\" if i == 1 else f\"{coeff:.2f}*x^{i}\"\n",
        "                            for i, coeff in enumerate(coeffs[1:], start=1) if coeff != 0)\n",
        "\n",
        "    # Convert to parametric form\n",
        "    parametric_eq = []\n",
        "    terms = equation.split('+')\n",
        "    for idx, term in enumerate(terms):\n",
        "        if '*' in term:\n",
        "            coeff, var = term.split('*')\n",
        "            parametric_eq.append(f\"{param_names[idx]}*{var.strip()}\")\n",
        "        else:\n",
        "            parametric_eq.append(f\"{param_names[idx]}\")\n",
        "\n",
        "    parametric_eq.reverse()\n",
        "    parametric_equation = \" + \".join(parametric_eq)\n",
        "\n",
        "    # Plot\n",
        "    fig = go.Figure()\n",
        "    fig.add_trace(go.Scatter(x=data['x'], y=data['y'], mode='markers', name='Data'))\n",
        "    fig.add_trace(go.Scatter(x=np.sort(data['x']), y=y_pred, mode='lines', name=f'Polynomial Degree {degree}'))\n",
        "\n",
        "    # Update layout with model equation\n",
        "    fig.update_layout(title=f'Polynomial Regression with Degree {degree}:\\n {parametric_equation}',\n",
        "                      xaxis_title='X',\n",
        "                      yaxis_title='Y',\n",
        "                      legend_title='Legend',\n",
        "                      width=1000,  # Set fixed width\n",
        "                      height=600   # Set fixed height\n",
        "                      )\n",
        "    fig.show()\n",
        "\n",
        "# Interactive widget\n",
        "interactive_plot = interactive(update_plot, degree=(0, 10))\n",
        "interactive_plot\n"
      ]
    },
    {
      "cell_type": "code",
      "source": [],
      "metadata": {
        "id": "Twn629rlyokD"
      },
      "execution_count": null,
      "outputs": []
    }
  ]
}