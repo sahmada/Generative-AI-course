{
  "cells": [
    {
      "cell_type": "markdown",
      "id": "59ec60eb",
      "metadata": {
        "id": "59ec60eb"
      },
      "source": [
        "# Python Modules - Teaching Notes"
      ]
    },
    {
      "cell_type": "markdown",
      "id": "7e24ebb8",
      "metadata": {
        "id": "7e24ebb8"
      },
      "source": [
        "## 1. Definition\n",
        "- A **module** is a single Python file containing definitions (e.g., functions, classes, or variables) that can be reused in other programs.\n",
        "- Modules allow you to organize code, promote reuse, and maintain cleaner programs."
      ]
    },
    {
      "cell_type": "markdown",
      "id": "f928107b",
      "metadata": {
        "id": "f928107b"
      },
      "source": [
        "## 2. Creating and Using Modules\n",
        "**Steps to Create a Module**:\n",
        "1. Create a Python file, e.g., `my_module.py`.\n",
        "2. Define your functions, classes, or variables in the file.\n",
        "3. Import the module in another script using `import`.\n",
        "\n",
        "**Example**:\n",
        "**`my_module.py`**:\n",
        "```python\n",
        "def greet(name):\n",
        "    return f\"Hello, {name}!\"\n",
        "\n",
        "PI = 3.14159\n",
        "```\n",
        "\n",
        "**`main.py`**:\n",
        "```python\n",
        "import my_module\n",
        "print(my_module.greet(\"Alice\"))  # Output: Hello, Alice!\n",
        "print(my_module.PI)              # Output: 3.14159\n",
        "```"
      ]
    },
    {
      "cell_type": "markdown",
      "id": "4e5be0a2",
      "metadata": {
        "id": "4e5be0a2"
      },
      "source": [
        "## 3. Import Variations\n",
        "| Syntax                     | Description                                       |\n",
        "|----------------------------|---------------------------------------------------|\n",
        "| `import module_name`       | Imports the module. Access its members using `module_name.member`. |\n",
        "| `from module_name import x`| Imports specific members from a module.          |\n",
        "| `from module_name import *`| Imports all members from a module.               |\n",
        "| `import module_name as alias` | Imports the module with an alias.             |\n",
        "\n",
        "**Examples**:\n",
        "```python\n",
        "import math\n",
        "print(math.sqrt(16))  # Accessing members with the module name\n",
        "\n",
        "from math import pi\n",
        "print(pi)  # Directly accessing the imported member\n",
        "\n",
        "from math import *\n",
        "print(sqrt(25))  # Access all members directly\n",
        "\n",
        "import math as m\n",
        "print(m.sqrt(36))  # Using an alias for the module\n",
        "```"
      ]
    },
    {
      "cell_type": "code",
      "source": [
        "import math\n",
        "print(math.pi)          # Output: 3.141592653589793\n",
        "# print(math.sqrt(16))    # Output: 4.0\n",
        "\n",
        "# import os\n",
        "# print(os.getcwd())      # Prints the current working directory\n",
        "\n",
        "import random\n",
        "print(random.random())  # Random integer between 1 and 10"
      ],
      "metadata": {
        "colab": {
          "base_uri": "https://localhost:8080/"
        },
        "id": "u39WmhjxGaJo",
        "outputId": "37ce3934-f6f0-4f69-b404-d3933a1a98cf"
      },
      "id": "u39WmhjxGaJo",
      "execution_count": null,
      "outputs": [
        {
          "output_type": "stream",
          "name": "stdout",
          "text": [
            "3.141592653589793\n",
            "0.25233498235883267\n"
          ]
        }
      ]
    },
    {
      "cell_type": "markdown",
      "id": "f20f3249",
      "metadata": {
        "id": "f20f3249"
      },
      "source": [
        "## 4. Using Built-in Modules\n",
        "Python provides many built-in modules, such as `os`, `math`, and `random`.\n",
        "\n",
        "**Examples**:\n",
        "```python\n",
        "import math\n",
        "print(math.pi)          # Output: 3.141592653589793\n",
        "print(math.sqrt(16))    # Output: 4.0\n",
        "\n",
        "import os\n",
        "print(os.getcwd())      # Prints the current working directory\n",
        "\n",
        "import random\n",
        "print(random.randint(1, 10))  # Random integer between 1 and 10\n",
        "```"
      ]
    },
    {
      "cell_type": "markdown",
      "id": "13cb01ca",
      "metadata": {
        "id": "13cb01ca"
      },
      "source": [
        "## 5. Installing and Using External Libraries\n",
        "External libraries can be installed using `pip`.\n",
        "\n",
        "**Example**: Installing and using the `requests` library.\n",
        "```bash\n",
        "pip install requests\n",
        "```\n",
        "```python\n",
        "import requests\n",
        "response = requests.get('https://api.github.com')\n",
        "print(response.status_code)  # Output: 200 (if successful)\n",
        "```"
      ]
    },
    {
      "cell_type": "markdown",
      "id": "d75a6fbf",
      "metadata": {
        "id": "d75a6fbf"
      },
      "source": [
        "## 6. Creating a Package\n",
        "- A **package** is a collection of related modules grouped together in a directory.\n",
        "- A package must contain an `__init__.py` file (can be empty).\n",
        "\n",
        "**Steps to Create a Package**:\n",
        "1. Create a directory with the package name.\n",
        "2. Add an `__init__.py` file to the directory.\n",
        "3. Add module files to the directory.\n",
        "\n",
        "**Example**:\n",
        "```\n",
        "mypackage/\n",
        "    __init__.py\n",
        "    module1.py\n",
        "    module2.py\n",
        "```\n",
        "\n",
        "**`module1.py`**:\n",
        "```python\n",
        "def add(a, b):\n",
        "    return a + b\n",
        "```\n",
        "\n",
        "**`module2.py`**:\n",
        "```python\n",
        "def subtract(a, b):\n",
        "    return a - b\n",
        "```\n",
        "\n",
        "**`main.py`**:\n",
        "```python\n",
        "from mypackage import module1, module2\n",
        "\n",
        "print(module1.add(5, 3))       # Output: 8\n",
        "print(module2.subtract(10, 4))  # Output: 6\n",
        "```"
      ]
    },
    {
      "cell_type": "markdown",
      "id": "caf2fbf4",
      "metadata": {
        "id": "caf2fbf4"
      },
      "source": [
        "## 7. Common Mistakes\n",
        "1. **File Name Conflicts**:\n",
        "   - Avoid naming your module files with names of built-in modules (e.g., `math.py`).\n",
        "\n",
        "2. **Importing Incorrectly**:\n",
        "   ```python\n",
        "   # Incorrect\n",
        "   from mymodule import greet\n",
        "   ```\n",
        "   Ensure the module file exists in the current directory or Python path.\n",
        "\n",
        "3. **Circular Imports**:\n",
        "   - Avoid modules that import each other directly or indirectly.\n",
        "   ```python\n",
        "   # module1.py\n",
        "   import module2\n",
        "\n",
        "   # module2.py\n",
        "   import module1  # Causes circular import error\n",
        "   ```"
      ]
    },
    {
      "cell_type": "markdown",
      "id": "53743495",
      "metadata": {
        "id": "53743495"
      },
      "source": [
        "## 8. Example Exercises\n",
        "1. Create a module `math_utils.py` with functions to calculate the square and cube of a number. Import and use the module in another script.\n",
        "2. Create a package `geometry` with modules `circle.py` and `rectangle.py`. Write functions to calculate the area and perimeter of circles and rectangles.\n",
        "3. Write a script to use the `os` module to list all files in a directory.\n",
        "4. Install the `requests` library and write a program to fetch and display JSON data from a public API.\n",
        "5. Create a package `text_utils` with modules for string manipulation (e.g., reversing a string, counting vowels). Import and use these modules.\n"
      ]
    }
  ],
  "metadata": {
    "colab": {
      "provenance": []
    },
    "language_info": {
      "name": "python"
    },
    "kernelspec": {
      "name": "python3",
      "display_name": "Python 3"
    }
  },
  "nbformat": 4,
  "nbformat_minor": 5
}