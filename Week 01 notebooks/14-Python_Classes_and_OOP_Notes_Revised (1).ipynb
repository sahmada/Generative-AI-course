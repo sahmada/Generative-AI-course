{
  "cells": [
    {
      "cell_type": "markdown",
      "id": "724d7930",
      "metadata": {
        "id": "724d7930"
      },
      "source": [
        "# Python Classes and Object-Oriented Programming (OOP) - Teaching Notes"
      ]
    },
    {
      "cell_type": "markdown",
      "id": "85b637e2",
      "metadata": {
        "id": "85b637e2"
      },
      "source": [
        "## 1. Definition\n",
        "- **Class**: A blueprint for creating objects (instances).\n",
        "- **Object**: An instance of a class, containing data (attributes) and behavior (methods).\n",
        "- **OOP Principles**: Encapsulation, Inheritance, Polymorphism, and Abstraction."
      ]
    },
    {
      "cell_type": "code",
      "source": [
        "class BankAccount:\n",
        "    def __init__(self, account_holder, balance=0):\n",
        "        self.account_holder = account_holder\n",
        "        self.balance = balance\n",
        "\n",
        "    def deposit(self, amount):\n",
        "        self.balance += amount\n",
        "        print(f\"Deposited ${amount}. New balance: ${self.balance}\")\n",
        "\n",
        "    def withdraw(self, amount):\n",
        "        if amount > self.balance:\n",
        "            print(\"Insufficient funds!\")\n",
        "        else:\n",
        "            self.balance -= amount\n",
        "            print(f\"Withdrew ${amount}. New balance: ${self.balance}\")\n",
        "\n",
        "    def check_balance(self):\n",
        "        print(f\"Balance: ${self.balance}\")\n",
        "\n",
        "# Using the class\n",
        "account = BankAccount(\"Alice\", 100)\n",
        "# account.deposit(50)\n",
        "# account.withdraw(30)\n",
        "# account.check_balance()"
      ],
      "metadata": {
        "id": "G3uhA_DoDfCG"
      },
      "id": "G3uhA_DoDfCG",
      "execution_count": null,
      "outputs": []
    },
    {
      "cell_type": "code",
      "source": [
        "account.deposit(50)\n",
        "print(account.balance)"
      ],
      "metadata": {
        "colab": {
          "base_uri": "https://localhost:8080/"
        },
        "id": "c_h9giaQDmUM",
        "outputId": "558b2bf9-22e2-40b9-bc4f-75fcf006a481"
      },
      "id": "c_h9giaQDmUM",
      "execution_count": null,
      "outputs": [
        {
          "output_type": "stream",
          "name": "stdout",
          "text": [
            "Deposited $50. New balance: $150\n",
            "150\n"
          ]
        }
      ]
    },
    {
      "cell_type": "code",
      "source": [
        "account_2 = BankAccount(\"Bob\", 200)\n"
      ],
      "metadata": {
        "id": "4OGeKxseDrwQ"
      },
      "id": "4OGeKxseDrwQ",
      "execution_count": null,
      "outputs": []
    },
    {
      "cell_type": "code",
      "source": [
        "account_2.deposit(500)\n",
        "print(account_2.balance)\n",
        "account_2.balance"
      ],
      "metadata": {
        "colab": {
          "base_uri": "https://localhost:8080/"
        },
        "id": "Qg80Y1BjDv4i",
        "outputId": "a1056b71-d9aa-47c4-b937-cd46fde6466f"
      },
      "id": "Qg80Y1BjDv4i",
      "execution_count": null,
      "outputs": [
        {
          "output_type": "stream",
          "name": "stdout",
          "text": [
            "Deposited $500. New balance: $700\n",
            "700\n"
          ]
        },
        {
          "output_type": "execute_result",
          "data": {
            "text/plain": [
              "700"
            ]
          },
          "metadata": {},
          "execution_count": 6
        }
      ]
    },
    {
      "cell_type": "markdown",
      "id": "c61eb2b6",
      "metadata": {
        "id": "c61eb2b6"
      },
      "source": [
        "## 2. Syntax for Classes\n",
        "```python\n",
        "class ClassName:\n",
        "    def __init__(self, attribute1, attribute2):\n",
        "        # Constructor to initialize attributes\n",
        "        self.attribute1 = attribute1\n",
        "        self.attribute2 = attribute2\n",
        "\n",
        "    def method_name(self):\n",
        "        # Method to define behavior\n",
        "        pass\n",
        "\n",
        "# Creating an object\n",
        "obj = ClassName(value1, value2)\n",
        "```"
      ]
    },
    {
      "cell_type": "markdown",
      "id": "2a67733f",
      "metadata": {
        "id": "2a67733f"
      },
      "source": [
        "### Example: Bank Account Class\n",
        "```python\n",
        "class BankAccount:\n",
        "    def __init__(self, account_holder, balance=0):\n",
        "        self.account_holder = account_holder\n",
        "        self.balance = balance\n",
        "\n",
        "    def deposit(self, amount):\n",
        "        self.balance += amount\n",
        "        print(f\"Deposited ${amount}. New balance: ${self.balance}\")\n",
        "\n",
        "    def withdraw(self, amount):\n",
        "        if amount > self.balance:\n",
        "            print(\"Insufficient funds!\")\n",
        "        else:\n",
        "            self.balance -= amount\n",
        "            print(f\"Withdrew ${amount}. New balance: ${self.balance}\")\n",
        "\n",
        "    def check_balance(self):\n",
        "        print(f\"Balance: ${self.balance}\")\n",
        "\n",
        "# Using the class\n",
        "account = BankAccount(\"Alice\", 100)\n",
        "account.deposit(50)\n",
        "account.withdraw(30)\n",
        "account.check_balance()\n",
        "```"
      ]
    },
    {
      "cell_type": "code",
      "source": [
        "class MyClass:\n",
        "    class_attribute = \"I am shared across all instances\"\n",
        "\n",
        "    def __init__(self, instance_attribute):\n",
        "        self.instance_attribute = instance_attribute\n",
        "\n",
        "obj1 = MyClass(\"I belong to obj1\")\n",
        "obj2 = MyClass(\"I belong to obj2\")\n",
        "\n",
        "print(obj2.class_attribute)  # Output: I am shared across all instances\n",
        "print(obj2.instance_attribute)  # Output: I belong to obj1"
      ],
      "metadata": {
        "colab": {
          "base_uri": "https://localhost:8080/"
        },
        "id": "6Vd7CxXEEPLl",
        "outputId": "fd7d1b7d-4f47-4983-8cb7-ea444c54c699"
      },
      "id": "6Vd7CxXEEPLl",
      "execution_count": null,
      "outputs": [
        {
          "output_type": "stream",
          "name": "stdout",
          "text": [
            "I am shared across all instances\n",
            "I belong to obj2\n"
          ]
        }
      ]
    },
    {
      "cell_type": "markdown",
      "id": "0c1cb636",
      "metadata": {
        "id": "0c1cb636"
      },
      "source": [
        "## 3. Class Attributes and Methods\n",
        "- **Instance Attributes**: Belong to an object and defined in the constructor (`__init__`).\n",
        "- **Class Attributes**: Shared across all objects, defined outside `__init__`.\n",
        "\n",
        "**Example**:\n",
        "```python\n",
        "class MyClass:\n",
        "    class_attribute = \"I am shared across all instances\"\n",
        "\n",
        "    def __init__(self, instance_attribute):\n",
        "        self.instance_attribute = instance_attribute\n",
        "\n",
        "obj1 = MyClass(\"I belong to obj1\")\n",
        "obj2 = MyClass(\"I belong to obj2\")\n",
        "\n",
        "print(obj1.class_attribute)  # Output: I am shared across all instances\n",
        "print(obj1.instance_attribute)  # Output: I belong to obj1\n",
        "```"
      ]
    },
    {
      "cell_type": "markdown",
      "id": "04ca1f0a",
      "metadata": {
        "id": "04ca1f0a"
      },
      "source": [
        "## 4. Class Methods\n",
        "- **Class methods** are methods that operate on the class itself rather than on specific instances.\n",
        "- They are defined using the `@classmethod` decorator and take `cls` (class) as their first parameter.\n",
        "\n",
        "**Example**:\n",
        "```python\n",
        "class Example:\n",
        "    count = 0  # Class attribute\n",
        "\n",
        "    @classmethod\n",
        "    def increment_count(cls):\n",
        "        cls.count += 1\n",
        "        print(f\"Count is now: {cls.count}\")\n",
        "\n",
        "# Using the class method\n",
        "Example.increment_count()  # Output: Count is now: 1\n",
        "Example.increment_count()  # Output: Count is now: 2\n",
        "```"
      ]
    },
    {
      "cell_type": "code",
      "source": [
        "class Example:\n",
        "    count = 0  # Class attribute\n",
        "\n",
        "    @classmethod\n",
        "    def increment_count(cls):\n",
        "        cls.count += 1\n",
        "        print(f\"Count is now: {cls.count}\")\n",
        "\n",
        "# Using the class method\n",
        "Example.increment_count()  # Output: Count is now: 1\n",
        "Example.increment_count()  # Output:"
      ],
      "metadata": {
        "colab": {
          "base_uri": "https://localhost:8080/"
        },
        "id": "jGzVGzvBFALQ",
        "outputId": "76e24ea8-112b-4677-f949-a71a23ea8956"
      },
      "id": "jGzVGzvBFALQ",
      "execution_count": null,
      "outputs": [
        {
          "output_type": "stream",
          "name": "stdout",
          "text": [
            "Count is now: 1\n",
            "Count is now: 2\n"
          ]
        }
      ]
    },
    {
      "cell_type": "code",
      "source": [
        "obj1= Example()"
      ],
      "metadata": {
        "id": "AnDYNO4hFDS2"
      },
      "id": "AnDYNO4hFDS2",
      "execution_count": null,
      "outputs": []
    }
  ],
  "metadata": {
    "colab": {
      "provenance": []
    },
    "language_info": {
      "name": "python"
    },
    "kernelspec": {
      "name": "python3",
      "display_name": "Python 3"
    }
  },
  "nbformat": 4,
  "nbformat_minor": 5
}