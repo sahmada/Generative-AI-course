{
  "nbformat": 4,
  "nbformat_minor": 0,
  "metadata": {
    "colab": {
      "provenance": []
    },
    "kernelspec": {
      "name": "python3",
      "display_name": "Python 3"
    },
    "language_info": {
      "name": "python"
    }
  },
  "cells": [
    {
      "cell_type": "code",
      "execution_count": null,
      "metadata": {
        "id": "hObPB51wsHwX"
      },
      "outputs": [],
      "source": []
    },
    {
      "cell_type": "markdown",
      "source": [
        "### What is a Database?\n",
        "\n",
        "A **database** is an organized collection of data that can be easily accessed, managed, and updated. Databases are used to store, retrieve, and manipulate large amounts of structured or unstructured data. The data is typically stored in tables, and the system managing the data is known as a **Database Management System (DBMS)**. Popular types of databases include **Relational Databases (RDBMS)** like MySQL, PostgreSQL, and SQLite, and **NoSQL databases** like MongoDB and Cassandra.\n"
      ],
      "metadata": {
        "id": "iUrefVffXTr4"
      }
    },
    {
      "cell_type": "markdown",
      "source": [
        "### Introduction to Relational Databases and SQL\n",
        "\n",
        "A **Relational Database (RDB)** is a system for storing and managing data in structured tables consisting of rows and columns. Each table represents an entity, with columns defining attributes and rows containing individual records. Relationships between tables are established using keys, ensuring data integrity and efficient retrieval.  \n",
        "\n",
        "To interact with relational databases, we use **SQL (Structured Query Language)**. SQL is a standardized language designed for managing and manipulating relational databases. It allows users to perform various operations such as querying data, updating records, and defining database schemas.  \n"
      ],
      "metadata": {
        "id": "gR_0uNgZQUP0"
      }
    },
    {
      "cell_type": "markdown",
      "source": [
        "### Tables with Sample Records\n",
        "\n",
        "**Customers Table**\n",
        "\n",
        "| customer_id | name            | email                        |\n",
        "|-------------|-----------------|------------------------------|\n",
        "| 1           | Alice Johnson   | alice.johnson@example.com     |\n",
        "| 2           | Bob Smith       | bob.smith@example.com        |\n",
        "| 3           | Charlie Davis   | charlie.davis@example.com    |\n",
        "\n",
        "**Orders Table**\n",
        "\n",
        "| order_id | order_date | customer_id |\n",
        "|----------|------------|-------------|\n",
        "| 1001     | 2025-01-01 | 1           |\n",
        "| 1002     | 2025-01-02 | 1           |\n",
        "| 1003     | 2025-01-03 | 2           |\n",
        "\n",
        "**Products Table**\n",
        "\n",
        "| product_id | product_name | price  |\n",
        "|------------|--------------|--------|\n",
        "| 1          | Laptop       | 999.99 |\n",
        "| 2          | Smartphone   | 599.99 |\n",
        "| 3          | Headphones   | 199.99 |\n",
        "\n",
        "**Order_Items Table**\n",
        "\n",
        "| order_item_id | order_id | product_id | quantity |\n",
        "|---------------|----------|------------|----------|\n",
        "| 1             | 1001     | 1          | 1        |\n",
        "| 2             | 1001     | 2          | 2        |\n",
        "| 3             | 1002     | 3          | 1        |\n"
      ],
      "metadata": {
        "id": "F97QlkC9QNKd"
      }
    },
    {
      "cell_type": "markdown",
      "source": [
        "### Example: Creating Tables and Foreign Key Relationships\n",
        "\n",
        "Below is an example of creating tables, inserting records, and establishing foreign key relationships between `Customers`, `Orders`, `Products`, and `Order_Items` tables in SQL.\n",
        "\n",
        "```sql\n",
        "-- Create the 'Customers' table\n",
        "CREATE TABLE Customers (\n",
        "    customer_id INT PRIMARY KEY,\n",
        "    name VARCHAR(100),\n",
        "    email VARCHAR(100)\n",
        ");\n",
        "\n",
        "-- Insert records into 'Customers'\n",
        "INSERT INTO Customers (customer_id, name, email)\n",
        "VALUES\n",
        "    (1, 'Alice Johnson', 'alice.johnson@example.com'),\n",
        "    (2, 'Bob Smith', 'bob.smith@example.com'),\n",
        "    (3, 'Charlie Davis', 'charlie.davis@example.com');\n",
        "\n",
        "-- Create the 'Orders' table with a foreign key referencing 'Customers'\n",
        "CREATE TABLE Orders (\n",
        "    order_id INT PRIMARY KEY,\n",
        "    order_date DATE,\n",
        "    customer_id INT,  -- Foreign Key\n",
        "    FOREIGN KEY (customer_id) REFERENCES Customers(customer_id)\n",
        ");\n",
        "\n",
        "-- Insert records into 'Orders'\n",
        "INSERT INTO Orders (order_id, order_date, customer_id)\n",
        "VALUES\n",
        "    (1001, '2025-01-01', 1),\n",
        "    (1002, '2025-01-02', 1),\n",
        "    (1003, '2025-01-03', 2);\n",
        "\n",
        "-- Create the 'Products' table\n",
        "CREATE TABLE Products (\n",
        "    product_id INT PRIMARY KEY,\n",
        "    product_name VARCHAR(100),\n",
        "    price DECIMAL(10, 2)\n",
        ");\n",
        "\n",
        "-- Insert records into 'Products'\n",
        "INSERT INTO Products (product_id, product_name, price)\n",
        "VALUES\n",
        "    (1, 'Laptop', 999.99),\n",
        "    (2, 'Smartphone', 599.99),\n",
        "    (3, 'Headphones', 199.99);\n",
        "\n",
        "-- Create the 'Order_Items' table to establish a relationship between 'Orders' and 'Products'\n",
        "CREATE TABLE Order_Items (\n",
        "    order_item_id INT PRIMARY KEY,\n",
        "    order_id INT,   -- Foreign Key\n",
        "    product_id INT, -- Foreign Key\n",
        "    quantity INT,\n",
        "    FOREIGN KEY (order_id) REFERENCES Orders(order_id),\n",
        "    FOREIGN KEY (product_id) REFERENCES Products(product_id)\n",
        ");\n",
        "\n",
        "-- Insert records into 'Order_Items'\n",
        "INSERT INTO Order_Items (order_item_id, order_id, product_id, quantity)\n",
        "VALUES\n",
        "    (1, 1001, 1, 1),   -- Order 1001, Product 'Laptop', 1 unit\n",
        "    (2, 1001, 2, 2),   -- Order 1001, Product 'Smartphone', 2 units\n",
        "    (3, 1002, 3, 1);   -- Order 1002, Product 'Headphones', 1 unit\n"
      ],
      "metadata": {
        "id": "H2SNp6xDPjHm"
      }
    },
    {
      "cell_type": "code",
      "source": [],
      "metadata": {
        "id": "4kXi_8nkPjui"
      },
      "execution_count": null,
      "outputs": []
    },
    {
      "cell_type": "markdown",
      "source": [
        "# Understanding Graphs and Graph Databases\n",
        "\n",
        "## Introduction to Graph Databases\n",
        "\n",
        "A **Graph Database** is a type of database designed to store and manage relationships between entities in a graph-like structure. Unlike relational databases that use tables, graph databases use nodes, edges, and properties to represent and store data. This structure is ideal for scenarios that require capturing relationships and traversing them efficiently, such as social networks, recommendation engines, and fraud detection systems.\n",
        "\n",
        "In a graph database:\n",
        "- **Nodes** represent entities (e.g., users, products).\n",
        "- **Edges** represent relationships between entities (e.g., \"follows,\" \"likes\").\n",
        "- **Properties** can be added to both nodes and edges to store additional information.\n",
        "\n",
        "### Benefits of Using Graphs\n",
        "\n",
        "- **Natural Representation of Relationships:** Graphs inherently represent relationships, making them ideal for modeling interconnected data.\n",
        "- **Efficient Relationship Queries:** Graph databases can efficiently perform complex queries involving multiple relationships, which can be challenging for relational databases.\n",
        "- **Flexibility:** Graphs can easily accommodate changes in data structure without significant redesign, allowing for dynamic and evolving data models.\n",
        "\n",
        "### Applications of Graphs\n",
        "\n",
        "- **Social Networks:** Modeling relationships between individuals, such as friendships or professional connections.\n",
        "- **Recommendation Systems:** Analyzing user preferences and behaviors to suggest products or services.\n",
        "- **Fraud Detection:** Identifying suspicious patterns and anomalies in financial transactions.\n",
        "- **Supply Chain Management:** Optimizing logistics and inventory by analyzing the flow of goods and information.\n",
        "\n",
        "## Introduction to Graph Databases\n",
        "\n",
        "Graph databases are specialized systems designed to store and manage graph structures. Unlike traditional relational databases that use tables, graph databases use nodes, edges, and properties to represent and store data. This approach allows for more intuitive and efficient handling of complex, interconnected data.\n",
        "\n",
        "### Neo4j: A Leading Graph Database\n",
        "\n",
        "Neo4j is a prominent graph database management system that offers a robust platform for building and deploying graph-based applications. It provides a flexible and scalable environment for managing connected data, making it a popular choice for various applications. :contentReference[oaicite:1]{index=1}\n",
        "\n",
        "#### Key Features of Neo4j\n",
        "\n",
        "- **Native Graph Storage:** Neo4j stores data as a graph, ensuring efficient storage and retrieval of connected data.\n",
        "- **ACID Compliance:** It supports ACID (Atomicity, Consistency, Isolation, Durability) transactions, ensuring data integrity and reliability.\n",
        "- **Cypher Query Language:** Neo4j uses Cypher, a declarative query language designed for querying graph data, making it intuitive and powerful.\n",
        "- **Scalability:** It is designed to handle large-scale graph data, supporting both vertical and horizontal scaling.\n",
        "\n",
        "#### Benefits of Using Neo4j\n",
        "\n",
        "- **Performance:** Neo4j can execute complex graph queries up to 1000x faster than relational databases, thanks to its native graph storage and index-free adjacency. :contentReference[oaicite:2]{index=2}\n",
        "- **Flexibility:** It allows for schema-less data modeling, enabling rapid development and iteration.\n",
        "- **Rich Ecosystem:** Neo4j offers a comprehensive set of tools and libraries, including visualization tools like Neo4j Bloom and integration with various programming languages.\n",
        "\n",
        "#### Use Cases for Neo4j\n",
        "\n",
        "- **Social Networks:** Modeling and analyzing social interactions and relationships.\n",
        "- **Recommendation Engines:** Providing personalized recommendations based on user behavior and preferences.\n",
        "- **Network and IT Operations:** Managing and optimizing complex networks, including telecommunications and IT infrastructure.\n",
        "- **Knowledge Graphs:** Building interconnected data models to represent and query knowledge bases.\n",
        "\n",
        "## Conclusion\n",
        "\n",
        "Graphs provide a powerful and intuitive way to represent and analyze interconnected data. Graph databases like Neo4j offer specialized tools and features to efficiently manage and query this data, making them invaluable in various applications ranging from social networks to fraud detection.\n",
        "\n",
        "For a comprehensive overview and practical examples of using Neo4j, you might find the following video helpful:\n",
        "\n"
      ],
      "metadata": {
        "id": "8iFEs5aDZDBM"
      }
    },
    {
      "cell_type": "markdown",
      "source": [
        "\n",
        "\n",
        "### Scenario: Instagram Following Relationship\n",
        "\n",
        "Let's consider a scenario where users follow each other on Instagram. We will represent the following relationship between users as a graph.\n",
        "\n",
        "- Each **User** will be a **Node**.\n",
        "- The relationship between a **User** following another **User** will be an **Edge** labeled \"FOLLOWS\".\n",
        "- We'll store the **User**'s username and follower count as properties of the **Node**.\n",
        "\n",
        "### Graph Structure\n",
        "\n",
        "**Nodes (Users):**\n",
        "- `User 1`: \"alice_johnson\", follower count = 1000\n",
        "- `User 2`: \"bob_smith\", follower count = 500\n",
        "- `User 3`: \"charlie_davis\", follower count = 800\n",
        "- `User 4`: \"david_clark\", follower count = 300\n",
        "\n",
        "**Edges (Follow Relationships):**\n",
        "- `alice_johnson` follows `bob_smith`\n",
        "- `bob_smith` follows `charlie_davis`\n",
        "- `charlie_davis` follows `alice_johnson`\n",
        "- `alice_johnson` follows `david_clark`\n",
        "\n",
        "### Example: Creating Nodes and Relationships in a Graph Database\n",
        "\n",
        "Below is an example of how you might represent and query this data in a graph database like **Neo4j** using Cypher query language.\n",
        "\n",
        "```cypher\n",
        "// Create User nodes\n",
        "CREATE (u1:User {username: 'alice_johnson', follower_count: 1000})\n",
        "CREATE (u2:User {username: 'bob_smith', follower_count: 500})\n",
        "CREATE (u3:User {username: 'charlie_davis', follower_count: 800})\n",
        "CREATE (u4:User {username: 'david_clark', follower_count: 300})\n",
        "\n",
        "// Create FOLLOWS relationships\n",
        "CREATE (u1)-[:FOLLOWS]->(u2)  // alice_johnson follows bob_smith\n",
        "CREATE (u2)-[:FOLLOWS]->(u3)  // bob_smith follows charlie_davis\n",
        "CREATE (u3)-[:FOLLOWS]->(u1)  // charlie_davis follows alice_johnson\n",
        "CREATE (u1)-[:FOLLOWS]->(u4)  // alice_johnson follows david_clark\n",
        "\n",
        "// Query to get who follows whom\n",
        "MATCH (u:User)-[:FOLLOWS]->(follower:User)\n",
        "RETURN u.username AS 'Follower', follower.username AS 'Following'\n",
        "\n",
        "// Query to find mutual followers\n",
        "MATCH (u1:User)-[:FOLLOWS]->(u2:User), (u2)-[:FOLLOWS]->(u1)\n",
        "RETURN u1.username AS 'Mutual Follower 1', u2.username AS 'Mutual Follower 2'\n"
      ],
      "metadata": {
        "id": "USJWuyewYekP"
      }
    },
    {
      "cell_type": "code",
      "source": [],
      "metadata": {
        "id": "1-WxlueMYfYu"
      },
      "execution_count": null,
      "outputs": []
    },
    {
      "cell_type": "markdown",
      "source": [
        "| Feature                 | Relational Databases (RDB)                                                                 | Graph Databases (GDB)                                                                 |\n",
        "|-------------------------|--------------------------------------------------------------------------------------------|---------------------------------------------------------------------------------------|\n",
        "| **Data Model**          | Structured tables with rows and columns; relationships defined via foreign keys.           | Nodes (entities) and edges (relationships) with properties; flexible schema.         |\n",
        "| **Schema**              | Fixed schema; changes can be complex and may require data migration.                       | Flexible schema; can adapt to evolving data structures without major changes.        |\n",
        "| **Query Language**      | Structured Query Language (SQL) for data manipulation and retrieval.                       | Graph-specific query languages (e.g., Cypher, Gremlin) designed for traversing graphs.|\n",
        "| **Performance**         | Efficient for simple queries and transactions; performance may degrade with complex joins. | Optimized for traversing complex relationships; performs well with interconnected data.|\n",
        "| **Scalability**         | Vertical scaling; can become complex and costly with large datasets.                       | Horizontal scaling; designed to handle large, complex, and interconnected datasets.   |\n",
        "| **Use Cases**           | - Financial systems<br>- Inventory management<br>- Customer Relationship Management (CRM) | - Social networks<br>- Recommendation engines<br>- Fraud detection<br>- Network analysis |\n",
        "| **Examples**            | - MySQL<br>- PostgreSQL<br>- Oracle Database                                                | - Neo4j<br>- Amazon Neptune<br>- ArangoDB                                              |\n"
      ],
      "metadata": {
        "id": "qWJmUyOFZihD"
      }
    },
    {
      "cell_type": "code",
      "source": [],
      "metadata": {
        "id": "tBm1p1-MZi--"
      },
      "execution_count": null,
      "outputs": []
    }
  ]
}