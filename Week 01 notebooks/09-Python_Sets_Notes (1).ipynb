{
  "cells": [
    {
      "cell_type": "markdown",
      "id": "d171194d",
      "metadata": {
        "id": "d171194d"
      },
      "source": [
        "# Python Sets - Teaching Notes"
      ]
    },
    {
      "cell_type": "code",
      "source": [
        "my_set = {1, 2, 3, 4, 4}\n",
        "\n",
        "my_set"
      ],
      "metadata": {
        "colab": {
          "base_uri": "https://localhost:8080/"
        },
        "id": "olJmyX9VfrsB",
        "outputId": "00fca794-0cb3-4519-c4e1-c345acc2d1a8"
      },
      "id": "olJmyX9VfrsB",
      "execution_count": null,
      "outputs": [
        {
          "output_type": "execute_result",
          "data": {
            "text/plain": [
              "{1, 2, 3, 4}"
            ]
          },
          "metadata": {},
          "execution_count": 3
        }
      ]
    },
    {
      "cell_type": "markdown",
      "id": "290fb73e",
      "metadata": {
        "id": "290fb73e"
      },
      "source": [
        "## 1. Definition\n",
        "- A **set** is an unordered collection of unique items in Python.\n",
        "- Sets are mutable but cannot contain mutable elements like lists.\n",
        "- Useful for operations involving uniqueness or mathematical set operations."
      ]
    },
    {
      "cell_type": "code",
      "source": [
        "my_set = {1, 2, 3, 4, 4 ,4 , 4}\n",
        "# empty_set = set()  #\n",
        "print(my_set)"
      ],
      "metadata": {
        "colab": {
          "base_uri": "https://localhost:8080/"
        },
        "id": "zl_Q3x70-oLs",
        "outputId": "54c9179b-0fbb-4ace-e078-4ddff4d94ad4"
      },
      "id": "zl_Q3x70-oLs",
      "execution_count": null,
      "outputs": [
        {
          "output_type": "stream",
          "name": "stdout",
          "text": [
            "{1, 2, 3, 4}\n"
          ]
        }
      ]
    },
    {
      "cell_type": "code",
      "source": [
        "my_set = {}\n",
        "type(my_set)"
      ],
      "metadata": {
        "colab": {
          "base_uri": "https://localhost:8080/"
        },
        "id": "aZZT5uGa-tMv",
        "outputId": "ad4ee157-c091-4f57-c19e-254811a40db2"
      },
      "id": "aZZT5uGa-tMv",
      "execution_count": null,
      "outputs": [
        {
          "output_type": "execute_result",
          "data": {
            "text/plain": [
              "dict"
            ]
          },
          "metadata": {},
          "execution_count": 2
        }
      ]
    },
    {
      "cell_type": "markdown",
      "id": "8d79e151",
      "metadata": {
        "id": "8d79e151"
      },
      "source": [
        "## 2. Syntax\n",
        "```python\n",
        "# Creating sets\n",
        "my_set = {1, 2, 3, 4}\n",
        "empty_set = set()  # Note: {} creates an empty dictionary, not a set\n",
        "```"
      ]
    },
    {
      "cell_type": "markdown",
      "id": "20e6d891",
      "metadata": {
        "id": "20e6d891"
      },
      "source": [
        "## 3. Key Features\n",
        "- **Unordered**: No guaranteed order of elements.\n",
        "- **Unique Elements**: Duplicate values are automatically removed.\n",
        "- **Mutable**: Sets can be modified (add/remove elements), but the elements themselves must be immutable."
      ]
    },
    {
      "cell_type": "code",
      "source": [
        "my_set = {1, 2, 3}\n",
        "my_set.add(4)  # Adds an element\n",
        "# my_set.remove(5)  # Removes an element; raises KeyError if not found\n",
        "my_set.discard(5)  # Removes an element; does nothing if not found\n",
        "print(my_set)  # O"
      ],
      "metadata": {
        "colab": {
          "base_uri": "https://localhost:8080/"
        },
        "id": "HE0e-csC_H5U",
        "outputId": "e918afed-081c-470c-bee8-da429dc2acbb"
      },
      "id": "HE0e-csC_H5U",
      "execution_count": null,
      "outputs": [
        {
          "output_type": "stream",
          "name": "stdout",
          "text": [
            "{1, 2, 3, 4}\n"
          ]
        }
      ]
    },
    {
      "cell_type": "markdown",
      "id": "994af796",
      "metadata": {
        "id": "994af796"
      },
      "source": [
        "## 4. Common Operations\n",
        "**Adding and Removing Elements**\n",
        "```python\n",
        "my_set = {1, 2, 3}\n",
        "my_set.add(4)  # Adds an element\n",
        "my_set.remove(2)  # Removes an element; raises KeyError if not found\n",
        "my_set.discard(5)  # Removes an element; does nothing if not found\n",
        "print(my_set)  # Output: {1, 3, 4}\n",
        "```\n",
        "\n",
        "**Membership Testing**\n",
        "```python\n",
        "print(3 in my_set)   # Output: True\n",
        "print(5 in my_set)   # Output: False\n",
        "```\n",
        "\n",
        "**Clearing a Set**\n",
        "```python\n",
        "my_set.clear()  # Removes all elements\n",
        "print(my_set)  # Output: set()\n",
        "```"
      ]
    },
    {
      "cell_type": "markdown",
      "id": "bc5099c7",
      "metadata": {
        "id": "bc5099c7"
      },
      "source": [
        "## 5. Set Operations\n",
        "| Operation         | Description                         | Example                                | Output             |\n",
        "|-------------------|-------------------------------------|----------------------------------------|--------------------|\n",
        "| `union()`         | Combines elements from two sets     | `{1, 2}.union({2, 3})`                 | `{1, 2, 3}`        |\n",
        "| `intersection()`  | Elements common to both sets       | `{1, 2}.intersection({2, 3})`          | `{2}`              |\n",
        "| `difference()`    | Elements in one set but not the other | `{1, 2}.difference({2, 3})`        | `{1}`              |\n",
        "| `symmetric_difference()` | Elements in either set but not both | `{1, 2}.symmetric_difference({2, 3})` | `{1, 3}`           |\n",
        "| `issubset()`      | Checks if one set is a subset of another | `{1, 2}.issubset({1, 2, 3})`        | `True`             |\n",
        "| `issuperset()`    | Checks if one set is a superset of another | `{1, 2, 3}.issuperset({1, 2})`      | `True`             |"
      ]
    },
    {
      "cell_type": "markdown",
      "id": "abfa2db3",
      "metadata": {
        "id": "abfa2db3"
      },
      "source": [
        "## 6. Looping Through a Set\n",
        "Since sets are unordered, elements are iterated in an arbitrary order.\n",
        "```python\n",
        "my_set = {1, 2, 3, 4}\n",
        "for item in my_set:\n",
        "    print(item)\n",
        "```"
      ]
    },
    {
      "cell_type": "markdown",
      "id": "f4d8d31d",
      "metadata": {
        "id": "f4d8d31d"
      },
      "source": [
        "## 7. Common Mistakes\n",
        "1. **Using Curly Braces for an Empty Set**:\n",
        "   ```python\n",
        "   empty_set = {}  # Creates an empty dictionary, not a set\n",
        "   empty_set = set()  # Correct way to create an empty set\n",
        "   ```\n",
        "\n",
        "2. **Accessing Elements by Index**:\n",
        "   ```python\n",
        "   my_set = {1, 2, 3}\n",
        "   print(my_set[0])  # TypeError: 'set' object is not subscriptable\n",
        "   ```\n",
        "\n",
        "3. **Modifying Elements**:\n",
        "   ```python\n",
        "   my_set = {1, 2, 3}\n",
        "   my_set[0] = 10  # TypeError: 'set' object does not support item assignment\n",
        "   ```"
      ]
    },
    {
      "cell_type": "code",
      "source": [
        "my_tuple = (1,3,5) * 10"
      ],
      "metadata": {
        "id": "p-I8F56naZoN"
      },
      "id": "p-I8F56naZoN",
      "execution_count": null,
      "outputs": []
    },
    {
      "cell_type": "code",
      "source": [
        "list(set(my_tuple))"
      ],
      "metadata": {
        "colab": {
          "base_uri": "https://localhost:8080/"
        },
        "id": "vt3ULT3wgTON",
        "outputId": "1070bda1-e49e-4931-db22-111ed1c2b416"
      },
      "id": "vt3ULT3wgTON",
      "execution_count": null,
      "outputs": [
        {
          "output_type": "execute_result",
          "data": {
            "text/plain": [
              "[1, 3, 5]"
            ]
          },
          "metadata": {},
          "execution_count": 8
        }
      ]
    },
    {
      "cell_type": "code",
      "source": [],
      "metadata": {
        "id": "noTi92_8gUAK"
      },
      "id": "noTi92_8gUAK",
      "execution_count": null,
      "outputs": []
    }
  ],
  "metadata": {
    "colab": {
      "provenance": []
    },
    "language_info": {
      "name": "python"
    },
    "kernelspec": {
      "name": "python3",
      "display_name": "Python 3"
    }
  },
  "nbformat": 4,
  "nbformat_minor": 5
}