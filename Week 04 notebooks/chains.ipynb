{
  "cells": [
    {
      "cell_type": "markdown",
      "metadata": {
        "id": "i46NG74TKx8o"
      },
      "source": [
        "Chains allow us to combine multiple components together to create a single, coherent application\n"
      ]
    },
    {
      "cell_type": "code",
      "execution_count": null,
      "metadata": {
        "id": "lp-jHfgrPbzu"
      },
      "outputs": [],
      "source": [
        "!pip install -q  langchain-openai langchain_community tiktoken langchain\n"
      ]
    },
    {
      "cell_type": "code",
      "execution_count": null,
      "metadata": {
        "id": "deXkfUwPNVxT"
      },
      "outputs": [],
      "source": [
        "from google.colab import userdata\n",
        "openai_api_key = userdata.get('openai_api_key')\n",
        "from IPython.display import display, Markdown\n"
      ]
    },
    {
      "cell_type": "code",
      "execution_count": null,
      "metadata": {
        "id": "CuelJK2qKy-h"
      },
      "outputs": [],
      "source": [
        "from langchain_openai import ChatOpenAI\n",
        "from langchain.prompts import PromptTemplate\n",
        "\n",
        "llm = ChatOpenAI(openai_api_key=openai_api_key,model='gpt-4o-mini' ,temperature=0)\n",
        "template = \"What is the best name for a company that makes {product}?\"\n",
        "prompt = PromptTemplate.from_template(template)"
      ]
    },
    {
      "cell_type": "code",
      "source": [
        "prompt.format(product=\"colorful socks\")"
      ],
      "metadata": {
        "colab": {
          "base_uri": "https://localhost:8080/",
          "height": 35
        },
        "id": "1tD06doIvEHM",
        "outputId": "75263049-f51e-4b45-c892-16e16ef22ef2"
      },
      "execution_count": null,
      "outputs": [
        {
          "output_type": "execute_result",
          "data": {
            "text/plain": [
              "'What is the best name for a company that makes colorful socks?'"
            ],
            "application/vnd.google.colaboratory.intrinsic+json": {
              "type": "string"
            }
          },
          "metadata": {},
          "execution_count": 75
        }
      ]
    },
    {
      "cell_type": "code",
      "source": [
        "llm.invoke(prompt.format(product=\"colorful socks\"))"
      ],
      "metadata": {
        "id": "pKjmyh_ygD1V",
        "colab": {
          "base_uri": "https://localhost:8080/"
        },
        "outputId": "3b0605d5-45e8-4723-f211-edb1c31a8edd"
      },
      "execution_count": null,
      "outputs": [
        {
          "output_type": "execute_result",
          "data": {
            "text/plain": [
              "AIMessage(content=\"Here are some creative name ideas for a company that makes colorful socks:\\n\\n1. **Sock Spectrum**\\n2. **Vibrant Soles**\\n3. **ColorPop Socks**\\n4. **Rainbow Threads**\\n5. **Sassy Socks Co.**\\n6. **Chroma Socks**\\n7. **Happy Feet Fabrics**\\n8. **Sock It to Me**\\n9. **Dazzle Socks**\\n10. **Funky Footwear**\\n\\nChoose a name that resonates with your brand's personality and target audience!\", additional_kwargs={'refusal': None}, response_metadata={'token_usage': {'completion_tokens': 105, 'prompt_tokens': 20, 'total_tokens': 125, 'completion_tokens_details': {'accepted_prediction_tokens': 0, 'audio_tokens': 0, 'reasoning_tokens': 0, 'rejected_prediction_tokens': 0}, 'prompt_tokens_details': {'audio_tokens': 0, 'cached_tokens': 0}}, 'model_name': 'gpt-4o-mini-2024-07-18', 'system_fingerprint': 'fp_13eed4fce1', 'finish_reason': 'stop', 'logprobs': None}, id='run-58947364-460a-48ef-81c9-4c2219d04c86-0', usage_metadata={'input_tokens': 20, 'output_tokens': 105, 'total_tokens': 125, 'input_token_details': {'audio': 0, 'cache_read': 0}, 'output_token_details': {'audio': 0, 'reasoning': 0}})"
            ]
          },
          "metadata": {},
          "execution_count": 76
        }
      ]
    },
    {
      "cell_type": "code",
      "source": [
        "chain = prompt | llm"
      ],
      "metadata": {
        "id": "bwKGg0_Jf7lS"
      },
      "execution_count": null,
      "outputs": []
    },
    {
      "cell_type": "code",
      "execution_count": null,
      "metadata": {
        "id": "Gze7YvJHPvKF",
        "colab": {
          "base_uri": "https://localhost:8080/"
        },
        "outputId": "290dbe55-ddaa-402e-c20b-6d7d34c2c3eb"
      },
      "outputs": [
        {
          "output_type": "execute_result",
          "data": {
            "text/plain": [
              "AIMessage(content=\"Here are some creative name ideas for a company that makes colorful socks:\\n\\n1. **Sock Spectrum**\\n2. **Vibrant Soles**\\n3. **ColorPop Socks**\\n4. **Rainbow Threads**\\n5. **Sassy Socks Co.**\\n6. **Chroma Socks**\\n7. **Happy Feet Fabrics**\\n8. **Sock It to Me**\\n9. **Dazzle Socks**\\n10. **Funky Footwear**\\n\\nChoose a name that resonates with your brand's personality and target audience!\", additional_kwargs={'refusal': None}, response_metadata={'token_usage': {'completion_tokens': 105, 'prompt_tokens': 20, 'total_tokens': 125, 'completion_tokens_details': {'accepted_prediction_tokens': 0, 'audio_tokens': 0, 'reasoning_tokens': 0, 'rejected_prediction_tokens': 0}, 'prompt_tokens_details': {'audio_tokens': 0, 'cached_tokens': 0}}, 'model_name': 'gpt-4o-mini-2024-07-18', 'system_fingerprint': 'fp_13eed4fce1', 'finish_reason': 'stop', 'logprobs': None}, id='run-4b191bbd-a49d-460c-b8b0-3ed9bcfe7cf8-0', usage_metadata={'input_tokens': 20, 'output_tokens': 105, 'total_tokens': 125, 'input_token_details': {'audio': 0, 'cache_read': 0}, 'output_token_details': {'audio': 0, 'reasoning': 0}})"
            ]
          },
          "metadata": {},
          "execution_count": 78
        }
      ],
      "source": [
        "chain.invoke({'product':\"colorful socks\"})"
      ]
    },
    {
      "cell_type": "code",
      "execution_count": null,
      "metadata": {
        "id": "JmSYBqAoLIhj"
      },
      "outputs": [],
      "source": [
        "from langchain.prompts import PromptTemplate\n",
        "template = \"\"\"\n",
        " Please translate the following word from {input_language} to {output_language}\n",
        " word: {word}\n",
        " Answer: ?\"\"\"\n",
        "prompt = PromptTemplate(template=template, input_variables=[\"input_language\", 'output_language', 'word'])\n"
      ]
    },
    {
      "cell_type": "code",
      "source": [
        "prompt | llm"
      ],
      "metadata": {
        "id": "WRUjuKj33TuV"
      },
      "execution_count": null,
      "outputs": []
    },
    {
      "cell_type": "code",
      "source": [
        "translator_chain = prompt | llm | StrOutputParser()\n",
        "translator_chain.invoke({'input_language':'English', 'output_language':'Farsi', 'word':\"Hypothesis\"})"
      ],
      "metadata": {
        "id": "8FSIN5cIlPRP",
        "colab": {
          "base_uri": "https://localhost:8080/",
          "height": 35
        },
        "outputId": "7e0f5c08-2059-4400-8c7b-89e67dde3715"
      },
      "execution_count": null,
      "outputs": [
        {
          "output_type": "execute_result",
          "data": {
            "text/plain": [
              "'The translation of \"Hypothesis\" in Farsi is \"فرضیه\" (pronounced: farziyeh).'"
            ],
            "application/vnd.google.colaboratory.intrinsic+json": {
              "type": "string"
            }
          },
          "metadata": {},
          "execution_count": 80
        }
      ]
    },
    {
      "cell_type": "code",
      "source": [
        "chain = prompt | llm | StrOutputParser()"
      ],
      "metadata": {
        "id": "RtblAV-k4MxB"
      },
      "execution_count": null,
      "outputs": []
    },
    {
      "cell_type": "code",
      "source": [],
      "metadata": {
        "id": "1178QxV3wABO"
      },
      "execution_count": null,
      "outputs": []
    },
    {
      "cell_type": "code",
      "source": [
        "inputs = [\n",
        "    {'input_language':'English', 'output_language':'Farsi', 'word':\"Hypothesis\"},\n",
        "    {'input_language':'Farsi', 'output_language':'Arabic', 'word':\"درخت\"}\n",
        "         ]\n",
        "response = translator_chain.batch(inputs)\n",
        "response"
      ],
      "metadata": {
        "colab": {
          "base_uri": "https://localhost:8080/"
        },
        "id": "kaOGZ43DrFke",
        "outputId": "907d36ed-5444-4474-9562-b685ee91255e"
      },
      "execution_count": null,
      "outputs": [
        {
          "output_type": "execute_result",
          "data": {
            "text/plain": [
              "['The translation of \"Hypothesis\" in Farsi is \"فرضیه\" (pronounced: farziyeh).',\n",
              " 'The word \"درخت\" in Farsi translates to \"شجرة\" in Arabic.']"
            ]
          },
          "metadata": {},
          "execution_count": 82
        }
      ]
    },
    {
      "cell_type": "code",
      "source": [
        "from langchain_core.output_parsers import StrOutputParser\n",
        "prompt = PromptTemplate(template=\"\"\"you are a helpful assistant, answer {question} honestly, and if you do not know the answer, just say 'i do not know'\"\"\", input_variables=['question'])\n",
        "chain = prompt | llm | StrOutputParser()\n",
        "chain.invoke({'question':'who was Amirkabir?'})"
      ],
      "metadata": {
        "id": "TFK50M6Rlq7d",
        "colab": {
          "base_uri": "https://localhost:8080/",
          "height": 157
        },
        "outputId": "9775b45c-0677-40a1-9d0c-7e73695ad12b"
      },
      "execution_count": null,
      "outputs": [
        {
          "output_type": "execute_result",
          "data": {
            "text/plain": [
              "'Amirkabir, also known as Mirza Taghi Khan Farahani, was a prominent Iranian statesman and reformer in the 19th century. He served as the Prime Minister of Persia (Iran) under Shah Naser al-Din Shah Qajar from 1848 to 1851. Amirkabir is known for his efforts to modernize Iran, including reforms in education, military, and administration. He established the Dar al-Funun, the first modern university in Iran, and worked to reduce foreign influence in the country. His tenure was marked by significant opposition, and he was ultimately assassinated in 1851 due to political rivalries. Amirkabir is often remembered as a national hero for his vision of a modern and independent Iran.'"
            ],
            "application/vnd.google.colaboratory.intrinsic+json": {
              "type": "string"
            }
          },
          "metadata": {},
          "execution_count": 84
        }
      ]
    },
    {
      "cell_type": "code",
      "source": [
        "template = \"\"\"Here is an article about exciting things to do in destination City. Convert this into a structured format with 3 columns - activity, best season to partake in this activity, and amount of time needed.\n",
        "article is: {article}\n",
        "destination is: {destination}\n",
        "answer: ?\"\"\"\n",
        "prompt = PromptTemplate.from_template(template)\n",
        "chain = prompt | llm | StrOutputParser()\n",
        "\n",
        "article = \"\"\"New York City vibrates with an irresistible energy that never sleeps, offering an abundance of experiences for every traveler! In the pleasant embrace of spring or the colorful tapestry of fall, dedicate a half or even a full day to exploring the sprawling expanse of Central Park. Take a leisurely bike ride, enjoy a picnic lunch, or rent a boat on the lake – the possibilities for enjoyment are endless! Regardless of the season, art enthusiasts can immerse themselves in the vast collection of the Metropolitan Museum of Art, dedicating an afternoon to wander through centuries of human creativity.\n",
        "For a dose of captivating entertainment, catch a world-renowned Broadway show, a three-hour journey into the heart of theater and music. Spring or fall offers the ideal weather for a ferry ride to the Statue of Liberty and Ellis Island, allowing for a half or full day to delve into the stories of immigration and freedom that shaped America. When the weather beckons you outdoors in the summer months, dedicate an hour to a stroll along the High Line, a unique elevated park offering breathtaking city views and urban gardens.\n",
        "As dusk settles, head to the dazzling spectacle of Times Square, spending thirty minutes to an hour soaking in the vibrant lights and bustling energy. For a moment of reflection, visit the poignant 9/11 Memorial & Museum, dedicating two to three hours to honor the lives lost and the unwavering spirit of the city. From the trendy streets of Soho to the historic charm of Greenwich Village, exploring the diverse neighborhoods of New York City is an adventure in itself, with the time commitment varying based on your chosen area and interests. And for those seeking a taste of the city's vibrant culture, a two-hour hour food tour will tantalize your taste buds with diverse flavors and culinary delights.\n",
        "No matter your interests or the time of year, New York City promises an unforgettable experience, brimming with iconic sights, captivating performances, and endless opportunities for exploration!\"\"\"\n",
        "response = chain.invoke({'article':article, 'destination': 'New York'})\n",
        "display(Markdown(response))\n",
        "# response"
      ],
      "metadata": {
        "colab": {
          "base_uri": "https://localhost:8080/",
          "height": 366
        },
        "id": "pPF2s_wLpNfc",
        "outputId": "547bb513-7166-4be4-f04d-893129f8056d"
      },
      "execution_count": null,
      "outputs": [
        {
          "output_type": "display_data",
          "data": {
            "text/plain": [
              "<IPython.core.display.Markdown object>"
            ],
            "text/markdown": "| Activity                                      | Best Season to Partake         | Amount of Time Needed         |\n|-----------------------------------------------|--------------------------------|-------------------------------|\n| Explore Central Park                          | Spring, Fall                   | Half to Full Day              |\n| Visit the Metropolitan Museum of Art         | Year-round                     | Afternoon                     |\n| Catch a Broadway show                         | Year-round                     | Three Hours                   |\n| Ferry ride to the Statue of Liberty & Ellis Island | Spring, Fall                   | Half to Full Day              |\n| Stroll along the High Line                   | Summer                         | One Hour                      |\n| Experience Times Square                       | Year-round                     | 30 Minutes to 1 Hour          |\n| Visit the 9/11 Memorial & Museum             | Year-round                     | Two to Three Hours            |\n| Explore diverse neighborhoods (Soho, Greenwich Village) | Year-round                     | Varies based on area and interests |\n| Take a food tour                              | Year-round                     | Two Hours                     |"
          },
          "metadata": {}
        }
      ]
    },
    {
      "cell_type": "code",
      "source": [
        "with open('/content/research_paper.txt') as f:\n",
        "  paper = f.read()"
      ],
      "metadata": {
        "id": "u-ZckYN-x5x_"
      },
      "execution_count": null,
      "outputs": []
    },
    {
      "cell_type": "code",
      "source": [
        "len(paper)"
      ],
      "metadata": {
        "colab": {
          "base_uri": "https://localhost:8080/"
        },
        "id": "lvOULS4xx9fc",
        "outputId": "9cc2f7fb-0a6e-4de7-939f-33b5b0a32b3e"
      },
      "execution_count": null,
      "outputs": [
        {
          "output_type": "execute_result",
          "data": {
            "text/plain": [
              "76485"
            ]
          },
          "metadata": {},
          "execution_count": 90
        }
      ]
    },
    {
      "cell_type": "code",
      "execution_count": null,
      "metadata": {
        "id": "X2RSWBm8Ppcv",
        "colab": {
          "base_uri": "https://localhost:8080/",
          "height": 354
        },
        "outputId": "d78c9c2f-7c8c-4915-97cf-b9a46f101598"
      },
      "outputs": [
        {
          "output_type": "display_data",
          "data": {
            "text/plain": [
              "<IPython.core.display.Markdown object>"
            ],
            "text/markdown": "- **When was the paper published?**  \nThe paper was published in March 2014.\n\n- **What is the sample size?**  \nThe sample size was approximately 6,850 households.\n\n- **What is the study methodology? in particular, is it a randomized control trial?**  \nThe study employed a randomized control trial methodology, where 52 neighborhoods were randomly selected to receive a microcredit program.\n\n- **How was the study funded? in particular, was the funding from commercial funders?**  \nThe study was funded by The Vanguard Charitable Endowment Program, ICICI Bank, Spandana, and J-PAL, with some funding coming from commercial sources.\n\n- **What was the key question being studied?**  \nThe key question being studied was the impact of access to microcredit on household economic outcomes, including business investment, consumption, and women's empowerment.\n\n- **What were the key findings to the key question being studied?**  \nThe key findings indicated that while microcredit increased borrowing and investment in existing businesses, it did not significantly improve overall consumption, health, education, or women's empowerment, and the benefits were primarily observed in the upper tail of business profitability."
          },
          "metadata": {}
        }
      ],
      "source": [
        "template = \"\"\"You are an expert scientific researcher\n",
        "who has years of experience in conducting systematic literature surveys and meta-analyses of different topics.\n",
        "You pride yourself on incredible accuracy and attention to detail.\n",
        "You always stick to the facts in the sources provided, and never make up new facts.\n",
        "Now look at the research paper below, and answer the following questions in 1-2 sentences.\n",
        "- When was the paper published?\n",
        "- What is the sample size?\n",
        "- What is the study methodology? in particular, is it a randomized control trial?\n",
        "- How was the study funded? in particular, was the funding from commercial funders?\n",
        "- What was the key question being studied?\n",
        "- What were the key findings to the key question being studied?\n",
        "\n",
        "Research Paper is: {paper}\n",
        "\"\"\"\n",
        "with open('/content/research_paper.txt') as f:\n",
        "  paper = f.read()\n",
        "prompt = PromptTemplate.from_template(template)\n",
        "chain = prompt | llm | StrOutputParser()\n",
        "response = chain.invoke({'paper':paper})\n",
        "from IPython.display import display, Markdown\n",
        "display(Markdown(response))"
      ]
    },
    {
      "cell_type": "code",
      "execution_count": null,
      "metadata": {
        "id": "vCdnNQy1Pt2B"
      },
      "outputs": [],
      "source": [
        "template = \"you are a helpful assistant, please answer the following question: {question}\"\n",
        "prompt = PromptTemplate.from_template(template)\n",
        "chain = prompt | llm | StrOutputParser()\n",
        "async for chunk in chain.astream({'question':'who was Amir kabir?'},):\n",
        "  print(chunk, end='\\n')\n"
      ]
    },
    {
      "cell_type": "code",
      "source": [
        "chunks = []\n",
        "for chunk in chain.stream({'question':'who was Amirkabir?'}):\n",
        "  chunks.append(chunk)\n",
        "  print(chunk, end=\"\\n\", flush=True)"
      ],
      "metadata": {
        "id": "BEylh2UChY64"
      },
      "execution_count": null,
      "outputs": []
    },
    {
      "cell_type": "code",
      "source": [
        "chunks"
      ],
      "metadata": {
        "id": "YSlAY1aYp6_Y"
      },
      "execution_count": null,
      "outputs": []
    },
    {
      "cell_type": "code",
      "source": [
        "prompt = PromptTemplate(template='you are a therapist and answer the question by the user which is: {question} ', input_variables=['question'])\n",
        "chain = prompt | llm | StrOutputParser()\n",
        "response = chain.invoke({'question':'How to have selfconfidence?'})\n",
        "display(Markdown(response))"
      ],
      "metadata": {
        "id": "Ygis4iLX6ovk",
        "colab": {
          "base_uri": "https://localhost:8080/",
          "height": 568
        },
        "outputId": "1c85de42-b5fb-4a6a-da42-879a15a2577c"
      },
      "execution_count": null,
      "outputs": [
        {
          "output_type": "display_data",
          "data": {
            "text/plain": [
              "<IPython.core.display.Markdown object>"
            ],
            "text/markdown": "Building self-confidence is a journey that involves self-awareness, practice, and patience. Here are some strategies that can help you develop greater self-confidence:\n\n1. **Understand Yourself**: Take time to reflect on your strengths, weaknesses, values, and passions. Knowing yourself better can help you feel more secure in who you are.\n\n2. **Set Realistic Goals**: Start with small, achievable goals that can lead to a sense of accomplishment. As you achieve these, gradually set more challenging goals.\n\n3. **Positive Self-Talk**: Challenge negative thoughts and replace them with positive affirmations. Instead of saying, “I can’t do this,” try saying, “I am capable and I will give it my best shot.”\n\n4. **Learn from Mistakes**: Instead of viewing failures as setbacks, see them as opportunities for growth. Reflect on what you can learn from each experience.\n\n5. **Practice Self-Compassion**: Treat yourself with kindness and understanding, especially during difficult times. Recognize that everyone makes mistakes and faces challenges.\n\n6. **Surround Yourself with Supportive People**: Spend time with those who uplift and encourage you. Positive relationships can reinforce your self-worth.\n\n7. **Develop New Skills**: Engaging in activities that interest you can boost your confidence. Whether it’s a hobby, sport, or professional skill, learning something new can empower you.\n\n8. **Take Care of Your Body**: Physical health can impact mental well-being. Regular exercise, a balanced diet, and adequate sleep can enhance your mood and energy levels.\n\n9. **Face Your Fears**: Gradually confront situations that make you anxious. Start small and build your way up to more challenging scenarios. Each step you take can increase your confidence.\n\n10. **Celebrate Your Achievements**: Acknowledge and celebrate your successes, no matter how small. Keeping a journal of your accomplishments can serve as a reminder of your progress.\n\n11. **Seek Professional Help**: If you find that low self-confidence is significantly impacting your life, consider talking to a therapist. They can provide personalized strategies and support.\n\nRemember, building self-confidence is a process, and it’s okay to take it one step at a time. Be patient with yourself and recognize that everyone’s journey is unique."
          },
          "metadata": {}
        }
      ]
    },
    {
      "cell_type": "code",
      "source": [
        "prompt = PromptTemplate(\n",
        "template=\"\"\"\n",
        "You are an understanding therapist.\n",
        "Please respond to the user's input in an empathetic and helpful way.\n",
        "Answer in the following JSON format:\n",
        "{{\n",
        "\"response\": \"<your response>\"\n",
        "\"reason\": \"<your reason>\"\n",
        "\n",
        "}}\n",
        "\n",
        "User input: {question}\n",
        "Answer: ?\n",
        "\"\"\",\n",
        "input_variables=['question']\n",
        ")\n",
        "\n",
        "chain = prompt | llm | StrOutputParser()\n",
        "result = chain.invoke({'question':'How to have self-confidence?'})"
      ],
      "metadata": {
        "id": "8TN9oaiT7cIy"
      },
      "execution_count": null,
      "outputs": []
    },
    {
      "cell_type": "code",
      "source": [
        "result"
      ],
      "metadata": {
        "id": "jv9-HCZI9rCw",
        "colab": {
          "base_uri": "https://localhost:8080/",
          "height": 157
        },
        "outputId": "b50b6133-fe59-41e5-ca83-e3e9079256a7"
      },
      "execution_count": null,
      "outputs": [
        {
          "output_type": "execute_result",
          "data": {
            "text/plain": [
              "'{\\n  \"response\": \"Building self-confidence is a journey that takes time and practice. Start by setting small, achievable goals for yourself and celebrate your successes, no matter how minor they may seem. Surround yourself with supportive people who uplift you and encourage your growth. Additionally, try to challenge negative thoughts about yourself by focusing on your strengths and accomplishments. Remember, self-confidence comes from within, and it\\'s okay to seek help or guidance along the way.\",\\n  \"reason\": \"This response acknowledges the user\\'s desire to improve their self-confidence and provides practical steps they can take, while also emphasizing the importance of self-acceptance and support from others.\"\\n}'"
            ],
            "application/vnd.google.colaboratory.intrinsic+json": {
              "type": "string"
            }
          },
          "metadata": {},
          "execution_count": 99
        }
      ]
    },
    {
      "cell_type": "code",
      "source": [],
      "metadata": {
        "id": "WnUKxDcDqKnO"
      },
      "execution_count": null,
      "outputs": []
    },
    {
      "cell_type": "markdown",
      "source": [
        "# RunnableBranch\n",
        "\n",
        "\n",
        "Runnable that selects which branch to run based on a condition.\n",
        "\n",
        "The `Runnable` is initialized with a list of `(condition, Runnable)` pairs and a default branch.\n",
        "\n",
        "When operating on an input, the first condition that evaluates to `True` is selected, and the corresponding `Runnable` is run on the input.\n",
        "\n",
        "If no condition evaluates to `True`, the default branch is run on the input.\n",
        "\n",
        "## Parameters:\n",
        "- **branches**: A list of `(condition, Runnable)` pairs.\n",
        "- **default**: A `Runnable` to run if no condition is met.\n"
      ],
      "metadata": {
        "id": "suD3vkJpss5z"
      }
    },
    {
      "cell_type": "code",
      "source": [
        "\n",
        "model_parser = llm | StrOutputParser()\n",
        "\n",
        "### terapist chain\n",
        "terapist_prompt = PromptTemplate(\n",
        "    template=\"You are a helpful therapy assistant. Please answer {question}.\", input_variables=[\"question\"])\n",
        "terapist = terapist_prompt | model_parser\n",
        "\n",
        "\n",
        "### code developer chain\n",
        "code_developer_prompt = PromptTemplate(template='you are an excellent {programming_language} developer. please answer {question}. if any question is out of {programming_language} scope, just say i am not expert', input_variables=['programming_language', 'question'])\n",
        "code_developer = code_developer_prompt | model_parser\n",
        "\n",
        "\n",
        "\n",
        "### general chain\n",
        "general_chain = (\n",
        "    PromptTemplate.from_template(\n",
        "        \"\"\"Respond to the following question:Question: {question} Answer:\"\"\"\n",
        "    )\n",
        "    | model_parser\n",
        ")\n"
      ],
      "metadata": {
        "id": "B-vxGHFCkfGj"
      },
      "execution_count": null,
      "outputs": []
    },
    {
      "cell_type": "code",
      "source": [
        "if code==1:\n",
        "  hefazat\n",
        "elif code=2:\n",
        "  dabirkhaneh\n",
        "else:\n",
        "  operator"
      ],
      "metadata": {
        "id": "j66ksoUEABK8"
      },
      "execution_count": null,
      "outputs": []
    },
    {
      "cell_type": "code",
      "source": [
        "'terapy' == 'Terapy'.lower()"
      ],
      "metadata": {
        "id": "MfbYLqUYAcuB"
      },
      "execution_count": null,
      "outputs": []
    },
    {
      "cell_type": "code",
      "source": [
        "RunnableBranch((condition,runnable))"
      ],
      "metadata": {
        "id": "BpHv8smIAu2c"
      },
      "execution_count": null,
      "outputs": []
    },
    {
      "cell_type": "code",
      "source": [
        "from langchain_core.runnables import RunnableBranch, RunnableParallel\n",
        "### A RunnableBranch is initialized with a list of (condition, runnable) pairs and a default runnable.\n",
        "\n",
        "branch = RunnableBranch(\n",
        "    (lambda x: \"terapy\" ==x[\"topic\"].lower(), terapist),\n",
        "    (lambda x: \"code\" in x[\"topic\"].lower(), code_developer),\n",
        "    general_chain\n",
        ")"
      ],
      "metadata": {
        "id": "-mUD8p4OCbm4"
      },
      "execution_count": null,
      "outputs": []
    },
    {
      "cell_type": "code",
      "source": [
        "full_chain = {\"topic\": lambda x: x[\"topic\"],\n",
        "              \"question\": lambda x: x[\"question\"], \"programming_language\":lambda x: x.get('programming_language', None)} | branch\n",
        "\n"
      ],
      "metadata": {
        "id": "2bffiqOBsrJY"
      },
      "execution_count": null,
      "outputs": []
    },
    {
      "cell_type": "code",
      "source": [
        "x = {'topic': 'code', 'question': 'What is the difference between a list and a tuple?', 'programming_language': 'python'}"
      ],
      "metadata": {
        "id": "xJaIK8sdBZwN"
      },
      "execution_count": null,
      "outputs": []
    },
    {
      "cell_type": "code",
      "source": [
        "def selector(y):\n",
        "  return y['topic']"
      ],
      "metadata": {
        "id": "Fkr8_mIUBp1m"
      },
      "execution_count": null,
      "outputs": []
    },
    {
      "cell_type": "code",
      "source": [
        "selector(x)"
      ],
      "metadata": {
        "id": "0tLUlbl9B1zY",
        "colab": {
          "base_uri": "https://localhost:8080/",
          "height": 35
        },
        "outputId": "bfd3a4ff-46b6-40b4-e0b4-c7de762ee2b1"
      },
      "execution_count": null,
      "outputs": [
        {
          "output_type": "execute_result",
          "data": {
            "text/plain": [
              "'code'"
            ],
            "application/vnd.google.colaboratory.intrinsic+json": {
              "type": "string"
            }
          },
          "metadata": {},
          "execution_count": 102
        }
      ]
    },
    {
      "cell_type": "code",
      "source": [
        "f = lambda x: x.get('topic', 'math')\n",
        "f(x)"
      ],
      "metadata": {
        "id": "-CyOfBlEBcAv",
        "colab": {
          "base_uri": "https://localhost:8080/",
          "height": 35
        },
        "outputId": "420e2a40-8bcc-4adf-fccd-c61ba930705e"
      },
      "execution_count": null,
      "outputs": [
        {
          "output_type": "execute_result",
          "data": {
            "text/plain": [
              "'code'"
            ],
            "application/vnd.google.colaboratory.intrinsic+json": {
              "type": "string"
            }
          },
          "metadata": {},
          "execution_count": 103
        }
      ]
    },
    {
      "cell_type": "code",
      "source": [
        "full_chain.invoke({'topic': 'code', 'question': 'What is the difference between a list and a tuple?', 'programming_language': 'python'})"
      ],
      "metadata": {
        "id": "QVd0C13vtDb7",
        "colab": {
          "base_uri": "https://localhost:8080/",
          "height": 209
        },
        "outputId": "cb2e43f8-ce2a-4017-c49b-e37c07e89a62"
      },
      "execution_count": null,
      "outputs": [
        {
          "output_type": "execute_result",
          "data": {
            "text/plain": [
              "'In Python, both lists and tuples are used to store collections of items, but they have some key differences:\\n\\n1. **Mutability**:\\n   - **List**: Lists are mutable, meaning you can change their content (add, remove, or modify elements) after they have been created.\\n   - **Tuple**: Tuples are immutable, meaning once they are created, you cannot change their content. You cannot add, remove, or modify elements.\\n\\n2. **Syntax**:\\n   - **List**: Lists are defined using square brackets `[]`. For example: `my_list = [1, 2, 3]`.\\n   - **Tuple**: Tuples are defined using parentheses `()`. For example: `my_tuple = (1, 2, 3)`.\\n\\n3. **Performance**:\\n   - **List**: Because lists are mutable, they have a bit more overhead in terms of performance when compared to tuples.\\n   - **Tuple**: Tuples can be slightly faster than lists for certain operations due to their immutability.\\n\\n4. **Use Cases**:\\n   - **List**: Lists are generally used when you need a collection of items that may need to be modified, such as adding or removing elements.\\n   - **Tuple**: Tuples are often used for fixed collections of items, such as coordinates or records, where the data should not change.\\n\\n5. **Methods**:\\n   - **List**: Lists have a variety of built-in methods (like `append()`, `remove()`, `sort()`, etc.) that allow for modification.\\n   - **Tuple**: Tuples have fewer built-in methods (like `count()` and `index()`) since they cannot be modified.\\n\\nIn summary, the main differences between lists and tuples in Python are their mutability, syntax, performance, and typical use cases.'"
            ],
            "application/vnd.google.colaboratory.intrinsic+json": {
              "type": "string"
            }
          },
          "metadata": {},
          "execution_count": 104
        }
      ]
    },
    {
      "cell_type": "code",
      "source": [
        "full_chain.invoke({'topic': 'code', 'question':'How to have self-confidence?', 'programming_language': 'python'})"
      ],
      "metadata": {
        "id": "_r8dgj0GEZMv"
      },
      "execution_count": null,
      "outputs": []
    },
    {
      "cell_type": "code",
      "source": [
        "\n",
        "template = \"\"\"Just classify the topic of the following question: {question} into one of these three categories:\n",
        " ['code', 'therapy', 'general'] with just one category without any explanation.\"\"\"\n",
        "\n",
        "prompt = PromptTemplate(template=template,\n",
        "                        input_variables=['question'])\n",
        "classifier_chain = prompt | model_parser\n",
        "\n"
      ],
      "metadata": {
        "id": "Qbt8_RNpyTXM"
      },
      "execution_count": null,
      "outputs": []
    },
    {
      "cell_type": "code",
      "source": [
        "classifier_chain.invoke({'question': 'I lost my father 4 years ago and I still miss him, can you help me?'})"
      ],
      "metadata": {
        "id": "lFQxQVzHNjLn",
        "colab": {
          "base_uri": "https://localhost:8080/",
          "height": 35
        },
        "outputId": "a54b3eda-0b88-4b06-9dcd-d9dfd2461753"
      },
      "execution_count": null,
      "outputs": [
        {
          "output_type": "execute_result",
          "data": {
            "text/plain": [
              "'therapy'"
            ],
            "application/vnd.google.colaboratory.intrinsic+json": {
              "type": "string"
            }
          },
          "metadata": {},
          "execution_count": 106
        }
      ]
    },
    {
      "cell_type": "code",
      "source": [
        "question = 'What is the difference between a list and a tuple?'\n",
        "classifier_chain.invoke({'question':question})"
      ],
      "metadata": {
        "id": "Wv8zX5h7GUTv",
        "colab": {
          "base_uri": "https://localhost:8080/",
          "height": 35
        },
        "outputId": "875c1f3a-ac9b-4cb9-a6df-c814123585f2"
      },
      "execution_count": null,
      "outputs": [
        {
          "output_type": "execute_result",
          "data": {
            "text/plain": [
              "'code'"
            ],
            "application/vnd.google.colaboratory.intrinsic+json": {
              "type": "string"
            }
          },
          "metadata": {},
          "execution_count": 107
        }
      ]
    },
    {
      "cell_type": "markdown",
      "source": [],
      "metadata": {
        "id": "hzzLTO4FGXca"
      }
    },
    {
      "cell_type": "code",
      "source": [
        "from operator import itemgetter\n",
        "final_chain = ({'topic': classifier_chain, 'question': itemgetter(\"question\"), 'programming_language': lambda x: x.get(\"programming_language\",None)} | branch)\n"
      ],
      "metadata": {
        "id": "eEzFyJz7KqER"
      },
      "execution_count": null,
      "outputs": []
    },
    {
      "cell_type": "code",
      "source": [
        "final_chain.invoke({'question': 'I lost my father 4 years ago and I still miss him'})"
      ],
      "metadata": {
        "id": "Mo9yYDTLHNo4",
        "colab": {
          "base_uri": "https://localhost:8080/",
          "height": 122
        },
        "outputId": "e81e3b46-1393-494b-9b15-d031901906c1"
      },
      "execution_count": null,
      "outputs": [
        {
          "output_type": "execute_result",
          "data": {
            "text/plain": [
              "\"I'm really sorry to hear that you're feeling this way. Losing a loved one, especially a parent, can leave a deep and lasting impact. It's completely normal to miss him and to feel a range of emotions even years later. Remember that it's okay to grieve and to hold onto the memories you shared. Talking about your feelings with someone you trust or finding ways to honor his memory can also be helpful. You're not alone in this, and it's important to take care of yourself as you navigate these feelings.\""
            ],
            "application/vnd.google.colaboratory.intrinsic+json": {
              "type": "string"
            }
          },
          "metadata": {},
          "execution_count": 109
        }
      ]
    },
    {
      "cell_type": "code",
      "source": [
        "final_chain.invoke({ 'question': 'What is the difference between a list and a tuple?', 'programming_language': 'python'})"
      ],
      "metadata": {
        "id": "Ee5U4JlBt-7G"
      },
      "execution_count": null,
      "outputs": []
    },
    {
      "cell_type": "code",
      "source": [],
      "metadata": {
        "id": "e9gEGW2wmWVb"
      },
      "execution_count": null,
      "outputs": []
    },
    {
      "cell_type": "code",
      "source": [],
      "metadata": {
        "id": "lVh5Vw0moJ_c"
      },
      "execution_count": null,
      "outputs": []
    }
  ],
  "metadata": {
    "colab": {
      "provenance": []
    },
    "kernelspec": {
      "display_name": "Python 3",
      "name": "python3"
    },
    "language_info": {
      "name": "python"
    }
  },
  "nbformat": 4,
  "nbformat_minor": 0
}