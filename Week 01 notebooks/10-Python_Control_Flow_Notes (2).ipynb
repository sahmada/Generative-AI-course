{
  "cells": [
    {
      "cell_type": "markdown",
      "id": "ed1136bc",
      "metadata": {
        "id": "ed1136bc"
      },
      "source": [
        "# Python Control Flow and Conditionals - Teaching Notes"
      ]
    },
    {
      "cell_type": "markdown",
      "id": "d545a9b9",
      "metadata": {
        "id": "d545a9b9"
      },
      "source": [
        "## 1. Definition\n",
        "- Control flow refers to the order in which individual statements, instructions, or function calls are executed or evaluated.\n",
        "- Python provides conditional statements (`if`, `elif`, `else`) and loops (`for`, `while`) to control the flow of a program."
      ]
    },
    {
      "cell_type": "markdown",
      "id": "2238b5bb",
      "metadata": {
        "id": "2238b5bb"
      },
      "source": [
        "## 2. Conditional Statements\n",
        "### Syntax\n",
        "```python\n",
        "if condition:\n",
        "    # Code block to execute if condition is True\n",
        "elif another_condition:\n",
        "    # Code block to execute if the above condition is False, but this one is True\n",
        "else:\n",
        "    # Code block to execute if all conditions are False\n",
        "```"
      ]
    },
    {
      "cell_type": "code",
      "source": [
        "age < 18"
      ],
      "metadata": {
        "colab": {
          "base_uri": "https://localhost:8080/"
        },
        "id": "uqEJzmPPr7N5",
        "outputId": "c777e189-1a1c-4dda-89b5-9fe81ab91215"
      },
      "id": "uqEJzmPPr7N5",
      "execution_count": null,
      "outputs": [
        {
          "output_type": "execute_result",
          "data": {
            "text/plain": [
              "True"
            ]
          },
          "metadata": {},
          "execution_count": 4
        }
      ]
    },
    {
      "cell_type": "code",
      "source": [
        "age = 26\n",
        "is_student = False\n",
        "\n",
        "if age < 30 or is_student:\n",
        "    print(\"You qualify for the student discount.\")\n",
        "else:\n",
        "  print('we are so sorry, you do not qualify for the student discount')"
      ],
      "metadata": {
        "colab": {
          "base_uri": "https://localhost:8080/"
        },
        "id": "0FF6GboEsO6w",
        "outputId": "0f3f91ee-f491-4bb2-a904-9dcefcf5db99"
      },
      "id": "0FF6GboEsO6w",
      "execution_count": null,
      "outputs": [
        {
          "output_type": "stream",
          "name": "stdout",
          "text": [
            "You qualify for the student discount.\n"
          ]
        }
      ]
    },
    {
      "cell_type": "code",
      "source": [
        "age = 17\n",
        "if age < 18:\n",
        "    print(\"You are a minor.\")\n",
        "elif age < 60:\n",
        "    print(\"You are an adult.\")\n",
        "else:\n",
        "    print(\"You are a senior citizen.\")"
      ],
      "metadata": {
        "colab": {
          "base_uri": "https://localhost:8080/"
        },
        "id": "XVkATNqwr3no",
        "outputId": "09f4b586-23dd-445a-ad11-3a16164072b9"
      },
      "id": "XVkATNqwr3no",
      "execution_count": null,
      "outputs": [
        {
          "output_type": "stream",
          "name": "stdout",
          "text": [
            "You are a minor.\n"
          ]
        }
      ]
    },
    {
      "cell_type": "code",
      "source": [
        "\"Adult\" if age >= 18 else \"Minor\""
      ],
      "metadata": {
        "colab": {
          "base_uri": "https://localhost:8080/",
          "height": 36
        },
        "id": "dasDsoYNtMG7",
        "outputId": "4f5f4f77-d195-4f1e-f71d-bd8fd89fe671"
      },
      "id": "dasDsoYNtMG7",
      "execution_count": null,
      "outputs": [
        {
          "output_type": "execute_result",
          "data": {
            "text/plain": [
              "'Adult'"
            ],
            "application/vnd.google.colaboratory.intrinsic+json": {
              "type": "string"
            }
          },
          "metadata": {},
          "execution_count": 10
        }
      ]
    },
    {
      "cell_type": "code",
      "source": [
        "age"
      ],
      "metadata": {
        "colab": {
          "base_uri": "https://localhost:8080/"
        },
        "id": "0qq8F9r3tfLo",
        "outputId": "4fa16b69-ca5d-4394-d6a8-7757f557a30d"
      },
      "id": "0qq8F9r3tfLo",
      "execution_count": null,
      "outputs": [
        {
          "output_type": "execute_result",
          "data": {
            "text/plain": [
              "26"
            ]
          },
          "metadata": {},
          "execution_count": 11
        }
      ]
    },
    {
      "cell_type": "code",
      "source": [
        "age = 16\n",
        "status = \"Adult\" if age >= 18 else \"Minor\"\n",
        "print(status)  # Output"
      ],
      "metadata": {
        "colab": {
          "base_uri": "https://localhost:8080/"
        },
        "id": "QyNorztgtAuq",
        "outputId": "a2873426-38ec-4633-ee35-024b96939a81"
      },
      "id": "QyNorztgtAuq",
      "execution_count": null,
      "outputs": [
        {
          "output_type": "stream",
          "name": "stdout",
          "text": [
            "Minor\n"
          ]
        }
      ]
    },
    {
      "cell_type": "markdown",
      "id": "c117ceec",
      "metadata": {
        "id": "c117ceec"
      },
      "source": [
        "### Examples\n",
        "**Basic Example**\n",
        "```python\n",
        "age = 20\n",
        "if age < 18:\n",
        "    print(\"You are a minor.\")\n",
        "elif age < 60:\n",
        "    print(\"You are an adult.\")\n",
        "else:\n",
        "    print(\"You are a senior citizen.\")\n",
        "```\n",
        "\n",
        "**Using Logical Operators**\n",
        "```python\n",
        "age = 25\n",
        "is_student = True\n",
        "\n",
        "if age < 30 and is_student:\n",
        "    print(\"You qualify for the student discount.\")\n",
        "```"
      ]
    },
    {
      "cell_type": "markdown",
      "id": "76ce5c32",
      "metadata": {
        "id": "76ce5c32"
      },
      "source": [
        "## 3. Ternary Conditional Statements\n",
        "- A concise way to write conditional statements in a single line.\n",
        "```python\n",
        "age = 17\n",
        "status = \"Adult\" if age >= 18 else \"Minor\"\n",
        "print(status)  # Output: Minor\n",
        "```"
      ]
    },
    {
      "cell_type": "code",
      "source": [
        "for item in 'genai':\n",
        "    print(item)\n",
        "\n",
        "# for i in range(5):\n",
        "#     print(i)  # Output: 0, 1, 2, 3, 4"
      ],
      "metadata": {
        "colab": {
          "base_uri": "https://localhost:8080/"
        },
        "id": "kpEJXNJWt_m0",
        "outputId": "6199f14c-4e83-462c-9db5-05ca7932c0a7"
      },
      "id": "kpEJXNJWt_m0",
      "execution_count": null,
      "outputs": [
        {
          "output_type": "stream",
          "name": "stdout",
          "text": [
            "g\n",
            "e\n",
            "n\n",
            "a\n",
            "i\n"
          ]
        }
      ]
    },
    {
      "cell_type": "code",
      "source": [
        "list(range(1,10))"
      ],
      "metadata": {
        "colab": {
          "base_uri": "https://localhost:8080/"
        },
        "id": "gn3SKRuFuGC6",
        "outputId": "8019b8f3-7367-4bf9-a32d-f886fb419762"
      },
      "id": "gn3SKRuFuGC6",
      "execution_count": null,
      "outputs": [
        {
          "output_type": "execute_result",
          "data": {
            "text/plain": [
              "[1, 2, 3, 4, 5, 6, 7, 8, 9]"
            ]
          },
          "metadata": {},
          "execution_count": 18
        }
      ]
    },
    {
      "cell_type": "code",
      "source": [
        "count = 0\n",
        "while count < 5:\n",
        "    print(count)\n",
        "    count += 1"
      ],
      "metadata": {
        "colab": {
          "base_uri": "https://localhost:8080/"
        },
        "id": "2YNJS6VXuVEa",
        "outputId": "098a9f31-db4e-4791-9a81-45cd5bf4d449"
      },
      "id": "2YNJS6VXuVEa",
      "execution_count": null,
      "outputs": [
        {
          "output_type": "stream",
          "name": "stdout",
          "text": [
            "0\n",
            "1\n",
            "2\n",
            "3\n",
            "4\n"
          ]
        }
      ]
    },
    {
      "cell_type": "markdown",
      "id": "c6098c9c",
      "metadata": {
        "id": "c6098c9c"
      },
      "source": [
        "## 4. Loops\n",
        "### **For Loop**\n",
        "Used to iterate over a sequence (e.g., list, tuple, string, or range).\n",
        "```python\n",
        "for item in [1, 2, 3]:\n",
        "    print(item)\n",
        "\n",
        "for i in range(5):\n",
        "    print(i)  # Output: 0, 1, 2, 3, 4\n",
        "```\n",
        "\n",
        "### **While Loop**\n",
        "Used to execute a block of code as long as a condition is True.\n",
        "```python\n",
        "count = 0\n",
        "while count < 5:\n",
        "    print(count)\n",
        "    count += 1\n",
        "```"
      ]
    },
    {
      "cell_type": "code",
      "source": [
        "for num in range(10):\n",
        "    if num == 5:\n",
        "        break\n",
        "    print(num)\n"
      ],
      "metadata": {
        "colab": {
          "base_uri": "https://localhost:8080/"
        },
        "id": "Le4UfYE2vdol",
        "outputId": "f9f36aca-4221-49bb-8be7-fce8e35c66b0"
      },
      "id": "Le4UfYE2vdol",
      "execution_count": null,
      "outputs": [
        {
          "output_type": "stream",
          "name": "stdout",
          "text": [
            "0\n",
            "1\n",
            "2\n",
            "3\n",
            "4\n"
          ]
        }
      ]
    },
    {
      "cell_type": "code",
      "source": [
        "for num in range(10):\n",
        "    if num % 2 == 0:\n",
        "        continue\n",
        "    print(num)  # Prints only odd numbers\n"
      ],
      "metadata": {
        "id": "RcfwCPJrvu-R",
        "colab": {
          "base_uri": "https://localhost:8080/"
        },
        "outputId": "2d297244-301a-4c79-bf93-c89abe7034c1"
      },
      "id": "RcfwCPJrvu-R",
      "execution_count": null,
      "outputs": [
        {
          "output_type": "stream",
          "name": "stdout",
          "text": [
            "1\n",
            "3\n",
            "5\n",
            "7\n",
            "9\n"
          ]
        }
      ]
    },
    {
      "cell_type": "code",
      "source": [
        "for num in range(5):\n",
        "    if num == 3:\n",
        "      pass  # Placeholder\n",
        "    else:\n",
        "        print(num**2)\n",
        "    print(num)"
      ],
      "metadata": {
        "colab": {
          "base_uri": "https://localhost:8080/",
          "height": 106
        },
        "id": "iTb9Ya0dWRd5",
        "outputId": "8558e7cd-952c-4a86-ee3b-8f723b36c0d2"
      },
      "id": "iTb9Ya0dWRd5",
      "execution_count": null,
      "outputs": [
        {
          "output_type": "error",
          "ename": "IndentationError",
          "evalue": "expected an indented block after 'if' statement on line 2 (<ipython-input-3-e2899ae8b3bb>, line 4)",
          "traceback": [
            "\u001b[0;36m  File \u001b[0;32m\"<ipython-input-3-e2899ae8b3bb>\"\u001b[0;36m, line \u001b[0;32m4\u001b[0m\n\u001b[0;31m    else:\u001b[0m\n\u001b[0m    ^\u001b[0m\n\u001b[0;31mIndentationError\u001b[0m\u001b[0;31m:\u001b[0m expected an indented block after 'if' statement on line 2\n"
          ]
        }
      ]
    },
    {
      "cell_type": "code",
      "source": [
        "for i in range(3):\n",
        "    for j in range(2):\n",
        "        print(f\"i: {i}, j: {j}\")"
      ],
      "metadata": {
        "colab": {
          "base_uri": "https://localhost:8080/"
        },
        "id": "X9lOPx_sW5N_",
        "outputId": "d062b7e0-02a6-4133-9f23-a7bac1107736"
      },
      "id": "X9lOPx_sW5N_",
      "execution_count": null,
      "outputs": [
        {
          "output_type": "stream",
          "name": "stdout",
          "text": [
            "i: 0, j: 0\n",
            "i: 0, j: 1\n",
            "i: 1, j: 0\n",
            "i: 1, j: 1\n",
            "i: 2, j: 0\n",
            "i: 2, j: 1\n"
          ]
        }
      ]
    },
    {
      "cell_type": "markdown",
      "id": "3e390c9c",
      "metadata": {
        "id": "3e390c9c"
      },
      "source": [
        "## 5. Loop Control Statements\n",
        "| Statement   | Description                                              |\n",
        "|-------------|----------------------------------------------------------|\n",
        "| `break`     | Terminates the loop entirely.                            |\n",
        "| `continue`  | Skips the current iteration and proceeds to the next one.|\n",
        "| `pass`      | Does nothing; acts as a placeholder.                    |\n",
        "\n",
        "**Examples**\n",
        "```python\n",
        "# Using break\n",
        "for num in range(10):\n",
        "    if num == 5:\n",
        "        break\n",
        "    print(num)\n",
        "\n",
        "# Using continue\n",
        "for num in range(10):\n",
        "    if num % 2 == 0:\n",
        "        continue\n",
        "    print(num)  # Prints only odd numbers\n",
        "\n",
        "# Using pass\n",
        "for num in range(5):\n",
        "    if num == 3:\n",
        "        pass  # Placeholder\n",
        "    print(num)\n",
        "```"
      ]
    },
    {
      "cell_type": "markdown",
      "id": "b9d764a6",
      "metadata": {
        "id": "b9d764a6"
      },
      "source": [
        "## 6. Nested Conditionals and Loops\n",
        "### Nested If Statements\n",
        "```python\n",
        "age = 25\n",
        "citizenship = \"US\"\n",
        "if age >= 18:\n",
        "    if citizenship == \"US\":\n",
        "        print(\"You are eligible to vote.\")\n",
        "    else:\n",
        "        print(\"You must be a US citizen to vote.\")\n",
        "else:\n",
        "    print(\"You are not eligible to vote.\")\n",
        "```\n",
        "\n",
        "### Nested Loops\n",
        "```python\n",
        "for i in range(3):\n",
        "    for j in range(2):\n",
        "        print(f\"i: {i}, j: {j}\")\n",
        "```"
      ]
    },
    {
      "cell_type": "markdown",
      "id": "090c6662",
      "metadata": {
        "id": "090c6662"
      },
      "source": [
        "## 7. Common Mistakes\n",
        "1. **Incorrect Indentation**:\n",
        "   ```python\n",
        "   if True:\n",
        "   print(\"Hello\")  # IndentationError\n",
        "   ```\n",
        "\n",
        "2. **Using `=` Instead of `==` in Conditions**:\n",
        "   ```python\n",
        "   if age = 25:  # SyntaxError: invalid syntax\n",
        "       print(\"Age is 25\")\n",
        "   ```\n",
        "\n",
        "3. **Infinite Loops**:\n",
        "   ```python\n",
        "   while True:\n",
        "       print(\"This loop will never end unless there is a break statement.\")\n",
        "   ```"
      ]
    },
    {
      "cell_type": "code",
      "source": [
        "state = ''\n",
        "\n",
        "if not(state):\n",
        "    print(\"The state is not empty.\")\n",
        "else:\n",
        "    print(\"The state is empty.\")"
      ],
      "metadata": {
        "colab": {
          "base_uri": "https://localhost:8080/"
        },
        "id": "UMZvEsmdXBLU",
        "outputId": "e5c9a627-6365-4e3a-cd40-3f5b41b17cd7"
      },
      "id": "UMZvEsmdXBLU",
      "execution_count": null,
      "outputs": [
        {
          "output_type": "stream",
          "name": "stdout",
          "text": [
            "The state is not empty.\n"
          ]
        }
      ]
    },
    {
      "cell_type": "code",
      "source": [
        "if True:\n",
        "  print('true')"
      ],
      "metadata": {
        "colab": {
          "base_uri": "https://localhost:8080/"
        },
        "id": "PH_tZ2nVXJKQ",
        "outputId": "354f1bc8-dc23-4eb6-b1a2-93fd3cb7c475"
      },
      "id": "PH_tZ2nVXJKQ",
      "execution_count": null,
      "outputs": [
        {
          "output_type": "stream",
          "name": "stdout",
          "text": [
            "true\n"
          ]
        }
      ]
    },
    {
      "cell_type": "code",
      "source": [
        "age = 32\n",
        "if age >=25:  # SyntaxError: invalid syntax\n",
        "    print(f\"Age is {age}\")\n"
      ],
      "metadata": {
        "colab": {
          "base_uri": "https://localhost:8080/"
        },
        "id": "PssySothX0EH",
        "outputId": "dade9a72-dd50-447a-e8b8-7835d0edeff3"
      },
      "id": "PssySothX0EH",
      "execution_count": null,
      "outputs": [
        {
          "output_type": "stream",
          "name": "stdout",
          "text": [
            "Age is 32\n"
          ]
        }
      ]
    },
    {
      "cell_type": "code",
      "source": [],
      "metadata": {
        "id": "RkP0TrtzX9ly"
      },
      "id": "RkP0TrtzX9ly",
      "execution_count": null,
      "outputs": []
    }
  ],
  "metadata": {
    "colab": {
      "provenance": []
    },
    "language_info": {
      "name": "python"
    },
    "kernelspec": {
      "name": "python3",
      "display_name": "Python 3"
    }
  },
  "nbformat": 4,
  "nbformat_minor": 5
}