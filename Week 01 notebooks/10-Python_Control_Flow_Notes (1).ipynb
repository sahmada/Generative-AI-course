{
  "cells": [
    {
      "cell_type": "markdown",
      "id": "ed1136bc",
      "metadata": {
        "id": "ed1136bc"
      },
      "source": [
        "# Python Control Flow and Conditionals - Teaching Notes"
      ]
    },
    {
      "cell_type": "markdown",
      "id": "d545a9b9",
      "metadata": {
        "id": "d545a9b9"
      },
      "source": [
        "## 1. Definition\n",
        "- Control flow refers to the order in which individual statements, instructions, or function calls are executed or evaluated.\n",
        "- Python provides conditional statements (`if`, `elif`, `else`) and loops (`for`, `while`) to control the flow of a program."
      ]
    },
    {
      "cell_type": "markdown",
      "id": "2238b5bb",
      "metadata": {
        "id": "2238b5bb"
      },
      "source": [
        "## 2. Conditional Statements\n",
        "### Syntax\n",
        "```python\n",
        "if condition:\n",
        "    # Code block to execute if condition is True\n",
        "elif another_condition:\n",
        "    # Code block to execute if the above condition is False, but this one is True\n",
        "else:\n",
        "    # Code block to execute if all conditions are False\n",
        "```"
      ]
    },
    {
      "cell_type": "code",
      "source": [
        "age = 12\n",
        "if age < 18:\n",
        "    print(\"You are a minor.\")\n",
        "elif age < 60:\n",
        "    print(\"You are an adult.\")\n",
        "else:\n",
        "    print(\"You are a senior citizen.\")"
      ],
      "metadata": {
        "colab": {
          "base_uri": "https://localhost:8080/"
        },
        "id": "WJQjZTy9A1Nr",
        "outputId": "0b4e08b1-4946-4dc9-936e-1c594b2f8e3d"
      },
      "id": "WJQjZTy9A1Nr",
      "execution_count": null,
      "outputs": [
        {
          "output_type": "stream",
          "name": "stdout",
          "text": [
            "You are a minor.\n"
          ]
        }
      ]
    },
    {
      "cell_type": "code",
      "source": [
        "age = 25\n",
        "is_student = False\n",
        "\n",
        "if age < 30 and is_student:\n",
        "    print(\"You qualify for the student discount.\")"
      ],
      "metadata": {
        "id": "OPY9BnrpBFFg"
      },
      "id": "OPY9BnrpBFFg",
      "execution_count": null,
      "outputs": []
    },
    {
      "cell_type": "code",
      "source": [
        "age = 17\n",
        "# status = \"Adult\" if age >= 18 else \"Minor\"\n",
        "# print(status)  # Output: Mino\n",
        "\n",
        "\n",
        "# if age < 18:\n",
        "#     status = \"Minor\"\n",
        "# else:\n",
        "#     status = \"Adult\"\n",
        "# print(status)\n",
        "\n",
        "\n",
        "status = 'adult' if age>=18 else 'minor'"
      ],
      "metadata": {
        "id": "ujrYtp2OBflp"
      },
      "id": "ujrYtp2OBflp",
      "execution_count": null,
      "outputs": []
    },
    {
      "cell_type": "code",
      "source": [
        "print(status)\n"
      ],
      "metadata": {
        "colab": {
          "base_uri": "https://localhost:8080/"
        },
        "id": "Au4ve8C2B7wj",
        "outputId": "5681bb37-6c10-41d3-930f-e9ad614d612f"
      },
      "id": "Au4ve8C2B7wj",
      "execution_count": null,
      "outputs": [
        {
          "output_type": "stream",
          "name": "stdout",
          "text": [
            "minor\n"
          ]
        }
      ]
    },
    {
      "cell_type": "markdown",
      "id": "c117ceec",
      "metadata": {
        "id": "c117ceec"
      },
      "source": [
        "### Examples\n",
        "**Basic Example**\n",
        "```python\n",
        "age = 20\n",
        "if age < 18:\n",
        "    print(\"You are a minor.\")\n",
        "elif age < 60:\n",
        "    print(\"You are an adult.\")\n",
        "else:\n",
        "    print(\"You are a senior citizen.\")\n",
        "```\n",
        "\n",
        "**Using Logical Operators**\n",
        "```python\n",
        "age = 25\n",
        "is_student = True\n",
        "\n",
        "if age < 30 and is_student:\n",
        "    print(\"You qualify for the student discount.\")\n",
        "```"
      ]
    },
    {
      "cell_type": "markdown",
      "id": "76ce5c32",
      "metadata": {
        "id": "76ce5c32"
      },
      "source": [
        "## 3. Ternary Conditional Statements\n",
        "- A concise way to write conditional statements in a single line.\n",
        "```python\n",
        "age = 17\n",
        "status = \"Adult\" if age >= 18 else \"Minor\"\n",
        "print(status)  # Output: Minor\n",
        "```"
      ]
    },
    {
      "cell_type": "markdown",
      "id": "c6098c9c",
      "metadata": {
        "id": "c6098c9c"
      },
      "source": [
        "## 4. Loops\n",
        "### **For Loop**\n",
        "Used to iterate over a sequence (e.g., list, tuple, string, or range).\n",
        "```python\n",
        "for item in [1, 2, 3]:\n",
        "    print(item)\n",
        "\n",
        "for i in range(5):\n",
        "    print(i)  # Output: 0, 1, 2, 3, 4\n",
        "```\n",
        "\n",
        "### **While Loop**\n",
        "Used to execute a block of code as long as a condition is True.\n",
        "```python\n",
        "count = 0\n",
        "while count < 5:\n",
        "    print(count)\n",
        "    count += 1\n",
        "```"
      ]
    },
    {
      "cell_type": "code",
      "source": [
        "for num in range(5):\n",
        "    if num == 3:\n",
        "      pass\n",
        "    print(num)\n"
      ],
      "metadata": {
        "colab": {
          "base_uri": "https://localhost:8080/"
        },
        "id": "Wzb1JOd3CiXW",
        "outputId": "356b67dd-7c26-4b62-a2b5-4c11ca3afe06"
      },
      "id": "Wzb1JOd3CiXW",
      "execution_count": null,
      "outputs": [
        {
          "output_type": "stream",
          "name": "stdout",
          "text": [
            "0\n",
            "1\n",
            "2\n",
            "3\n",
            "4\n"
          ]
        }
      ]
    },
    {
      "cell_type": "markdown",
      "id": "3e390c9c",
      "metadata": {
        "id": "3e390c9c"
      },
      "source": [
        "## 5. Loop Control Statements\n",
        "| Statement   | Description                                              |\n",
        "|-------------|----------------------------------------------------------|\n",
        "| `break`     | Terminates the loop entirely.                            |\n",
        "| `continue`  | Skips the current iteration and proceeds to the next one.|\n",
        "| `pass`      | Does nothing; acts as a placeholder.                    |\n",
        "\n",
        "**Examples**\n",
        "```python\n",
        "# Using break\n",
        "for num in range(10):\n",
        "    if num == 5:\n",
        "        break\n",
        "    print(num)\n",
        "\n",
        "# Using continue\n",
        "for num in range(10):\n",
        "    if num % 2 == 0:\n",
        "        continue\n",
        "    print(num)  # Prints only odd numbers\n",
        "\n",
        "# Using pass\n",
        "for num in range(5):\n",
        "    if num == 3:\n",
        "        pass  # Placeholder\n",
        "    print(num)\n",
        "```"
      ]
    },
    {
      "cell_type": "code",
      "source": [
        "for i in range(3):\n",
        "    for j in range(5):\n",
        "        if j == 2:\n",
        "            break\n",
        "        print(f\"i: {i}, j: {j}\")\n"
      ],
      "metadata": {
        "colab": {
          "base_uri": "https://localhost:8080/"
        },
        "id": "sJRukrMcDQts",
        "outputId": "3753bb4f-1b2e-42cd-ea38-6cdeed41dc12"
      },
      "id": "sJRukrMcDQts",
      "execution_count": null,
      "outputs": [
        {
          "output_type": "stream",
          "name": "stdout",
          "text": [
            "i: 0, j: 0\n",
            "i: 0, j: 1\n",
            "i: 1, j: 0\n",
            "i: 1, j: 1\n",
            "i: 2, j: 0\n",
            "i: 2, j: 1\n"
          ]
        }
      ]
    },
    {
      "cell_type": "markdown",
      "id": "b9d764a6",
      "metadata": {
        "id": "b9d764a6"
      },
      "source": [
        "## 6. Nested Conditionals and Loops\n",
        "### Nested If Statements\n",
        "```python\n",
        "age = 25\n",
        "citizenship = \"US\"\n",
        "if age >= 18:\n",
        "    if citizenship == \"US\":\n",
        "        print(\"You are eligible to vote.\")\n",
        "    else:\n",
        "        print(\"You must be a US citizen to vote.\")\n",
        "else:\n",
        "    print(\"You are not eligible to vote.\")\n",
        "```\n",
        "\n",
        "### Nested Loops\n",
        "```python\n",
        "for i in range(3):\n",
        "    for j in range(2):\n",
        "        print(f\"i: {i}, j: {j}\")\n",
        "```"
      ]
    },
    {
      "cell_type": "code",
      "source": [
        "if True:\n"
      ],
      "metadata": {
        "id": "PYtA-f9xDtLA"
      },
      "id": "PYtA-f9xDtLA",
      "execution_count": null,
      "outputs": []
    },
    {
      "cell_type": "markdown",
      "id": "090c6662",
      "metadata": {
        "id": "090c6662"
      },
      "source": [
        "## 7. Common Mistakes\n",
        "1. **Incorrect Indentation**:\n",
        "   ```python\n",
        "   if True:\n",
        "   print(\"Hello\")  # IndentationError\n",
        "   ```\n",
        "\n",
        "2. **Using `=` Instead of `==` in Conditions**:\n",
        "   ```python\n",
        "   if age = 25:  # SyntaxError: invalid syntax\n",
        "       print(\"Age is 25\")\n",
        "   ```\n",
        "\n",
        "3. **Infinite Loops**:\n",
        "   ```python\n",
        "   while True:\n",
        "       print(\"This loop will never end unless there is a break statement.\")\n",
        "   ```"
      ]
    },
    {
      "cell_type": "markdown",
      "id": "fde937f7",
      "metadata": {
        "id": "fde937f7"
      },
      "source": [
        "## 8. Example Exercises\n",
        "1. Write a program to check if a number is positive, negative, or zero.\n",
        "2. Use a for loop to calculate the sum of all numbers from 1 to 100.\n",
        "3. Write a program that prints the multiplication table for numbers 1 to 5 using nested loops.\n",
        "4. Create a program that accepts a password and gives the user three attempts to enter the correct one.\n",
        "5. Use a while loop to reverse the digits of a given number.\n"
      ]
    },
    {
      "cell_type": "code",
      "source": [
        "name = {}\n",
        "\n",
        "if name:\n",
        "    print(\"Name is not empty.\")\n",
        "else:\n",
        "    print(\"Name is empty.\")"
      ],
      "metadata": {
        "colab": {
          "base_uri": "https://localhost:8080/"
        },
        "id": "b4U8Bzq0D3kc",
        "outputId": "8ef66de6-8d65-4a52-dc7e-b1136c92ff41"
      },
      "id": "b4U8Bzq0D3kc",
      "execution_count": null,
      "outputs": [
        {
          "output_type": "stream",
          "name": "stdout",
          "text": [
            "Name is empty.\n"
          ]
        }
      ]
    },
    {
      "cell_type": "code",
      "source": [],
      "metadata": {
        "id": "vKh43kdmD_Wk"
      },
      "id": "vKh43kdmD_Wk",
      "execution_count": null,
      "outputs": []
    }
  ],
  "metadata": {
    "colab": {
      "provenance": []
    },
    "language_info": {
      "name": "python"
    },
    "kernelspec": {
      "name": "python3",
      "display_name": "Python 3"
    }
  },
  "nbformat": 4,
  "nbformat_minor": 5
}