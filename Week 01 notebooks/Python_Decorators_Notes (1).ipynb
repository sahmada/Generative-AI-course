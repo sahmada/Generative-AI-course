{
  "cells": [
    {
      "cell_type": "markdown",
      "id": "1f4e9c83",
      "metadata": {
        "id": "1f4e9c83"
      },
      "source": [
        "# Python Decorators - Teaching Notes"
      ]
    },
    {
      "cell_type": "markdown",
      "id": "76497ed9",
      "metadata": {
        "id": "76497ed9"
      },
      "source": [
        "## 1. Definition\n",
        "- A **decorator** is a function that modifies the behavior of another function or method.\n",
        "- Decorators allow you to wrap additional functionality around existing functions in a clean and reusable way."
      ]
    },
    {
      "cell_type": "markdown",
      "id": "76600156",
      "metadata": {
        "id": "76600156"
      },
      "source": [
        "## 2. Syntax\n",
        "```python\n",
        "def decorator_function(original_function):\n",
        "    def wrapper_function(*args, **kwargs):\n",
        "        # Add functionality here\n",
        "        return original_function(*args, **kwargs)\n",
        "    return wrapper_function\n",
        "\n",
        "@decorator_function\n",
        "def display():\n",
        "    print(\"Display function executed\")\n",
        "\n",
        "display()\n",
        "```"
      ]
    },
    {
      "cell_type": "code",
      "source": [
        "import time\n",
        "\n",
        "def timer_decorator(func):\n",
        "    def wrapper(*args, **kwargs):\n",
        "        start_time = time.time()\n",
        "        result = func(*args, **kwargs)\n",
        "        end_time = time.time()\n",
        "        print(f\"Execution time: {end_time - start_time:.4f} seconds\")\n",
        "        return result\n",
        "    return wrapper\n",
        "\n",
        "@timer_decorator\n",
        "def slow_function():\n",
        "    time.sleep(2)\n",
        "    print(\"Finished slow function\")\n",
        "\n",
        "slow_function()"
      ],
      "metadata": {
        "colab": {
          "base_uri": "https://localhost:8080/"
        },
        "id": "d2-2VER2QomA",
        "outputId": "73001bed-fc58-42cf-b7c0-6722eec1d03f"
      },
      "id": "d2-2VER2QomA",
      "execution_count": null,
      "outputs": [
        {
          "output_type": "stream",
          "name": "stdout",
          "text": [
            "Finished slow function\n",
            "Execution time: 2.0002 seconds\n"
          ]
        }
      ]
    },
    {
      "cell_type": "markdown",
      "id": "76b537ee",
      "metadata": {
        "id": "76b537ee"
      },
      "source": [
        "## 3. Example: Timer Decorator\n",
        "A timer decorator measures the execution time of a function.\n",
        "```python\n",
        "import time\n",
        "\n",
        "def timer_decorator(func):\n",
        "    def wrapper(*args, **kwargs):\n",
        "        start_time = time.time()\n",
        "        result = func(*args, **kwargs)\n",
        "        end_time = time.time()\n",
        "        print(f\"Execution time: {end_time - start_time:.4f} seconds\")\n",
        "        return result\n",
        "    return wrapper\n",
        "\n",
        "@timer_decorator\n",
        "def slow_function():\n",
        "    time.sleep(2)\n",
        "    print(\"Finished slow function\")\n",
        "\n",
        "slow_function()\n",
        "```"
      ]
    },
    {
      "cell_type": "markdown",
      "id": "20a2758a",
      "metadata": {
        "id": "20a2758a"
      },
      "source": [
        "## 4. Example: Retry Decorator\n",
        "A retry decorator retries a function call if it raises an exception, up to a specified number of retries.\n",
        "```python\n",
        "import time\n",
        "\n",
        "def retry_decorator(max_retries):\n",
        "    def decorator(func):\n",
        "        def wrapper(*args, **kwargs):\n",
        "            for attempt in range(max_retries):\n",
        "                try:\n",
        "                    return func(*args, **kwargs)\n",
        "                except Exception as e:\n",
        "                    print(f\"Attempt {attempt + 1} failed: {e}\")\n",
        "                    time.sleep(1)  # Wait before retrying\n",
        "            print(\"All attempts failed.\")\n",
        "        return wrapper\n",
        "    return decorator\n",
        "\n",
        "@retry_decorator(max_retries=3)\n",
        "def unreliable_function():\n",
        "    print(\"Trying...\")\n",
        "    raise ValueError(\"Failed!\")\n",
        "\n",
        "unreliable_function()\n",
        "```"
      ]
    },
    {
      "cell_type": "markdown",
      "id": "0bd7804c",
      "metadata": {
        "id": "0bd7804c"
      },
      "source": [
        "## 5. Advantages of Decorators\n",
        "- **Code Reusability**: Wrap common functionality (e.g., logging, authentication) around multiple functions.\n",
        "- **Separation of Concerns**: Keeps core logic separate from additional functionality.\n",
        "- **Readability**: Clean and intuitive way to add functionality without modifying the original function."
      ]
    },
    {
      "cell_type": "markdown",
      "id": "80c3dd0a",
      "metadata": {
        "id": "80c3dd0a"
      },
      "source": [
        "## 6. Common Use Cases for Decorators\n",
        "1. **Logging**: Automatically log information about function calls.\n",
        "2. **Timing**: Measure execution time of functions.\n",
        "3. **Retry Logic**: Retry a function if it fails.\n",
        "4. **Access Control**: Enforce permissions or roles for certain functions.\n",
        "5. **Caching**: Cache the results of expensive function calls."
      ]
    },
    {
      "cell_type": "markdown",
      "id": "731b51f6",
      "metadata": {
        "id": "731b51f6"
      },
      "source": [
        "## 7. Example Exercises\n",
        "1. Create a decorator that logs the arguments and return value of a function.\n",
        "2. Write a decorator that caches the results of a function.\n",
        "3. Implement a decorator to enforce user authentication before executing a function.\n",
        "4. Write a decorator that limits the rate of function calls (e.g., only allow one call per second).\n",
        "5. Create a decorator that validates the input types of a function's arguments."
      ]
    }
  ],
  "metadata": {
    "colab": {
      "provenance": []
    },
    "language_info": {
      "name": "python"
    },
    "kernelspec": {
      "name": "python3",
      "display_name": "Python 3"
    }
  },
  "nbformat": 4,
  "nbformat_minor": 5
}