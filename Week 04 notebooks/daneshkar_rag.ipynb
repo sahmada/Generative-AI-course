{
  "cells": [
    {
      "cell_type": "code",
      "execution_count": null,
      "metadata": {
        "id": "3QKrfgsj_blR"
      },
      "outputs": [],
      "source": [
        "!pip install -qU  langchain-openai langchain_community langchain grandalf\n",
        "!pip install -qU  faiss-cpu wikipedia arxiv\n"
      ]
    },
    {
      "cell_type": "code",
      "execution_count": null,
      "metadata": {
        "id": "g3ZXdC6e_oL4"
      },
      "outputs": [],
      "source": [
        "from google.colab import userdata\n",
        "openai_api_key = userdata.get('openai_api_key')\n",
        "from IPython.display import display, Markdown\n"
      ]
    },
    {
      "cell_type": "code",
      "execution_count": null,
      "metadata": {
        "id": "HhVZuFrW_qEj"
      },
      "outputs": [],
      "source": [
        "from langchain_core.output_parsers import StrOutputParser\n",
        "from langchain_openai  import ChatOpenAI\n",
        "from langchain.schema import SystemMessage, HumanMessage,AIMessage\n",
        "from langchain.prompts import PromptTemplate, ChatPromptTemplate, MessagesPlaceholder\n",
        "llm = ChatOpenAI(openai_api_key=openai_api_key, model='gpt-4o-mini', temperature=0)\n",
        "\n"
      ]
    },
    {
      "cell_type": "code",
      "execution_count": null,
      "metadata": {
        "id": "EL5CUws_Ldxo"
      },
      "outputs": [],
      "source": [
        "prompt = ChatPromptTemplate.from_messages(\n",
        "  [\n",
        "    (\n",
        "      \"system\", \"You are a helpful assistant\",\n",
        "    ),\n",
        "    (\"user\", \"{question}\"),\n",
        "  ]\n",
        ")"
      ]
    },
    {
      "cell_type": "code",
      "source": [
        "chain = prompt | llm | StrOutputParser()\n",
        "question = \"\"\"روش‌های اصلی مورد استفاده برای محافظت از محصولات کشاورزی در برابر سرمازدگی چیست و مزایا و محدودیت‌های هر یک از این روش‌ها کدامند؟\"\"\"\n",
        "\n",
        "response = chain.invoke({'question':question})\n",
        "display(Markdown(response))"
      ],
      "metadata": {
        "colab": {
          "base_uri": "https://localhost:8080/",
          "height": 1000
        },
        "id": "_OGPXwGZDPwi",
        "outputId": "be145dc6-ccab-4ebc-d5b3-2003bbfc9f63"
      },
      "execution_count": null,
      "outputs": [
        {
          "output_type": "display_data",
          "data": {
            "text/plain": [
              "<IPython.core.display.Markdown object>"
            ],
            "text/markdown": "محافظت از محصولات کشاورزی در برابر سرمازدگی یکی از چالش‌های مهم در کشاورزی است. روش‌های مختلفی برای این منظور وجود دارد که هر یک مزایا و محدودیت‌های خاص خود را دارند. در زیر به برخی از این روش‌ها اشاره می‌شود:\n\n### 1. **پوشش‌های محافظتی (مانند پلاستیک یا پارچه‌های مخصوص)**\n   - **مزایا:**\n     - ایجاد یک لایه عایق حرارتی که می‌تواند دما را در سطح گیاه افزایش دهد.\n     - قابل استفاده برای گیاهان جوان و حساس.\n   - **محدودیت‌ها:**\n     - نیاز به نصب و نگهداری منظم.\n     - ممکن است در شرایط باد شدید یا باران آسیب ببیند.\n\n### 2. **سیستم‌های گرمایش (مانند بخاری‌های باغی)**\n   - **مزایا:**\n     - می‌تواند دما را به طور مؤثری افزایش دهد و از سرمازدگی جلوگیری کند.\n     - مناسب برای مناطق با سرمای شدید.\n   - **محدودیت‌ها:**\n     - هزینه‌های بالای انرژی و نگهداری.\n     - نیاز به نظارت و کنترل مداوم.\n\n### 3. **آبیاری در شب**\n   - **مزایا:**\n     - آب در هنگام یخ زدن حرارت آزاد می‌کند و دما را افزایش می‌دهد.\n     - می‌تواند به حفظ رطوبت خاک کمک کند.\n   - **محدودیت‌ها:**\n     - نیاز به منابع آب کافی.\n     - ممکن است در شرایط خاصی (مانند یخ‌زدگی شدید) مؤثر نباشد.\n\n### 4. **استفاده از مواد شیمیایی (مانند ضد یخ‌ها)**\n   - **مزایا:**\n     - می‌تواند به کاهش دما در سطح گیاه کمک کند.\n     - معمولاً سریع و آسان برای استفاده است.\n   - **محدودیت‌ها:**\n     - ممکن است اثرات منفی بر روی محیط زیست داشته باشد.\n     - نیاز به استفاده مکرر و هزینه‌های اضافی.\n\n### 5. **کشت در زمان مناسب**\n   - **مزایا:**\n     - انتخاب زمان مناسب برای کشت می‌تواند به کاهش خطر سرمازدگی کمک کند.\n     - می‌تواند به بهینه‌سازی تولید و کیفیت محصول کمک کند.\n   - **محدودیت‌ها:**\n     - نیاز به دانش و تجربه در مورد شرایط آب و هوایی.\n     - ممکن است در برخی مناطق محدودیت‌های فصلی وجود داشته باشد.\n\n### 6. **استفاده از گیاهان مقاوم به سرما**\n   - **مزایا:**\n     - انتخاب گونه‌های مقاوم می‌تواند به کاهش خطر سرمازدگی کمک کند.\n     - می‌تواند به بهبود تنوع زیستی و پایداری کشاورزی کمک کند.\n   - **محدودیت‌ها:**\n     - ممکن است تنوع کمتری در محصولات موجود باشد.\n     - نیاز به تحقیق و توسعه برای شناسایی و پرورش گونه‌های مقاوم.\n\n### نتیجه‌گیری\nهر یک از این روش‌ها می‌تواند به تنهایی یا به صورت ترکیبی برای محافظت از محصولات کشاورزی در برابر سرمازدگی استفاده شود. انتخاب روش مناسب بستگی به شرایط خاص منطقه، نوع محصول و منابع موجود دارد."
          },
          "metadata": {}
        }
      ]
    },
    {
      "cell_type": "code",
      "source": [
        "prompt = ChatPromptTemplate.from_messages(\n",
        "    [\n",
        "        (\n",
        "            \"system\",\n",
        "            \"You are a helpful assistant\",\n",
        "        ),\n",
        "        (\"system\", \"answer the following question based on the given context.your answer has to be impactful. question is '{question}', context is: {context}\"),\n",
        "    ]\n",
        ")"
      ],
      "metadata": {
        "id": "sq2yRjJtR0oz"
      },
      "execution_count": null,
      "outputs": []
    },
    {
      "cell_type": "code",
      "source": [
        "# question = 'hellow how is it going'\n",
        "context = \"\"\"سرمازدگی درختان و یخبندان و ضرورت مدیریت آن\n",
        "از مجموع کل اراضی کشاورزی جهان حدود دو سوم آن در معرض خطر سرما و یخبندان و یک سوم آن تقریباً به طور طبیعی از این خطر مصون است. همه ساله بخش ­هایی از ‌استان­ های‌ کشور ‌متأثر ‌از ‌تنش ­های سرمازدگی زودرس ‌پاییزه، یخبندان زمستانه ‌و ‌یا سرمازدگی دیررس بهاره می ­باشند و‌ از ‌این منظر ‌خسارات ‌زیادی به ‌محصولات‌ زراعی و ‌باغی وارد‌ می­ گردد. بالاترین ریسک سرمازدگی زمانی است ‌که‌ گیاه در ‌حال ‌فعالیت و ‌رشد ‌و‌ نمو ‌باشد.\n",
        "\n",
        "با وجود تلاش ­های زیادی که برای کاهش خسارت­ های ناشی از سرمازدگی محصولات کشاورزی صورت گرفته است، هر ساله خسارت­ های زیادی به محصولات به ویژه محصولات باغی کشور وارد می ­شود. سرمازدگی در استان­ های مختلف، بین 50 تا 100 درصد محصولات باغی را از چرخه تولید و اقتصاد کشاورزی خارج می ­کند. کاهش خسارت­ های ناشی از سرمازدگی به محصولات کشاورزی می ­تواند گام مهمی در تأمین غذای مورد نیاز و امنیت غذایی کشور باشد.\n",
        "\n",
        "در سال ­های اخیر از راه های گوناگونی برای مقابله با سرمازدگی استفاده شده است. به طور كلي دو روش فعال و غيرفعال براي حفاظت از محصولات در برابر سرمازدگي وجود دارد. هر یک از این روش­ها دارای مزیت­ها و محدودیت ­های مخصوص به خود است. بنابراین، انتخاب هر یک از روشها، نیاز به شناخت درست آنها و در نظر گرفتن نوع و شرایط محصول و همچنین وضعیت آب و هوایی منطقه دارد. امید است این مقاله بتواند اطلاعات لازم و راهکار های مناسب برای مقابله با سرمازدگی به کارشناسان، باغداران و کشاورزان ارائه کند.\n",
        "\"\"\"\n",
        "chain = prompt | llm | StrOutputParser()\n",
        "response = chain.invoke({'question':question, 'context': context})\n",
        "display(Markdown(response))"
      ],
      "metadata": {
        "id": "9MfjaxzNSGds",
        "colab": {
          "base_uri": "https://localhost:8080/",
          "height": 481
        },
        "outputId": "ed97723b-9f9e-4cf9-a105-fb90683ca167"
      },
      "execution_count": null,
      "outputs": [
        {
          "output_type": "display_data",
          "data": {
            "text/plain": [
              "<IPython.core.display.Markdown object>"
            ],
            "text/markdown": "برای محافظت از محصولات کشاورزی در برابر سرمازدگی، دو روش اصلی وجود دارد: روش‌های فعال و غیر فعال. هر یک از این روش‌ها مزایا و محدودیت‌های خاص خود را دارند که در ادامه به آن‌ها اشاره می‌شود.\n\n### روش‌های فعال:\nاین روش‌ها شامل اقداماتی هستند که به طور مستقیم برای افزایش دما یا کاهش اثرات سرما انجام می‌شوند. \n\n**مزایا:**\n- **کارایی بالا:** این روش‌ها می‌توانند به سرعت دما را افزایش دهند و از آسیب به محصولات جلوگیری کنند.\n- **انعطاف‌پذیری:** امکان تنظیم و بهینه‌سازی بر اساس شرایط جوی و نوع محصول وجود دارد.\n\n**محدودیت‌ها:**\n- **هزینه‌بر:** این روش‌ها معمولاً نیاز به سرمایه‌گذاری بالا دارند، مانند استفاده از سیستم‌های گرمایشی یا پوشش‌های حرارتی.\n- **نیاز به مدیریت مداوم:** این روش‌ها نیاز به نظارت و مدیریت مداوم دارند که ممکن است برای کشاورزان دشوار باشد.\n\n### روش‌های غیر فعال:\nاین روش‌ها شامل اقداماتی هستند که به طور طبیعی از محصولات در برابر سرما محافظت می‌کنند، مانند انتخاب مکان‌های مناسب برای کشت یا استفاده از پوشش‌های گیاهی.\n\n**مزایا:**\n- **هزینه کمتر:** این روش‌ها معمولاً نیاز به سرمایه‌گذاری کمتری دارند و می‌توانند به طور طبیعی از محصولات محافظت کنند.\n- **پایداری:** این روش‌ها می‌توانند به بهبود شرایط خاک و اکوسیستم کمک کنند و در بلندمدت مؤثرتر باشند.\n\n**محدودیت‌ها:**\n- **کارایی محدود:** این روش‌ها ممکن است در شرایط شدید سرما به اندازه کافی مؤثر نباشند.\n- **نیاز به زمان:** برخی از این روش‌ها ممکن است زمان‌بر باشند و نتایج فوری نداشته باشند.\n\nدر نهایت، انتخاب روش مناسب برای محافظت از محصولات کشاورزی در برابر سرمازدگی بستگی به نوع محصول، شرایط آب و هوایی و منابع موجود دارد. با شناخت دقیق این روش‌ها و در نظر گرفتن مزایا و محدودیت‌های آن‌ها، می‌توان به کاهش خسارات ناشی از سرمازدگی و تأمین امنیت غذایی کشور کمک کرد."
          },
          "metadata": {}
        }
      ]
    },
    {
      "cell_type": "code",
      "source": [],
      "metadata": {
        "id": "9VzCBYhlWciW"
      },
      "execution_count": null,
      "outputs": []
    },
    {
      "cell_type": "code",
      "execution_count": null,
      "metadata": {
        "id": "xNu6GLmCLeOR"
      },
      "outputs": [],
      "source": [
        "prompt = ChatPromptTemplate.from_messages(\n",
        "    [\n",
        "        (\n",
        "            \"system\",\n",
        "            \"You are a helpful assistant\",\n",
        "        ),\n",
        "        (\n",
        "            \"system\",\n",
        "            \"Your answer has to be impactful\",\n",
        "        ),\n",
        "        MessagesPlaceholder(variable_name=\"chat_history\"),\n",
        "        (\"user\", \"{text}\"),\n",
        "    ]\n",
        ")\n"
      ]
    },
    {
      "cell_type": "code",
      "execution_count": null,
      "metadata": {
        "id": "gx07rP8KBV72"
      },
      "outputs": [],
      "source": [
        "chain = prompt | llm | StrOutputParser()\n",
        "chat_history = []\n"
      ]
    },
    {
      "cell_type": "code",
      "execution_count": null,
      "metadata": {
        "colab": {
          "base_uri": "https://localhost:8080/",
          "height": 105
        },
        "id": "LWKysz3nBa2k",
        "outputId": "25e63c79-95be-44f7-91bb-b0bc1f9f689f"
      },
      "outputs": [
        {
          "output_type": "execute_result",
          "data": {
            "text/plain": [
              "'Your area of expertise is in large language models (LLMs), with a specific focus on LangChain, a framework designed to facilitate the development of applications that leverage LLMs. This includes understanding how to integrate LLMs into various workflows, building applications that utilize their capabilities, and optimizing their performance for specific tasks. Your knowledge likely encompasses topics such as prompt engineering, model fine-tuning, and the practical applications of LLMs in real-world scenarios.'"
            ],
            "application/vnd.google.colaboratory.intrinsic+json": {
              "type": "string"
            }
          },
          "metadata": {},
          "execution_count": 109
        }
      ],
      "source": [
        "i = 1\n",
        "texts = [\"I am a LLM specialist who is an expert in LangChain, who are you?\",\n",
        "         \"What is my area of expertise?\",\n",
        "         \"\"\"Please provide some questions that the LLM (Language Model) may not be proficient at answering,\n",
        "          but Wikipedia would be well-suited to address.\"\"\"\n",
        "         ,\"\"\"\"Who won the Asian National Cup in 2023?\"\"\",\n",
        "         \" i want o record a 80 second video to introduce my courese about LangChain. and its application, why we should learn it? why its important to learn? who should learn it?\"\n",
        "         , \"No. my friend Langchain is a framework to work with llm. it s not about blockchain or etc. rewrite your previouse answer\",\n",
        "         'you did well. but consider absolutly beginner  and start with some bassic information maybe they do not know llms but they know chatgpt. so use this fact and change: also consider langchain is  a framework to work with llm',\n",
        "         \"can i mention a search engine in langchain application?\"]\n",
        "\n",
        "text = texts[i]\n",
        "# chat_history = chat_history[-3:]\n",
        "response_message = chain.invoke({'chat_history':chat_history, 'text':text})\n",
        "response_message\n"
      ]
    },
    {
      "cell_type": "code",
      "source": [],
      "metadata": {
        "id": "KkeOxeL_TWAc"
      },
      "execution_count": null,
      "outputs": []
    },
    {
      "cell_type": "code",
      "source": [
        "chat_history.extend([HumanMessage(content=text), AIMessage(content=response_message)])"
      ],
      "metadata": {
        "id": "wJJMYYaMSkWD"
      },
      "execution_count": null,
      "outputs": []
    },
    {
      "cell_type": "code",
      "execution_count": null,
      "metadata": {
        "colab": {
          "base_uri": "https://localhost:8080/"
        },
        "id": "7YqYq1XeHfRC",
        "outputId": "d5a440ce-5b17-43ca-aa40-b4f785a675c3"
      },
      "outputs": [
        {
          "output_type": "execute_result",
          "data": {
            "text/plain": [
              "[HumanMessage(content='I am a LLM specialist who is an expert in LangChain, who are you?', additional_kwargs={}, response_metadata={}),\n",
              " AIMessage(content='I am an AI language model designed to assist and provide information on a wide range of topics, including LangChain and other technologies related to natural language processing and machine learning. My goal is to support your inquiries, share insights, and help you explore the capabilities of language models and their applications. How can I assist you today?', additional_kwargs={}, response_metadata={})]"
            ]
          },
          "metadata": {},
          "execution_count": 105
        }
      ],
      "source": [
        "# chat_history.extend([HumanMessage(content=text), AIMessage(content=response_message)])\n",
        "chat_history"
      ]
    },
    {
      "cell_type": "code",
      "execution_count": null,
      "metadata": {
        "colab": {
          "base_uri": "https://localhost:8080/",
          "height": 122
        },
        "id": "2YrPnKlhEm4Z",
        "outputId": "6b2c8e67-1281-48cb-a022-be082f209504"
      },
      "outputs": [
        {
          "output_type": "execute_result",
          "data": {
            "text/plain": [
              "'System: You are a helpful assistant\\nSystem: Your answer has to be impactful\\nHuman: I am a LLM specialist who is an expert in LangChain, who are you?\\nAI: I am an AI language model designed to assist and provide information on a wide range of topics, including LangChain and other technologies related to natural language processing and machine learning. My goal is to support your inquiries, share insights, and help you explore the capabilities of language models and their applications. How can I assist you today?\\nHuman: I am a LLM specialist who is an expert in LangChain, who are you?'"
            ],
            "application/vnd.google.colaboratory.intrinsic+json": {
              "type": "string"
            }
          },
          "metadata": {},
          "execution_count": 106
        }
      ],
      "source": [
        "prompt.format(text=texts[i], chat_history=chat_history)"
      ]
    },
    {
      "cell_type": "code",
      "execution_count": null,
      "metadata": {
        "id": "SdLSIvtYdxFd"
      },
      "outputs": [],
      "source": [
        "texts[i]"
      ]
    },
    {
      "cell_type": "code",
      "source": [
        "llm.invoke(texts[i+1])"
      ],
      "metadata": {
        "colab": {
          "base_uri": "https://localhost:8080/"
        },
        "id": "qbMTOmsz_h7U",
        "outputId": "9c5d5aa4-e38d-4154-ee76-4bb991f12ecc"
      },
      "execution_count": null,
      "outputs": [
        {
          "output_type": "execute_result",
          "data": {
            "text/plain": [
              "AIMessage(content=\"I don't have access to personal data about you unless you've shared specific information in our conversation. If you tell me about your background, interests, or experiences, I can help you identify your area of expertise!\", additional_kwargs={'refusal': None}, response_metadata={'token_usage': {'completion_tokens': 42, 'prompt_tokens': 14, 'total_tokens': 56, 'completion_tokens_details': {'accepted_prediction_tokens': 0, 'audio_tokens': 0, 'reasoning_tokens': 0, 'rejected_prediction_tokens': 0}, 'prompt_tokens_details': {'audio_tokens': 0, 'cached_tokens': 0}}, 'model_name': 'gpt-4o-mini-2024-07-18', 'system_fingerprint': 'fp_13eed4fce1', 'finish_reason': 'stop', 'logprobs': None}, id='run-bc00e434-75ef-4c1e-9f1d-ab33ebf2c6f0-0', usage_metadata={'input_tokens': 14, 'output_tokens': 42, 'total_tokens': 56, 'input_token_details': {'audio': 0, 'cache_read': 0}, 'output_token_details': {'audio': 0, 'reasoning': 0}})"
            ]
          },
          "metadata": {},
          "execution_count": 108
        }
      ]
    },
    {
      "cell_type": "markdown",
      "source": [
        "**What is Retrieval-Augmented Generation?**\n",
        "\n",
        "**Retrieval-Augmented Generation (RAG)** is the process of optimizing the output of a **large language model**, so it references an **authoritative knowledge base** outside of its training data sources before generating a response. **Large Language Models (LLMs)** are trained on vast volumes of data and use billions of parameters to generate original output for tasks like answering questions, translating languages, and completing sentences. **RAG** extends the already powerful capabilities of **LLMs** to specific domains or an organization's internal knowledge base, all without the need to retrain the model. It is a **cost-effective approach** to improving **LLM output** so it remains relevant, accurate, and useful in various contexts.\n"
      ],
      "metadata": {
        "id": "VX5gBpiv_iUO"
      }
    },
    {
      "cell_type": "code",
      "source": [],
      "metadata": {
        "id": "dk391A1SAM-j"
      },
      "execution_count": null,
      "outputs": []
    },
    {
      "cell_type": "markdown",
      "source": [
        "**Known challenges of LLMs include:**\n",
        "\n",
        "- **Presenting false information** when it does not have the answer.\n",
        "- **Presenting out-of-date or generic information** when the user expects a specific, current response.\n",
        "- **Creating a response from non-authoritative sources.**\n",
        "- **Creating inaccurate responses** due to **terminology confusion**, wherein different training sources use the same terminology to talk about different things.\n"
      ],
      "metadata": {
        "id": "Cm-DiKJZANh3"
      }
    },
    {
      "cell_type": "code",
      "source": [],
      "metadata": {
        "id": "1rszRDqoAzix"
      },
      "execution_count": null,
      "outputs": []
    },
    {
      "cell_type": "markdown",
      "source": [
        "**What are the benefits of Retrieval-Augmented Generation?**\n",
        "\n",
        "- **Cost-effective implementation**: RAG introduces new data to the LLM without the high costs of retraining foundation models, making **generative AI** more accessible.\n",
        "\n",
        "- **Current information**: RAG connects LLMs to live data sources (e.g., social media, news), providing users with **up-to-date information**.\n",
        "\n",
        "- **Enhanced user trust**: RAG enables **accurate information** with **source attribution**, boosting **user confidence** through citations and references.\n",
        "\n",
        "- **More developer control**: Developers can easily adapt and improve the LLM's sources, **restrict access** based on authorization levels, and troubleshoot more effectively.\n"
      ],
      "metadata": {
        "id": "v2pLQhYxA0CI"
      }
    },
    {
      "cell_type": "code",
      "source": [],
      "metadata": {
        "id": "i2ADU39yCMdp"
      },
      "execution_count": null,
      "outputs": []
    },
    {
      "cell_type": "markdown",
      "source": [
        "**How does Retrieval-Augmented Generation work?**\n",
        "\n",
        "Without **RAG**, the **LLM** generates responses from its trained knowledge. With **RAG**, an **information retrieval component** pulls data from external sources using the user input. This data, along with the model’s training, helps generate more accurate responses. Here's how it works:\n",
        "\n",
        "### **1. Create external data**\n",
        "External data comes from **APIs**, **databases**, or **documents**. AI techniques like **embedding models** convert this data into numerical vectors, stored in a **vector database**, creating a knowledge library for the AI.\n",
        "\n",
        "### **2. Retrieve relevant information**\n",
        "The user query is converted into a **vector** and matched against the vector database. Relevant documents, such as an employee's **annual leave policy** or past records, are retrieved based on their **relevance** using **vector calculations**.\n",
        "\n",
        "### **3. Augment the LLM prompt**\n",
        "The relevant data is added to the prompt, enhancing the **LLM's response**. This step uses **prompt engineering** to guide the model in generating a precise answer.\n",
        "\n",
        "### **4. Update external data**\n",
        "To keep the information current, **external data** must be updated. This can be done through **real-time processes** or **batch updates**, ensuring data remains relevant and accurate.\n"
      ],
      "metadata": {
        "id": "xrXsFEFLCMw2"
      }
    },
    {
      "cell_type": "markdown",
      "metadata": {
        "id": "gYsKR5gTgtIQ"
      },
      "source": [
        "![rag.png](data:image/png;base64,iVBORw0KGgoAAAANSUhEUgAACeQAAAUTCAYAAACptbAOAAAACXBIWXMAACE4AAAhOAFFljFgAAAAAXNSR0IArs4c6QAAAARnQU1BAACxjwv8YQUAAOkXSURBVHgB7N0NfN31fdj771+WZck6jp+wZATYBmMb82SbYEjAEFKyDLrXwkPS3W5dE7a267rmrunars1u+rA2a3rXdW3vsjX3dvc2yZLe3NsUSLpXgBRGGjAETPEDDw5+4MFg4Qf8hCVbfoAz/f6Sjs6RZSPbR9bR0fttxPn/j845OudIhgQ+fL9ZnEMzFiyfEceOLYjjcUvv6fxiFBf0Xi7v//SCAAAAAAAAAAAAgNP3au/H/ohsfxaxrvf4tciydft3PP+9OIeyGGV5hHf42D3FiDsij++KMwIAAAAAAAAAAADOiex7WRZfiZj8vf071r0ao2hUgrzKCK94SwAAAAAAAAAAAMCY64vz9u944csxCqoa5KUQ791DR38hy7LPmIQHAAAAAAAAAABAjXq1WIwvNzQ0faWaU/OqEuQJ8QAAAAAAAAAAABiH8jDv7V0v/tuogrMO8mbMvfKWYvHdP+s9XBAAAAAAAAAAAAAw/ryaTZr0i/s7n7s/zsKkOENpKl7TlNlfiCh+KZ0GAAAAAAAAAAAAjE8zolj88SmFthktcy54qmf/jp44A2c0IW/G3OULisWjj4apeAAAAAAAAAAAANSXV7Os6cP7d6x7NU5TQ5ymvhW1x9aGGA8AAAAAAAAAAID6kwbWrZ3RtvTOOE2ntbL2fe1Lf6H34hu9H80BAAAAAAAAAAAA9ak5suzHWwrnHejpfusHI73TiIO897Vd/ptZlv1eAAAAAAAAAAAAwISQ3TaldU4c6d79NyO59YiCvDQZT4wHAAAAAAAAAADARJNlcctIJ+Vl73WDtAe3mGX3BQAAAAAAAAAAAExQWdbw4f07nv/eKW9zqk/OmLt8QbF4bG1EcUYAAAAAAAAAAADAxLU/y5pW7N+x7tWT3aDhZJ+YsWD5jGLx6KNiPAAAAAAAAAAAAIi8qUtt3clucNIg793Dx36z92JBAAAAAAAAAAAAAMmC/rZuWMOurJ3RdtWdxeyd+wIAAAAAAAAAAACokGUNH96/4/nvDb1+2Al5xeydPwwAAAAAAAAAAADgBMXiu3823OraE4K897VdblUtAAAAAAAAAAAAnNyC6Dn6maFXVqysnTF3+YJi8eijIcgDAAAAAAAAAACAU9mftTRdvP/VdfsHrqiYkPfuu0c/FWI8AAAAAAAAAAAAeC8zhk7Jq5iQN7398ldCkAcAAAAAAAAAAAAjUTElrzQhb8bcK+4JMR4AAAAAAAAAAACM1Iw4fOSegZNSkFcsxqcCAAAAAAAAAAAAGLFiNNwxcJyvrJ0xd/mCYvHoKwEAAAAAAAAAAACclqylaWZaW9s/Ie/YLQEAAAAAAAAAAACcvv61tXmQZ10tAAAAAAAAAAAAnJmBtbX5ytrp7ZcXAwAAAAAAAAAAADgT+7OWposbZsy98pYAAAAAAAAAAAAAztSMOHZsQUMU31keAAAAAAAAAAAAwJk7/u4tDRHZggAAAAAAAAAAAADOQragoRjZsgAAAAAAAAAAAADOxoKGSLtrAQAAAAAAAAAAgDNWjFjW0HshyAMAAAAAAAAAAICzlCbkLQgAAAAAAAAAAADgbOQrawEAAAAAAAAAAICzJMgDAAAAAAAAAACAKhDkAQAAAAAAAAAAQBUI8gAAAAAAAAAAAKAKBHkAAAAAAAAAAABQBYI8AAAAAAAAAAAAqAJBHgAAAAAAAAAAAFSBIA8AAAAAAAAAAACqQJAHAAAAAAAAAAAAVSDIAwAAAAAAAAAAgCoQ5AEAAAAAAAAAAEAVCPIAAAAAAAAAAACgCgR5AAAAAAAAAAAAUAWCPAAAAAAAAAAAAKgCQR4AAAAAAAAAAABUgSAPAAAAAAAAAAAAqkCQBwAAAAAAAAAAAFUgyAMAAAAAAAAAAIAqEOQBAAAAAAAAAABAFQjyAAAAAAAAAAAAoAoEeQAAAAAAAAAAAFAFgjwAAAAAAAAAAACoAkEeAAAAAAAAAAAAVIEgDwAAAAAAAAAAAKpAkAcAAAAAAAAAAABVIMgDAAAAAAAAAACAKhDkAQAAAAAAAAAAQBUI8gAAAAAAAAAAAKAKBHkAAAAAAAAAAABQBYI8AAAAAAAAAAAAqAJBHgAAAAAAAAAAAFSBIA8AAAAAAAAAAACqQJAHAAAAAAAAAAAAVSDIAwAAAAAAAAAAgCoQ5AEAAAAAAAAAAEAVCPIAAAAAAAAAAACgCgR5AAAAAAAAAAAAUAWCPAAAAAAAAAAAAKgCQR4AAAAAAAAAAABUgSAPAAAAAAAAAAAAqkCQBwAAAAAAAAAAAFUgyAMAAAAAAAAAAIAqEOQBAAAAAAAAAABAFQjyAAAAAAAAAAAAoAoEeQAAAAAAAAAAAFAFgjwAAAAAAAAAAACoAkEeAAAAAAAAAAAAVIEgDwAAAAAAAAAAAKpAkAcAAAAAAAAAAABVIMgDAAAAAAAAAACAKhDkAQAAAAAAAAAAQBUI8gAAAAAAAAAAAKAKBHkAAAAAAAAAAABQBYI8AAAAAAAAAAAAqAJBHgAAAAAAAAAAAFSBIA8AAAAAAAAAAACqQJAHAAAAAAAAAAAAVSDIAwAAAAAAAAAAgCoQ5AEAAAAAAAAAAEAVCPIAAAAAAAAAAACgCgR5AAAAAAAAAAAAUAWCPAAAAAAAAAAAAKgCQR4AAAAAAAAAAABUgSAPAAAAAAAAAAAAqkCQBwAAAAAAAAAAAFUgyAMAAAAAAAAAAIAqEOQBAAAAAAAAAABAFQjyAAAAAAAAAAAAoAoEeQAAAAAAAAAAAFAFgjwAAAAAAAAAAACoAkEeAAAAAAAAAAAAVIEgDwAAAAAAAAAAAKpAkAcAAAAAAAAAAABVIMgDAAAAAAAAAACAKhDkAQAAAAAAAAAAQBUI8gAAAAAAAAAAAKAKBHkAAAAAAAAAAABQBYI8AAAAAAAAAAAAqAJBHgAAAAAAAAAAAFSBIA8AAAAAAAAAAACqQJAHAAAAAAAAAAAAVSDIAwAAAAAAAAAAgCoQ5AEAAAAAAAAAAEAVCPIAAAAAAAAAAACgCgR5AAAAAAAAAAAAUAWCPAAAAAAAAAAAAKgCQR4AAAAAAAAAAABUgSAPAAAAAAAAAAAAqkCQBwAAAAAAAAAAAFUgyAMAAAAAAAAAAIAqEOQBAAAAAAAAAABAFQjyAAAAAAAAAAAAoAoEeQAAAAAAAAAAAFAFgjwAAAAAAAAAAACoAkEeAAAAAAAAAAAAVIEgDwAAAAAAAAAAAKpAkAcAAAAAAAAAAABVIMgDAAAAAAAAAACAKhDkAQAAAAAAAAAAQBUI8gAAAAAAAAAAAKAKBHkAAAAAAAAAAABQBYI8AAAAAAAAAAAAqAJBHgAAAAAAAAAAAFSBIA8AAAAAAAAAAACqQJAHAAAAAAAAAAAAVSDIAwAAAAAAAAAAgCoQ5AEAAAAAAAAAAEAVCPIAAAAAAAAAAACgCgR5AAAAAAAAAAAAUAWCPAAAAAAAAAAAAKgCQR4AAAAAAAAAAABUgSAPAAAAAAAAAAAAqkCQBwAAAAAAAAAAAFXQGAAAjBuNk5uisbEpprQU8st0Pqlxcn7c3HvdgCn9x+XXJQO3hZMqFiPLei/6T7PeX8X8ut7L/Nosouwyyy/779r/5/w+/Y81cPOB+/d9rtj3qWzwjqWvmT90/50Gvkz/84j+R4iy55N/uv/Opccre46D10XFcymXlT2R/HErHqv8NsXSM4nS1x28ceV9ym9X+RRKN3yPr1P52qPiOVZ8nazseWUD36/yLzxwn6Gvc/CxBs4H7lX+/c6GPI/K+5VeVAx5KcO+3ye8R9nAz0JWcaeBn5N0fTb8nUs/JqXnP/DaKt67iidS8dQGvn8V73mUfw/Kbj34kCfcvuK6gefTkA29Sfmrrnh+xbLnM9x7OORZV77+gd9tA7+B+p9HllV+/fIf1YH3u/+7Wfb6Bn+Plv/sFct+5oY+v6G/lyrei7JXmDU0DP7cFIsVr2/g65S/pih7buVfYujP7eBXGOb3dcWfioNfZ8jvx4H7VXy7hjyvE3+EsqG//UvPb6jK22Vx4kss+6tbNsx3u/T5wcereG79N86GfLHK+2RxpOdwHD58uPRK9+3bU/oqR3p6ej93KP98T+9xT/9t9+3dm99k7569/bcHAAAAAGAksuntlxcDAIAxl+K5SZObojBtVh7ONfdHd6295ym8m9LcGjD6ijEk5egPs2LItf0BV1nUNBBEDWZQxYr7lx5jSGhXioCG3L9YFuVV3m6Y0ikb/Kqlx8mjlPJnPXwwkzQ0DMRmJwZZpw59yoOgwddUUe8MHJbHUCeESUO+ZlkINPSrZydEVsPHX6Xoqvyt7b9jKbc7IVKrfF0Vb3exPzSLIRHUQMh3kve2FDwNDfnKHmnwNv3fi2Kx9J5mpZ+kODE0iqiMkcq+zuDPzOD9hjyxiFP8TA2+zwOBaVlUlQ2+KaXnHAOfi8ofiPLnOuSxy68tj0zL39sTg8Eh9xvy4MNGYWVfOH/Yd4tl0eDA+9B/y6z8PoPvdsXjVrzGyjA3K/vBybKGUuhZ8bOcxUnvE2Wx2+DnTv7ayq8f+leR4ULN4R4hBYMDQWUpTs0qfx+WPfXSc6x4M7KheXJWFhCW33Pwe13669vA7+Gyhxz6+7HiaJiI74Rbney1DhO2lgeDA9cN58iRnti3d08cPtwTe/fujf379uYh3/bO7dFz+HB+XToHAAAAAJjoBHkAAOdQiuxSYDelpTU/TpPsBgI8k+uoBVl/YFQZoJwY1ZWHOhGV0+8qH29o4jd4Vj6xK4ZpffpvPhivlJ5NDEYuw049ixNjlGzIxLqK2wwNgyqfReWEt4F6ZciksSEBS3lgM3wvl1VeXxFfDX3+I5/GNfBQpYgt63+vhrwh2TC1TnkI1vepwTgqBvOfytdbHvJk5WHW8PHTsIFSxesonnD7sre8MkQaEkudPJ6Kiriq/HtRPh1x4BtSHjzmP9vF8vdhuKApK4sAByOpE75fwzyxoT+jMXT625BvfOWXLo//Bm92siltFTcq+x4MF5MOhGzlP5uRlQdllc+jdDHkNVdGaoOvqS9wHBIbZkP/2lL+81H5e/FkcWdWedcof9dP/H04+ISHvpzyyaAVb8FAxFj2mBWva+DnICubOHnikzrhrxlZ2c9e5dM/8bmVXtWJD1v2WvsDw6iME6P8vcvKfhsXB59n6eenPBaMyq9V9peEwfer/2ukIK9ze1+gt73zjd7jN/Jpe9t7rxPrAQAAAAAThSAPAGAUpIl202fOzcO7FNwNRHhnG90dP34s3jl+NI4fO9r7L7u7+o77zwc+l6TPJUf6Lwfv33dbAGDiaG5uiZaWltL5zFmzSsez+o9nzpwdqbJrbpkaLb23nzV7VkztvU9z70ff58pjwiFzTU8Rnw7E2n2R3vY80tu7Z09+vP2NN4R6AAAAAEDdEeQBAJylNOlu+qy50TptZj7xbvrM9jMK71JQlwK6FNMd6UmX3Xlgl5/3fojpAICx0tIf5qXLFPGlqC+dz549q/e6qdFxwQX57U468S+GTjXsO9n+xuuxb+/e2LJlUz5J7400Ve+QSA8AAAAAGL8EeQAApyFNvkvT7lJ01/q+Wacd3w1Ed90H90bXwX15cNf19t48wBPbAQDj2UCYNzsP9mbHBRdcGLNn911WrioeVLHit38t8Pbtb+SR3ubNm/LjdAkAAAAAMF4I8gAATqF8+l1aQZsuR2JoeJcu04foDgCYiFKUlybrXXDhRaXjC3uPK6RWr3+sXuUgvSw2b9oUW7ZsLkV6h0zRAwAAAABqlCAPAKBMmoA3u21ePvkuhXhTmlvf8z4pvhsI7roP7osDe3fka2YBADi1Sy9dFLNmzY4LL+oL9S5dtCiyIbcZOlUv2bK5b8Xt+g3rYvsbAj0AAAAAoHYI8gCACW1gBe3stovyEG8kAV4e3e3bIb4DABgFixYtzuO8RYt7LzsujNnnzc6vr1hv2x/ppYt01ZbNm2P9+rX5FL3XX389AAAAAADGiiAPAJhw0hraWf0BXlpB29jYdNLbDky/S+HdgX07rZ0FADjHZs2eHRfmgd6SWLRoUR7rlU/N6zscCPSyeOutt/LVthvWr8svTc8DAAAAAM4lQR4AMCGk9bMjmYI3EODt2fV6KcQDAKB2tEydGosuXRSLFy+JSxctjosuuqj/M+kfcfWHeaU/RWzetCnWr1/X+7E+9ux5KwAAAAAARpMgDwCoS+WraNs6Fp5yCt7ACtqBCM8EPACA8WP27NmxePHifNVt+pg9+7z+sXmV622TN954PQ/0nnzyCattAQAAAIBRIcgDAOrGQITX3rEwX0l7sgivfArers4tAjwAgDpy4YUX5tPzli1fngd6SYryBhK9vul5Wex5661Yv2FdPPmEOA8AAAAAqB5BHgAw7g2soz3VJLwU4aX4zhQ8AICJo2963pJYtmxZLFu+onyrbd/kvGIxj/P27tkTjzzycKxbt85aWwAAAADgrAjyAIBxKUV402e2R8f8pSeN8I70dMeeXdvyCO/A3h0BAMDENXXq1P44b3ksW74sWqe2lvq8sk4vNm1+KZ+at2nTpnjrLXEeAAAAAHB6BHkAwLiRVtKmKXiz2+blMd5wUoS3c/uWOLBvpwgPAICTWr58Rb7WNgV6U6e2RL7UNhv8fDpft25tPPnkE7F27doAAAAAABgJQR4AUPPSNLyOeUt7L9uHnYZXvo5WhAcAwOn64AdviOUrVsSKtNY20sS8Yn+bl6WNtvHWnj2xadNL8Vff/rapeQAAAADAKQnyAICalKbhpQjvZCtpU4R3YN+O6HxtowgPAICqmD37vFiyZHHccMONsWjx4mjIsij2/5OzrCHLd9umMO+JJ1bH6tWrAwAAAABgKEEeAFBT3msaXlpFmybhpYl4x48dDQAAGA0pzvvYxz4WS5YsyY+zvh4vl6bnpUl5Kc77tql5AAAAAEAZQR4AMObSNLy2joUxu21eTJ/ZfsLn0zS8ztdezGM80/AAADjXVqxYkU/NS5cD0j9Qy7Isj/NWr348nnjiifjhD38YAAAAAMDEJsgDAMbMe62lTQFevpJ23w7T8AAAGHNpUt6NN94YN9xwQ5x33nn5dVm+1raYX+7Zsye+9a1v5YEeAAAAADAxCfIAgHMuraVt71gYs9ouOiHES9Pw0jratJbWNDwAAGpVX5h3Y1x22WUV16fVtmmFbVplmybmWWcLAAAAABOLIA8AOGdSiDdv4bJTrqXt3LbRNDwAAMaNNCnvjjvuyOO8JE3K61OMt97aEy+99MN8ap4wDwAAAAAmBkEeADDqThXipbW027auNw0PAIBxLYV5S5ZcFnfc8bH8eDDMi9TmxeOrV8e3vnW/MA8AAAAA6pwgDwAYNUI8AAAmolWrVsXHPnZHX5iXrij9qRiPP/64iXkAAAAAUMcEeQBA1Z0sxEtraffu2paHeD2HuwIAAOpZCvNuvPHGuGzJZZE1ZBWfS2He/febmAcAAAAA9UaQBwBUzalCvM7XXozObRvj+LGjAQAAE8lll10Wd95xR1y2dGm+vjb627y01vbxxx+L++4T5gEAAABAvRDkAQBnTYgHAADvLa2wvfPOO/PJeUkK8qJYTAf5xLz77rtPmAcAAAAA45wgDwA4Y0I8AAA4fQNh3k2rVvUNzCsL87773e/2fjwUu3cL8wAAAABgPBLkAQCnrbmlkId4bR0LK64X4gEAwMilMO9nfuZnYsmSJXmUNxDmvbVnTzz22GP5xDwAAAAAYHwR5AEAI9Y4uSk65i2NjvlLo7GxqeJzuzq3xrat66PncFcAAAAjt/Syy+Knf+ZnYs555/VdkfVdvLX7rbjv/vvzOA8AAAAAGB8EeQDAiKQIL03FGxriHdi3MzY/v1qIBwAAZ+mmm27KV9nOmXNeZANVXu/FW2+9FX/0R38cr732WgAAAAAAtU2QBwCc0vRZc+OSJddG67RZFdenEC9NxDuwd0cAAADVk8K8u/Iwb04Ue3/lcV7vH31rbO+P3bt3BwAAAABQmwR5AMCwmlsKcfGSlTG77aKK64/0dMfLP1wTe3ZtCwAAYHScd955cfPNKcy7K7Js4Nosug91x0MPPhT33ndfAAAAAAC1R5AHAFRonNwUHfOW5itqy9fTHj9+LDpfezE6t22M48eOBgAAMPpSmHf33XflU/NKXV7vUVpje++998b3H3ssAAAAAIDaIcgDAErSetrFV9wQU1oKFdfv6twaL7+0RogHAABjZP68efGLn/lMnNc2J6JYjKx/bF4K8u699z5rbAEAAACgRgjyAIB8Kt4lS1ZGW8fCiusP7NsZ27aujwN7dwQAADD2br7ppnxiXpqclzVkEb3/ZO/Q4UN5lPfAAw8GAAAAADC2BHkAMMGl1bTzFi47YT3ttq3rovO1jQEAANSWOWmN7cfvjptvvjmflpekiXlpSt7n/93vmpYHAAAAAGNIkAcAE1RzSyEWXXljTJ/ZXnH9nl2vx+YXVltPCwAANW7+/Pnxr37xM/m0vMjyP1KZF3/5l/fmHwAAAADAuSfIA4AJaLipeEd6umPT86utpwUAgHHm7rvvjk98/O7+s2JkWUPs2r0rPv950/IAAAAA4FwT5AHABHKyqXid2zbGtq3rTcUDAIBxas6cOfGzP/vP4vKlS9OQvJI0Ke+bpuUBAAAAwDkjyAOACWK4qXjdB/fFyy+tMRUPAADqxIduvjk+/vG7Y86c8/qvyfIpeb/z+X9nWh4AAAAAnAOTmgtzfisAgLqVpuItXfHhOP/CxdHQMKl0fZqI99KG78eRw10BAADUh9deey2e+du/jdbW1pg/f36kIK9QaI0fvf22/PjFjRsDAAAAABg9JuQBQB072VS8Tc+v7r3cGwAAQP360Idujk/k0/LmlK7bvfut+O3f+bxpeQAAAAAwSkzIA4A61Di5KZZcfXNcMH9pxVS8zm0bY+O6R+PY0cMBAADUt3xa3jN/Gwvmzy9Fea2tU+Pv3X5bHDp0ODZv2RIAAAAAQHUJ8gCgzkyfNTeuvObWmDZjcArGkZ7u2Ljue7Hj9U0BAABMHIcOHYq/+f7388vly5dH1ntdWpexfPmyaJtzXrz22rbo7v0cAAAAAFAdVtYCQB1J62nTR7k0FW/b1vVx/NjRAAAAJq40Je83fv1z0dZWvsJ2d/zJn/yf8cKLLwYAAAAAcPZMyAOAOtDcUoilKz4c7R0LS9cdP34sXtrwWHS+tjHeffedAAAAJrY0Je+BBx7Mj6+4/PL8stDaGrfccnN+/OKLGwMAAAAAODuCPAAY59KK2qtWfjSmtk4vXXdg38548dmH4+CB3QEAAFAuhXevvfZaLFp0ae//j2jN19heccUVsfK6lbF+/fro7rbCFgAAAADOlCAPAMaxtJ528ZU3RkPDpNJ1aT3t5udXx/HjVtQCAADD6+zsjDXP/G20tbXFBR0dEVkWM2fMiOuuuzZefe21fJUtAAAAAHD6BHkAMA41Tm6KK97/kYoVtUd6umPjuu/Frs6tAQAA8F7SCtsnnngyP77iir4Vtq1T0wrbD0XW++uFF18MAAAAAOD0CPIAYJxpnTYrrr72o/nlgLSiduO6R6P74N4AAAA4HWmF7Zpnnonly5dFa6E1otgX6C2YvyC2bNlihS0AAAAAnAZBHgCMIx3zl+YrapumtJSus6IWAAA4W/v3H4g1a56JBQvmR1vbnPy6Cy+8IFauXJnHeqI8AAAAABgZQR4AjBOXLFkZ8xYui4aGSfn58ePH4oVnH7GiFgAAqIq0wvZ7f/P9fF3tlVdcEWlUXmtra9zyoQ9FZ+ebsb2zMwAAAACAUxPkAUCNa5zcFFe8/yMxZ+6C0nXdB/fF8888ZEUtAABQdS+8+GLs2r07X1vb1Pv/R5qmNMWNN94QWdb7uRdeDAAAAADg5AR5AFDDmlsKsey626N12qzSdWki3kvPfT+OHjkcAAAAo+HVV1+LJ1Y/GSuvuzZap7ZGZJEHemmd7Qsvboxjx44FAAAAAHAiQR4A1KjZbRflk/GaprSUrtu2dX28/NKaePfddwIAAGA0dR86FGvWPBNz2ubEBRdckJq8uPjii2PVjTfE02vWRHf3oQAAAAAAKgnyAKAGdcxfGouvvDEaGibl58ePH4uXNjwWO97YFAAAAOdKivJWP/FkPiHvyisuz69rLbTGdSuvzWM9UR4AAAAAVBLkAUCNuWTJypi3cFnp/EhPd2x46jtx8MDuAAAAGAsvvPBiHDp0KFYsX5bHea2thfiRWz4U2zs7Y/v2zgAAAAAA+gjyAKBGNE5uiiVX3xztFywsXdd9cF+88OzD0XO4KwAAAMbSps2bY80zz+RRXmtrazQ1NcWqVTdEZFke7AEAAAAAgjwAqAnNLYW44ppbY/qsuaXrdnVujZee+34cPXI4AAAAasH+/fvj6TXPxPXXrcyjvMFVtqI8AAAAAEgEeQAwxlKMd9W1H42W1uml67ZtXR8vv7Qm3n33nQAAAKgl3d2H4umn18SVV10RM2bMiChGXHnl5dHW1pZfDwAAAAATmSAPAMZQ67RZceU1t8aUlkLpuhTivfHK8wEAAFCrug8disdXPxEzp8+Iiy9eEFmWxSWXLIjrrrsuv/7YsWMBAAAAABORIA8AxkhaT3vF+2+Npikt+fnx48fipQ2P5atqAQAAal2K7p5esyaP8a7oX1s7c8aMWLXqxnj66Weiu7s7AAAAAGCiEeQBwBho71gYS5d/OBoaJuXnR3q644W/fTgO7NsRAAAA48nzL7yYR3lXXnlF72VE69TW+MD1K+MpUR4AAAAAE5AgDwDOsY75S+PSyz9QOk8x3nNrHorD3QcCAABgPEpR3qHuQ7FixfI8ypsqygMAAABgghLkAcA5NG/hsliw6JrS+UCM13O4KwAAAMazTZs2x+7du+P661ZGQ0MWrYXWuP766+Kpp9eI8gAAAACYMAR5AHCOpBgvfQzoPrgvXnj2YTEeAABQN1555dU8wFu1alU0TZ4chUKalHddPP/CC7F///4AAAAAgHonyAOAc2C4GO+5Zx6Ko0cOBwAAQD1J4d3atevipptWxeTJjXmUd9OqG/Pr9onyAAAAAKhzgjwAGGUni/GOHzsaAAAA9ShFeY8/vjqfjtfa2hpNTU2iPAAAAAAmBEEeAIyioTHers6t8dJz3xfjAQAAda+7+1C+vvb661dGoT/Ku/mmVfHs2nXW1wIAAABQtwR5ADBKhovxNj2/Ot59950AAACYCPqivGfiAx+4LgqFQn+UZ1IeAAAAAPVLkAcAo+BkMR4AAMBE093dHU89tSauv25lFApTo6lpctx00ypRHgAAAAB1SZAHAFUmxgMAAKiUR3lPr4kPXH99FAp962tvWmVSHgAAAAD1R5AHAFUkxgMAABheivJ+8FSK8lZGa+vUvvW1N6+Kxx5fnX8OAAAAAOqBIA8AqmRojHdg387YuO7RAAAAoM9glDcwKW9y7/F1+UpbUR4AAAAA9aAhAICz1t6xsCLG6z64T4wHAAAwjF27dsW/+dxvRnf3oSgWI9ra2uJ3/92/jfbeSwAAAAAY70zIA4CzNLvtolhy9c2l8xTjPffMQ3H82NEAAADgRGka3rNr18XNN63KV9emaXkf+IBJeQAAAACMf4I8ADgLrdNmxdIVH46Ghkn5+ZGe7njh2Yfj6JHDAQAAwMnt27e/P8q7MZom90V5V115ZXz/sdVx7NixAAAAAIDxSJAHAGeouaUQy66/PRobm/LzFOM9t+ah6DncFQAAALy3FOXt278/PnD9ysiyLGbOnBHvf/+KeODB7wYAAAAAjEeCPAA4AynGu+raj0bTlJb8XIwHAABwZl555dXYvXt3vrI26/01a9bMaG+fEz/4wdMBAAAAAOONIA8ATtNAjDel9zI5fvxYbHjqO2I8AACAM/TyK6/ml1dddUV+ecnFF+dx3nPPvxAAAAAAMJ4I8gDgNF218qPR0jq9dL7+qQficPeBAAAA4MwNxHdXX31Vvr72qquu7L3svf45UR4AAAAA44cgDwBOwyVLVsbstnml883Pr459ezoDAACAs5eivPa2OXHJxQsi+qO8Xbt3x8svvxIAAAAAMB40BAAwIvMWLouO+UtL59u2ro+dnVsDAACA6vnDP/5ibO1fYZv1fvzsT/+TWHjJxQEAAAAA44EgDwBGIIV4KcgbkGK89AEAAED1ffbf/Ebs2rU7ir3HU1tb43P/269Ge3tbAAAAAECtE+QBwHtonTYrX1U7YM+u18V4AAAAo6i7uzt+7bO/Hrt27sqn5LW3tcXv/e7vRGtrawAAAABALRPkAcApNLcU4vLlt5TOj/R0x+YXVgcAAACja+euXfH53/3f+06yiPb2OfFLv/i/BgAAAADUsknNhTm/FQDACRonN8Wy626PKS2F/DzFeM+teSiOHjkcAAAAjL59+/bHrt2744PXXxeRZXHRhRfm1z/33AsBAAAAALVIkAcAJ3Hp5R+I6bPmls6fW/PdONx9IAAAADh3Xn75lTzGu/qqK/P1tely167dfdcDAAAAQI2xshYAhjFv4bJo61hYOn/5pTXRfXBvAAAAcO59/c+/ET/4wVN9J1nEz/6zfxoLL7k4AAAAAKDWCPIAYIjZbRflQd6AbVvXR+drGwMAAICx8wd/+J9i567dEcWI1qmt8euf+7VobW0NAAAAAKglgjwAKNPcUohLlqwsnR/YtzMP8gAAABhb3d3d8auf/Vx0HzoUWZbF3Pb2+M1f/2wAAAAAQC2Z1FyY81sBAETj5KZYdt3tMaWlkJ8f6emOjesejePHjwYAAABjL0V5r7++PW655aYo9v5qb2+LhiyLDc89HwAAAABQCwR5ANBvwaJrYuZ5F5TO1z3536PncFcAAABQO954Y3u+tnbZ1VdF1vvr6quvjK0vv9J3PQAAAACMMStrAaBXx/yl+ceAl19aI8YDAACoUV/782/E+ueei1TmZb1//uV/9S/zaXkAAAAAMNYEeQBMeM0thbhkycrSeee2jdH52sYAAACgdv327/xe7Ny9Ow3Li0Jra/zG5z4bAAAAADDWBHkATGiNk5viqms/Wjo/0tMd27auDwAAAGpbd3d3/PZvfyGfkJdcuvCS+Lmf/akAAAAAgLE0qbkw57cCACaoBYuuiZnnXZAfHz9+LDY89Z04euRwAAAAUPv27dsfXd3dce37r4mGLIvLliyOl19+JV5/Y3sAAAAAwFgwIQ+ACau9Y2F0zF9aOn/lpTXRc7grAAAAGD/uv/+v4sknn4pisZif//Iv/ULMbW8PAAAAABgLgjwAJqTmlkJcfNnK0nnnto2xc/uWAAAAYPz5g//4f8TOXbsjy7JonTo1fvmX/mUAAAAAwFgQ5AEwIV117UejsbEpPz7S0x3btq4PAAAAxqe0tvY//Mc/zqfkpSjv6quujLvu/PsBAAAAAOfapObCnN8KAJhA5i1cFrPb5pXO1z353+PokcMBAADA+LVz567Iei+vvvqqaMiyuPb918QTP3gq9u3bHwAAAABwrpiQB8CEklbVpiBvQJqM13O4KwAAABj//tvXvxEbNjyfT8pLfus3/k0UWlsDAAAAAM4VQR4AE0bj5KZ8Ve2AA/t2WlULAABQZ9Lq2rTCNpk7tz1+8if/YQAAAADAuSLIA2DCmHfJspjSUsiPj/R0x+bnVwcAAAD1Ja2u/drXvhH5/tpixN13fiyWXX1VAAAAAMC5IMgDYEKY3XZRdMxfWjq3qhYAAKB+3Xv/t+OJJ57qPyvGr/zSv7S6FgAAAIBzQpAHQN1rbinEJUtWls53dW6Nndu3BAAAAPVrcHVtFnPnzrW6FgAAAIBzQpAHQN2bt7ByVW2ajgcAAEB96+rqjv/wB38caUJesViMj99ldS0AAAAAo0+QB0Bdmz5rbrR1LCydW1ULAAAwcax+4gfxxJNPR5b1nf/KL/9CFApW1wIAAAAwegR5ANStxslNsfiKG0rnVtUCAABMPL//B3+UT8sr9h7PbW+LT1pdCwAAAMAoEuQBULfmXWJVLQAAwESXYrzf/4M/jiz6xuR9/K47Ytkyq2sBAAAAGB2CPADqUnNLITrmLy2dW1ULAAAwcaXVtes3PJcfF4sRv/JLvxCFVqtrAQAAAKg+QR4Ademqaz9aOraqFgAAgN//D38UXd3d+fH5c9vj7rs/FgAAAABQbYI8AOrOvIWDq2oTq2oBAADYsXNXfPWr/29kWd+UvLS6du7c9gAAAACAahLkAVBXrKoFAADgZO69/9uxbv1zeZQ3bVoh/vUvfyYAAAAAoJoEeQDUlTQdr7GxKT8+0tNtOh4AAAAV/suX/mt+WSwWY9nVV8aqGz4QAAAAAFAtgjwA6kZ7x8Jo6/0Y8OK6RwMAAADKbd36cvzlfd/uPcry83/xL34mCoXWAAAAAIBqEOQBUDfSdLwBuzq3RvfbewMAAACG+up/+/Po6urKj+e2t8fH77ojAAAAAKAaBHkA1IUU401pKeTHVtUCAABwKl1d3fFfvvSnkWV9U/I+9ZP/MObObQ8AAAAAOFuCPADGveaWQnTMX1o6TzFez+GuAAAAgJN56LuPxLr1z/WdZFn86i9/JgAAAADgbAnyABj30nS8xsam/DhNx9u5fUsAAADAe/nPf/KnUSwW8+Nly66K5b0fAAAAAHA2BHkAjGtpOl5bx8LS+cs/XBMAAAAwElu3vhz33v/t0vmv/sovBgAAAACcDUEeAOPaoitvLB3v6twae3ZtCwAAABipr3z1z6OrqzuyLIu5c9viE3ffEQAAAABwpgR5AIxb7R0LY/rM9tL5tq3rAwAAAE5HivHuve9bvUfF/I9PffInolBoDQAAAAA4E4I8AMateQuXlY7TdLyew10BAAAAp+ub934r3tyxMz8uFKaakgcAAADAGRPkATAupel4U1oK+fGRnm7T8QAAADhjaUref/mTP43Isnx17cfvvjPmzm0PAAAAADhdgjwAxp3GyU0V0/G2v/ai6XgAAACclcdX/yDWrX8uP04ra+/55D8KAAAAADhdgjwAxp2OeUsrpuN1vrYxAAAA4Gx95atfzy+zLOK2v/uRuHThJQEAAAAAp0OQB8C40txSyNfVDrCqFgAAgGpJE/LWrXuudP7pn/9nAQAAAACnQ5AHwLgydDrezu1bAgAAAKrly/1T8pIVy66O5cuuCgAAAAAYKUEeAONGmo7XMX9p6dx0PAAAAKotTcl7/PEfRNb7q9j7655P/UQAAAAAwEgJ8gAYN+YtXFY6Nh0PAACA0fLFP/m/8hgvWbHsqli+/OoAAAAAgJEQ5AEwLqTpeG0dC0vnpuMBAAAwWnbs2BkPPfRI/1kW93zyHwUAAAAAjIQgD4BxwXQ8AAAAzqU/++rXI8uPirFi+dWxfJkpeQAAAAC8N0EeADXPdDwAAADOtTQl78GHHulfXBvxTz5lSh4AAAAA702QB0DNMx0PAACAsZBPycv65uQtX351PikPAAAAAE5FkAdATUvT8abPbC+dm44HAADAuZJPyXvw4fw4ZXn3fOonAgAAAABORZAHQE1Lq2qntBTyY9PxAAAAONf+4t77+w6yLFYsu8qUPAAAAABOSZAHQE1r71hYOjYdDwAAgHNty5aXY9365yKKxfz8tr/7kQAAAACAkxHkAVCz2k3HAwAAoAb82Ve+HinHSx+3/92PRKHQGgAAAAAwHEEeADVr3sJlpWPT8QAAABgr69ZtiPVpSl6/H/vEnQEAAAAAwxHkAVCTTMcDAACglqQpeVk6yLL4sY/faUoeAAAAAMMS5AFQkzrmLy0di/EAAAAYa2vXbYh1aUpesRiFQsGUPAAAAACGJcgDoOZMnzU3WqfNKp3v6twaAAAAMNYeeOjhyLIsn5T3Dz5+VwAAAADAUII8AGpOWlc7IMV4PYe7AgAAAMbaY48/EQe7uvPjtLJ2xfKrAwAAAADKCfIAqCnNLYVoKwvytm1dHwAAAFALurq64y++eV/fSRbxT+/5xwEAAAAA5QR5ANSUeQuXlY4P7NtpOh4AAAA15S/+8v48zItixPJlV5mSBwAAAEAFQR4ANWX6zPbScVpXCwAAALUkxXiPrX4iP86yiJtWfTAAAAAAYIAgD4Ca0d6xMKa0FPLjIz3dsXP7lgAAAIBa88CDD+eXxWLEj9720SgUWgMAAAAAEkEeADWj7YJLS8fbtq4PAAAAqEVr122Ideufi8giWgtT43/5sbsCAAAAABJBHgA1obmlULGu9sDeHQEAAAC16rHHn0w9Xu9HFqtW3RAAAAAAkAjyAKgJ8xYuKx3v6twaPYe7AgAAAGrVdx78bnR1dfceFWPRwktixfKrAwAAAAAEeQDUhPLpeDs7twYAAADUshTjfefBv458b22vH73t7wQAAAAACPIAGHPtHQtjSkshPz7S021dLQAAAONCWls74KZVN8S0QmsAAAAAMLE1BgCMsbYLLi0db9u6PgBgrH32X386PvLhVSO67fbOHbHxpS2x5pl18fD/eHxE9zmdxx/q6d6v89lf/72K6667dnl84Xd+Larhkz/1mfw1lTuX70e6f3oOI7nt6Rruvfv0z90Td33stvz44MGuuPMf/HScrrvuuC0+/c/vGTzvfYy3ex+r3Nk87/d6TwAYO2vXbcg/0rraadNa4/bbPxr//1/cFwAAAABMXII8AMZUc0uhYl2t6XgA1IL3TSvEBR1zR3TbdLsUxH3qJz6Rh1Of/Y3fi6fXrKva4w/39U7n+mqopfej2u9dem7lMd11K5e/5/Md6q6/f1vpsR9+9PETYrzkbJ43ALUtTcm7ZsXV+fHNqz4oyAMAAACY4KysBWBMzWq7qHR8YN/O6DncFQAwXqXg6qv/9Y/yqIvx8X6kqXnlEwFvPc0pdnmAWPb6HhnhVMDTMVzgB0Dt+M6Dfx0HD3b3HmWxfNnVsejShQEAAADAxGVCHgBj6oJ5S0vHuzq3BgDUmhRr3Xr7j5/082kaXJqwVh5lffEPPx8f6b3PSEKqdJtPf+ZzMVIHh3nMH760JZ9EdzLp+Q1MZ0tf7wu//8XTevxyZ/J+fOG3f23YNa7VcDqrXE/22u771oP56tokra/9wr//YoxU+etMr+++bz84ovtV43kDUBu6urpi85at+ZS8LIu4+aYP5ucAAAAATEyCPADGzPRZc2NKSyE/PtLTHTu3bwkAGG/ShLVP/vRn+iK8H+mbrpbWk97ae5xCr/eSYqv0GGcjD8FO8bXKV6oefI/bnq3h3o/0tUf6fpzJ1ztbjzz6eCnIS9+701lbm1bzlj/OSFXjeQNQO/6fL38trlnx7yNNyfsHP3ZX/N9/9rUAAAAAYGKyshaAMdPeMbjG58DeHQEA49nQqXOXLbk0JrL//KUvV5zX8vux8aUtFQFempI3Ekt7X1P56xrpdDwA6s/adRviYFdaW1uMaYVCXLP86gAAAABgYhLkATBmps9sLx3vtK4WgHEurXItX8maJq1NZClyG0/vR/nEuls/vGpEz/eT/3hwOl76/o90qh4A9emBB/860oS8YjHipptuCAAAAAAmJkEeAGNi6LpaE/IAgLH01a9/s3Q8sHL4vVx37fLSsRW0AHz/8SciTciLLOLv3f53AgAAAICJSZAHwJiwrhaAenNBx9yKqWrl0+EmorTOtfz9SBPkaln6fp3O2toU46Xv+QDragFYu3ZDdHcfSj1eFNLa2hXLAgAAAICJR5AHwJiY1XZR6Xj7to0BAOPdZ//1pyvOH3n08ZjIfv7n7qk4Hw8T5Mq/Z5cNCQqHuuuOwWDPuloABvx/f3FvFNPO2l4/epspeQAAAAATUWMAwDk2u+2iaGxsyo/Tutrut/cGAIxX161cHp/+5/dUrC/94UtbRhxoTZtWiE8PiddOJj1mrYdtw70fDz/6+KgFa9V879KUu4GwMsV4Kbr7yte+Oexth76+01VP33MABj27bkP8VJblxzff9MGY9p8KcbBrYk/NBQAAAJhoBHkAnHOz2+aVjvfs2hYAUMvSWtJHHvjGsJ9LMd3QKWppWtrPf+ZzMVLp/ilgG4kvxpfHPM46k/fjC//+izFaqvneDaytTVFhcuuHVw0b5H3kR1ZVrKv96kmivVMZT99zAEYura19c8fOOH9ue762dtGihfHs2vUBAAAAwMQhyAPgnJs+s710vLNzawBArSuPr04lhVOf/fXfyyO0elbP70daWzsQ5KUpeCkwTKFeuRTqDdj40pa6/34DcHq+88B346f+yU/mxzev+qAgDwAAAGCCEeQBcE5NnzU3prT0Tc6xrhaAepKmwH3l66c/KS3FXl8d4f1Ga+3raDjT9+N0jMZ7l9bW/vzP3VOa9Dd0bW2+yvZjt5XOz2Q6XvLFL315RLcbT99zAPqsXbchv8yyLH70Rz8af/SfvhQAAAAATByCPADOqfaOhaXjA3tNkwGg9qXpZ7fe/uMnXJ/CrIcf+EYp3Fq5cvkZBWgHD3bFF//kyzFejPT9uOyyS2O0jcZ7lyK/H/5wy0nX1t76I6sqbn+m62TH0/ccgNPz7NoN0dXdHdMKrb0fhbhmxTJT8gAAAAAmkIYAgHPIuloA6kU+na0s1PrIh1eVYrSJaOj7kabIjdf3476/erB0nNbWlq/ovevvD07HSzGedbUADOc7D/x1flksFuPmmz4YAAAAAEwcgjwAzpnWabMq1tWakAfAeDd0Xeon//EnYiKrl/fjkf/xeB4YDkhra5MU5g1Mzkvu+9aDAQDD+f5jq6NY7Ftbe/NNNwYAAAAAE4cgD4BzZnbbRaVjMR4A9SBFW0+vGVxZ+smf+MSEn5JXD+9Heh2PPPp46TxNycsvy2K85EzX1QJQ/wbW1iYd57fH4kULAwAAAICJQZAHwDlTHuTt2f16AEA9+OKXvlw6TvHZwDS1iape3o/y6XcpyEsx3qd+YnDi38OPPm5dLQCn9NhjT+SXaVLeihVXBwAAAAATgyAPgHOiuaWQr6wdYEIeAPUiTUkrnwp364dXxURWL+/HD1/aUrm29mO3xWVLLi2dp7W2AHAqaUpen2J86KYbAgAAAICJoTEA4ByYPrO9dHxg3844fuxoAEC9SOtNB9aZDkxTK4/S3ssFHXPjdNT6ZLazfT9Ox2i9dynGu+/bD5am4qUgb+jnzka9fc8BONHfPPZEfC4/ymLF8mUxrVCIg11dAQAAAEB9E+QBcE7MaptXOt6za1sAQD1JcdbP/9w9+YrW5NP//J745JrPjOi+Kcx65IFvxOm4bNktUcvO5v04HWfy3t16+4+POG5LU/DK19SWrn/07KfjjebzBqA2dHV1xdq162PFimWRZVl++f3HVgcAAAAA9c3KWgDOicK0maXjNCEPAOpJmpj21a99s3SepsItLVtvOtEM936c7kS4WpDW75avrR1gXS0AI/Xsug2RZemoGO+/5uoAAAAAoP4J8gAYda3TZsWUlr4JOUd6uqP77b0BAPXmq1//ZsX5nXfcFhPZ0JWud43T92Po60hT6h5+VJAHwMg8u3ZD6fjmm24MAAAAAOpfNr398mIAwCjqmL80LlmyMj/e1bk1Nj1vRQ8AAAATw18/eF++xr1YLMZdP/aT8eabpsYDAAAA1DMT8gAYdbPb5pWOrasFAABgItm8eWsU303/TXQWH7rphgAAAACgvgnyABh102e2l44P7N0RAAAAMFH8zWNPpBavVzEWL14YAAAAANQ3QR4Ao2r6rLml4+6ufdFzuCsAAABgoli7dn2kIi/Lsrh51Y0BAAAAQH0T5AEwqsqn43W/vTcAAABgItm0eWsc7Or7j9OmTStEx/ntAQAAAED9EuQBMKrKJ+Tt2f16AAAAwESz9tn1peObb74hAAAAAKhfgjwARlXrtJmlYxPyAAAAmIieXbeh76AYsXjRpQEAAABA/RLkATBq0nS8xsam/PhIT3f0HO4KAAAAmGieXds3Ia/Y+3HN8mUBAAAAQP0S5AEwasqn43UdNB0PAACAiWnT5q1x8GBXZFnE+ee3R0fvBwAAAAD1SZAHwKiZPnNu6XjvrtcDAAAAJqrNW17OL7Msi2tWLA8AAAAA6pMgD4BRUzAhDwAAAHKbNm3JL4vFYixetDAAAAAAqE+CPABGRXNLIab0fiTHjx+N7rcFeQAAAExcz67dkF9mvR+LBHkAAAAAdUuQB8CoaC2bjtd9cF8AAADARPbs2vX5utrEhDwAAACA+iXIA2BUTJ85t3TcbV0tAAAAE9zBrq7o7NwRxd7jaYXWWLxYlAcAAABQjwR5AIyK1vfNKh0f2LczAAAAYKJ7dt36fGVtZFlcs2JZAAAAAFB/BHkAjIrylbU9h7sCAAAAJrpNm7bmMV6K8pZYWwsAAABQlwR5AFRd67RZ0djYlB8fP340ut+2shYAAAA2b96aX6a1tYsXXRoAAAAA1B9BHgBV19zSWjruPrgvAAAAgIhN/UFempB3/vntAQAAAED9EeQBUHVpQt6A7oOm4wEAAEBysKsr3uzckU/IKxQK0SHKAwAAAKg7gjwAqq48yDuwb2cAAAAAfTZtGZyS9/5rlgcAAAAA9UWQB0DVla+s7TncFQAAAECfN9/s/w/XsojFixYGAAAAAPVFkAdAVTU2NlWurH3byloAAAAYsGnz1nw6XrEYMXeulbUAAAAA9UaQB0BVtb6vLMbr2hcAAADAoL9duz6/zLIsliy+NAAAAACoL4I8AKqqsXFy6di6WgAAAKj05ps7+g6Kxeg4f25Mm1YIAAAAAOqHIA+AqrKuFgAAAE7tzTd3RtpbW+w9Pv98a2sBAAAA6okgD4CqqgjyrKwFAACAE2zasrV0vORSa2sBAAAA6okgD4Cqam5pLR0fP3Y0AAAAgEr52to0Hq/3T+d3zA0AAAAA6ocgD4CqqpiQd9DKWgAAABjqpU1b85W1We8vK2sBAAAA6osgD4CqaW4plI6PHz9qQh4AAAAMI19ZmybkZWll7cIAAAAAoH4I8gComillQV73wX0BAAAAnOjgwa6ILMuPz7/AyloAAACAeiLIA6BqWqfNLB0fOdwVAAAAwInefHNHdB3s+//N01oLMW1aIQAAAACoD4I8AKqmsbGpdNwjyAMAAICTOtjV1be2ttf555uSBwAAAFAvBHkAVE3rtFmlYxPyAAAA4OQ2bd4a0be1NpYsWhgAAAAA1AdBHgBV0zi5bEJeT3cAAAAAw0tra/MJeVlEwcpaAAAAgLohyAOgapqbW0vHJuQBAADAyXWmIK9/Ql7H+e0BAAAAQH0Q5AFQNVNaBv+L/h5BHgAAAJxUV1d3PiEv6/01rWBCHgAAAEC9EOQBUBXNZTGe6XgAAABwai9t3ppPyCsWi7Fk8aUBAAAAQH0Q5AFQFRXT8Xq6AwAAADi5roNdfRPysiwKJuQBAAAA1A1BHgBV0dg4uXR8/PjRAAAAAE6u880d+YS8VOV1nD83AAAAAKgPgjwAqqJ8Qt47xwR5AAAA8F66urrTkLwQ5QEAAADUD0EeAFXR2NhUOu453BUAAADAqR18+2DfkLz+PwMAAAAw/gnyAKiK5rIJeVbWAgAAwHvr3LEzIsvSHybkAQAAANQJQR4AVTGpbELekZ7uAAAAAE5tRwryir1/9H6c39EeAAAAAIx/jQEAVdA4eTDIO37MhDwAAAB4L2+/fbC0rXZaoRAAAAAAjH8m5AFQFY2Nk0vHVtYCAADAe+vq6u4bj9dr2jRBHgAAAEA9EOQBUBWNZStr3zEhDwAAAN7Twa6uiCzLh+Sdf/7cAAAAAGD8E+QBUBVTWgb/S/6ew10BAAAAnNrBg115jFcMAAAAAOqFIA8AAAAAYAykCXkpxktR3vsKVtYCAAAA1IPGAICz1Fw2He+I6XhAjckaGqJxUmNMSh+N6WNyZGktWNaQXwLAePbuu+9EsViMd995J95553i8c/xYHO+9TOdA7UsT8pIU5RWmCfIAAAAA6oEgDwCAupMivClNzTG5aUopwAOAetTQMCm/TOH55JhSuj7FecePHY2enkPiPKhhb765M6/x0v9c7Ti/PQAAAAAY/wR5AJy1KWUT8np6ugNgrEye3BRTmqdGY++lCA+AiWxS/3TY9PfFFOYdPdITR44cDqD2pP/ZWhw4AAAAAGDcE+QBADDupRCvuaU1D/EAgErp74/po3lqa/Qc6hbmQQ3KU7xiMQAAAAAY/wR5AACMW2k1bUtza0xpmRoAwKml9bZTC+/Lw7yDb++zyhZqQOebO0rHHR3nBwAAAADjX0MAwFlqbm4tHR853BUA50Kaive+6bPEeABwmlKYN33GedHS0hoAAAAAAFSXCXkAAIw7abJPS0shAIAz1zy1kK+y7e5+27Q8AAAAAIAqMSEPAIBxpbXwPjEeAFRJCvKmvW9mNEyaFMDY6OzcEVmW5ccdHXMDAAAAgPFNkAcAwLiQNTTkwUDTlJYAAKonrbAV5cHYSTFesViMLAAAAACoB4I8AM7alLJJVT2HuwJgNBQK0/MpPgBA9YnyYGwV00exGAAAAACMf4I8AABq3tSp08R4ADDKRHkwNorRNx1vYG0tAAAAAOObIA8AgJrWPLU1prRMDQBg9KUor7X1fQGcO1nK8cR4AAAAAHVDkAcAQM1KE3paytZiAwCjL02lndo6LYBzR44HAAAAUD8EeQAA1Ky0Ng8AOPemNE+NydbFwzlSjGKxGAAAAADUB0EeAAA1Ka2qTWvzAICx0WJKHpwjWWRW1gIAAADUDUEeAAA1x6paABh7kyY1RnPz1ABGmRYPAAAAoK4I8gAAqDktLa0BAIy95qmFyBr84yMAAAAAgJHyT1QBAKgpaTpe05SWAADGXlqj2TzFlDwYVcX8DwAAAADqhCAPAICaYjoeANSWpubmAEZX2lqbAlgAAAAAxj9BHgAANaVxclMAALWjoWFSTPb3ZxhFxbzIKxbNyQMAAACoB4I8AABqRlPTlPxf+gMAtWVy79+jgVFiMh4AAABAXRHkAQBQM/zLfgCoTU1TWgIYHXmOV7SyFgAAAKBeCPIAAKgZ1tUCQG1KoZC1tTCKtHgAAAAAdUOQBwBATZjU2GhdLQDUsPT3aqD6isMcAQAAADB++SepAADUhEliPACoaZMmTQ6g+gZW1srxAAAAAOqDIA8AgJowqdG/5AeAWmZCHowiK2sBAAAA6oaVtQAA1IRJk/xLfgCoZVbLw+gZmJIHAAAAwPgnyAMAoCZkDcaCAEAty7Ks9+/X/lESjI4s/z0GAAAAwPjnn6ICAAAAMCKZvZpQdWkwXrFYDCPyAAAAAOqDIA8AgJpgDR4AABNRPhgvb10FrwAAAAD1QJAHAAAAADBWDMcDAAAAqCuCPAAAAACAsZJlfVPyAAAAAKgLgjwAAAAAgDGlyAMAAACoF4I8AAAAAIAxZWctAAAAQL0Q5AEAAAAAjClrawEAAADqhSAPAAAAAGDMmI4HAAAAUE8EeQAAAAAAY8ZoPAAAAIB6IsgDAAAAABgzfRPyigblAQAAANSFxgAAAAAAYExk6ZcheQAAAAB1w4Q8AAAAAIAxkgbjmY4HAAAAUD8EeQAAAAAAYyTLBibkGZMHAAAAUA8EeQAAAAAAY6Y45BIAAACA8UyQBwAAAAAwZjIrawEAAADqiCAPAAAAAGCMFIvF/pW1AAAAANQDQR4AAAAAwBgZiPEyVR4AAABAXRDkAQAAAPA/2fsXOLnq+n78f+8mEJBkg8olJICKVAIIpLQBqqBI5NKCJVz6lVsk+FP7I2kJ+legUBShIKAPIdaEb5UKGAr6rWho4SugILfyg8TScFGh9YokBKWF7CZiIMn+93M2A7uT2ezs7uzMnDPPJx5md3YuZ87Z+bBmX3m9gUbJxtUaWwsAAABQFAJ5AAAAAAANJY0HAAAAUBQCeQAAAAAADWVcLQAAAEBRCOQBAAAAADRQW5bH05IHAAAAUAQCeQAAAAAADaclDwAAAKAIBPIAAAAAABpOQx4AAABAEQjkAQAAAAA0ysZivLY2DXkAAAAARSCQBwAAAADQMBuDeAryAAAAAApBIA8AAAAAoEFSHK+7uztV5AUAAAAA+SeQBwAAAADQIN09//SOq1WRBwAAAFAEAnkAAAAAAA3WpiEPAAAAoBDGBgAAAAAAjdPd25QHAAAAQP5pyAMAAAAAaJg2UTwAAACAAhHIAwAAAABokDSp1rRaAAAAgOIQyAMAAAAAAAAAAIAaEMgDAAAAAAAAAACAGhDIAwAAAAAAAAAAgBoQyAMAAAAAAAAAAIAaEMgDAAAAAAAAAACAGhDIAwAAAABooLa2tgAAAACgGATyAAAAAAAaqLu7WygPAAAAoCAE8gAAAAAAGqhdGA8AAACgMMYGAAAAAAANkxryAAAAACgGDXkAAAAAAA3SFtrxAAAAAIpEIA8AAAAAoFFSHs/IWgAAAIDCEMgDAAAAAGiQ18bVyuQBAAAAFIJAHgAAAABAg7RtbMdr05IHAAAAUAhjAwAAKKTuLcfH73c7Ml7ZYb9Y98bdY/02k6IW3nzrKTFmzcrXPk/P0XnQuVFPu/3u0Vi9+JPRyiaM3yb+7MhDY/9pe8U7dn9r7DRphxiJR5f9KOZ8/KJNrt9/2t6x8KqLop4G2pdWkd67a3c+OF7dYd94ZcdpNXvvdjx8RWz18zv7XXfQ9Glx8/VfjHp6eMmyOPmMTwQAG20syCsV5QEAAACQbwJ5AABQMCnM87s9ToiXp54QG7YYHxRLCuJ98IQ/iw+eeHT2McWyZp/TvXcBWk5vEk8/HgAAAEAxCOQBAECBvLrjtOg86JyaNWrRXFJb3YXnzo2dJm0fFMuG8ZPipUMuztosAWg1ongAAAAARSKQBwAABdGI0bHUz9FHHhoXnjc3KJ4UxntxxhcFaQFaVVtvJM/EWgAAAIBiaA8AACD31r1pd2G8iMKOcP2D3d8qjBfFPL/CeK/r6DCmF2htbX3+DQAAAEB+CeQBAEDOdW85PlYdcnHQG1z7yOl/EUWSQmhXXnJOUMzzu2afDwnjbbTXHrvHvLmnB0CraSv9K/tATx4AAABA3gnkAQBAzv1ujxMEevr4yOz/VajQ1gdP+LPYadL2Qa8ind80Zvrltx0VvO7sOacL5QEtp7u7/yUAAAAA+SaQBwAAOZdCPfRXpNDW0Ue9L+ivKOfXe7cyoTyg5WycUtvWlj40shYAAAAg7wTyAAAgx17Z5d3a8QZQhNDWe999gHa8AeT9/G4YPyle2WFaUJlQHtBK+kbwuo2sBQAAAMg9gTwAAMgxgZ7Ny3toa/9pewUDy/P5XffGtwebJ5QHtJLecbXa8QAAAACKQCAPAAByTKhncHkObf3B7m8NNi+v5/fVbXcPBieUB7SKbFytPB4AAABAIYwNAAAgt7q3HB8MLoW2kmtv+OfIkwnjtwkGl8fza9R09VIoL5m/4IYAKKJUjtfbkGdcLQAAAEARaMgDAIAc27CFQF618tikNn78G4Lq5H08MZunKQ8oslSM19uOpyIPAAAAoAgE8gAAgJYhtFVszm+xCeUBhdX2+kWbUB4AAABA7gnkAQAALUVoq9ic32ITygMKqTtem1bbbWwtAAAAQO4J5AEAAC1HaKvYnN9iE8oDCqc0s9bYWgAAAIBCEMgDAABaktBWsTm/xSaUBxRLbwivu7tbHA8AAACgAMYGAABAi0qhreTaG/45KB7nt9hSKC+Zv+CGAMi114J44ngAAAAARaAhDwAAaGma1IrN+S02TXlAocjjAQAAABSCQB4AANDyUmjr7Lmzg2JyfosthfIuPG9OAORWKYjXnf7XHQAAAADkm0AeAABAj5NOPDouPHduUEzOb7F9eNaJ8flLzwmAPGtra4s2NXkAAAAAuSeQBwAAsNHRRx0qtFVgzm+xnTjzKKE8IJ9SKV6bdjwAAACAohDIAwAA6ENoq9ic32ITygNyqe21fwEAAABQAAJ5AAAAZYS2is35LTahPCB3ul/7FwAAAAAFIJAHAABQgdBWsTm/xSaUB+RKW287XpuWPAAAAIBCEMgDAAAYgNBWsTm/xSaUB+RH98Z/a8kDAAAAKAKBPAAAgM0Q2io257fYhPKAPGjb+A8AAAAAxSCQBwAAMAihrWJzfotNKA/Ig9SOJ5QHAAAAUAwCeQAAAFUQ2io257fYhPKAZmZULQAAAECxCOQBAABUSWir2JzfYhPKA5pWd+lCMA8AAACgCATyAAAAhkBoq9ic32ITygOaUdvGSbVG1gIAAAAUw9gAAABgSFJoK7nkigVB8Ti/xZZCecmnLrgyAJpDW7S1ieMBAAAAFIWGPAAAgGFIoa2dJu0QFJPzW2wplLfzlEkB0AyyUbXdBtYCAAAAFIVAHgAAAABAg2jGAwAAACgWgTwAAAAAgIZp6/lfW6jIAwAAACgGgTwAAAAAgAbq7u7OMnkAAAAA5J9AHgAAAABAA7X1/KMgDwAAAKAYBPIAAAAAABpNIg8AAACgEATyAAAAAAAaxKhaAAAAgGJpm7jjXv7uJQAjsuvb98u25JmfPZZtAEM18Y3bRXv7mAAAmteqF1+IDRvWB1A73//uP8fknXaKVJF3+J/9r1i+4rkAAAAAIL/GBgAAAAAADdGd/rp0W/qfqjwAAACAIjCyFgAAAACgQbKRtd3Z/wAAAAAoAA15AAAAAAAN1KYcDwAAAKAwBPIAAAAAABqkO7TjAQAAABSJkbUAAAAAAA3S1tbWuwUAAAAARaAhDwAAcuw7Ny+InSbtEPXw6LIfxZyPX7TJ9ftP2zsWXnVR1FOlfXl1x2nx4owvRj29+dZTYsyalTFamuH8/n63I6PzoHOj3na46bBNrqv399pxJ8+N51b+JkbLA3fdFDtPmRT18PCSZXHyGZ/Y5PqDpk+Lm6+v7/tmoH1J32fp+62eOh6+Irb6+Z0B0Ejd3d3ZBgAAAEAxaMgDAAAAAGgg7XgAAAAAxSGQBwAAAADQIG1llwAAAADkm0AeAAAAAEAjtYnjAQAAABSFQB4AAAAAQIN0b7xsE8oDAAAAKASBPAAAAAAAAAAAAKgBgTwAAAAAgAbrDgAAAACKYGwAAAAAANAQvYNquyXyAAAAAApCQx4AAAAAQIO0tbVt/CAAAAAAKACBPAAAAACABuneWI3XJpEHAAAAUAgCeQAAAAAADSKIBwAAAFAsAnkAAAAAAA3SHQAAAAAUiUAeAAAAAECDtLX1tuS1tWnKAwAAACiCsQEAAAAAQEN0d29syevWlQcAAABQBBryAAAAAAAaJPXiKccDAAAAKA4NeQCM2MQ3Ter/8c8eCwAAAKDXDdf+fUz/42mvJe9K+bvSmNruDd3Z1+6+41v9R9du/HD58udi1hl/FctXPBcAAAAANDcNeQCMSArgTXzjjq9/3vNx34AeAAAAtLrzP31ZFrjL2vDSFSl017ZxVG30BvPaohTQ687+2XiTbPvOrf9XGA8AAAAgJwTyABiRHSe/fZPrdn37fgEAAAD0SmG6Bdd87fUrurtfS+N1lz5o6/0sfZD+yW7Ssz27YmX8/cJ/DAAAAADyQSAPgGHbauvxsUOFQJ6WPAAAAOjv6//0f6Kra/XGdrzerfeircKtXw/pfXmBMB4AAABAngjkATBsm2vCq9ScBwAAAK0qhfG+nFryukuDal9vyctCeaVPe2faZmG979/zQHz71tsDAAAAgPwQyANgWAZqxytJX0u3AQAAAHqllrwlP/yPKHXidW9M4aXLFMpL/2ycWpv967Irrg4AAAAA8kUgD4Bh2Vw73lBuAwAAAK1kwTVfi+7u7ix8197W3hu+K5XmZUG87uzi24tvj+XLnwsAAAAA8kUgD4AhG6wdr+RNO+wSY7fYMgAAAIBeqSHv7h88kGXwUjDvtUa8UjCvrS2eXf5c/P01/xgAAAAA5I9AHgBDVm3z3dixW8bkXfcMAAAA4HWfu/JLsbprde8nbfH6qNqk5/LLC/9ROx4AAABATgnkATAk1bbjlUx+y55a8gAAAKCP5Sueixtu/GbvJ1lJXneUEnnpa9++9f8GAAAAAPkkkAfAkAwljJdoyQMAAIBNff3G/5OF75K212bWRlx2xfwAAAAAIL8E8gCoWmrH23GIgbxESx4AAAD019m1Or58zdeirS0F8bqzf75z6+3x/XvuDwAAAADySyAPgKpNfOOOMW7r8TFUWvIAAABgU9+59f/GkqX/kX2cWvL+/pqvBQAAAAD5JpAHQNV2fft+MVxa8gAAAGBTf3/NP0aK4/39wn+M5cufCwAAAADyTSAPgKqkUbXDaccr0ZIHAAAAm1qy9NEsjJfa8gAAAADIv7EBAFV4fsXPsg0AAACorS9nLXkAAAAAFIGGPAAAAAAAAAAAAKgBDXkAAJBj9z+4NMaP3ybq4bmVvx3w+tvvuDfqqdK+jFmzMrb++R1RT+2vro7R1AzntxHHdSD1/l5bvXpNjKa77nkwOsaPj3p4dsXzA1y/Mr71nfqe34H2ZcvfLIu26I56St/fAAAAAABQS20Td9yrvn/aDQAAFUx843bR3j4mAIDmterFF2LDhvUBAAAAAEBlRtYCAAAAAAAAAABADQjkAQAAAAAAAAAAQA0I5AEAAAAAAAAAAEANCOQBAAAAAAAAAABADYwNAAAgt9578AExfvwboh6eW/nbeHTZjza5fqdJO8T+0/aKemqWfbn/waXRtXpNjJZmOL8bxk+KV3aYFvW21c/v2OS6op3fIw47ODo6xkc9PLtiZTy8ZNkm1+88ZVIcNL2+53egfXl1x2mxfptJUU9b/mZZtK9eGQAAAAAAUCsCeQAAkGNnzz09CynVQwprzakYgts+Ljx3btRTs+zLccvmjmpgqxnO7ys77BedB50T9VY5kFes83vheXOyQFw9pABcxUDe5Enx+Uvre34H2peX33Zk/H63I6OeOh6+IrYSyAMAAAAAoIaMrAUAAAAAAAAAAIAaEMgDAAAAAAAAAACAGhDIAwAAAAAAAAAAgBoQyAMAAAAAAAAAAIAaEMgDAAAAAAAAAACAGhDIAwAAAAAAAAAAgBoQyAMAAAAAAAAAAIAaEMgDAAAAAAAAAACAGhDIAwAAAAAAAAAAgBoQyAMAAAAAAAAAAIAaEMgDAAAAAAAAAACAGhDIAwAAAAAAAAAAgBoQyAMAAAAAAAAAAIAaEMgDAAAAAAAAAACAGhDIAwAAAAAAAAAAgBoQyAMAAAAAAAAAAIAaEMgDAAAAAAAAAACAGhDIAwAAAAAAAAAAgBoQyAMAAAAAAAAAAIAaEMgDAAAAAAAAAACAGhDIAwAAAAAAAAAAgBoQyAMAAAAAAAAAAIAaEMgDAAAAAAAAAACAGhDIAwAAAAAAAAAAgBoQyAMAgBx7buVvg8ZZvXpNjCbnt7FG+/w+u2Jl0Fhj1jwfAAAAAABQSwJ5AACQY//1018GjZHCcl2jHNhyfhunHuf3xz/5WdBY7auFIgEAAAAAqC2BPAAAyLH7/m1p0BiPLvtRjDbnt3HqcX6/d8+/BY0zZs3KbAMAAAAAgFoSyAMAgBxLDWqj3eJFZbffeW+MNue3cepxfn/81E+js3N10Bhb/fzOAAAAAACAWhPIAwCAHEthrW9+6/agvtI403o0qDm/jVGv89vZtTquW3RLUH/tr64WyAMAAAAAYFQI5AEAQM5985b/mwWIqJ9LrlgQ9eL81l89z+/XFt0Sz64wNrXetn7qFuNqAQAAAAAYFQJ5AACQc6lF7ZwLrwzq49ob/rku7Wklzm991fv8ppa8v/zrTwf1s+VvlsU2T9wQAAAAAAAwGgTyAACgAP7rp7+sa6tXq0phrWuv/z9Rb85vfTTq/P74qZ/Gpy4QuqyHsS/+NCbeJwAJAAAAAMDoGRsAAEAh3H7Hvdlo0wvPnRs7Tdo+qK1GhbVKnN/R1ejz+63Fd8Szy1fG5y87J3aePCmova1+cWdM+OGCaHt1dQDUy8SOjpg4cXzss/eeseuuk2PXnaf0fD4hdt1lSrZlt+n5erpdJc/8esXGy+WxqrMrnnkmXXbGE08+3e8SoFrWJQAAgNEnkAcAAAWSRm3O+fhn4iOn/684+qhDg5FLx7TeY0xjM/vi/NZWM53fh5cui5NnfyLmzTk9Tpx5ZFAbY9asjI6Hr4wtnl8WAKMphVf2eecePdvU2GfvqXHwuw6IXXeZHCNRuv/mHqcUgHniyafiwYeWxhM/eioLygBYlwAAABpDIA8AAAomtail8abX3vB/Yv9pe8fRRx6aNartNGmHYHBdq9dkI2IffezHWUirGYJafTm/I9Ps5ze15H3qgiti/sIb4qDp+8UJxx4ZO0+ZlG1Up/3V1VkIb4uVj8W45f8miAeMmlLQ5eijZmRhl4PfNT0aIe1Heu60nfmxWdl1KfiSQjC3f/ceQRhoIdYlAACA5tA2cce9ugMAABps4hu3i/b2MQEANK9VL74QGzasD2hVKWRy9J8e1rPNiIPf9ccDjnRsNlkI5o67syCMEAwUi3UJAACg+QjkAQDQFATyAKD5CeTRqlLL03mfnJs1T+Ul7DKQFIK56ZuLs0shGMgv6xIAAEDzEsgDAKApCOQBQPMTyKOVpIBLGrV45sdOy33YZSApAFMKwQDNz7oEAACQDwJ5AAA0BYE8AGh+Anm0glLrVLpsFamR6vIvLMxCMEDzsS4BAADki0AeAABNQSAPAJqfQB5F1oqBl3ICMNBcrEvWJQAAIJ8E8gAAaAoCeQDQ/ATyKCKBl00JwEBjWZc2ZV0CAADyRCAPAICmIJAHAM1PII8i2eedU+NzF58n8LIZAjBQX9alwVmXAACAPBDIAwCgKQjkAUDzE8ijCCZ2dMR5n5wTZ35sVlCdJ370VJw6+6wsCAPUnnVp6KxLAABAMxuz1fjtLwoAAGiwrbZ+Q7S1tQcA0LzW/v530d3t73aSX6d8cGbc8o3/HQe/64CgejvusN3GoFBbPPHk07F27doAasO6NDzWJQAAoJlpyAMAoCloyAOA5qchj7zadZcpsXD+pcZA1kBqo5oz74J48KGlAQyfdal2rEsAAECz0ZAHAEBT0JAHAM1PQx55lNqn/un6L8U7dt8tGLmJEzuyY5paqYRfYHisS7VlXQIAAJqNhjwAAJqChjwAaH4a8siTiR0dcd4n52wcachoSK1Uxxx/RnYJDM66NPqsSwAAQDPQkAcAQFPQkAcAzU9DHnmRRkF+///eFO8/7OBg9GStVCfNjLVrX4kf/vtjAQzMulQf1iUAAKAZCOQBANAUBPIAoPkJ5JEHpVGQO+6wfTD6tho3Lt7/vhQwMioSBmJdqi/rEgAA0GhG1gIA0BSMrAWA5mdkLc3uvE/OzcZB0hhPPPlUnHrGWUZFQh/WpcayLgEAAI0gkAcAQFMQyAOA5ieQRzNbOP+yOOWDxwaNlUIvxxx/hvALhHWpWViXAACAejMTDAAAAADIrYkdHXHbt68XemkSu+4yped8XJddQquyLjUX6xIAAFBvAnkAAAAAQC6VQhYHv2t60DzSeXng7ltin3dODWg11qXmZF0CAADqSSAPAAAAAMidUuhFuKI5TeyYkDWEOT+0EutSc7MuAQAA9SKQBwAAAADkivGD+SD8QiuxLuWDdQkAAKgHgTwAAAAAIDcmdnQIveSI8AutwLqUL9YlAABgtLVN3HGv7gAosPb29hg3busYO3aLGDN2bM+2RYwdMzba2sfEmJ6vtbXLJtOc1q1bF90b1seG7g2xvufjdetejVdfWRvr1q/LLqFoJr5xu541e0wAAM1r1YsvxIaen1GhUUqhFyGK/FnV2RWHzDghnvn18oAisS7ll3UJhmBcR3TvPD26J0yO7o4pPZdTIjomZ9fHluOjO10ClGnrWhGxtrNn64q2zuU9n/dsLzwdkT7+7VMBUGQCeUDhpODd1ltvE1tsOS62zIJ4YwOKpnvDhnjl1bWx9vcvx9q1L2eXkHcCeQDQ/ATyaLSF8y+LUz54bJBPKfRyzPFnCL9QKNalfLMuQWXdHZOje7cZ0b3d1Oje+YAsiAdQS20pqPfC09G+fEm0LV8abc8uDYAiEcgDCmHcVltnIbytth4vgEdLSgG9l19eEy//bnV2CXkkkAcAzU8gj0Y675Nze7Y5Qb6l0MshM06MVZ2dAXlnXSoG6xL0Sg14G1IIL20CeECdpYBe28/vifZf3BNtP7s7APJOIA/IrTSKdvyEbeMN23QI4UEfabxtas3r6nrJaFtyRSBv+Do6xseJxx4ZBx6wX+w1dffYefKkGImHlyyLk8/4xCbXHzR9Wtx8/RejngbaF2hVE8ZvE3925KGx/7S94h27vzV2mrRDjMSjy34Ucz5+0SbX/363I6PzoHOjnnb73aOxevEng+YmkEejnPmxWfG5i88LiuH2O+6JU2f/dUCeWZeKxbpEyxrXEeunzYruPWcK4QFN47Vw3mOLjLYFckuCBcid1IY3YcK2sdXW2wSwqTFjx8Ybxk6IN2wzIQvm/W51V6xZ42/4QhGlIN4Zs06ID592QvYxUFwpiPfBE/4sPnji0dnHAK1kn3dOFXopmKOPOixrFrv8CwsC8si6VDzWJVpN1oY3dWZs2HNmADSb7nEdWVA4rVFpnG37TxZnG0CeCOQBuZGCeB0T3xTjxm0dQHXS+yVt6b3Tuep/BPOgQFJb3ecvPSd2njKyNjyg+e0/be+48Ny5sdOk7QOg1ey6y5T4p+u+FBRPGvP54ENLeralAXliXSou6xKtIAXx1h8wN7qnTA+APEjr1fqebcMBc6J9yULBPCA32gOgyY0du0Vst/1Osf0OU4TxYJhSa94b37xD7DT5rbG1dknIvRNnHpmNjhXGg+I7+shDY+FVFwnjAS3rc5ecm4VfKKZ/uv7vnV9yx7pUbNYlCqtjSqw/+kux7rjrhfGAXOpO69j7L411p98V3W+fEQDNTiAPaFrt7e1Zq9eOk3YxnhZqJAXz3rz9TvGmN++YhV2B/Nlr6u7x+UvPjVZnRC+t4A92f2tceN7caHVG9ELrSqMDjz7KL1qKbGLHhFg4/9KAvLAuFZ91iSJaf+DcWHfSt2LDbtYvIP9SMG/dn30pC+elsDFAsxLIA5pSGk+746Rds0BeW7ulCmrtDdtMyFonx0/YNoD8SCG0f/jSxUHEXnvsHvPmnh5QVCmEduUl5wS9wcSPnP4XAbSW1E6URgdSfAe/a3qc+bEPBTQ761LrsC5RFGk87brZd2VjHrvHdQRAkWzYc2a8etItsX6a/2YDzUnKBWg6Ezq2zYJCqckLGD3pPbbtG7fTlgc58uFZJxhT28fZc04XyqOwPnjCnxlT28dHZv8voTxoMbd9+7qgdaSQkxGRNDvrUmuxLpF3G6bN6h1PO8H3MVBg4ybEhkPO1ZYHNCWBPKBppEDQ9jtOiYnbbhdA/ZTa8rbYclwAze2EY48M+hPKo6iOPup9QX9CedA60khIIYjWYkQkzc661HqsS+RWGuV4/PWx/pDzAqBVpLa8dcddF93bTQ2AZiGQBzSFLbcclwWCxo3bOoD6S215O07aJRsTDTSnww97t3a8AQjlUTTvffcB2vEGIJQHxWckZOsyIpJmZV1qXdYlcme7qbHu+Ouie8r0AGg13SmQfPItsf7AuQHQDATygIbbZnyHEbXQJFIgTygPmtNB06cFAxPKo0j2n7ZXMDChPCg2oZfWls7/xI6OgGZiXWpt1iXyImuHSmE8I2qBFrfhgDlCeUBTEMgDGioFf974ph2ird1yBM0ivS/f9OYdA2gue+359mDzhPIoij/Y/a3B5gnlQTGd8sGZ2UbrSiMiP3fJuQHNwrqEdYk82HDg3Fj//kuje5zwKECShfLeb/Q80FgSMEDDaOKC5vWGbSZkI2zbhWWhaXRMGB8MTiiPIpgwfptgcEJ5UDxaqEhS+CmNiYRmYF0isS7RzLIw3gHWKoByWXPoybdECCsDDeK37EBDCONB89tiy3HZOGmhPGgOAnnVE8oj78aPf0NQHaE8KI4Udth1FyPW6HXeJ42YovGsS/RlXaIZCeMBbF73dlOzcd5CeUAj+A07UHfCeJAfKZS37Ru3D4C8EcqD1iGUB8WghYq+UhOVNioazbpEX9Ylmo0wHkB1Uihv/SHGzwP1J5AH1NXWW28jjAc5k8bXbvvG7QIgb4TyoHUI5UG+aaGiEm1UNJJ1iUqsSzSLDbvNEMYDGII0vnb9e84LgHoaGwB1MnbsFvGmN+8YQP6Mn7BtrFu3LlZ3vRQAeZJCecn8BTcEUGwplJdce8M/B5AvWqiopNRG9eBDSwPqzboU8cyvl8ft370nnnl2eUzsmLDxPXlAtDLrEk2hY0pseP/fBQBDs2G/WRFru2LMIwsCoB4E8oC6SGG87XeYEm3tijkhr1JL3quvro21v385APJEKA9ah1Ae5I8WKjYntVEdc/zsgHpq9XXpmV+viDnzzq8YOkvHJYUV0zFqVdYlGqpjSqw7/rroHtcRAAzdhgPmRPuzS6JtuXA9MPokY4C6SEGeMWNlgCHv3rzdTlnAFiBvjK+F1mF8LeSLFio2p9RGBfXUquvSqs6uuPwLC2Lf6YcP2ACXWvPmzLsgC6Sl4F4rsi7RSOsPOTe6J/iLDAAjse7ov88CzgCjTToGGHUdE98UW229TQD5197eHm988w7x2+eXB0DeaMqD1qEpD/Kh1Vuo7r333njsscdi2bJl2fbSSy+9tpW89a1vjW233Ta7nDZtWrz3ve/NLtN1rSJ9nxgPSb204rqUgnjXfOXrPduNPR93VnWf9J5Mwb10vFJj3K67TI5WYl2iETYcODc27DYjABihcRNi3fsvjbHfnh0Ao0kgDxhVqUkrBfKA4hg3busYP2HbWN31UgDkTQrldUzYJi65fGEAxZZCeePHbxNXL7g+gObUaiMPU9AuBe9uuOGGWLx4cb/g3UB++ctfZpfpfuk+JYceemjMnj07C+ilsF6RHf2nM2LihVdUHRSCkWi1den2O+6Ov+l5f6Xmu+G46ZuLs613jO1xLRPMsy5Rdx1TYv0BWoUBaqV7yvRYP+1DMWbZ1wNgtBhZC4yq7XdQ+QtFlIK2RtcCefXhWSfG5y89J4DiO+nEo+PCc+cG0HxSA1WrjPxLwbvPfvaz8ba3vS3e9773xfXXX19VGG9zUrteCuSlxzzjjDNeC+4V0cSOCXHmx04LGG2ttC49+NCSbOzsqbPPGnYYr6/Lv7Awe7wUzmsF1iXqbd3x1wUAtbUhBZ2NrgVGkUAeMGomdGwbY8Yq4oQiKo2uBcirE2ceJZQHLeLoow4VyoMmlNqUiq5vEO+iiy4acQhvICngV/RgXmqjgtHWCuvSM79ekQXnjjn+jJqPXE3BvjnzLoh9px/REsE86xL1smHarOieIDACUHMbR9cCjBaBPGBUpOas8eO3DaC40ujacVttHQB5JZQHrUMoD5pP0Vuo0njZP/zDPxzVIF65UjAvhQCLZp+9p7ZMcxmNU+TvsVWdXXH5FxbEvtMPr3kQr1wpmJeCfykAWFTWJeqiY0oWyANgdKTRtd27CdkDo0MgDxgVaZyldjwovje9accAyDOhPGgdQnnQPFKAIY2GLKIUvvv4xz8exx13XMPa6lIIMAXzitaWd/RRflHG6CnquvRaEO+Pj8jGylYjHYszP/ahAb92ygdnRjVS8C8FAFM4r6jBPOsSo239AXO04wGMsvWHnBsxriMAak0gD6i51I73hm0mBFB8KXibArgAeSaUB61DKA+aQ7VhjrxJAbjUinf11VdXdfttt902Dj300LjqqqviO9/5TvziF7+IF198Mbq7u1/b0nU/+MEPstvMnDkz3vrWt1b12KV9SU19RXHKScX8vqE5FHFduv2Ou+OQGSdkQbxVnZ2D3j4FEm/79vXZts/eewx4m4XzL43Hl95V9TFL42tTMC8FA4sWzLMuMapSO96evscARlt3z3q7ftppAVBrAnlAzQnnQGsZP2HbaG/3IwWQb0J50DqE8qDxijjib9myZfG+972vqla6FMJLIbtS2O7ss89+LWyXQnp9pevS7dNtSqG9dJ/Zs2cP+jyprS819RVlhO3EjgnGQzJqivS99eBDS7JxsafOPisbHzuYiR0d8bmLz8tCdtUeh1Iw74G7b6m6WTAFA9N+pYBeUViXGE2pHQ+A+tiw34e05AE157fnQE1px4PWk8J4b9jG/1EB8k8oD1qHUB40ThHHQlYbxisF8dKWPi4P31Ur3fe6667Lwnmf+cxnBr19GmFblFCe4AujoSjrUmqfS4G3Y44/IxsXO5gUxDvvk3Pj8R/eGWd+bFYMxz57T82CfCmcV80xTAHBNMJ23+lHFCaYZ11iVGjHA6ivcRN61t1jA6CWBPKAmtKOB61pwoTh/SIJoNkI5UHrEMqDxihacCGF8FILXWqjG0hquesbxKuV9LgpbJeCeYM15qXbzZ8/P/Lu6D99f0Ct5X1dWtXZlY2DTWNhqwniJWnc7AN3fyvO++ScLJg3UunxUjDvc5ecN6RgXgoQ5n2MrXWJ0aAdD6D+Nuw3vL+gADAQgTygZlJL1rhxWwfQesaMHRvjtvL+B4pBKA9ah1Ae1N/B7zogiiKF8QZrxps3b178x3/8R02DeOVSMC815l111VWbvV0ae3vvvfdGnu2z9x41CQ9BX3ldl14L4v3xEdk42Gqk8OFt376+6ka7oTrzo7N6Hv+6LKBXjRQgTEHCFM7LazDPusRo6N5Z8yJAvXV3TInuKdZfoHYE8oCa2Xrr8VkoB2hNGjKBIhHKg9YhlAf1M3HihEI15H384x/fbBgvBeSuvvrqYY+mHaoUuEtteSmgN5DU5jfYaN1md/SfHhZQK3ldlx58aEkcMuOELIi3qrNz0Nun8F0K4qVttF9veq4U+EuNedUG89L42hTMSwHDPLIuUUtpVG33hPyP0QbIo/UH+vMhoHYkZ4CaecP4CZFnHRO2ifE9W18rVvwmgOqkhszUlLlhw4YAKIIUyks+dcGVQX97Td09Dpq+X+w59e2x85RJ2dYxfnx0dIx/7TbPrlgZzy5fGZ1dq+ORJY/Fj5/6WTy8dFlAM0qhvOSSK/L5S2DIi332nhpFkca/Ll68eMCvp8a6wcbIjobSeNyBmvvSaN0zzjgju01eFen7iMbL4/dTCq1V24iXmtvSWNozP1b/EWylYF567lNnn5WNqR1Mel2333FP1rKXp9Y56xK11L1ndUFWAGova8gb1/MzyNrB/8IDwGAE8oCaGDt2i9yNq00BvMPee2D88f77xAF/9M6YvNMOFW/31H/9Ipb++xNxz32P9Fw+GeTDnI+e3O+cdq1eE1d88dpgdL1hm45Y3fVSABSFUN7rDpo+LQ6f8a448dij+gXvBrLz5EnZlhxx2MHZZWfn6nj4h8vie3f/W3xr8Z0BzUQoD0bf0UcVo0EoBd0uuuiiAb+emvEaEcYrKYXy/vAP/zAL4JVLY2tToDCN082j1ET1N5++PKAW8rYupSa5asJ4KcyWgnBnfuy0hgfbUlgtteWV9n2wYN4TTz6VBfhSm19eWJeomY4pscG4xFz6wDsi5pZNQP/Vqoi//NcAcmbDnsdG+7JFATBSAnlATeQpjJeCeKed9Ocx66QPxISyRrxKpv7B27JtVs99Ujjvmq/cHHff90jQ3Kb/0Ttj+v7vfO3zFc/9RiCvDrZ+wzYCeUDhpFDe/IVfz9reWtEJM4/sOQZHZoG8kUpBvhTOS9u8OafHt269M25ZfGfLHluaTwrlXXvDP8dzKzVlw2jY5517RhF89rOfrRh0Sz7zmc9ko2MbLYXyvvOd72RNeZWkQOHpp59et3G6tZRat1LAqJoxnTCYvK1L1YTx0pjY1IqX3ivNJO1X2q756qKeP19dtNlg3oMPLc22vIwTti5RK8J4+XXFERFvmdj/un1/H3HOuIhVawPIkQ27zRDIA2qiPQBqIC/jaqe+423xrUVXx5yPnlRVGG+T+//B22L+58+Pcz/+kSzYB/RXGlsLQP6lAN4Dd90UX7j03JqE8cqlMbdnzzk9br7uizFv7ukBQPHt8849Iu9SO971119f8WspBLe55rx6O/TQQ7O2vkpSoDC15OVVEb6XaA55+l568KElVY197dUWzWhVZ1esWtXZs3UNetvb77g78sS6RC0YV5tP++64aRgvmbhVxGn7BpAzr42tBRghvzEHRiyFb/LQkHfsMTPiumsujcmTK4+mTQ1qSx99Mhbfdk92mbaBzDr5A/G1nscSyhtdKUD55JJbX9smT94xaH5bbz34GEMAmldqsfuHL10cN1//xSw0N9pKwbwU/qvH8wHQGGlkYaPHJtZCascbSBoTO1KloFx6nhT+G6nU1peCeZVcffXVAzb9Nbt93jk1YKTyti6t6lxd1e3SaNh9px8el39hQTzz6xXRLFLA7pAZJ2Qtf9U0yVUT2msm1iVGbNwEDXk5VT6qtq8PyOpCLnXvdlgAjJSRtcCI5SGMl4Jdl376rE2u7+paE4u+8S+x+PZ7YsWKymOpDjv0wGxcbd/xp6XHTKG8E09r/CiaohooPFmN5Suejyk7vX7/5c8ZO1YvW2y5ZcSaACCHUhPe5y89pyHBuPScKZR39cIbYv6CGwKAYtl118mRd5trx0ujalND3kgfP42YLQXxUtteCs3NmzcvRiLt27333rvJ9aXwX/p63qQgFYxU3tal1Cw3FCn4dtM3b83G16ZRsY2Smv3SvqQRtEVmXWKkuoXxcuuQt2z+a6k971erAsiRFJAe85PFATASAnnAiI3bqrkDeSmU9aUrz9/k+qf+8xcx75zLYvmKzQe17rn3kWxLrXhpVG1fKZSXrrviqmuD2ksjgofrby/+UtAYqSHvpRdfCADy5cOzTogLz5tb9e0fXrIsfvz0z+KRJY/Fj5/6aXSuXh2dfVo7dp48KQvZ7TX17XHg9P3ioAOmRceEwVtUU1teus+nLriy3+MBkG9FCCoM1I6XgnizZ8+OWjx+eSteCuWdfvrpse2228ZwpYa8tFUK5S1evDifgbx37hkwUq0QoEojbufMuyALxNU7mJfa+ebMO7/wQbwS6xIj1b2zQF4elQJ3Jc+8FPEv/xnxV31a89LY2ksfCCBHhKSBWjCyFhixLbYcF83szI+etEnTWgrjffjMCwYN4/W16OZ/jTN67lMuBfWm/9E7g9qbvNPwG/JonDFjx2ajrAHIj7Pnnl5VGO/ZFSuz9rr9/uTP4+QzPhGXXL4g7rrnwez68vBcuu7hpcvia4tuib8869Ox30F/Hp+64IosyDeYIw47OG6+7ovZ+FwAimHXXaZE3lUKtCUp7DbSdryBHj+12NVirOxAobtly5YN+Lqa2a675L9xkcYrwrpUrVIw75jjZ4/6GNtVnV3ZuNw0NrdVwniJdYmR6t5OqDOPUtiury8vibjtP/tfd+p+AeRMd0fPz4njOgJgJPy2HBixLZs4kJfa8WYeM6PfdSue+03WjNfZNfSZmkv//cmKbXhzPnJyUHtTJu8Y5FOzB3UBeF0K482bc/pmb5PCdSlMd8jhp2QjZYfbXPetxXdmQb5Djjgl+3hz9pq6u1AeQIHkPfiSQmvl7XUleWiYK7XkVXLfffdF3kzsmNCz+QUZI1OUQN7B75pedfNdCsiloFwK59U6mPdaEO+Pj8ga+aqR9v3Mj30oisC6xEht2G6PIF8mbrVpIC+F8R74VcSv+vx9itSg9563BJAzmkuBkTKyFhiRFMZra2vebG9qxyu38Ks3D6kZr1xqypv1wT/v17qXGvLSlgJ71M4eIxhZS2NtscW4WPv7lwOonRRgarTUdva2vQ+LZtBM+5Jn1YTxUsPd/CpCeGnkbXqsFKBLt00hvrSlkbYPL+0da1vy7PLegN8jPedxXs8+pPG2laRQ3ucvPSf+8q8/Ha3kuJOrHx08Wsb9+t9iu+fru+50vbI62ipc/+iyH8VB7/uLAPIt781Bjz32WMXra9WOVw8Dja1N1+VxbO3EiRNiVWdnwHAVpdEsBQsXzr80G0mbgnA3fXPxoPdJt0lb7xjb40Z8LG6/4+74mwuvyJr4hrLPKZBXzf7mhXWJ4erebqomphz6wDv6f54F8Vb1fnzj4xEXvOf1rx3Tc9v7fxVAjnRPmFzxz6kAqiWQB4zImDHNu4xMmLBNxXa8xbfdEyP19W/8S5z3iY/0u27Gew9s+kBeChFOKRsD+/R//mJYbYGVdPQc8zRmNh37kuU9x3zFMAKQ6TE6+jxOo1R6TbU8ZgM95/iNz7e653lG87lGSzM3ZwLQK4XdNhfGy1rxzr8yCz8O5oSZR/YbeZtCeXt17J49Rxo/mz3e8pVZsK9vM176OIX1/uFLF2e3rSTdP4X20qhc6qft1dXZBlAreW+iWry4cmBk5szqWqmawemnnx4XXXTRJtenQF4ai7vttttGnuzzzqlVh3+gkqKNrC2F3M782Kw4dfZZVb0/egN8t24M5g19PXvwoSXZY1Q7mjY1yKXnSvtYRNYlhm2rCUH+nFrWjpdCeCWpKa9vIC816Z3zvRhVb+nzo1zfhr6R2Lbnj/l37Xncbbd6/bqXfh/x+PNRWOk4plbDktF+vfvu+PrxTeetFOqk8bKwNMAICOQBI9LMYylTY125JTUKzN16+z0x56Mn9wuMHfbeg+LyL/5jxdvfdetX+32+6OZ/iUXf+Neo1mGHHhjnfbx/APCIYz9a1X1TAO+0kz8QM4+e0S9U1tfSR5+MW2+7e1hhxdLjz+h5/ZPLwn4lKQiZjv011w7cTljpNZa7/pq/2+S69Lh/e/H8Ta4/7xP/T3ZOBrtdJem8nnbSn/c2H+7/zoq3qeY1lSv/Prjii9fG3fc9kn089R1vi2OPOazieRrOczVaW3vzNmcCELHzlElZCG4gKYx38uxPZCG6apw488hBb5Oe8/OXnpuFAPsG89JzHH3Cx7ImvBNnHlXxvmf33Ke3aW/wcCAAzSc1BuXdsmWV/xu03377RV6kJr8Uukvhu3JpHO+0adMiT9J4SBiuIqxLA9ln76nx+NK7sua5FJYbLCCWvp5G2KbbVhvMS+Nu58w7f0hBvBTCO/NjpxV6rKt1ieES+sifSmNoH+jTgJcCXKkRr3SbNN42fTzUlrxj9oi48v2vf/7Mqoijbnz98xT0S9s+O/YPzZX2J4UE+zb3VSOF8OYeEHHIW3q3gZQev28Qsa8UNPvGiQPv+2D+4QM9z7/ryO+bXPbAwPuZpNeZjmNqMiw/jiWDvd5yVx7e+3glC3r+k7lgSe/HpWM854D+z5eeYyivk9HV3VGMNmWgcQTygGFpb2+PN2+/U4wbt3U0q8Pec+Am1/3gvoejFrq61mQtaX1DfymMNnnyjrFixaZ/VaY8qDZhiM1vHdtsM2DYbcD79DzHmR89OWad9IFBb5tCZ2lLIcOzPnVZPNXz2qpx7ic+UtXjp32fmcJmPVsa+XvFVdducptqXmOlr0+ZXPk+48f3f7yBblcuBfHmfvSkQc9R39e08KvfyEYhD2ag74PBjmM1x6/ZbLmFhrzhOuLI98ddd34/AEbTvDkfygJylQw1jJd0TBhf9W1LwbzUqvepC6587XnSx8lAobwU2Dv6xI8NOjoXoBm1+s94eQ9fpABbpRBbksbA5kna30ptf2kkb+4CeQUOVNWDdan4oyFTsC5t13x1UVzzlUVVB/NSkO/gdx1Q8TZpHOvlX1iQhfeGsh8p6Fe0RsJKrEsjs2HPmdH+k+KMMB4SoY/cKQ+q3fb0pqG3B37VP7Q3d/rQA3kTx/VvvivNz0yBwO/O6t/kVmkf05b269y7Iv71P2NQaQzv//7AwKG0So9//nsi/nTRpq8/hRLT40zc+Fil5rlqw4FpX/red78de35mrbKpru99kycGuF/anyy8t5ngYclgr7dcev6+527ixl+ZZEHFv9j8uaNJTCj+zy7A6BLIA4alvX1MU4fxkqnv2G2T6576r+qCZtV46r9+vkkL3wH77x2LVzS+qzuF8b52zaVZ69pQpODXt268Oi64+EtZY97mVBvGKzfr5A9k+3XGmRdEs0mBxDkfPSmGKt3nsPceGB/ueU1DHS976afnZc141Wrm49eXhrzhO/300+JDPduiG26MOwXzgFGQRsMOFHobThgvuWXxnbHXebsP6T4HTZ8WN1/3xTj5jE/0C+WlwF76Wrl0/RmnnZC16wHkTav/jLfrLvn+JXNqj6tkqAG2FOq74YYbBgz3DXT9/PnzBxwnm8bQpua7ag1024FeYzPTRDUy1qXWCb+c+dFZcfRRh20cTzt42Cm13g3UfHf7d+/Jtmoc/K7pcd4n52aXrcK6NDIbDpwTGw6YE+1LFrZcMK97XPFDwkUztyy3XCnslhrR+o6tTWGuFMpatTZGJAW6vntadaG5JAW/UgDspH/efCgvvabU6jZUpXBgpZBaer7T+oz2TY1xC6ooV82OVdnrS/etJpBXft9nXqp8v2pCjZWU7peO51BH2Wb3HcK5o7GszcBICeQBhVUeRkutdrUc9/n005uG+4baYjdaKoXx0ljae+59OO6+/5HXrkvjZo89OjWvzeh320s/fVaseO75WDrAiN/U1FYexiuNvV3Sc7li43FOwcAUVJvzkZNjcp+GuhRkTPfvO7Y33b/vSNk9evZ/1kl/3u850kjg1av7t+J0rR5aAG4gA4XxSq+r1BqYWu3SMTtg/336vaZ0vOdfef6QgnKpja/veUrPkbZ07Hsfc7fs+JWrdPyaTbtA3ohMmrRjfOrc/1+8693vimsW/kOsXNn4oC9QHJsbVXvJ5QuGHMZLvrbolqwl74TjjoydJ0+q+n4pZFceyvvLv/503P7tr1R8nA9/6IS45dY7h7WPAI3mZ7z8GigoN1BIrpIUeHvf+943rODb1VdfPeDXLrroouzr8+bNi2oUKZDXCm1bo8261DrS+2Xh/Euzprpqg3kjfa5WCuKVWJdGrrtjSqx//6WxYbcZMfaByyM6l0dL0MKUKykQl7aSVb+vPMY0XV8+tjaF0xZUN+27ojTqNIXrSoGu7Dme6Q2dvfT73utTIK3v/pWkJrj7v1w5EJiCYucfEpvs/5d79vWfel7br/r8OFwa79o3aFdqmisft1oeyPvAHtW9/r6jXvs+bzwQQ75vOj7lBgrjpfOV9q9vo96uEyu/3nQeqmnK6ys9pzBejowTtAdGRiAPKKQpFYJxK56rXRgvqdS2N3mnHaPRUrCsPIyXxqmmsarlUnAuhe6u6fnadddc2i9glprbjjj2o5Wf4yMnV/X4qS1u8W33ZNuXrjw/Djv09XDZrJP/vF+gbHnP+Vl+2+t/w7Y3dNY/kHfP/Y9UHAk8Uun7pTyMl75fLrh4fsVQYrou3Wf+58/vd6yHGpQr3feeex+JhdfeXHFUcHqeM3v2rTw0mc7zrbffM+RGvnoaO3aLWLfu1WD43n3wn2TbnXd8LxZ9/Z/8cqTF/fexN8X6baoPOtXCm289JcaseT34lDWaXf/FqKeHlyzLwlrl6r0vhxxxSiFCYOm4DTSqNoXq7rr732K4rl54Q7YlHR3jY689do+9pr49G02bWvkGUh7K6+xaHZ86/8qK5zeF/s6YdUIWHCyyZni/7z9t71h41UVRT48u+1HM+fhFm1xf73057uS58dzK2v5/B+jLz3j5s2pV5d+yDSWQ99nPfnbUQm8plJea8qrZn4kTzcZiU9al1lEKy535sVlx6uyzBh1jOxRpDHAK/KXHhpHq3u2weLVnS015Y5YsbJ1gHrlQTTteyW3/2X9sbbWBtIFM3DgCNoXlLn0g4p8ei3ipQsDumJ7n+fz7e9b9bfvf968O6L1fuTSGdduyVrk/ubbyY6dRvGlLQbQL+oT4UmCufKxsul3a11JjXbUtgek4lav2vu8pGz/7TxXCkun1lofx/vK2iBsf2/S2KYyYXkcKXX7zxD5jdCf2Ngp+8FtRlbT/pedMwb+0Xw8883rYMYUtd63+/15QJyko3ua/QcAwqa8BCim1mJXrXF3b4FJXhSBUx/g3RCNVCpYNFJbrK4Xhzigbt5ra/mZWGKWaQmR9g3vpOAz2+MkFl8zf5PEnT258gDH5u8/0bxJIrykdj4EaApPSMSsP0aWgXEeF77+BpPNz1jmXVQzjlZ7nby/+Uhba62vCxvZBWsORRx0eX/jiFXHkke8PgJGYN/dDFa9Po2qvW3RL1Epn5+p4eOmyLOR39Akf6x2Du2LgQGMK5X3+0nNe+zzd9667H6x42xNnHpkF/gDyrpV+xst7Y9CLL75Y8fqhBPLuvffeGC2pwW+gFj8YCutS69hn76nx+NK7snDeSI9FbxBvbjz+wzuF8ai5DXvOjHXHXZddFpoWplw5pIrAV0kKcaVAWt/7plDZSJTCcguWVA7MJbc93dtW1/e5k/IwYUl5o14Kp700SPDtsvt7g2V9Hbxr/8/T85ePi60UtusrhdYGGiPbt6VuoPuWtxeW72Op4a+vc75XOYzXVwrllYfvUvCxPAA4kNLtLnsg4k9v7P3e6Ns8mI734/5OBEChCOQBhVQpkNfVuTpG24QG/3L42LIAXWp5qyYsl6Tg143f+Jf+j3f0jE1uV35sKzUFVpJCbksffSLbp9I2Zafto9FSiHH6/u/sd10KyVUz3ji9piuuurbfdaWRttUYyvlJgcZyf7z/PkHrKI0SuvGm6+Pd7/6TABiqFHpLDXmVzF9ww6g2AKaA3SGHn5I9z0DSvp3xoRNe+/ySKxZWvF02GvfYIwOgCPyM1zqmTZsWoyWNoR1oFC0MlXWptZzywZlZMO9zl5w3rGBeuv8Dd38ra8ZLwTwYDaUxtutOvyu63z4jiqhbIC83+racJSkcVx746qtSIO2vDogRSQ131YxJTbdZVBYWTO1ulcJu5YG8X1X5dz1K42xLW7RtepvbyhoEDxkkwLa5rw8W5iu/b6X2wvLjn4JxKdxYjRTKKz/flcbrDiSF8S69PwBoEQJ5QMvoXP27qKVaN+7VwsyyAF0Klg1F+ajVNIJ1sLa3SuOBBzLvU5/LxuCWts010NXLaSd/oN/nKWSXRsFWK72G8tdx2HsPquq+99z3cFQr7Vd5i96UydUfe4oj/XLks5d8Oj51zieyjwGqdcRh7654fWqu+9biO6Me0kjbzY2bPXvO6a+136WA4ED7dcSMdwdAkfgZr7kNFHYbygjaq666atRCc/Pmzav6trUYv0trsC61jlWdXT1rQ2fP1hXD0xZQDymYt+7PvpSF86KjtVsuaZzyZrX7nxn8PuUjag+pslFtIP/6dPW3va1CIG3fGv5nPYXZ9lrw+lYp2HZjWSjwA4ME2E7tc4zLA3Bp3zfXMFge2HugLDyXwojlAbrNNRxWclnZyN/BWvv6GqyFD4BiGRsAFMKUbARs/4DW0keHFngrhb7SWNqSNBZ18W2vB9RWlDXHpdGzs076wCZhvryY+o7d+n2+9N+f6Ddatxp33/dwFl4sKQUZB3ucoT7PU//5837nhtF1/AkzY/z46scP18o246tr2kyjhNL29RtujLvu/H6sXKnPHti8wwcIsT28pL5/GpjG2KaWu3lzT9/ka+n6M047IeYv7G3Su2XxndmI2nKpTS8F9zrr0IAMFIuf8RiOgcJqQwnkpTDeD37wg2x07a9+VblG5eqrr644evbss8+uuA8TJ07MmvcOPfTQqNZA+yyQ1zjWJRrp9jvujr+58Ip45tfLYzhu+ubibEsNead88LjYdZfJQf5tmDarISNUu7es7jnT+Nq0tS9ZGGN+srjnD1mH9/0Lw1EeJltYRbNaCoWlprzUTpekQF4aX7q5Zr3NWbW2+ts+U6HprrQffaV2u7f0+XHw/PdE/GWNfuVTGhtbGtmann+g11/6WkkWPmzrf9/9Jg187A4pG5lbHl7cZ1LlfRuK8rGypdbBwVoLH19ZXbMhAMUhkAcUUleFoFPH+DdELXU04A9LN2ePPfoHtdIxqGbsarny0Nfksga8NNo2hfL6hv/O/cRHYo937Ba33n53U7TeDUX5uNqhhhiTH1a4TzpunV3VjfOlOZ3Q80uRHXPQAvCh00+LI448PBb1/HLkzp5fjgBUkoJuA42rve7GW6LeUlPegQfsV3GfPvyhE7J9SmG7NOo2NeWlcbvlDj/s3VlgD2Ao/IzXGKs6OyPPNteQlwJ01YbZ0uPMnj17wK9ff/31FQN5qQGvVu16y5Ytq3j9fvvtFzSGdakx8r4ujdSDDy2Jy7+wsOdyadRCeqybvnnrxmDezCDfUiCve0LzN9BtOGBOdE89NgvmtadgXo61da7IxTFvdakJrW+YLYXdHqsip55CX2l0at8mtdTSNtxA3mhILXYXvOf1z9O+puDgZfdH3PZ0xEtDCAFW8sCv+gftUnCu0usvbw988Jmen7lXRVx5+OvXDXTs0n37np8sCFm23+WBvceH8fcM0vksDzCm5r7BwnarRngMAcgfgTygkCoF8iZ0VPc3f6s1ocIo164GtrRM/YNNm9NmHnNYDNWUnfr/IfDknTb9Q+HLr742vnTl+Zs8V9pWPPebrGUvjWNNl+VjVptJpXG7T/3X0Pc3hRTLpVBjM7/2eli37tWgPsanZoM2I2KAge01dfeK16dxtT/+yU+jEeYv+HocdP2mgbwUHtxrj92zMF5y193/loX0yqXXdEsI5AHFVaSf8YY/BrE5pMBd2iqF5VIoL7XU5UWRGvLy/n2VR9al/Hvm1ytizrzzaxbE6//Yy3se+4IsnNeqwTzrUgOM6wiol1PLRpN+uYp2vJIUeOsbyEsfn/O9aBpprO6snn3atc+PhKn17R8+0PPBB14fHZsCcsMJEqbRuX0DfylUd+kDm96ubwNh38Bj34a9gY5d+SjaGyuMon1r2Y+86TUOZeRsybZlLYOVWgcphjYtrMAICOQBhdS5etNAXqXw1UhUCuStWDn0RrpaKd+f9PnffXpejIZ77n0krrjq2jj34x/Z5GupGS5tadRt0jegl9rnhtPaN1rKR/wOV9cQR8+2gg0bNkTe3XLL4oaMDTr+hOOqft7VPWvdt3v289u3fCf7GGAgB06v3Hrz46d+Fo2SAndpq9SSl8brlgJ5P366cmDwoAM0+QBD52e8xihCQCGNhV28eNP2nfvuuy83gbzUjjdQIG8oY2+bRVEazqxLjdFqwalVnV1xzVe+noXlRlspmJdG2S6cf1lLjbEtyrrUvmxRQ0bWrt9vVtUBu7a1XT37+fVoe+zGno8LcNy7UuBjetC8UnDrPWXtbR+YGrHvpBiWzY1tbYTU+nbUjRF3nNY/lFeS2uf6ttelgF5q/UvtedWMYU1NdH1b5dJxqzTmte9z3P9M/+cbbORt+fl5oMKx7RjX//P0WrPQ4QhNHBcAsAmBPKCQUkCqfKzq5BoH8vao0EjXyLDZhDr/4e2im/81C+ad+dGTYuYxMwa8XXlAb+FXv9Gz3RzNavlzv41aqPX3W96sX5//drz0y4ZGOPLIw6v6pchjyx6Pz1/5xVi5chi9+kDLqTTyNXl4ybJopG8tvrNiIK9v2O6RpY9VvO/Ok4f5p95AS/MzXmOkIEjeDRTIS9elkbJ5kMKDleQxjFck1qXGKMK6VI1SEO+ar9xYdVjs4HdNj33euWd2v0pf23WXKVnYbjCphW/f6YdnTXnnfXJuSwXz8i4L5DXAhj1nRncVgbz25Uui/ft/W6jWokKECguufJRqdt2um45AHYrUuNdMY2tTOC6F8ub0/Cpn1j6bb30rBfTSKNnURJdG2w4WzEsBvr864PXPU6Pdgj6FrWnsawrplaSwX8kDz/R/rPKxtel++/YZ9vT4ysr7s+0oNdlpyCsm7XjASAnkAYX1k//6+SYNaLUcI5oeq9xwxp2OlhRKvPu+R2KkfvjoEwN+LY1q/duLvxTXfPUbWeDusEMPykbnVmoPLJnz0ZOy2374zAuiswmb5abstH2sWDHyP2Ru9da8IjTkNauf/vRncc3Cr2S/FAGo1s5Tdqx4/U8a2JCXDBS2SyNrS55dvrLibdJo246O8dHZuToA8q7oP+MVoTFov/0qN7Pee++92SjbPIx8vf766yten6eRu32l0ZuMHutS/t1+x93xNxdekTXWVSMF7RbOvzQL3Q0UuCvdJo2kTW171QTz0m3S1jvG9rhCB/OsS6Or7YWnYsz9l0fb8tqPXG64Tt87zW7uAVFzaTzrOeN6/pu0NppGCrGde1fE5+6LOGaP3m2/HSq35pWkka8pnHfSP/c24Q3ktrJA3gf26B/IKw899g3cpba7vg17ab/6jq0tv295gG8gaSzu/VXednOe8Hfmi6lLIA8YGYE8oLCW/vuTMeO9B/W7bvr+76xZIO+A/fep+JyN0lU2MiR9/rcXz496SMG8Rd/412xLpv/RO7Ng3kABvRRm/LsL58VZ51wWjbSiQqNhR42aBrtafHzoq6800Z8iFEQaC/T1G25sWHsCwGhIYbsUqEvBunKp1a8UxkuXlVr+UihPIA/Is1b5Ga8oI2tT6C6F78rdeuutcfrpp0czS8HBNLK2kmbf94FUGzJiaKxL+ffgQ0uysFxqqKvGxI6OLCx35sdmRbVKwbx0n1Nnn1XV+7E3wHfrxmDezCgi69LoyMbTPrIg2h9rTHNfPWhham7l7Wu1klrVUijtxibMvr+0tne/SvuWjkGpFe89u24a0Etf/8ZfRPzJVwcOGKZQXRqNW2qTS8d0Yp9AYmq963fbssfp27CXnq/vyNt0HPtK4b+Kr+v3/T9PAcK//NeAitpeeDoARkIgDyisH9z3SJz3iY/0u+6w9x70WmhsJFKgrLx9b+mjjQvjJeXjchs5MjUFE9PWN6B36YXz+h2zww49MLu+kSHGzgqhueEct0ptiSmk2MrWrVsX1E76RUj6hcjqFg96AsM30HjXZ1esjEbr7KocyAMoulb7GS+FFFKAI89mz54dV1999SbX//KXv4xaSE115Y/11re+NdtG6oYbbqh4fXrsvDbkrRLKrznrUr6ldrY5884fUhAvBerO/Nhp2cfDsc/eU+PxpXdlDXgpcDdYIC19fc68C7LbFjGYZ12qvTQ+t33JwuKPdBX6aGpzKrTjXXp/DEsKjvUN96V2uWYM5JVLwbdflQX0zn9P7/6XpOtSYO7SBwZ+nBSqK90nBfP2m9TbhJfu+54+LXeVjsltmxl523d0cNZ6N8Ao4GfKxtjuOjFgQMLSwEgJ5AGFlQJRKeyVQl8l6eNahMBOO+kDm1x36213RyM9XWFcbi1H9I5EOt4nzDo7rrvm0n7htRnvPbCxrYJda7KWvL5BwT3esVsMVaVA3tNNcNwb6dVXNeTVQhoNlEYEpVFBAEWVAnlDuR4g71r1Z7wUFMl78GXx4sqNYbUaV3vVVVdlLXZ9Q3nz5s2LkUqPN9C42s985jORV8884xdktWJdyrc0fvfyLyzIQm7VSkG4FIir1etPj5e2a766KK75yqKqg3kpyHfwu0ZhDmSDWJdqp335kmi//4psTG0ryEIfKXQ4bnjhWEZXeftaCotd9kAMS2p9u/Lw1z9PjXMTm2xsbTVSQC81y6Umvb+a/vr1p+63+UBeOnZ9Q3wpVJfCc5uMnK0QqCtv2CuNvM2O4Vav325zI2jLR+q+pTY/xlNQbb9tjf8GAaNHIA8otFtvv7tfIC+Z85GT44x/vyCGa8pOO8TMY2b0u27Fc7+JxbfdM+B9OrvWREefsa0dE4Y2FrW8ja+SFLwrf57D3nvgkAN5KVzWd8Rsem192/fKj2e1gboUfrvx5n+Jv/vM679MmDypcS1+JUsefSJmTn79fKaQ4JU9rz8dy2q9r+c+fT298Vy0MiNrR2blyufj81d+MfulCEAtDBRuy5rpGvw7o1sW3xl7nbd7v+vuuvtBo2iBwmn1n/F6wxnTI68++9nPDtiEt99++0UtpLa6H/zgB9l42TQaNzXXpVG5I/W+971vwOerxeM3wqrOriyExMhYl/K9LpXc/t17sq0aB79repz3ybnZ5Wg486Oz4uijDts4nnbwscepza/aRr9mZ12qjbbOFTHm++dH2/JifF8MRfsLT8eGKflfk4omhb3eUtaidtsICg1TIK1vIC8ZrFVutKXGvm37BNoeW1l9QPCy+/sH8t4ySONcCsT1DdWlcN453+sfekwNd79aVfn+fRv2SmHGvqNuk82dn/JAXtqP1Mw3UKPeQEZyzMgPI2uBkRLIAwotheRSAK9voC0FyuZ89ORY+NWbY6hSGC+1vJUb7LFWlwXl9viDobWwTf+jfQa9TQq83XPfw/3CgrNO+vO48Rv/OqRw2JeuPL/f8Zr3qcteC+SloF7563/XjFOqfvzlK/uPcZ3QBOPpbr39nn7HLL3GFGTcXMCyr/Q9MeO9B/W77u6e89DKUjvehg0bguG55ZZb46477zKeFqipZ5evjL2m7r7J9TtP3jF+/JOfRiN9bdEtPT8njY8Tjjsyu0z7c8kV/ds9dp4ywMjd5Y0fuQtQDT/jRTzxo/y2C2yuYa7Wobb0eGk0bq1sLkh4+umn12QcbiM88eRPgpGxLuV7XRqq1IS3cP6loxbEq/RcqYGv2mBeEViXRq79PxZF21O3Fn887QDaXuj5HhLIazp929ySFBZLobDhSmG0FP7qO541a4drYCDvgvf0D7Wdc9fro2AHk17PUKTbP/b866+/FIjrO3J2c8e3byAvSUG+95S1620uXJda9lIor+/Y4PMPGVogL4UO/7+P9L9ury8L5BVNFsZr0f8eAbXTHgAFd8El8ze5bs5HT8pCeUORglfzP3/+Jm11g7XjJamFra/S6Nxqn3f6/tXdNoXL+krhsjM/Uv3rPO2kP9/k9S199PUGvBT6K2/EG8rj7/EH/Ue7dg2x+aZj/Bui1tLrWbGif1Dw3I9/JKZMrq69r2/jX0n5eWg1r77ySjB8377lO8J4QM0NFJ6fMnlSNIOrF94Qhxx+Sux30J/HyWd8ol/QrlKQMDHSFsgTP+PFoOMLm9n8+fMHDLWlMbPNKo2/veiiiyp+rdbBv3pbpUl3xKxL+V6XqjWxoyM+d/F58fjSu+oSxuurFMx74O5bCjEaeDDWpZFrf2xRy4bxkrZnW68VMA/KR6lubhxqtcrDbuk5ykNl9VQeRpt7YFStvBGvmoDebWWBu//9gf4jZ2/bTCCvNLa25Pz39A/XZV8fJBi3YEn/z9PxLw9ebk56zr4eXzlwox/51fZbQXtg5ATygMJLgatKDXYplJfa3tKI1s1JzXYpvPetG6/e5LYpjHfGmYOPv60U0Lr00/MGDX2VGvlSEK6aFrr0Whd941/6XTfr5A9UFT489pgZcd4n/p9+193Y81jlz5vGAJc//qyTPhCDSa/lQyf9eb/r7rn/kQFv31Xh9Q52roZr4bX9vz9KTYCbOz/p++LcT3xkk7BkOmbLywJ+rebll/0BJECz+clTlVvwBgq7NZMpk3eseH2jm/0AGJonnsznuJ8UxLv66qsrfi01482cOTOaUdrv4447bsCvf+Yzn8ltO17y4ENLAkYqr+tSNVIQL42mffyHd8aZH5sVjbTP3lOzQGAK5xU5mGddYqRacUxvs0shrfLA2cIavNXLQ2VJ34a4ektjdPvuT3rN/zD4r3wyVxzR//Nq2gPT8/XV9xiXGgQHUmrYq3TfSo890POXj65Nr/evqsitpza98vDeAm/dQmr/RWsXbwC1YWQt0BIWfvUbWchqVlkgLLXUpaBdCtYt+fcn4+n//Hl0bfzbwZN32iGmvmO3LHA1oc+42ZJSGK+a8FUKyqWtbyve5I1hu3vueyQW33Z3PPWfv8iuT0GvPd7xtp7n3ScLuqXnTg18B/TsR0eF/aj0Wme856B+TXcpfDjjvQdmYb30fKWQXem5UmCvPFiWXl96rHJpX449eka/15KCaXv0HKsU1itv0EvPcezRh2XHvu8+DdYsuLzn651lo37Tfk4Yv0089V+/6Hfb8uccqrQf6fUf22d0ben8pK+lUcArNu5Peg0z3nPgJq+n9JoqHbNWs/b3LwcAzeXXA4x2PWj6ftHsjpjx7orX//jpnwUA+ZGaqFZ1dmYhkTxJI18Hct1110UzSmG8973vfQO2+qUgYZ7b8ZInnmydUaOMnrytS/u8c8+qbnfKB2dm42KbLfyW9itt13x1UVzzlUWDNhTuusvkyBPrEiO2tivaly+NDcbWNo00DrWvNK72sedjxFKobNHjEX91wOvXze35+NIGja1N+/PlJb2ja0tS6Cw1x112f8RtT0e81Kd1bttxPf9NmtRz+0M2bRBcUEVgsdLY3pIHqhgdmxr0BmoUrOb+yUn/3Dt2tm8zXwoXptf1T4/3tt6VXvNbtu0d6fuBd2z6elO4r5oQIDn0W/9dB0ZOIA9oGVd88R+z1rVKbXEpfDXzmMN6PjqsqsdKY1z/9uL5Q2pCS7dPAa++Ia70vKed9IFsG0ja52uuvTmmfHreJgGwgW6fgoLlz5WCd3/36XlRjVLYcKBWvkqvJR2/3mPYe/+S9BorueDi+THY63j6P3+xSYgxhf/K9/WIYz8aI3X5Vf+YhQr7tvCl5+sdb3zSoPcf7Ji1irVrX44NGzYEAM3lkaWPVbx+5ymT4qDp0+LhpcuiWaX9q2Sg1j8Amldqo6r3yMSRSIG266+/vuLXUqCtGRvm0pja1Iw3UBgv7XOzBgmHosjNZtRXntalffbeIwsPphDh4NqiGa3q7IpVqzp7tq5Bb3v0UTMiT6xL1ELbz++OEMhrCql5LYWw+qplYC6FyvoG8lIwLIXM7q8yUFZrlz3QGzzr2/72WlNez/arl/pcv+3Aj/F4lYHFBwYI5FXbsHfl4ZteP5TRsel2R90Yccdp/UN56fVXO772iZ7Xeu5dQQG1LV8SbZ3LA2CkjKwFWkpqLzvxtLNjxQhHiqYRuEMdS7p8Y2Cr1IRXjVK4Lj3X8hXV/9Wr0nOl5r2hSmHDdIw29/pKjz9QM10KspW2cqXXVE2rXQr+rajT+Ne0X+l1l4/8rUY6ZtW2JRbd79YM/geqANRfZ9fqAUN3BzZxS14K46XQYCUPDxAyBKB5PfHkTyJPNteOl0a+Npv58+dvthkvSWG8PI+qTZ740dNVBpJgcHlbl8771JxBb3PTNxfHvtMPj8u/sCCe+fWKaBa333F3HDLjhJ79Wjjoezg16e3zzqmRF9YlaqX9J4uD5nDIMNvbqlVpbG15ALDe/vJfBw4dphBeaaskhfEuvT+q9k8DtMpVc4wHGmv7wDMxJCk8+CfX9jYfDlVqAjxqUf/mQIqj/Se3BkAtCOQBLScF4o6Y+dE465zLsvGtXcNoNDv34x+panxsuRRkS6GvFDRLIa7NyYJxs85+LcBXGqU7lOf624u/VFUwLx2DUqjsjP+3upa3UiivmtdSeo4UZDyy59hXO2K2b7BwoCDj8udqG4JLTYpHHvvRqsKMpabEdMyE8XoZVwvQvB5ZUjnA9uEPnRAdHeOjGZ0w84iK1z+8ZFk8O8AYXgCa1+133BN5ce+99+amHa80ovbss8+Ol14a+DeKV111VTauNu/yFqCiueVpXUrO/OisOO+Tc6u6bQq+HXP87Cyg10gPPrQk249TZ5816JjaJAXxPnfJuZEn1iVqZuPYWhrv1LKWtBQUq7Z9rVqLykJpqZlt4rhoqDSidq8v97bQlQcGy6Wv/+vTvaG2oYTxknQsf1X2Y+tQjnGl4N4/DWN0bHq+PRf0hhEHaydMrzcL4t0Ycc73hPGKrM06DNRI28Qd9+oOgCEat9XWsf0OU6Io0pjSNH51yqQdYsLGoF0aQdq5ek0WBPvSlef3G2WapOvnnXPZiIJYU1KLXM/zTv2Dt2XPm0JrKXiXgoKjMfo0jX+d0qe5Lr3GFGhLo2FH+nwpoJjG4vZ9/NLrWfLokzVruus7Jrce7Xnlxyy9puUrfxM//PcnW348bbmXX14T//3b5wKGa+Ibt4v29jFBZf997E2xfptJUU9vvvWUGLPm9dBTaiu7+fovRj2l4NXJZ3xik+vrvS+HHHFK7gNgHRPGx2MPV26CvXrBDTF/4Q3RTFIz3gN33VTxa5+64Ir41uI7o6ia4f2+/7S9Y+FVF0U9PbrsRzHn4xdtcn299+W4k+fGcyv9ZYuBrHrxhdiwYX3AcEycOCF+9fTDkQdve9vbKjbNpSDeD37wgyEH8lJQLm21DPKlx0uteFdfffVmg3hJavS76KKLoghOPeOsuP27Q58IAJXkaV3qK4XsUuCumoBbsusuU+K8T87Jmueqffw58y7Y5Pp0/4XzL63mIbJ2vjnzzo8HH6rul9ppHO+ZH5vVs52WfZwn1iVqacO0WbH+kPMCmsG+O/b8N2TbnsuNv5ZZtbY3mJba5VKzXNFCaduOi9hnUu/rLoUjn1nV+3ofr36IFXm2tiu2+MpBAVALYwOALFy3uVGy8z51WfzzjVf3a8VLAb07F381Ft92T9x6+93DCrUt3xiIq7YxbqTS84zW3+tIr300H79kRZ2b6Orxmorid2uM5gBoZqWxtSnMWC615F134y3R2bk6msW8OR8a8GvG1QLk06pVXVkw4+B3TY9mlprxBhr7evrpp/cL1ZWCdun2aVu1alV22fe60m1KUktdatlLjzUcqb3v1ltvzfZzsCBeUqQwXvLEk08F1Epe1qVyKRiXtmu+uiiu+cqiQYN56espYJeCdgvnXxa77jI5Rsuqzq6effp6FhisVnotKTCYgoN5ZF2iltLY2vUHzIkYl69gKsVUCqLd9nS0hBQwTO17tRxPTM6MmxAAtSKQBwxLe1trTbxOobkPn3lBfO2aSzcZVTvzmMOyLUkjWRd+9RsBrWb9+nXx8u80BgI0u/kLvh4HXb9pIC+156UA3CWXV/9Ls9F0xGEHx4kzj6r4tdSMZ1wtQH6l0YXNHnxJrXMDeeyxx+K4446LZcuWbRK0q1YK1KUthfJSOC9t733ve2PbbbfNwn7psqQU6kvPm55z8eLFVT9nepw0pjY9T1E88aOnq24Eg2rlYV0aSBphe/RRh2Xht2pG06bw4b7TD98YgJtb02BeKYh3zVdu7Pm4ur+0mY572o+8Hv/EukTNre2KMY8tivUHVDeeGoDa6u6YEm2d/tsOjJxAHjAsY7fYIlpNatD7i9POjuuuubTf2FQgonPV/wQAzS815A3YkjfrxPje3Q9lX2+kNKr2wvPmDPj1ZhutC8DQVDu6sFFS2C0F3waSAnG1VArn1dq0adPiO9/5Tk1H5DaDB/9tSUCtNfu6NJjUKpfGyKaGuWqDeek2aesdY3vciIN5t99xd/zNhVcMaYRu2uc8B/FKrEuMhvZlAnkAAHnXWhVXQM2MGdOaed7UlHfEzI9mTXj1Hp0KzSq1461ZbVwtQF6klryB/MPfX5wF4hrp85eeM+A+XL3gBu14ADmXgi/VNic1wnAa75pNGlH7gx/8oHBhvCSFfqDWmn1dqlYp5PbA3bdUPfo1BfiOOX52VSG+SlK7YLr/qbPPqiqMN7GjIz538Xnx+NK7ChHGS6xLjIq1XdnoWgAaYPupAVALAnnAsIwd23oNeX2lsbQpmHfGmRdk4bx77nsklj76ZKx4TkiP1qMdDyBfUgPe175+S8WvpdG1N1/3xYaF8j5/2bkV2/uSZ1esjOtuvCUAyL+bvtG8v2BOY177jozNkzT69he/+EVcdNFFuX0Nm/PMr1fkvsmM5tXM69JQ7bP31CzwlsJ51QTzUpBuzrwLYt/pR1QdzEvvxxTEO+b4M6p6X6YgXhpN+/gP74wzPzYrisK6xGhqX7IwAKi/7gkjaw4GKBHIA4alVRvyyi399yezcN5Zn7oszvh/L4jFt90T0Eq04wHkUxr7mgJulaQwXiNCeSmMd+KxRw749U+df2V0dq4OAPLv9jua9/87pyDb2WefHbU2mkG/mTNnZo14RW3FK0lNXDBamnldGq5TPjgzC+Z97pLzhhTMS0G7FDSrJDUJXv6FBbHv9MOrDqKl/Xjg7m9l43FTMK9IrEuMprbO5TFm2dcDgPrq7qiuaRhgMBI1wLBsseW4ANCOB5BPnV2rs4Dbzdd/seLXS6G8T11wZdaoN5rSc/3Dly6OvabuPuBtvrbollHfDwDqpzQeslmDGWnk67Jly2Lx4uqaolIILoXt+l6+5S1vyT6eNm1avzBeesxbb701uxzJeNzUhnfsscfG7NmzC9mGV8k1X70xYLQ0+7o0Emd+dFYcfdRh2Xjaahrw0rEYKGx3+3fvybZqpJG0qRWvKKNpK7EuMdpSS976PWdGjCve2gTQrLonCOQBtSGQBwzZlsJ4QI+XX16jHQ8gx1LA7ZLLF8SF582t+PUslHf9F+PqhTfE/AU3xGg4fMa74wt/d250dIzf7O2OOOzdcd2iW+LZ5SsDgGK45iuLsqBGs/rOd74T119/fTz22GOvBef6Bu36hu+GIrXZpe26666Le++9Nwv+3Xfffdlz/PKXv8y2vkrPk4J96eP3vve9r4X8Wklq63riyZ8EjKZmX5dGIjXkpRG2qaWu2mDeSJ+ryEG8xLpEXaztijGPLIz17zkvAKiP7inF/hkGqB+BPGDIjKsFklUvvhAA5FtqnuuYMD7mzT19wNucPef0bJRsGnP7rcV3Ri0cNH1az3N+KLusRqmx7+QzPiGUB1AQqWGp2YMvqX1uNKWWu7SNxojcokkjMmG05WFdGqlSWO7Mj82KU2eflY2prZXULpgCf+mxW4F1iXppf2xRdL99RmwQEAGoj3ETsrG1aXQ4wEi0B8AQjdtq6wBaWxpVu27dqwFA/lXTgJcCcZ+/9Nx44K6b4sSZR2afD1VqwUsBvNS6l7Zqw3h99yGF8obz3AA0nyd+9NSAIxGhnO8V6qGV1qV99p4ajy+9KwvnpZDeSPQG8ebG4z+8s2XCeIl1iXpq//4FEWtNKgGom+2nBsBIqbkChmzcOIE8aGVr176cBfKA+hr37IPRvcX4qKf2V1f3+/zZFSvjW9+5I+rp2RXPD3B9ffels2t1FFkK5SWba8pLSsG8JI28fXjJY/GTp3+Wtdalc9LZ2XucUviuY/z42GvP3WPnyTvGgQfsFwf98bRBR9MOplWa8prh/f7cyt/G7XfcG/WUnnOg6+u5L6tXrwmgPlK70G3fvj5gc9JozVq2eMHmtNq6dMoHZ2bbNV9dlI3sHep7Ld03teKNNNSXN9Yl6i21NBldC1A/qZV0zM/uDoCRaJu4417dAVClsWO3iEmT3xJAa1q/fl389vnl2vEYFRPfuF20t48JoHFSa93nLzsndp7cuBa6qxfcEG2x+XBgCuMZXwuNserFF2LDhvUBtfL40u/FrrtMDhjIvtOPEHyhrlp1XUrvs8u/sDALmw3m4HdNz1rx0mUrsi7RKOuPv97oWoA6aHvh6Rh78/EBMBJG1gJDoh0PWtv//PfzwngABZZa706e/Yn41uI7o95Sw1567vkLbxh0jK7xtQDFcdM3vxMwkAcfWiL0Qt216rqUWu7SCNs0yjY131WSAnipQTBtrRrGsy7RSGNu/+to61oRAIyu7u326PmleEcAjISGPGBIttt+p9hq620CaD1pTK1RtYwmDXnQXE6ceWTWUjfabXlpHPB1X78lvnbjLa+NvC05e87pmvKgyWjIo9YmTpyQhT8mdvhlB5s65vjZ8eBDSwPqybrUK4XObv/uPfHMs8t7jsWEOPhdB7RsCK8v6xKN1r3d1Fh3/HWCIgCjbMwDl0f7skUBMFxjthq//UUBUIX29vZ445t3DKD1rO56KVa99N8Bo2mrrd8QbW0KnKFZ/Pipn8V1i26J5StWxl577h4dE8ZHLaUg3v++9uY461N/F/c9uDTWrn1lk9s8vPSxbHztQQdMq/gYHR3j44jD3h3fu+ffsscDRt/a3/8uurv93U5qJ63/W40blwU9oK/UQpXGZ0K9WZd6TZzYEdP/aL94//sOzo5FatBrddYlmkHb717o2f47unebEQCMorHjov0niwNguDTkAVXbZpuOeOObdwigtaxZ0xUv/vfzAaNNQx40t4OmT4sTZh4ZBx2w37Bb81Jo7sc/+Wlcd+O3s/G45Y14A9GUB81DQx6jQRsVlWihopGsS1RiXaKZbNhvVqx/z3kBwOgZe8MR0dZpVD0wPAJ5QNV2nLRLbLHluABax6uvro3nn/t1QD0I5G3eK7scHBu2qG1D2UDGrFkZWzy/bJPrN4yfFK/sMC3qaaB92XnKpCwgVi933fNg1eGxVrDX1N17trfHnulyj7dn5yNtfaVwXCmA95Onf5Y17v346Z8O+zi2Uiivnu/3knHPPhhtr7x+bnaatEPsP22vqKfnVv42Hl32o02ur/e+3P/g0uhavSaoTCCP0XLeJ+f0bHMDktRCdczxZwQ0knWJvqxLNKMNB8yJ9QdapwBGS/uSBTHmEe24wPAI5AFVGbfV1rH9DsYSQCtJYbzfPr+85xeuGwLqQSBv8/772Jti/TbDayUbqi1/syy2/f4nNrn+97sdGZ0HnRv1NNC+pDDezdd/MerlkCNO0b7WBFollFfP93vJm289JQvAluw/be9YeNVFUU8pjDfn4xdtcn299+W4k+fGcyt/E1QmkMdoenzp92LXXSYH7Dv9iHjm15ooaDzrEiXWJZqVUB7AKFrbFVvccETPZWcADFV7AFQhjasFWkcaU5ua8YTxAGgmVy+8IeYvuGHAr6eWvs9fek4AkE9z5p0fcNM3Fwu90DSsSyTWJZpZ+5KFMeaRBQHAKBg3IdZPOy0AhkMgDxjU2LFbxBu2mRBAa1jd9VK8+N/PBwA0o8FCeak9sXx8LgD58OBDS7ON1vXMr1fE5V8wEormYV3CukQeZKG871+gwQlgFGzY70MR4xTXAEMnkAcMats3bhdAa3jpxReyDQCa2WChvM6u1QFAPs2Zd0Gs6vTL5FZ1zVe/roWKpmNdam3WJfKi/SeLY+w3Toy2rhUBQA1pyQOGSSAP2Kw0qnarrbeJelj10gvx6qtrA6i/9evXxW9/szxrxwOAPBgolHfX3Q9GZ6dAHkBepdDDNV9ZFLSe1ELl3NOMrEuty7pE3rR1Lo8x354d7cs1ewLUUtaS1zElAIZCIA8YUBpV2zHxTTHaurs3ZEGgrs6X4vnnfh2dq/4ngPpZu/blnvfeM7H29y8HAORJKZT37IqVWSvew0uWxSVXGCcFkHdpNOATTz4VtJZjjp8d0KysS63JukQelUJ5Yx5ZEADUyLgJse6Q8wJgKATygAGlMN6YsWNjNKVWrhTC6xsESoG8lSt+lX0NGD0pDJvG0/72+eWxYcOGAIA8SqG8Qw4/JfY76M/j5DM+Ec8uXxkA5N+cs42IbCWXf2GBkZA0PetSa7EukXftSxbG2BuOMMIWKLS2tV0x5v7LY8z3L4hYO7o/p3Xvdlisn/ahAKiWQB5Q0YSObeMN20yI0ZRGY6ZWrnXrXt3ka+m655b/UlsejJLfv7wmC8MaUQsAADSj1ER1+ee1nraCBx9akrWPQbOzLrUO6xJFkdryxl5/uLY8oJDaly+JMd84IdofWxTtP1kcY79x4qiHkDccMMfoWqBqAnnAJrJRtR2jN6o2Nd+lEbWpmWuwVq5SW97v1nQFMHJpPG16/73w2+cqhmEBAACaxTVfXRQPPrQ0KK5nfr0i5sz724C8sC4Vn3WJIiq15aXACkDepSDe2DSa+9tnZMHjktdCyPdfPnpteWl07XHX9Vx2BMBgBPKAflIYb/sdpkRbe+2XhzQeMwXsUite3xG1g0mhof/57+cF82AEUhD2xf/5TTaedijvPwAAgEY69Yy/zsIRFNPfXHi5kZDkjnWp2KxLFFUKqqSRjoJ5QF61da7I1rEsiLd84L8gkRrzUlveaK113R1TYt3RXwqAwQjkAa8phfHGjB0btVQK4pVG0A7WijcQwTwYulIjXnr/rVk9Sn8jCAAAYJSsWtWVhV8onsu/sCBuv+PugLyxLhWXdYlWIJgH5E2pEW/sDYdXvW71W+t+Xvv/tndPmR7r339pAGyOQB6QGY0wXq2CeOX6BvNS41dq/gJel957q7teyoJ4GvEAAIC8e+LJp7LGIoojBV4u/8LCgLyyLhWPdYlW0zeski7bujR/As2jbW1Xb9NdaTTtZhrxNvs4aa27/awYe/MJNQ8hb9hzplAesFm1rcECcqnWYbzUyPX7l9dkbVy1CuFVkoJ561a/mj3PuK22jm226cgux4yxtNF6Ugjv5d/1vO/WdMarr6wd1fceAABAvV3z1UUxceKEOO+Tc4N8S6M+55z1twF5Z10qDusSrSyFVdKWgiqp8SkFTLp3PiC6J0wOgHpKIby2n3+/Zz26NeKFp3s+r93Up7YXnsrCx+1LFsaGA+bUbJ3L1syOKTH29rN6fkFuShXQn9QKtLgttxyXhfHa2kdWmLlu3br4/cur4+WX1zSkjSs9Z+l502vaomfbeuttsksBPYooBfBeeWVt7/f+2pe14AEAAIWXmot23WVKnPLBmUE+pdDLMcfPjlWdfllFMViX8s+6BK9LDVRjNrZQdW83Nbq379l2O6znck8BPaDmsgDeCz+JtmeXZuvPcFvwhvScG9tBk7S+bdhtRs9lzzZuQgxXCjOvO+lbMfY7Z0T0PD5AiZQKtLBSM95wwnilMNDvNwbw0sfNIu1L2lJzXtLe8/pSMG/LjeG89LrTax4zZouerT3a2kzvpvmk99j69Rt6LtfH+nXrssa7V19dmzVDvvrKK9klAABAq/mbT18e++w9NfZ559QgX0qhl2d+7ZdUFIt1Kb+sSzCw1CaVttg44rF7XEfEdnv0hvQ6pkSkgN64Cb0fb9kxojALUEwpcBevdPZepqDa2p6PU/Nd+jitMZ2NHZXd9vN7YkzPFnFBb0Po22dk69yGKQfEUKW1cN1x18XYb5yoKQ94jUAetLAUVEvNWqVwWjK2z9ja1HqXrF//ahYIykbE9ly+0nOfPIWBUpCpb4MeAAAAkE+rVnXFMSfMjttuuV74JUdWdXbFqWf8tdALhWRdyifrEgxNNjqyTg1WAPXWtyF0TPS23qXQ8YadD9hsALmtq/fniLbfPiWIB2xCIA9aWGqRe+G3zwUAAABAXqTwy6lnnBW3ffv62HUX49OaXQq9pAaqJ558KqCorEv5Yl0CADanFD7ubdADGB5zGgEAAACAXEmNRr1jBhs75ojNE3qhlViX8sG6BAAA1INAHgAAAACQO6Xwi1BFcxJ6oRVZl5qbdQkAAKgXgTwAAAAAIJey8MsJwhXNJjWECb3QqqxLzcm6BAAA1JNAHgAAAACQW6tWdcUh7z8hrvnK14PGE3oB61KzsS4BAAD1JpAHAAAAAOTe33z6irj8CwuCxnnwoSVxyIwTsoYwwLrUDKxLAABAIwjkAQAAAACFcPkXFsaceRfEqs7OoL6u+cqiOOb4Mxx7KGNdahzrEgAA0CgCeQAAAABAYdz0zcVxyIwTsxGFjL5VnV3xN5++PNuAyqxL9WVdAgAAGk0gDwAAAAAolDSa8JD3Hx/XfOXrweh54smnslGQqYUK2DzrUn1YlwAAgGYgkAcAADkwZs3KoHE6u1YH1Iv3e2OtXr0mgGJYtSo1JF2RjYrUSlV7pVGQKWQEVMe6NLqsSwAAQLMQyAMAgBwY++LPgsZ4dsXK6OwUyKN+vN8b57mVv40ugTwonDQq8pjjZ2eXjFwKEaXjmUZBrursDGDorEu1ZV0CAACajUAeAADkwLhn/y1ojIeXPBZQT97vjfPosh8FUEypLSk1UmmlGpnUPpVGQT740NIARsa6VBvWJQAAoBkJ5AEAQA6MffGn0f6qlrZGuGXxnQH15P3eOLffeW8AxaaVangefGhJHPL+E7RPwSiwLg2PdQkAAGhmAnkAAJADba+sjq2fuiWorzSu9uGlywLqyfu9MdK4Wg150BpKrVT7Tj8ibv/u3cHAUmvXqbPPimOOPyOeePKpAEaHdal61iUAACAPBPIAACAn3vD0LTFmzcqgfj51/pUBjeD9Xn+XXLEggNaSAjCnnnFW1kxlXGR/qzq74vIvLMjGQN5+h3AQ1It1aWDWJQAAIE8E8gAAICdSa9bE+z8d1MfVC27QjkfDeL/X17U3/LN2PGhhDz60NPadfnjWTpVGILayUuBl3z8+oudyoTGQ0CDWpddZlwAAgDwaGwAAQG6MffGn0fHwldF50DnB6ElhvPkLbwhoJO/3+khhvGuv/z8BcNM3F2fbwe+aHqd8cGa2tYoU+Lnpm7fG7d+9R9gFmoh1yboEAADkk0AeAADkzFY/vyMbZZlCOuu3mRTUljAezcT7fXQJ4wGVpGaqtKUmpvM+OScOftcBsesuk6NoUutUCrxc85VF2esFmpd1CQAAIF8E8gAAIIe2eH5ZbPv9T8SafU6P3+92ZDByDy9ZFvMXft2YWpqO93vtpfG0xtQCg3nm18uzcZHJ0X96WNZMdfRRMyLvUtjl9jvuiZu+cavWKcgZ6xIAAEA+COQBAEBOpdasjoeviG2euCFe3XG/LKiTGrS0aFWns2t1/PgnP41Hlj4WD2ebIB7Ny/t9ZLpWr4n/+ukv49HHfpyF8ATxgKFKIxPTNrGjIwvBpC01VE3smBB5UAq73P7du+OZX68IIP+sSwAAAM2rbeKOe3UHAAA02MQ3bhft7WMCAGheq158ITZsWB9Ar4PfNT1rp9rnnXtkQZhmkVq0UtjlwYd+mAV2NE5B67AuAQAANJ5AHgAATUEgDwCan0AeDCy1VKUAzD7vnJoFYnbdeUr28WhLIZcnfvRUPPPMinjw/1sSD/7bDwVdgIx1CQAAoDEE8gAAaAoCeQDQ/ATyYOhS+GXXXSb3bFOyMMyuu07ORkqmoMzEiT2XEzsqjphc1dkVq1b1BlhSuKX0eRrtmLZS2EXIBRgq6xIAAMDoEsgDAKApCOQBQPMTyAMAAAAA2Lz2AAAAAAAAAAAAAEZMIA8AAAAAAAAAAABqQCAPAAAAAAAAAAAAakAgDwAAAAAAAAAAAGpAIA8AAAAAAAAAAABqQCAPAAAAAAAAAAAAakAgDwAAAAAAAAAAAGpAIA8AAAAAAAAAAABqQCAPAAAAAAAAAAAAakAgDwAAAAAAAAAAAGpAIA8AAAAAAAAAAABqQCAPAAAAAAAAAAAAakAgDwAAAAAAAAAAAGpAIA8AAAAAAAAAAABqQCAPAAAAAAAAAAAAakAgDwAAAAAAAAAAAGpAIA8AAAAAAAAAAABqQCAPAAAAAAAAAAAAakAgDwAAAAAAAAAAAGpAIA8AAAAAAAAAAABqYGwAAACF1L3l+Pj9bkfGKzvsF+veuHus32ZS1MKbbz0lxqxZ+drn6Tk6Dzo36mm33z0aqxd/MlrZhPHbxJ8deWjsP22veMfub42dJu0QI/Hosh/FnI9ftMn1+0/bOxZedVHU00D70irSe3ftzgfHqzvsG6/sOK1m792Oh6+IrX5+Z7/rDpo+LW6+/otRTw8vWRYnn/GJAAAAAACAIhLIAwCAgklhnt/tcUK8PPWE2LDF+KBYUhDvgyf8WXzwxKOzjymWNfuc7r0LAAAAAAA5JpAHAAAF8uqO06LzoHNq1qhFc0ltdReeOzd2mrR9UCwbxk+Klw65OGuzBAAAAAAA8ksgDwAACqIRo2Opn6OPPDQuPG9uUDwpjPfijC8K0gIAAAAAQAG0BwAAkHvr3rS7MF5EYUe4/sHubxXGi2KeX2G813V0GNMLAAAAAED+CeQBAEDOdW85PlYdcnHQG1z7yOl/EUWSQmhXXnJOUMzzu2afDwnjbbTXHrvHvLmnBwAAAAAA5JlA3v+fvXuNkessDzj+Zu2EhKydRoXEwanU0lQx4UOsiESRiERuakLTEixcCg213YLUELuqiZSbwDQioFyQWiM5kA+mtU3MJTgytEpxaJwCDWoUo8ioIjjCTfmQyxJAIetdX/bafSeMfTye3Z1dP3N25uzvJ41irXfPzszrPSvBX88DAABd7uCFHxD0FHxszQcrFW39xQf+JJ235K2JN1TpfPOa6UN/cH3imPW3rBblAQAAAADQ1QR5AADQ5XLUw/GqFG3dcP1VieNV5Xz97DYnygMAAAAAoJsJ8gAAoIsN/d67TcebRBWirfe8+zLT8SbR7ec71rskDZ2zPNGcKA8AAAAAgG4lyAMAgC4m6Jlat0dblyy/KDG5bj7fkbP/MDE1UR4AAAAAAN1IkAcAAF1M1DO9bo62/uiC309MrVvPd/h3LkhMT5QHAAAAAEC3WZgAAICuNX5ab2J6OdrKNm/9Zuomi3rPTEyvG8/XqunW5Sgv+8KDWxNAp1u8qDctmngsXtyb+vsH0ksv9yUAAAAA5hdBHgAAdLGxUwV5rerGaKu3982J1nRrdElrRHlQPUvftiRt+/LGaT8vB239BwbS7v98Kj2zZ29Lgdvqj6xMq25amVpRvP7uJ5+q/Xmm8mtZceP1acX7rq/9udEzP9qbdv7rrpaff922zRvT0qXHX++uT99Xu85M3HX7unTtVVccf+3tO9LWh3dM+jW7v/P1NJ0DE+/VixOvZ8/E63ti4r2b6rU1ew6zkd/Luzbcl2A+afz5uea9H0onq/gzPt39oBXN7rv5vrfpS1vSTEz2uyHiNQMAAJRJkAcAAMwboq1qc77VJsqD6mkWr032OfUYJQce9z6wacpwLk+oa+Xajdd/6ea+tOmhLWnnt3elVuVQZvU08d9l71pee+RgbSbXzzFe4+vI15lpkJdfW+N18ns05fdu8f1bduEFtevfddu6o/FNszBv8QzOJOJ5QZVE/fwUFa833f2gFc3uuznQm2mQN1nYDAAA0G16EgAAwDySo62Prf7zRDU532rLUd7fr12dgPkrxxo7H9nclmAjX/Pez9xZm/Q0nRzI5ClOzWK8HKTVJ+81u/66j69Js9Xq5L+6HPCVFbfks8nvyTsuvCAB5PvkZZcun9HX5GmjAAAAVWBCHgAAMO+YpFZtzrfaTMqDasqT45pNUqoFHe9aXgvR6mFHDswe3PjZ9P4Pfiy1YtnFV076d/na9XWzdWtvXtPSCtb8tXU5vtv28I7a6sdiiJefaw7witdfd/Oa9NJLfbWJcjNVD1xanZIXEbfk59lsTWx+LnlCXvH9y69308TZrJg4m+L7kKcC5nWzk8mhYt0TeX3wxKOZA7NYKQzMnXxvaPV+VWZADAAA0G6CPAAAYF4SbVWb8602UR7MHznqyoFWfuSQrT5drh6CzWS9bDM5EsuP/H3q0+5yaJavPdmqxcaAL4d7qz66vmnAlz+WY7YcpNx7z7HoLAd9OTrrn0Vgds1VV7QcuFzz21W/7ZCfe/39K76+HNSsnTinvFq4rhbj/WjyaxWDvH3P7z/pcwU6Q74H5XtqK/c60/EAAIAqsbIWAACYt6w3rTbnW23W18L8k6foFUO0YhR3sh780pbjgpFlU6xdzWFg0WQxXlGeMlcM/HKgsuojra+fLV6/1ded45b8fRq/vh3y69u6fcex7/0+YQ3MZ/V7Tr4HXXN1a2FwceroVBM1AQAAuoEgDwAAmNdEW9XmfKtNlAfzT3GV6VTR3EzlGO/lQrT2jkmufe3VVxy3UjGHaK3Gbo3rbPMa3nowN50cpxQDl/r63qkUp+OVMXFu95PHziY/R6snYf56onCvbiXQLd5bf/r8/rZHxAAAAO0myAMAAOa9HG2tX7smUU3Ot9pylLfhzlsSMD/0DxwL2lqN2Vq+dv+xa0+2XrFxBWwO8lq+/sQ1i0Fhfv7LlrUeFRajulU3TT1dL4ct1xaeaxnTphoDmqVLBXkwX32rcL/Kk++mu18X763bHt6RAAAAup0gDwAAYMKHVt6QNtyxNlFNzrfa/uavVqbPf+72BFTf4t7YCK+oGMdNNp2pcXLevn3700w0hnGNgd9UijHfdIFLcYJenlRVxrQpE/GAuhwgH7di/MbJp+Tle1lxip51tQAAQBUI8gAAAH7rhuuvFG1VmPOttpXvv16UB/PApYXQLDIyW3fzmuMCt+L61aLimtz8/SebpDeZxoBvJlP+8hrHeuCSv+6aqyeP+Vb82bG4ZbLXEq3x+cw0VgSqpRgRTxUfF+8dxfXcAAAA3UyQBwAAUCDaqjbnW22iPKi2PPUteg1rvua999yZ1n18zdGP5Rik2Sraxglws4lGGgO+mU6VK77m4kSpxmsWJ+QVo5h2aVyRm+PBmcaKQLUU76NTTfUsBsTF1dwAAADdbGECAADgODnayu65/8FE9TjfastRXnbbJx9IQHWsvmllWluI5rJNX9rS0tfu/s7Xm3580aLeEwKRHJGtW/+p1C4HTjLI27Z9x9F4sB64NIZvxTAuBzH57xctat+q31rU+Jk7j3st2x7ekYD5rb62th4Ir/rIyhPu240BsXW1AABAVQjyAAAAmhBtVZvzrTZRHnSfHJEtPe/EOG3R4t6mk5U2PbSl5Ql1rUZv+57fn+7acF9tulu7nOzUuMbAZcWN16etDfFbjl7qItbV5vc/B3dN/27ieTS+v1u372g6YRCYf3b+266j96u8trYxyGuM8ayrBQAAqkKQBwAAMAnRVrU532oT5UF3WXbhBbVHK+59YFMt+oqUA7Ic47VbxNrbvIK2GLgUg7wcz9W/R473nghYV5uvl8O/VuRzyecDkOUouP+2gVpU/Y6Je3y+d+WouC5PP62zrhYAAKgSQR4AAMAURFvV5nyrTZQH1ZHjshzN5VWoM43Yll18ZdOPb9u88WjY1soUvZNdN5stDlgdW4sHb19X+3M9wKu/J8VwbndAjNeKfDZ5umCefGXdJFBUuz/s23/0XpvvWfUgL9+7iiF2WfcsAACAMgjyAAAApiHaqjbnW22iPOgOOTKbbDpSjs3ascZw2/Ydx0UijZObGuWwJD+Peoi3aBZx3dKlx0d8s1mP22xtbX0NZH4ddVFrY3Nk17hmsq5dZwNUR14xvu3SjbU/r7pp5dH7SXG9dp7mebIrvQEAADqJIA8AAKAFoq1qc77VJsqDzpejrrKnq9UDkPrUunU3r0mr9qyf8mtyQFcP8vLXTRfxNbq0EMxle/bM7jUX19aueN8bQV5xXW3t/dwT837OxdkA7TOb6Z4nI0/QrN9ri/fNa6+64ujn5NW2AAAAVdKTAAAAaEmOtjbcsTZRTc632nKU9/nP3Z4AivIK3Lpi0DaZxoDusobAbjrFACWbbeiWp9/Vp0nl55wDl+K6WgEd0CnqK8frrpm4Dxbvt41/DwAAUAWCPAAAgBkQbVWb8602UR7QKK+tLSpGbc0UQ7gsr19sddpUvnbxcxuvNRP56/btO7buNk/Jy4/itQE6RXECXr5XFdfV5omfAAAAVSPIAwAAmCHRVrU532oT5QFFOWx7ohCD5MCuvsJ2ss8vTtXLn/vgxs9O+TVZDvHyStyivGb2ZGx6aMvRPxdjvMh1tQAR8tTOeoBcW1tbmC4qIAYAAKpIkAcAADALOdo6b8k5iWpyvtWWo7zzl7Y20QqovsbArji5qennb9+R9j1/bDrdsgsvSDsf2VxbG9soX2/dx9fU/r44HS/HdDmcOxn5OTSbsGddLVRbvpe0+mjFoon7VKvXmy4+nkoxvKtfR0AMAABU1cIEAAAAADBP5YAtByH1oC5Pm5tqel2O4Nau/1Ta9uWNR4OX/N9tmze+sUr2t7FeDk7e1iRgyVHKyU7Hqz+PvOqxOB0vKwaGQPXs/s7XW/7cZRdfOe3nrL5pZe3RihwTz/b+ldfWNn4fATEAAFBVJuQBAAAAAPPa7sLa2hzXNZt2V5SnOq366Prj1t1m9VWM+ZEn5zXGePc+sCndteG+FGXnt3ed8Lx+WpjeB9Apimtr66yrBQAAqkqQBwAAAADMazkKKYYi625eM+3X5Pht3fpP1QK7qVYu5utu3b4jXfPeD9X+G6kxcNm23XQ8oHMVJ3haVwsAAFSZlbUAAAAAQKlyiNHKKsXZyOsUZ7pSMUdtl13xp2k2csxXn/KUJ+NlS5cuSQf6B2rT6vJrnY0c8LWilec90/e7XWfTKd8PukmOfiMna7bj/tvqfbe28vah6T8v+jUDAACUTZAHAAAAABAgT6yr+VECAAAAYJ6yshYAAAAAAAAAAAACnHLWuReNJwAAmGNnnf2W1NOzIAEAnev1136VxsZGEwAAAAAAzZmQBwAAAAAAAAAAAAEEeQAAAAAAAAAAABBAkAcAAAAAAAAAAAABBHkAAAAAAAAAAAAQQJAHAAAAAAAAAAAAARYmAACga+382oPpvCXnpDI8u/cn6ZZP3H3Cxy9Z/s70xX+6O5Wp2XMZPnd5eu2af0xl+t1v/2VaMNiX2qUTzvfw269L/Zffkcp2zlevPuFjZf9bW/HhtemVvldTu/zXd7+azl+6JJXh6Wf2pg//9a0nfPzyS5enr20p9+dmsueS/53lf29lWvz0/en0Fx5PAAAAAAAQxYQ8AAAAAAAAAAAACCDIAwAAAAAAAAAAgACCPAAAAAAAAAAAAAggyAMAAAAAAAAAAIAAgjwAAAAAAAAAAAAIIMgDAAAAAAAAAACAAII8AAAAAAAAAAAACCDIAwAAAAAAAAAAgACCPAAAABIAAAAAAAAnT5AHAAAAAAAAAAAAAQR5AAAAAAAAAAAAEECQBwAAAAAAAAAAAAEEeQAAAAAAAAAAABBAkAcAAAAAAAAAAAABBHkAAAAAAAAAAAAQQJAHAAAAAAAAAAAAAQR5AAAAAAAAAAAAEECQBwAAAAAAAAAAAAEEeQAAAAAAAAAAABBAkAcAAAAAAAAAAAABBHkAAAAAAAAAAAAQQJAHAAAAAAAAAAAAAQR5AAAAAAAAAAAAEECQBwAAAAAAAAAAAAEEeQAAAAAAAAAAABBAkAcAAAAAAAAAAAABBHkAAAAAAAAAAAAQQJAHAAAAAAAAAAAAAQR5AAAAAAAAAAAAEECQBwAAAAAAAAAAAAEEeQAAAAAAAAAAABBgYQIAALrWD57ak3p7z0xleKXvl5N+/LFd30tlavZcFgz2pTNe2JXK1DM8kNqpE853Lt7XyZT9b21gYDC103effCot7u1NZXjx5V9M8vG+tGNnuec72XM57dW96ZQ0nsqU/30DAAAAAECkU84696Jy/9duAABo4qyz35J6ehYkAKBzvf7ar9LY2GgCAAAAAKA5K2sBAAAAAAAAAAAggCAPAAAAAAAAAAAAAgjyAAAAAAAAAAAAIIAgDwAAAAAAAAAAAAIsTAAAQNd6zxWXpd7eN6cyvNL3y/Ts3p+c8PHzlpyTLll+USpTpzyXHzy1Jx0YGEzt0gnnO9a7JA2dszyV7fQXdp3wsaqd7x9ffUVavLg3leHFl/vS08/sPeHj5y9dki6/tNzzney5DJ+7PI2euSSV6bRX96aegb4EAAAAAABRBHkAANDF1q9dXYuUypBjrVuaRnBvTRvuWJvK1CnPZcXetW0NtjrhfIfOuTj1X357KlvzIK9a57vhzltqQVwZcgDXNMh725L0+c+Ve76TPZdDf3BdOvz261KZFj99fzpdkAcAAAAAQCArawEAAAAAAAAAACCAIA8AAAAAAAAAAAACCPIAAAAAAAAAAAAggCAPAAAAAAAAAAAAAgjyAAAAAAAAAAAAIIAgDwAAAAAAAAAAAAII8gAAAAAAAAAAACCAIA8AAAAAAAAAAAACCPIAAAAAAAAAAAAggCAPAAAAAAAAAAAAAgjyAAAAAAAAAAAAIIAgDwAAAAAAAAAAAAII8gAAAAAAAAAAACCAIA8AAAAAAAAAAAACCPIAAAAAAAAAAAAggCAPAAAAAAAAAAAAAgjyAAAAAAAAAAAAIIAgDwAAAAAAAAAAAAII8gAAAAAAAAAAACCAIA8AAAAAAAAAAAACCPIAAAAAAAAAAAAggCAPAAAAAAAAAAAAAgjyAAAAAAAAAAAAIIAgDwAAAAAAAAAAAAII8gAAoIu90vfLxNwZGBhM7eR851a7z/fFl/sSc2vB4C8SAAAAAABEEuQBAEAX+9n+nyfmRo7lDrQ52HK+c6eM833up/+bmFs9A6JIAAAAAABiCfIAAKCLff+HexJz49m9P0nt5nznThnn+x9P/jAxdxYM9tUeAAAAAAAQSZAHAABdLE9Qa/cUL5p77PHvpXZzvnOnjPN9bt/+1N8/kJgbp7/weAIAAAAAgGiCPAAA6GI51vrGjscS5crrTMuYoOZ850ZZ59t/YCD9y1ceTZSvZ3hAkAcAAAAAQFsI8gAAoMt949F/rwVElOee+x9MZXG+5SvzfP/5K4+mF1+2NrVsZ+x71LpaAAAAAADaQpAHAABdLk9Ru33DA4lybN76zVKmp9U533KVfb55St7f/t2nE+U57dW96cz/2ZoAAAAAAKAdBHkAAFABP9v/81Knes1XOdbavOWRVDbnW465Ot/n9u1Pt31SdFmGha/tT2d9XwAJAAAAAED7CPIAAKAiHtv1vXTLJ+623rRN5irWqnO+7TXX57vjW7vSh9fcan1tG53+f4+ns5+4NZ0yPJAAAAAAAKBdBHkAAFAhedXmLZ/4h1q8RYw33tO75zTWOv65ON9InXS+T+/ZW4vydnzr8UScBYN96ezdt6bF/32/GA8AAAAAgLZbmAAAgErJE9TyetPNWx9Jlyx/Z7rhuivTeUveOvE4JzG9AwODtRWxz/74uVqslR+dxPmenE4/3xdf6ku3ffL+9IUvbk2XX3px+sCN16Xzly6pPWhNz/BALcI7te/H6U0v/TCd+ou9CQAAAAAAynLKWedeNJ4AAGCOnXX2W1JPz4IEAHSu11/7VRobG00AAAAAADRnZS0AAAAAAAAAAAAEEOQBAAAAAAAAAABAAEEeAAAAAAAAAAAABBDkAQAAAAAAAAAAQABBHgAAAAAAAAAAAAQQ5AEAAAAAAAAAAEAAQR4AAAAAAAAAAAAEEOQBAAAAAAAAAABAAEEeAAAAAAAAAAAABBDkAQAAAAAAAAAAQABBHgAAAAAAAAAAAAQQ5AEAAAAAAAAAAEAAQR4AAAAAAAAAAAAEEOQBAAAAAAAAAABAAEEeAAAAAAAAAAAABBDkAQAAAAAAAAAAQABBHgAAAAAAAAAAAAQQ5AEAAAAAAAAAAEAAQR4AAAAAAAAAAAAEEOQBAAAAAAAAAABAAEEeAAAAAAAAAAAABBDkAQAAAAAAAAAAQABBHgAAAAAAAAAAAAQQ5AEAAAAAAAAAAEAAQR4AAAAAAAAAAAAEEOQBAAAAAAAAAABAAEEeAAAAAAAAAAAABBDkAQAAAAAAAAAAQABBHgAAAAAAAAAAAAQQ5AEAAAAAAAAAAEAAQR4AAAAAAAAAAAAEEOQBAAAAAAAAAABAAEEeAAAAAAAAAAAABBDkAQAAAAAAAAAAQABBHgAAAAAAAAAAAAQQ5AEAAAAAAAAAAEAAQR4AAAAAAAAAAAAEEOQBAAAAAAAAAABAAEEeAAAAAAAAAAAABBDkAQAAAAAAAAAAQABBHgAAAAAAAAAAAAQQ5AEAAAAAAAAAAEAAQR4AAB1hfHw8AQAAAAAAAHQzQR4AAB1hfHwsAQCdbTwJ6AEAAAAApiLIAwCgI4yNCvIAoJPlabbjY35fAwAAAABMRZAHAEBHGBsbTQBA5/K7GgAAAABgeoI8AAA6gv+THwA629io39UAAAAAANMR5AEA0BGGh4YSANC5Rkb8rgYAAAAAmI4gDwCAjpAn5I2PjycAoDONjowkAAAAAACmJsgDAKBjDA8dSQBA58nh/PCwCXkAAAAAANMR5AEA0DGOHDmUAIDOMzI8nAAAAAAAmJ4gDwCAjjE6MmxtLQB0oCHRPAAAAABASwR5AAB0jBzjHT58MAEAncO6WgAAAACA1gnyAADoKEOHTeABgE5y6OBgAgAAAACgNYI8AAA6Sp7CM3TkcAIA5t4bv5fF8gAAAAAArRLkAQDQcQ4dHEgAwNwzHQ8AAAAAYGYEeQAAdJw8jefQIQEAAMwl0/EAAAAAAGZOkAcAQEc6cmiwFgIAAHPjwOuvJQAAAAAAZkaQBwBARxofH0+DA/0JACjf4YPCeAAAAACA2RDkAQDQsUaGh9LBwQMJACjP6OhIOnRoIAEAAAAAMHOCPAAAOtqRwwfT0JFDCQBovzwVb6D/NwkAAAAAgNkR5AEA0PHy6tqRkaEEALRPjvEOvP6aVbUAAAAAACdBkAcAQFfI03pGR0YSABBPjAcAAAAAEEOQBwBAVxgfH0/9r/+6tsIWAIgjxgMAAAAAiLMwAQBAFzk4eCCNjY+nM844MwEAJ2dkZLg2hXZ8fCwBAAAAAHDyBHkAAHSdwwcH0sjwUDqzd3Hq6VmQAICZO3jwQDpyyORZAAAAAIBIVtYCANCVcpCX1+sNHTmcAIDW5al4/b/5tRgPAAAAAKANTMgDAKBrjY2NpsGB19OhgwPpjDf3ptPedHoCAJrLvzcPHRxMQ0cOJQAAAAAA2kOQBwBA1xPmAcDk8kS8I4cG09DQkQQAAAAAQHsJ8gAAqIximLfw1NPSm04/Iy1ceGoCgPlmdHSkFuDlFe/5AQAAAABAOQR5AABUTg7z8jq+/DjllJ60YOHCtGDBwnTqqaelU3p6Uk/PgolHTwKAbjc2NpbGx8fS2Oho7fdfLcQ7cqT2MQAAAAAAyifIAwCg0nKQUJ8OdOTwwQQAAAAAAADQLsaCAAAAAAAAAAAAQABBHgAAAAAAAAAAAAQQ5AEAAAAAAAAAAEAAQR4AAAAAAAAAAAAEEOQBAAAAAAAAAABAAEEeAAAAAAAAAAAABBDkAQAAAAAAAAAAQABBHgAAAAAAAAAAAAQQ5AEAAAAAAAAAAEAAQR4AAAAAAAAAAAAEEOQBAAAAAAAAAABAAEEeAAAAAAAAAAAABBDkAQAAAAAAAAAAQABBHgAAAAAAAAAAAAQQ5AEAAAAAAAAAAEAAQR4AAAAAAAAAAAAEEOQBAAAAAAAAAABAAEEeAAAAAAAAAAAABBDkAQAAAAAAAAAAQABBHgAAAAAAAAAAAAQQ5AEAAAAAAAAAAEAAQR4AAAAAAAAAAAAEEOQBAAAAAAAAAABAAEEeAAAAAAAAAAAABBDkAQAAAAAAAAAAQABBHgAAAAAAAAAAAAQQ5AEAAAAAAAAAAEAAQR4AAAAAAAAAAAAEEOQBAAAAAAAAAABAAEEeAAAAAAAAAAAABBDkAQAAAAAAAAAAQABBHgAAAAAAAAAAAAQQ5AEAAAAAAAAAAEAAQR4AAAAAAAAAAAAEEOQBAAAAAAAAAABAAEEeAAAAAAAAAAAABBDkAQAAAAAAAAAAQABBHgAAAAAAAAAAAAQQ5AEAAAAAAAAAAEAAQR4AAAAAAAAAAAAEEOQBAAAAAAAAAABAAEEeAAAAAAAAAAAABBDkAQAAAAAAAAAAQABBHgAAAAAAAAAAAAQQ5AEAAAAAAAAAAEAAQR4AAAAAAAAAAAAEEOQBAAAAAAAAAABAAEEeAAAAAAAAAAAABBDkAQAAAAAAAAAAQABBHgAAAAAAAAAAAAQQ5AEAAAAAAAAAAEAAQR4AAAAAAAAAAAAEEOQBAAAAAAAAAABAAEEeAAAAAAAAAAAABBDkAQAAAAAAAAAAQABBHgAAAAAAAAAAAAQQ5AEAAAAAAAAAAEAAQR4AAAAAAAAAAAAEEOQBAAAAAAAAAABAAEEeAAAAAAAAAAAABBDkAQAAAAAAAAAAQABBHgAAAAAAAAAAAAQQ5AEAAAAAAAAAAEAAQR4AAAAAAAAAAAAEEOQBAAAAAAAAAABAAEEeAAAAAAAAAAAABBDkAQAAAAAAAAAAQABBHgAAAAAAAAAAAAQQ5AEAAAAAAAAAAEAAQR4AAAAAAAAAAAAEEOQBAAAAAAAAAABAAEEeAAAAAAAAAAAABBDkAQAAAAAAAAAAQABBHgAAAAAAAAAAAAQQ5AEAAAAAAAAAAEAAQR4AAAAAAAAAAAAEEOQBAAAAAAAAAABAAEEeAAAAAAAAAAAABBDkAQAAAAAAAAAAQABBHgAAAAAAAAAAAAQQ5AEAAAAAAAAAAEAAQR4AAAAAAAAAAAAEEOQBAAAAAAAAAABAAEEeAAAAAAAAAAAABBDkAQAAAAAAAAAAQABBHgAAAAAAAAAAAAQQ5AEAAAAAAAAAAEAAQR4AAAAAAAAAAAAEEOQBAAAAAAAAAABAAEEeAAAAAAAAAAAABBDkAQAAAAAAAAAAQABBHgAAAAAAAAAAAAQQ5AEAAAAAAAAAAEAAQR4AAAAAAAAAAAAEEOQBAAAAAAAAAABAAEEeAAAAAAAAAAAABBDkAQAAAAAAAAAAQABBHgAAAAAAAAAAAAQQ5AEAAAAAAAAAAEAAQR4AAAAAAAAAAAAEEOQBAAAAAAAAAABAAEEeAAAAAAAAAAAABBDkAQAAAAAAAAAAQABBHgAAAAAAAAAAAAQQ5AEAAAAAAAAAAEAAQR4AAAAAAAAAAAAEEOQBAAAAAAAAAABAAEEeAAAAAAAAAAAABBDkAQAAAAAAAAAAQABBHgAAAAAAAAAAAAQQ5AEAAAAAAAAAAEAAQR4AAAAAAAAAAAAEEOQBAAAAAAAAAABAAEEeAAAAAAAAAAAABBDkAQAAAAAAAAAAQABBHgAAAAAAAAAAAAQQ5AEAAAAAAAAAAEAAQR4AAAAAAAAAAAAEEOQBAAAAAAAAAABAAEEeAAAAAAAAAAAABBDkAQAAAAAAAAAAQABBHgAAAAAAAAAAAAQQ5AEAAAAAAAAAAEAAQR4AAAAAAAAAAAAEEOQBAAAAAAAAAABAAEEeAAAAAAAAAAAABBDkAQAAAAAAAAAAQABBHgAAAAAAAAAAAAQQ5AEAAAAAAAAAAEAAQR4AAAAAAAAAAAAEEOQBAAAAAAAAAABAAEEeAAAAAAAAAAAABBDkAQAAAAAAAAAAQABBHgAAAAAAAAAAAAQQ5AEAAAAAAAAAAEAAQR4AAAAAAAAAAAAEEOQBAAAAAAAAAABAAEEeAAAAAAAAAAAABBDkAQAAAAAAAAAAQABBHgAAAAAAAAAAAAQQ5AEAAAAAAAAAAEAAQR4AAAAAAAAAAAAEEOQBAAAAAAAAAABAAEEeAAAAAAAAAAAABBDkAQAAAAAAAAAAQABBHgAAAAAAAAAAAAQQ5AEAAAAAAAAAAEAAQR4AAAAAAAAAAAAEEOQBAAAAAAAAAABAAEEeAAAAAAAAAAAABBDkAQAAAAAAAAAAQABBHgAAAAAAAAAAAAQQ5AEAAAAAAAAAAEAAQR4AAAAAAAAAAAAEEOQBAAAAAAAAAABAAEEeAAAAAAAAAAAABBDkAQAAAAAAAAAAQABBHgAAAAAAAAAAAAQQ5AEAAAAAAAAAAEAAQR4AAAAAAAAAAAAEEOQBAAAAAAAAAABAAEEeAAAAAAAAAAAABBDkAQAAAAAAAAAAQABBHgAAAAAAAAAAAAQQ5AEAAAAAAAAAAEAAQR4AAAAAAAAAAAAEEOQBAAAAAAAAAABAAEEeAAAAAAAAAAAABBDkAQAAAAAAAAAAQABBHgAAAAAAAAAAAAQQ5AEAAAAAAAAAAEAAQR4AAAAAAAAAAAAEEOQBAAAAAAAAAABAAEEeAAAAAAAAAAAABBDkAQAAAAAAAAAAQABBHgAAAAAAAAAAAAQQ5AEAAAAAAAAAAEAAQR4AAAAAAAAAAAAEEOQBAAAAAAAAAABAAEEeAAAAAAAAAAAABBDkAQAAAAAAAAAAQABBHgAAAAAAAAAAAAQQ5AEAAAAAAAAAAEAAQR4AAAAAAAAAAAAEEOQBAAAAAAAAAABAAEEeAAAAAAAAAAAABBDkAQAAAAAAAAAAQABBHgAAAAAAAAAAAAQQ5AEAAAAAAAAAAEAAQR4AAAAAAAAAAAAEEOQBAAAAAAAAAABAAEEeAAAAAAAAAAAABBDkAQAAAAAAAAAAQABBHgAAAAAAAAAAAAQQ5AEAAAAAAAAAAEAAQR4AAAAAAAAAAAAEEOQBAAAAAAAAAABAAEEeAAAAAAAAAAAABBDkAQAAAAAAAAAAQABBHgAAAAAAAAAAAAQQ5AEAAAAAAAAAAEAAQR4AAAAAAAAAAAAEEOQBAAAAAAAAAABAAEEeAAAAAAAAAAAABBDkAQAAAAAAAAAAQABBHgAAAAAAAAAAAAQQ5AEAAAAAAAAAAEAAQR4AAAAAAAAAAAAEEOQBAAAAAAAAAABAAEEeAAAAAAAAAAAABBDkAQAAAAAAAAAAQABBHgAAAAAAAAAAAAQQ5AEAAAAAAAAAAEAAQR4AAAAAAAAAAAAEEOQBAAAAAAAAAABAAEEeAAAAAAAAAAAABBDkAQAAAAAAAAAAQABBHgAAAAAAAAAAAAQQ5AEAAAAAAAAAAEAAQR4AAAAAAAAAAAAEEOQBAAAAAAAAAABAAEEeAAAAAAAAAAAABBDkAQAAAAAAAAAAQABBHgAAAAAAAAAAAAQQ5AEAAAAAAAAAAEAAQR4AAAAAAAAAAAAEEOQBAAAAAAAAAABAAEEeAAAAAAAAAAAABBDkAQAAAAAAAAAAQABBHgAAAAAAAAAAAAQQ5AEAAAAAAAAAAEAAQR4AAAAAAAAAAAAEEOQBAAAAAAAAAABAAEEeAAAAAAAAAAAABBDkAQAAAAAAAAAAQABBHgAAAAAAAAAAAAQQ5AEAAAAAAAAAAEAAQR4AAAAAAAAAAAAEEOQBAAAAAAAAAABAAEEeAAAAAAAAAAAABBDkAQAAAAAAAAAAQABBHgAAAAAAAAAAAAQQ5AEAAAAAAAAAAEAAQR4AAAAAAAAAAAAEEOQBAAAAAAAAAABAAEEeAAAAAAAAAAAABBDkAQAAAAAAAAAAQABBHgAAAAAAAAAAAAQQ5AEAAAAAAAAAAEAAQR4AAAAAAAAAAAAEEOQBAAAAAAAAAABAAEEeAAAAAAAAAAAABBDkAQAAAAAAAAAAQABBHgAAAAAAAAAAAAQQ5AEAAAAAAAAAAEAAQR4AAAAAAAAAAAAEEOQBAAAAAAAAAABAAEEeAAAAAAAAAAAABBDkAQAAAAAAAAAAQABBHgAAAAAAAAAAAAQQ5AEAAAAAAAAAAEAAQR4AAAAAAAAAAAAEEOQBAAAAAAAAAABAAEEeAAAAAAAAAAAABBDkAQAAAAAAAAAAQABBHgAAAAAAAAAAAAQQ5AEAAAAAAAAAAEAAQR4AAAAAAAAAAAAEEOQBAAAAAAAAAABAAEEeAAAAAAAAAAAABBDkAQAAAAAAAAAAQABBHgAAAAAAAAAAAAQQ5AEAAAAAAAAAAEAAQR4AAAAAAAAAAAAEEOQBAAAAAAAAAABAAEEeAAAAAAAAAAAABBDkAQAAAAAAAAAAQABBHgAAAAAAAAAAAAQQ5AEAAAAAAAAAAEAAQR4AAAAAAAAAAAAEEOQBAAAAAAAAAABAAEEeAAAAAAAAAAAABBDkAQAAAAAAAAAAQABBHgAAAAAAAAAAAAQQ5AEAAAAAAAAAAEAAQR4AAAAAAAAAAAAEEOQBAAAAAAAAAABAAEEeAAAAAAAAAAAABBDkAQAAAAAAAAAAQABBHgAAAAAAAAAAAAQQ5AEAAAAAAAAAAEAAQR4AAAAAAAAAAAAEEOQBAAAAAAAAAABAAEEeAAAAAAAAAAAABBDkAQAAAAAAAAAAQABBHgAAAAAAAAAAAAQQ5AEAAAAAAAAAAEAAQR4AAAAAAAAAAAAEEOQBAAAAAAAAAABAAEEeAAAAAAAAAAAABBDkAQAAAAAAAAAAQABBHgAAAAAAAAAAAAQQ5AEAAAAAAAAAAEAAQR4AAAAAAAD8f3t3kxvFEQZg+Ku2ArFCpI4UIi/NDuVHgV2WZpdlOAFwBG5AdtkFnyDmCJwgs8wujoTAuxQ742TRSNiyiZjKtP+CHf/NuEyC/TyLnpqa7p4LvPoKAACgAkEeAAAAAAAAAAAAVCDIAwAAAAAAAAAAgAoEeQAAAAAAAAAAAFCBIA8AAAAAAAAAAAAqEOQBAAAAAAAAAABABYI8AAAAAAAAAAAAqECQBwAAAAAAAAAAABUI8gAAAAAAAAAAAKACQR4AAAAAAAAAAABUIMgDAAAAAAAAAACACgR5AAAAAAAAAAAAUIEgDwAAAAAAAAAAACoQ5AEAAAAAAAAAAEAFgjwAAAAAAAAAAACoQJAHAAAAAAAAAAAAFQjyAAAAAAAAAAAAoAJBHgAAAAAAAAAAAFQgyAMAAAAAAAAAAIAKBHkAAAAAAAAAAABQgSAPAAAAAAAAAAAAKhDkAQAAAAAAAAAAQAWCPAAAAAAAAAAAAKhAkAcAAAAAAAAAAAAVCPIAAAAAAAAAAACgAkEeAAAAAAAAAAAAVCDIAwAAAAAAAAAAgAoEeQAAAAAAAAAAAFCBIA8AAAAAAAAAAAAqEOQBAAAAAAAAAABABYI8AAAAAAAAAAAAqECQBwAAAAAAAAAAABUI8gAAAAAAAAAAAKACQR4AAAAAAAAAAABU0Ad5OQAAAAAAAAAAAIDTyCbkAQAAAAAAAAAAwKmlrkkRiwEAAAAAAAAAAABMLKXo+gl5zwMAAAAAAAAAAACYXCm/NaNrDgAAAAAAAAAAAOAUSm5i2AwCAAAAAAAAAAAAmFyaWmzirw/yaNkFAAAAAAAAAAAAMJFu+cmg6brFLiItBgAAAAAAAAAAADC2lNKg/2w2v8TwcQAAAAAAAAAAAACTeNRfNoO82Li8EAAAAAAAAAAAAMAE3gz662aQt31s7SAAAAAAAAAAAACAE+uPq+2Wl3K/bnY3HVsLAAAAAAAAAAAA43q0s0g7i7a90ZbLr3/vlwEAAAAAAAAAAAAcJ7988fTazpfdCXn9sbUpxXwAAAAAAAAAAAAAx0rpn+l4vWbPr+uXHo6uXQAAAAAAAAAAAABHyRHDhbc39gR5puQBAAAAAAAAAADA8frpeN3yUt6zt/+mtr3Rlsuvfx0tZwMAAAAAAAAAAADYL7988fTa/s1m/8bWlLzmXgAAAAAAAAAAAAD/kkq5f9D+1EGb669W8vSVq5+Mlt8EAAAAAAAAAAAAsClFzHcrzx4e9Ftz6FMblx6MrjkAAAAAAAAAAACAXo7ptQeH/XhokLd1dO3wVr8MAAAAAAAAAAAAuNDSZlPX5XxoU9cc9Xi3vJRTam4HAAAAAAAAAAAAXGCpDO/1Td1R90zFMdZfreTpK5++HL3u2wAAAAAAAAAAAIALJkW53608WzjuvmODvN766p+/TH98NY2WcwEAAAAAAAAAAAAXRErxfffi2Q8nufdEQV5v/dUfA5PyAAAAAAAAAAAAuCg2J+OdMMbbun9M7WdffVfSm5/6ZQAAAAAAAAAAAMC5k7qU0u1u+clgrKdiAu3M9dlSmp9Hy9kAAAAAAAAAAACA8yOnNLzVLS/lGFMTE+j/KG1cupki5gMAAAAAAAAAAADOgb6JS9NrNyeJ8bafP53tI2x/DNPyAAAAAAAAAAAAeD/llJp74x5Ru9+pg7wd7cznD0qJOyHMAwAAAAAAAAAA4L2QupTKfHy49rDLuYtTqhbk9dqZ67MRzV1hHgAAAAAAAAAAAP9fdUO83bfGGWlnvrhbIu5EKXMBAAAAAAAAAAAA/7GU0iBKPI7p1YWaId7u++OMbU3Nm5oT5wEAAAAAAAAAAPBu9ZPwYvEsI7w9/xbvWDvz5VyUciNiOFtS83Uq0UYqbSmOuAUAAAAAAAAAAGB8KUXuP0uJxRTleUSTYxiD+Gg1n3WE97a/AY6AjtKbzsbjAAAAAElFTkSuQmCC)"
      ]
    },
    {
      "cell_type": "code",
      "execution_count": null,
      "metadata": {
        "id": "SkN-q6JIoJlT"
      },
      "outputs": [],
      "source": [
        "from langchain.retrievers import WikipediaRetriever\n",
        "from langchain.retrievers import ArxivRetriever"
      ]
    },
    {
      "cell_type": "code",
      "execution_count": null,
      "metadata": {
        "id": "en_iDrQrojY-"
      },
      "outputs": [],
      "source": [
        "retriever = WikipediaRetriever(top_k_results=1)\n",
        "# retriever = ArxivRetriever(load_max_docs=2)"
      ]
    },
    {
      "cell_type": "code",
      "execution_count": null,
      "metadata": {
        "id": "L8eq0nBDxMLr"
      },
      "outputs": [],
      "source": [
        "# text = texts[3]\n",
        "text = \"Which country won the 2024 summer Olympics?\"\n",
        "text = \"\"\"which country won the most gold medals among others? 2024 summer Olympics?\"\"\""
      ]
    },
    {
      "cell_type": "code",
      "execution_count": null,
      "metadata": {
        "colab": {
          "base_uri": "https://localhost:8080/",
          "height": 87
        },
        "id": "86nkKiLRwdJv",
        "outputId": "17c31358-4bfe-475c-ce2a-eee9c92d3b94"
      },
      "outputs": [
        {
          "output_type": "execute_result",
          "data": {
            "text/plain": [
              "'As of my last update in October 2023, the 2024 Summer Olympics had not yet taken place, so I cannot provide information on which country won the most gold medals. The 2024 Summer Olympics are scheduled to be held in Paris, France, from July 26 to August 11, 2024. For the latest results and medal counts, please check a reliable sports news source or the official Olympics website after the event concludes.'"
            ],
            "application/vnd.google.colaboratory.intrinsic+json": {
              "type": "string"
            }
          },
          "metadata": {},
          "execution_count": 115
        }
      ],
      "source": [
        "llm.invoke([HumanMessage(text)]).content"
      ]
    },
    {
      "cell_type": "code",
      "execution_count": null,
      "metadata": {
        "id": "Mq9YY15Ho95n"
      },
      "outputs": [],
      "source": [
        "# docs = retriever.get_relevant_documents(query='attention is all you need')\n",
        "docs = retriever.invoke(text)\n",
        "\n",
        "docs\n"
      ]
    },
    {
      "cell_type": "code",
      "execution_count": null,
      "metadata": {
        "colab": {
          "base_uri": "https://localhost:8080/"
        },
        "id": "hPLI0hnJpGZm",
        "outputId": "7cdaac6f-9b02-4ae6-dbd6-e01b91f53d9e"
      },
      "outputs": [
        {
          "output_type": "execute_result",
          "data": {
            "text/plain": [
              "1"
            ]
          },
          "metadata": {},
          "execution_count": 118
        }
      ],
      "source": [
        "len(docs)"
      ]
    },
    {
      "cell_type": "code",
      "execution_count": null,
      "metadata": {
        "id": "UEalwi8ZtxP4"
      },
      "outputs": [],
      "source": [
        "prompt = ChatPromptTemplate.from_messages(\n",
        "    [\n",
        "        (\n",
        "            \"system\",\n",
        "            \"You are a helpful assistant\",\n",
        "        ),\n",
        "        (\"system\", \"answer the following question based on the given context.your answer has to be impactful. question is '{question}', context is: {context}\"),\n",
        "    ]\n",
        ")"
      ]
    },
    {
      "cell_type": "code",
      "execution_count": null,
      "metadata": {
        "id": "BT5o-cKRpxiR",
        "colab": {
          "base_uri": "https://localhost:8080/",
          "height": 122
        },
        "outputId": "c7eecbb2-1597-48d1-c97f-3d790412a458"
      },
      "outputs": [
        {
          "output_type": "execute_result",
          "data": {
            "text/plain": [
              "'At the 2024 Summer Olympics, the United States emerged as the dominant force, clinching the most gold medals with a remarkable total of 40. This achievement not only solidified their position at the top of the medal table for the fourth consecutive Summer Games but also marked a historic tie with China, which also secured 40 gold medals. This unprecedented occurrence highlights the fierce competition and the extraordinary talent displayed by athletes on the world stage. The 2024 Games in Paris will be remembered not just for the medals won, but for the thrilling narratives and records that unfolded, showcasing the spirit of Olympic competition.'"
            ],
            "application/vnd.google.colaboratory.intrinsic+json": {
              "type": "string"
            }
          },
          "metadata": {},
          "execution_count": 119
        }
      ],
      "source": [
        "chain = prompt | llm | StrOutputParser()\n",
        "\n",
        "chain.invoke({'question': text, 'context': docs})"
      ]
    },
    {
      "cell_type": "code",
      "execution_count": null,
      "metadata": {
        "id": "guiD3qvKJiKF"
      },
      "outputs": [],
      "source": []
    },
    {
      "cell_type": "code",
      "execution_count": null,
      "metadata": {
        "id": "ldKQnCsAJeGM"
      },
      "outputs": [],
      "source": []
    },
    {
      "cell_type": "code",
      "execution_count": null,
      "metadata": {
        "id": "iUu-3YpJ9LS8"
      },
      "outputs": [],
      "source": []
    },
    {
      "cell_type": "code",
      "execution_count": null,
      "metadata": {
        "id": "ylNdt7-W78T2"
      },
      "outputs": [],
      "source": [
        "\n",
        "from langchain_openai import OpenAIEmbeddings\n",
        "embedding = OpenAIEmbeddings(openai_api_key=openai_api_key)\n"
      ]
    },
    {
      "cell_type": "code",
      "source": [
        "from langchain.storage import InMemoryByteStore\n",
        "# from langchain_chroma import Chroma\n",
        "from langchain_community.document_loaders import TextLoader\n",
        "from langchain_openai import OpenAIEmbeddings\n",
        "from langchain_text_splitters import RecursiveCharacterTextSplitter\n",
        "from langchain.vectorstores import FAISS\n",
        "\n",
        "embedding = OpenAIEmbeddings(openai_api_key=openai_api_key)\n",
        "loaders = [\n",
        "    TextLoader(\"/content/paul_graham_essay.txt\"),\n",
        "    TextLoader(\"/content/state_of_the_union.txt\"),\n",
        "]\n",
        "docs = []\n",
        "for loader in loaders:\n",
        "    doc = loader.load()\n",
        "    docs.extend(doc)\n",
        "\n"
      ],
      "metadata": {
        "id": "cjRlQdK7xXXb"
      },
      "execution_count": null,
      "outputs": []
    },
    {
      "cell_type": "code",
      "source": [
        "len(docs)"
      ],
      "metadata": {
        "colab": {
          "base_uri": "https://localhost:8080/"
        },
        "id": "AQma4oj8YLk1",
        "outputId": "a109f82a-b0ef-4c14-abbc-08a08f869ce6"
      },
      "execution_count": null,
      "outputs": [
        {
          "output_type": "execute_result",
          "data": {
            "text/plain": [
              "2"
            ]
          },
          "metadata": {},
          "execution_count": 127
        }
      ]
    },
    {
      "cell_type": "code",
      "source": [
        "# loader = TextLoader(\"/content/paul_graham_essay.txt\")\n",
        "# docs = loader.load()\n",
        "# docs[0].page_content[:500]"
      ],
      "metadata": {
        "id": "y0r_mr5KXwZI"
      },
      "execution_count": null,
      "outputs": []
    },
    {
      "cell_type": "code",
      "source": [
        "text_splitter = RecursiveCharacterTextSplitter(chunk_size=1000, chunk_overlap=100)\n",
        "text_chunks = text_splitter.split_documents(docs)\n",
        "db = FAISS.from_documents(text_chunks, embedding)"
      ],
      "metadata": {
        "id": "pG-LeAKOHNuN"
      },
      "execution_count": null,
      "outputs": []
    },
    {
      "cell_type": "code",
      "source": [
        "text_chunks[0]"
      ],
      "metadata": {
        "colab": {
          "base_uri": "https://localhost:8080/"
        },
        "id": "Y1OWdg80Qvik",
        "outputId": "72fe3a3a-a75e-4532-88bd-7460325b64e1"
      },
      "execution_count": null,
      "outputs": [
        {
          "output_type": "execute_result",
          "data": {
            "text/plain": [
              "Document(metadata={'source': '/content/paul_graham_essay.txt'}, page_content='What I Worked On\\n\\nFebruary 2021\\n\\nBefore college the two main things I worked on, outside of school, were writing and programming. I didn\\'t write essays. I wrote what beginning writers were supposed to write then, and probably still are: short stories. My stories were awful. They had hardly any plot, just characters with strong feelings, which I imagined made them deep.\\n\\nThe first programs I tried writing were on the IBM 1401 that our school district used for what was then called \"data processing.\" This was in 9th grade, so I was 13 or 14. The school district\\'s 1401 happened to be in the basement of our junior high school, and my friend Rich Draves and I got permission to use it. It was like a mini Bond villain\\'s lair down there, with all these alien-looking machines — CPU, disk drives, printer, card reader — sitting up on a raised floor under bright fluorescent lights.')"
            ]
          },
          "metadata": {},
          "execution_count": 130
        }
      ]
    },
    {
      "cell_type": "code",
      "source": [
        "# docs = []\n",
        "# for loader in loaders:\n",
        "#   doc = loader.load()\n",
        "#   print(len(doc))"
      ],
      "metadata": {
        "colab": {
          "base_uri": "https://localhost:8080/"
        },
        "id": "i54q-a03_74A",
        "outputId": "812f448f-990b-40cc-9008-832000409463"
      },
      "execution_count": null,
      "outputs": [
        {
          "output_type": "stream",
          "name": "stdout",
          "text": [
            "1\n",
            "1\n"
          ]
        }
      ]
    },
    {
      "cell_type": "code",
      "source": [
        "type(doc)"
      ],
      "metadata": {
        "colab": {
          "base_uri": "https://localhost:8080/"
        },
        "id": "gwSfPaVhQFJc",
        "outputId": "3ace7ad5-055a-4863-acf2-80028118ef51"
      },
      "execution_count": null,
      "outputs": [
        {
          "output_type": "execute_result",
          "data": {
            "text/plain": [
              "list"
            ]
          },
          "metadata": {},
          "execution_count": 67
        }
      ]
    },
    {
      "cell_type": "code",
      "source": [
        "i = 0\n",
        "questions = [\"\"\"What two main subjects did the author work on outside of school before college?\"\"\",\n",
        "\"\"\"Which language was considered the language of AI in the mid-1980s, according to the author?\"\"\",\n",
        "\"\"\"What were the two art schools the author applied to after graduating from Harvard with a degree in Artificial Intelligence?\"\"\"\n",
        "]\n",
        "question = questions[i]"
      ],
      "metadata": {
        "id": "9eiy2DGlNB3I"
      },
      "execution_count": null,
      "outputs": []
    },
    {
      "cell_type": "code",
      "source": [
        "retriever = db.as_retriever(search_kwargs={\"k\": 2})"
      ],
      "metadata": {
        "id": "6tFhfnS5ZF6Y"
      },
      "execution_count": null,
      "outputs": []
    },
    {
      "cell_type": "code",
      "source": [
        "from langchain_core.runnables import RunnableParallel, RunnablePassthrough\n",
        "from operator import itemgetter\n",
        "run = itemgetter(\"question\") | retriever\n",
        "run.invoke({'question': question,})"
      ],
      "metadata": {
        "colab": {
          "base_uri": "https://localhost:8080/"
        },
        "id": "kZK5_m4wZhWs",
        "outputId": "8a731c81-7991-4d16-ffbe-43285b02da24"
      },
      "execution_count": null,
      "outputs": [
        {
          "output_type": "execute_result",
          "data": {
            "text/plain": [
              "[Document(id='e78e3bfd-8775-4065-a436-c43e79858290', metadata={'source': '/content/paul_graham_essay.txt'}, page_content='We did a lot of things right by accident like that. For example, we did what\\'s now called \"doing things that don\\'t scale,\" although at the time we would have described it as \"being so lame that we\\'re driven to the most desperate measures to get users.\" The most common of which was building stores for them. This seemed particularly humiliating, since the whole raison d\\'etre of our software was that people could use it to make their own stores. But anything to get users.\\n\\nWe learned a lot more about retail than we wanted to know. For example, that if you could only have a small image of a man\\'s shirt (and all images were small then by present standards), it was better to have a closeup of the collar than a picture of the whole shirt. The reason I remember learning this was that it meant I had to rescan about 30 images of men\\'s shirts. My first set of scans were so beautiful too.'),\n",
              " Document(id='0fa607dd-e683-4fc9-a8d8-ec197bb80e44', metadata={'source': '/content/paul_graham_essay.txt'}, page_content=\"I learned some useful things at Interleaf, though they were mostly about what not to do. I learned that it's better for technology companies to be run by product people than sales people (though sales is a real skill and people who are good at it are really good at it), that it leads to bugs when code is edited by too many people, that cheap office space is no bargain if it's depressing, that planned meetings are inferior to corridor conversations, that big, bureaucratic customers are a dangerous source of money, and that there's not much overlap between conventional office hours and the optimal time for hacking, or conventional offices and the optimal place for it.\")]"
            ]
          },
          "metadata": {},
          "execution_count": 133
        }
      ]
    },
    {
      "cell_type": "code",
      "source": [
        "# from re import search\n",
        "# # question = \"who is the author of this essay?\"\n",
        "# run = itemgetter(\"question\") | db.as_retriever(search_kwargs={\"k\": 2})\n",
        "# run.invoke({'question': question,})"
      ],
      "metadata": {
        "id": "VF61UmwNKNa8"
      },
      "execution_count": null,
      "outputs": []
    },
    {
      "cell_type": "code",
      "source": [
        "run.get_graph().print_ascii()\n"
      ],
      "metadata": {
        "colab": {
          "base_uri": "https://localhost:8080/"
        },
        "id": "3riJ2qc0OQ4k",
        "outputId": "e77bd58e-8133-4066-9e20-ab4227f206d0"
      },
      "execution_count": null,
      "outputs": [
        {
          "output_type": "stream",
          "name": "stdout",
          "text": [
            "        +-------------+        \n",
            "        | LambdaInput |        \n",
            "        +-------------+        \n",
            "               *               \n",
            "               *               \n",
            "               *               \n",
            "          +--------+           \n",
            "          | Lambda |           \n",
            "          +--------+           \n",
            "               *               \n",
            "               *               \n",
            "               *               \n",
            "   +----------------------+    \n",
            "   | VectorStoreRetriever |    \n",
            "   +----------------------+    \n",
            "               *               \n",
            "               *               \n",
            "               *               \n",
            "+----------------------------+ \n",
            "| VectorStoreRetrieverOutput | \n",
            "+----------------------------+ \n"
          ]
        }
      ]
    },
    {
      "cell_type": "code",
      "source": [
        "# RunnableParallel(context=run, question=RunnablePassthrough())"
      ],
      "metadata": {
        "id": "VCkY1aZ3ao2B"
      },
      "execution_count": null,
      "outputs": []
    },
    {
      "cell_type": "code",
      "source": [
        "run_2 = RunnableParallel(context=run, question=RunnablePassthrough())\n",
        "run_2.invoke({'question': question,})"
      ],
      "metadata": {
        "colab": {
          "base_uri": "https://localhost:8080/"
        },
        "id": "zmNFP6RLK0BH",
        "outputId": "1f641398-fe90-4476-a5e6-4f901deb9ffa"
      },
      "execution_count": null,
      "outputs": [
        {
          "output_type": "execute_result",
          "data": {
            "text/plain": [
              "{'context': [Document(id='e78e3bfd-8775-4065-a436-c43e79858290', metadata={'source': '/content/paul_graham_essay.txt'}, page_content='We did a lot of things right by accident like that. For example, we did what\\'s now called \"doing things that don\\'t scale,\" although at the time we would have described it as \"being so lame that we\\'re driven to the most desperate measures to get users.\" The most common of which was building stores for them. This seemed particularly humiliating, since the whole raison d\\'etre of our software was that people could use it to make their own stores. But anything to get users.\\n\\nWe learned a lot more about retail than we wanted to know. For example, that if you could only have a small image of a man\\'s shirt (and all images were small then by present standards), it was better to have a closeup of the collar than a picture of the whole shirt. The reason I remember learning this was that it meant I had to rescan about 30 images of men\\'s shirts. My first set of scans were so beautiful too.'),\n",
              "  Document(id='0fa607dd-e683-4fc9-a8d8-ec197bb80e44', metadata={'source': '/content/paul_graham_essay.txt'}, page_content=\"I learned some useful things at Interleaf, though they were mostly about what not to do. I learned that it's better for technology companies to be run by product people than sales people (though sales is a real skill and people who are good at it are really good at it), that it leads to bugs when code is edited by too many people, that cheap office space is no bargain if it's depressing, that planned meetings are inferior to corridor conversations, that big, bureaucratic customers are a dangerous source of money, and that there's not much overlap between conventional office hours and the optimal time for hacking, or conventional offices and the optimal place for it.\")],\n",
              " 'question': {'question': 'روش\\u200cهای اصلی مورد استفاده برای محافظت از محصولات کشاورزی در برابر سرمازدگی چیست و مزایا و محدودیت\\u200cهای هر یک از این روش\\u200cها کدامند؟'}}"
            ]
          },
          "metadata": {},
          "execution_count": 135
        }
      ]
    },
    {
      "cell_type": "code",
      "source": [
        "run_2.get_graph().print_ascii()\n"
      ],
      "metadata": {
        "colab": {
          "base_uri": "https://localhost:8080/"
        },
        "id": "9RbB7HTfOXYM",
        "outputId": "9ff74b29-4ff1-4223-d148-45dd0f3a48ba"
      },
      "execution_count": null,
      "outputs": [
        {
          "output_type": "stream",
          "name": "stdout",
          "text": [
            "         +---------------------------------+       \n",
            "         | Parallel<context,question>Input |       \n",
            "         +---------------------------------+       \n",
            "                  ***            ***               \n",
            "                **                  ***            \n",
            "              **                       **          \n",
            "       +--------+                        **        \n",
            "       | Lambda |                         *        \n",
            "       +--------+                         *        \n",
            "            *                             *        \n",
            "            *                             *        \n",
            "            *                             *        \n",
            "+----------------------+          +-------------+  \n",
            "| VectorStoreRetriever |          | Passthrough |  \n",
            "+----------------------+          +-------------+  \n",
            "                  ***            ***               \n",
            "                     **        **                  \n",
            "                       **    **                    \n",
            "         +----------------------------------+      \n",
            "         | Parallel<context,question>Output |      \n",
            "         +----------------------------------+      \n"
          ]
        }
      ]
    },
    {
      "cell_type": "code",
      "execution_count": null,
      "metadata": {
        "id": "pRPKU9ed-WeJ"
      },
      "outputs": [],
      "source": [
        "\n",
        "def _create_chain(prompt, llm, db):\n",
        "  chain = (RunnableParallel(\n",
        "    {\"context\": itemgetter(\"question\") | db.as_retriever(search_kwargs={\"k\": 3}), 'question': RunnablePassthrough()}\n",
        "    ) | prompt | llm | StrOutputParser())\n",
        "  return chain"
      ]
    },
    {
      "cell_type": "code",
      "source": [
        "def _create_chain(prompt, llm, db):\n",
        "  chain = {\"context\": itemgetter(\"question\") | db.as_retriever(search_kwargs={\"k\": 3}), 'question': RunnablePassthrough()}| prompt | llm\n",
        "  return chain"
      ],
      "metadata": {
        "id": "dll5sJ6W4HG7"
      },
      "execution_count": null,
      "outputs": []
    },
    {
      "cell_type": "code",
      "execution_count": null,
      "metadata": {
        "id": "h3zJkqNjEqig"
      },
      "outputs": [],
      "source": []
    },
    {
      "cell_type": "code",
      "source": [],
      "metadata": {
        "id": "nPOifHUvDkhL"
      },
      "execution_count": null,
      "outputs": []
    },
    {
      "cell_type": "code",
      "execution_count": null,
      "metadata": {
        "id": "JEd1SlelE8JS"
      },
      "outputs": [],
      "source": [
        "prompt = ChatPromptTemplate.from_messages([\n",
        "  ('system', \"You are a helpful assistant please answer only based on your {context}\"),\n",
        "  ('user', '{question}')\n",
        "\n",
        "])\n",
        "chain = _create_chain(prompt, llm, db)"
      ]
    },
    {
      "cell_type": "code",
      "source": [
        "chain.get_graph().print_ascii()\n",
        "\n"
      ],
      "metadata": {
        "colab": {
          "base_uri": "https://localhost:8080/"
        },
        "id": "gq7RI8ep2TaY",
        "outputId": "fd66f28a-4025-4629-ceac-3ddd8a89c8b3"
      },
      "execution_count": null,
      "outputs": [
        {
          "output_type": "stream",
          "name": "stdout",
          "text": [
            "         +---------------------------------+       \n",
            "         | Parallel<context,question>Input |       \n",
            "         +---------------------------------+       \n",
            "                  ***            ***               \n",
            "                **                  ***            \n",
            "              **                       **          \n",
            "       +--------+                        **        \n",
            "       | Lambda |                         *        \n",
            "       +--------+                         *        \n",
            "            *                             *        \n",
            "            *                             *        \n",
            "            *                             *        \n",
            "+----------------------+          +-------------+  \n",
            "| VectorStoreRetriever |          | Passthrough |  \n",
            "+----------------------+          +-------------+  \n",
            "                  ***            ***               \n",
            "                     **        **                  \n",
            "                       **    **                    \n",
            "         +----------------------------------+      \n",
            "         | Parallel<context,question>Output |      \n",
            "         +----------------------------------+      \n",
            "                           *                       \n",
            "                           *                       \n",
            "                           *                       \n",
            "                +--------------------+             \n",
            "                | ChatPromptTemplate |             \n",
            "                +--------------------+             \n",
            "                           *                       \n",
            "                           *                       \n",
            "                           *                       \n",
            "                    +------------+                 \n",
            "                    | ChatOpenAI |                 \n",
            "                    +------------+                 \n",
            "                           *                       \n",
            "                           *                       \n",
            "                           *                       \n",
            "                 +-----------------+               \n",
            "                 | StrOutputParser |               \n",
            "                 +-----------------+               \n",
            "                           *                       \n",
            "                           *                       \n",
            "                           *                       \n",
            "              +-----------------------+            \n",
            "              | StrOutputParserOutput |            \n",
            "              +-----------------------+            \n"
          ]
        }
      ]
    },
    {
      "cell_type": "code",
      "source": [
        "j = -1\n",
        "queries = [\"How does the speaker describe the impact of inflation on American families, and what are the proposed solutions?\",\n",
        "           \"\"\"What are the key components of the Unity Agenda proposed in the State of the Union address\"\"\",\n",
        "           \"\"\"What were the main motivations behind Paul Graham's switch from studying philosophy to AI in college?\"\"\",\n",
        "\n",
        "           ]\n",
        "query  = queries[j]\n",
        "chain.invoke({'question': query,})"
      ],
      "metadata": {
        "colab": {
          "base_uri": "https://localhost:8080/",
          "height": 304
        },
        "id": "6yPQbwIE5p8_",
        "outputId": "e673aa0a-5ed5-4b50-c369-b8a53a2e7c0c"
      },
      "execution_count": null,
      "outputs": [
        {
          "output_type": "error",
          "ename": "KeyError",
          "evalue": "'chat_history'",
          "traceback": [
            "\u001b[0;31m---------------------------------------------------------------------------\u001b[0m",
            "\u001b[0;31mKeyError\u001b[0m                                  Traceback (most recent call last)",
            "\u001b[0;32m<ipython-input-147-81431c035e6d>\u001b[0m in \u001b[0;36m<cell line: 0>\u001b[0;34m()\u001b[0m\n\u001b[1;32m      6\u001b[0m            ]\n\u001b[1;32m      7\u001b[0m \u001b[0mquery\u001b[0m  \u001b[0;34m=\u001b[0m \u001b[0mqueries\u001b[0m\u001b[0;34m[\u001b[0m\u001b[0mj\u001b[0m\u001b[0;34m]\u001b[0m\u001b[0;34m\u001b[0m\u001b[0;34m\u001b[0m\u001b[0m\n\u001b[0;32m----> 8\u001b[0;31m \u001b[0mchain\u001b[0m\u001b[0;34m.\u001b[0m\u001b[0minvoke\u001b[0m\u001b[0;34m(\u001b[0m\u001b[0;34m{\u001b[0m\u001b[0;34m'question'\u001b[0m\u001b[0;34m:\u001b[0m \u001b[0mquery\u001b[0m\u001b[0;34m,\u001b[0m\u001b[0;34m}\u001b[0m\u001b[0;34m)\u001b[0m\u001b[0;34m\u001b[0m\u001b[0;34m\u001b[0m\u001b[0m\n\u001b[0m",
            "\u001b[0;32m/usr/local/lib/python3.11/dist-packages/langchain_core/runnables/base.py\u001b[0m in \u001b[0;36minvoke\u001b[0;34m(self, input, config, **kwargs)\u001b[0m\n\u001b[1;32m   3020\u001b[0m                 \u001b[0mcontext\u001b[0m\u001b[0;34m.\u001b[0m\u001b[0mrun\u001b[0m\u001b[0;34m(\u001b[0m\u001b[0m_set_config_context\u001b[0m\u001b[0;34m,\u001b[0m \u001b[0mconfig\u001b[0m\u001b[0;34m)\u001b[0m\u001b[0;34m\u001b[0m\u001b[0;34m\u001b[0m\u001b[0m\n\u001b[1;32m   3021\u001b[0m                 \u001b[0;32mif\u001b[0m \u001b[0mi\u001b[0m \u001b[0;34m==\u001b[0m \u001b[0;36m0\u001b[0m\u001b[0;34m:\u001b[0m\u001b[0;34m\u001b[0m\u001b[0;34m\u001b[0m\u001b[0m\n\u001b[0;32m-> 3022\u001b[0;31m                     \u001b[0minput\u001b[0m \u001b[0;34m=\u001b[0m \u001b[0mcontext\u001b[0m\u001b[0;34m.\u001b[0m\u001b[0mrun\u001b[0m\u001b[0;34m(\u001b[0m\u001b[0mstep\u001b[0m\u001b[0;34m.\u001b[0m\u001b[0minvoke\u001b[0m\u001b[0;34m,\u001b[0m \u001b[0minput\u001b[0m\u001b[0;34m,\u001b[0m \u001b[0mconfig\u001b[0m\u001b[0;34m,\u001b[0m \u001b[0;34m**\u001b[0m\u001b[0mkwargs\u001b[0m\u001b[0;34m)\u001b[0m\u001b[0;34m\u001b[0m\u001b[0;34m\u001b[0m\u001b[0m\n\u001b[0m\u001b[1;32m   3023\u001b[0m                 \u001b[0;32melse\u001b[0m\u001b[0;34m:\u001b[0m\u001b[0;34m\u001b[0m\u001b[0;34m\u001b[0m\u001b[0m\n\u001b[1;32m   3024\u001b[0m                     \u001b[0minput\u001b[0m \u001b[0;34m=\u001b[0m \u001b[0mcontext\u001b[0m\u001b[0;34m.\u001b[0m\u001b[0mrun\u001b[0m\u001b[0;34m(\u001b[0m\u001b[0mstep\u001b[0m\u001b[0;34m.\u001b[0m\u001b[0minvoke\u001b[0m\u001b[0;34m,\u001b[0m \u001b[0minput\u001b[0m\u001b[0;34m,\u001b[0m \u001b[0mconfig\u001b[0m\u001b[0;34m)\u001b[0m\u001b[0;34m\u001b[0m\u001b[0;34m\u001b[0m\u001b[0m\n",
            "\u001b[0;32m/usr/local/lib/python3.11/dist-packages/langchain_core/runnables/base.py\u001b[0m in \u001b[0;36minvoke\u001b[0;34m(self, input, config, **kwargs)\u001b[0m\n\u001b[1;32m   3727\u001b[0m                     \u001b[0;32mfor\u001b[0m \u001b[0mkey\u001b[0m\u001b[0;34m,\u001b[0m \u001b[0mstep\u001b[0m \u001b[0;32min\u001b[0m \u001b[0msteps\u001b[0m\u001b[0;34m.\u001b[0m\u001b[0mitems\u001b[0m\u001b[0;34m(\u001b[0m\u001b[0;34m)\u001b[0m\u001b[0;34m\u001b[0m\u001b[0;34m\u001b[0m\u001b[0m\n\u001b[1;32m   3728\u001b[0m                 ]\n\u001b[0;32m-> 3729\u001b[0;31m                 \u001b[0moutput\u001b[0m \u001b[0;34m=\u001b[0m \u001b[0;34m{\u001b[0m\u001b[0mkey\u001b[0m\u001b[0;34m:\u001b[0m \u001b[0mfuture\u001b[0m\u001b[0;34m.\u001b[0m\u001b[0mresult\u001b[0m\u001b[0;34m(\u001b[0m\u001b[0;34m)\u001b[0m \u001b[0;32mfor\u001b[0m \u001b[0mkey\u001b[0m\u001b[0;34m,\u001b[0m \u001b[0mfuture\u001b[0m \u001b[0;32min\u001b[0m \u001b[0mzip\u001b[0m\u001b[0;34m(\u001b[0m\u001b[0msteps\u001b[0m\u001b[0;34m,\u001b[0m \u001b[0mfutures\u001b[0m\u001b[0;34m)\u001b[0m\u001b[0;34m}\u001b[0m\u001b[0;34m\u001b[0m\u001b[0;34m\u001b[0m\u001b[0m\n\u001b[0m\u001b[1;32m   3730\u001b[0m         \u001b[0;31m# finish the root run\u001b[0m\u001b[0;34m\u001b[0m\u001b[0;34m\u001b[0m\u001b[0m\n\u001b[1;32m   3731\u001b[0m         \u001b[0;32mexcept\u001b[0m \u001b[0mBaseException\u001b[0m \u001b[0;32mas\u001b[0m \u001b[0me\u001b[0m\u001b[0;34m:\u001b[0m\u001b[0;34m\u001b[0m\u001b[0;34m\u001b[0m\u001b[0m\n",
            "\u001b[0;32m/usr/local/lib/python3.11/dist-packages/langchain_core/runnables/base.py\u001b[0m in \u001b[0;36m<dictcomp>\u001b[0;34m(.0)\u001b[0m\n\u001b[1;32m   3727\u001b[0m                     \u001b[0;32mfor\u001b[0m \u001b[0mkey\u001b[0m\u001b[0;34m,\u001b[0m \u001b[0mstep\u001b[0m \u001b[0;32min\u001b[0m \u001b[0msteps\u001b[0m\u001b[0;34m.\u001b[0m\u001b[0mitems\u001b[0m\u001b[0;34m(\u001b[0m\u001b[0;34m)\u001b[0m\u001b[0;34m\u001b[0m\u001b[0;34m\u001b[0m\u001b[0m\n\u001b[1;32m   3728\u001b[0m                 ]\n\u001b[0;32m-> 3729\u001b[0;31m                 \u001b[0moutput\u001b[0m \u001b[0;34m=\u001b[0m \u001b[0;34m{\u001b[0m\u001b[0mkey\u001b[0m\u001b[0;34m:\u001b[0m \u001b[0mfuture\u001b[0m\u001b[0;34m.\u001b[0m\u001b[0mresult\u001b[0m\u001b[0;34m(\u001b[0m\u001b[0;34m)\u001b[0m \u001b[0;32mfor\u001b[0m \u001b[0mkey\u001b[0m\u001b[0;34m,\u001b[0m \u001b[0mfuture\u001b[0m \u001b[0;32min\u001b[0m \u001b[0mzip\u001b[0m\u001b[0;34m(\u001b[0m\u001b[0msteps\u001b[0m\u001b[0;34m,\u001b[0m \u001b[0mfutures\u001b[0m\u001b[0;34m)\u001b[0m\u001b[0;34m}\u001b[0m\u001b[0;34m\u001b[0m\u001b[0;34m\u001b[0m\u001b[0m\n\u001b[0m\u001b[1;32m   3730\u001b[0m         \u001b[0;31m# finish the root run\u001b[0m\u001b[0;34m\u001b[0m\u001b[0;34m\u001b[0m\u001b[0m\n\u001b[1;32m   3731\u001b[0m         \u001b[0;32mexcept\u001b[0m \u001b[0mBaseException\u001b[0m \u001b[0;32mas\u001b[0m \u001b[0me\u001b[0m\u001b[0;34m:\u001b[0m\u001b[0;34m\u001b[0m\u001b[0;34m\u001b[0m\u001b[0m\n",
            "\u001b[0;32m/usr/lib/python3.11/concurrent/futures/_base.py\u001b[0m in \u001b[0;36mresult\u001b[0;34m(self, timeout)\u001b[0m\n\u001b[1;32m    447\u001b[0m                     \u001b[0;32mraise\u001b[0m \u001b[0mCancelledError\u001b[0m\u001b[0;34m(\u001b[0m\u001b[0;34m)\u001b[0m\u001b[0;34m\u001b[0m\u001b[0;34m\u001b[0m\u001b[0m\n\u001b[1;32m    448\u001b[0m                 \u001b[0;32melif\u001b[0m \u001b[0mself\u001b[0m\u001b[0;34m.\u001b[0m\u001b[0m_state\u001b[0m \u001b[0;34m==\u001b[0m \u001b[0mFINISHED\u001b[0m\u001b[0;34m:\u001b[0m\u001b[0;34m\u001b[0m\u001b[0;34m\u001b[0m\u001b[0m\n\u001b[0;32m--> 449\u001b[0;31m                     \u001b[0;32mreturn\u001b[0m \u001b[0mself\u001b[0m\u001b[0;34m.\u001b[0m\u001b[0m__get_result\u001b[0m\u001b[0;34m(\u001b[0m\u001b[0;34m)\u001b[0m\u001b[0;34m\u001b[0m\u001b[0;34m\u001b[0m\u001b[0m\n\u001b[0m\u001b[1;32m    450\u001b[0m \u001b[0;34m\u001b[0m\u001b[0m\n\u001b[1;32m    451\u001b[0m                 \u001b[0mself\u001b[0m\u001b[0;34m.\u001b[0m\u001b[0m_condition\u001b[0m\u001b[0;34m.\u001b[0m\u001b[0mwait\u001b[0m\u001b[0;34m(\u001b[0m\u001b[0mtimeout\u001b[0m\u001b[0;34m)\u001b[0m\u001b[0;34m\u001b[0m\u001b[0;34m\u001b[0m\u001b[0m\n",
            "\u001b[0;32m/usr/lib/python3.11/concurrent/futures/_base.py\u001b[0m in \u001b[0;36m__get_result\u001b[0;34m(self)\u001b[0m\n\u001b[1;32m    399\u001b[0m         \u001b[0;32mif\u001b[0m \u001b[0mself\u001b[0m\u001b[0;34m.\u001b[0m\u001b[0m_exception\u001b[0m\u001b[0;34m:\u001b[0m\u001b[0;34m\u001b[0m\u001b[0;34m\u001b[0m\u001b[0m\n\u001b[1;32m    400\u001b[0m             \u001b[0;32mtry\u001b[0m\u001b[0;34m:\u001b[0m\u001b[0;34m\u001b[0m\u001b[0;34m\u001b[0m\u001b[0m\n\u001b[0;32m--> 401\u001b[0;31m                 \u001b[0;32mraise\u001b[0m \u001b[0mself\u001b[0m\u001b[0;34m.\u001b[0m\u001b[0m_exception\u001b[0m\u001b[0;34m\u001b[0m\u001b[0;34m\u001b[0m\u001b[0m\n\u001b[0m\u001b[1;32m    402\u001b[0m             \u001b[0;32mfinally\u001b[0m\u001b[0;34m:\u001b[0m\u001b[0;34m\u001b[0m\u001b[0;34m\u001b[0m\u001b[0m\n\u001b[1;32m    403\u001b[0m                 \u001b[0;31m# Break a reference cycle with the exception in self._exception\u001b[0m\u001b[0;34m\u001b[0m\u001b[0;34m\u001b[0m\u001b[0m\n",
            "\u001b[0;32m/usr/lib/python3.11/concurrent/futures/thread.py\u001b[0m in \u001b[0;36mrun\u001b[0;34m(self)\u001b[0m\n\u001b[1;32m     56\u001b[0m \u001b[0;34m\u001b[0m\u001b[0m\n\u001b[1;32m     57\u001b[0m         \u001b[0;32mtry\u001b[0m\u001b[0;34m:\u001b[0m\u001b[0;34m\u001b[0m\u001b[0;34m\u001b[0m\u001b[0m\n\u001b[0;32m---> 58\u001b[0;31m             \u001b[0mresult\u001b[0m \u001b[0;34m=\u001b[0m \u001b[0mself\u001b[0m\u001b[0;34m.\u001b[0m\u001b[0mfn\u001b[0m\u001b[0;34m(\u001b[0m\u001b[0;34m*\u001b[0m\u001b[0mself\u001b[0m\u001b[0;34m.\u001b[0m\u001b[0margs\u001b[0m\u001b[0;34m,\u001b[0m \u001b[0;34m**\u001b[0m\u001b[0mself\u001b[0m\u001b[0;34m.\u001b[0m\u001b[0mkwargs\u001b[0m\u001b[0;34m)\u001b[0m\u001b[0;34m\u001b[0m\u001b[0;34m\u001b[0m\u001b[0m\n\u001b[0m\u001b[1;32m     59\u001b[0m         \u001b[0;32mexcept\u001b[0m \u001b[0mBaseException\u001b[0m \u001b[0;32mas\u001b[0m \u001b[0mexc\u001b[0m\u001b[0;34m:\u001b[0m\u001b[0;34m\u001b[0m\u001b[0;34m\u001b[0m\u001b[0m\n\u001b[1;32m     60\u001b[0m             \u001b[0mself\u001b[0m\u001b[0;34m.\u001b[0m\u001b[0mfuture\u001b[0m\u001b[0;34m.\u001b[0m\u001b[0mset_exception\u001b[0m\u001b[0;34m(\u001b[0m\u001b[0mexc\u001b[0m\u001b[0;34m)\u001b[0m\u001b[0;34m\u001b[0m\u001b[0;34m\u001b[0m\u001b[0m\n",
            "\u001b[0;32m/usr/local/lib/python3.11/dist-packages/langchain_core/runnables/base.py\u001b[0m in \u001b[0;36m_invoke_step\u001b[0;34m(step, input, config, key)\u001b[0m\n\u001b[1;32m   3711\u001b[0m             \u001b[0mcontext\u001b[0m \u001b[0;34m=\u001b[0m \u001b[0mcopy_context\u001b[0m\u001b[0;34m(\u001b[0m\u001b[0;34m)\u001b[0m\u001b[0;34m\u001b[0m\u001b[0;34m\u001b[0m\u001b[0m\n\u001b[1;32m   3712\u001b[0m             \u001b[0mcontext\u001b[0m\u001b[0;34m.\u001b[0m\u001b[0mrun\u001b[0m\u001b[0;34m(\u001b[0m\u001b[0m_set_config_context\u001b[0m\u001b[0;34m,\u001b[0m \u001b[0mchild_config\u001b[0m\u001b[0;34m)\u001b[0m\u001b[0;34m\u001b[0m\u001b[0;34m\u001b[0m\u001b[0m\n\u001b[0;32m-> 3713\u001b[0;31m             return context.run(\n\u001b[0m\u001b[1;32m   3714\u001b[0m                 \u001b[0mstep\u001b[0m\u001b[0;34m.\u001b[0m\u001b[0minvoke\u001b[0m\u001b[0;34m,\u001b[0m\u001b[0;34m\u001b[0m\u001b[0;34m\u001b[0m\u001b[0m\n\u001b[1;32m   3715\u001b[0m                 \u001b[0minput\u001b[0m\u001b[0;34m,\u001b[0m\u001b[0;34m\u001b[0m\u001b[0;34m\u001b[0m\u001b[0m\n",
            "\u001b[0;32m/usr/local/lib/python3.11/dist-packages/langchain_core/runnables/base.py\u001b[0m in \u001b[0;36minvoke\u001b[0;34m(self, input, config, **kwargs)\u001b[0m\n\u001b[1;32m   4719\u001b[0m         \"\"\"\n\u001b[1;32m   4720\u001b[0m         \u001b[0;32mif\u001b[0m \u001b[0mhasattr\u001b[0m\u001b[0;34m(\u001b[0m\u001b[0mself\u001b[0m\u001b[0;34m,\u001b[0m \u001b[0;34m\"func\"\u001b[0m\u001b[0;34m)\u001b[0m\u001b[0;34m:\u001b[0m\u001b[0;34m\u001b[0m\u001b[0;34m\u001b[0m\u001b[0m\n\u001b[0;32m-> 4721\u001b[0;31m             return self._call_with_config(\n\u001b[0m\u001b[1;32m   4722\u001b[0m                 \u001b[0mself\u001b[0m\u001b[0;34m.\u001b[0m\u001b[0m_invoke\u001b[0m\u001b[0;34m,\u001b[0m\u001b[0;34m\u001b[0m\u001b[0;34m\u001b[0m\u001b[0m\n\u001b[1;32m   4723\u001b[0m                 \u001b[0minput\u001b[0m\u001b[0;34m,\u001b[0m\u001b[0;34m\u001b[0m\u001b[0;34m\u001b[0m\u001b[0m\n",
            "\u001b[0;32m/usr/local/lib/python3.11/dist-packages/langchain_core/runnables/base.py\u001b[0m in \u001b[0;36m_call_with_config\u001b[0;34m(self, func, input, config, run_type, serialized, **kwargs)\u001b[0m\n\u001b[1;32m   1920\u001b[0m             output = cast(\n\u001b[1;32m   1921\u001b[0m                 \u001b[0mOutput\u001b[0m\u001b[0;34m,\u001b[0m\u001b[0;34m\u001b[0m\u001b[0;34m\u001b[0m\u001b[0m\n\u001b[0;32m-> 1922\u001b[0;31m                 context.run(\n\u001b[0m\u001b[1;32m   1923\u001b[0m                     \u001b[0mcall_func_with_variable_args\u001b[0m\u001b[0;34m,\u001b[0m  \u001b[0;31m# type: ignore[arg-type]\u001b[0m\u001b[0;34m\u001b[0m\u001b[0;34m\u001b[0m\u001b[0m\n\u001b[1;32m   1924\u001b[0m                     \u001b[0mfunc\u001b[0m\u001b[0;34m,\u001b[0m  \u001b[0;31m# type: ignore[arg-type]\u001b[0m\u001b[0;34m\u001b[0m\u001b[0;34m\u001b[0m\u001b[0m\n",
            "\u001b[0;32m/usr/local/lib/python3.11/dist-packages/langchain_core/runnables/config.py\u001b[0m in \u001b[0;36mcall_func_with_variable_args\u001b[0;34m(func, input, config, run_manager, **kwargs)\u001b[0m\n\u001b[1;32m    394\u001b[0m     \u001b[0;32mif\u001b[0m \u001b[0mrun_manager\u001b[0m \u001b[0;32mis\u001b[0m \u001b[0;32mnot\u001b[0m \u001b[0;32mNone\u001b[0m \u001b[0;32mand\u001b[0m \u001b[0maccepts_run_manager\u001b[0m\u001b[0;34m(\u001b[0m\u001b[0mfunc\u001b[0m\u001b[0;34m)\u001b[0m\u001b[0;34m:\u001b[0m\u001b[0;34m\u001b[0m\u001b[0;34m\u001b[0m\u001b[0m\n\u001b[1;32m    395\u001b[0m         \u001b[0mkwargs\u001b[0m\u001b[0;34m[\u001b[0m\u001b[0;34m\"run_manager\"\u001b[0m\u001b[0;34m]\u001b[0m \u001b[0;34m=\u001b[0m \u001b[0mrun_manager\u001b[0m\u001b[0;34m\u001b[0m\u001b[0;34m\u001b[0m\u001b[0m\n\u001b[0;32m--> 396\u001b[0;31m     \u001b[0;32mreturn\u001b[0m \u001b[0mfunc\u001b[0m\u001b[0;34m(\u001b[0m\u001b[0minput\u001b[0m\u001b[0;34m,\u001b[0m \u001b[0;34m**\u001b[0m\u001b[0mkwargs\u001b[0m\u001b[0;34m)\u001b[0m  \u001b[0;31m# type: ignore[call-arg]\u001b[0m\u001b[0;34m\u001b[0m\u001b[0;34m\u001b[0m\u001b[0m\n\u001b[0m\u001b[1;32m    397\u001b[0m \u001b[0;34m\u001b[0m\u001b[0m\n\u001b[1;32m    398\u001b[0m \u001b[0;34m\u001b[0m\u001b[0m\n",
            "\u001b[0;32m/usr/local/lib/python3.11/dist-packages/langchain_core/runnables/base.py\u001b[0m in \u001b[0;36m_invoke\u001b[0;34m(self, input, run_manager, config, **kwargs)\u001b[0m\n\u001b[1;32m   4573\u001b[0m                         \u001b[0moutput\u001b[0m \u001b[0;34m=\u001b[0m \u001b[0mchunk\u001b[0m\u001b[0;34m\u001b[0m\u001b[0;34m\u001b[0m\u001b[0m\n\u001b[1;32m   4574\u001b[0m         \u001b[0;32melse\u001b[0m\u001b[0;34m:\u001b[0m\u001b[0;34m\u001b[0m\u001b[0;34m\u001b[0m\u001b[0m\n\u001b[0;32m-> 4575\u001b[0;31m             output = call_func_with_variable_args(\n\u001b[0m\u001b[1;32m   4576\u001b[0m                 \u001b[0mself\u001b[0m\u001b[0;34m.\u001b[0m\u001b[0mfunc\u001b[0m\u001b[0;34m,\u001b[0m \u001b[0minput\u001b[0m\u001b[0;34m,\u001b[0m \u001b[0mconfig\u001b[0m\u001b[0;34m,\u001b[0m \u001b[0mrun_manager\u001b[0m\u001b[0;34m,\u001b[0m \u001b[0;34m**\u001b[0m\u001b[0mkwargs\u001b[0m\u001b[0;34m\u001b[0m\u001b[0;34m\u001b[0m\u001b[0m\n\u001b[1;32m   4577\u001b[0m             )\n",
            "\u001b[0;32m/usr/local/lib/python3.11/dist-packages/langchain_core/runnables/config.py\u001b[0m in \u001b[0;36mcall_func_with_variable_args\u001b[0;34m(func, input, config, run_manager, **kwargs)\u001b[0m\n\u001b[1;32m    394\u001b[0m     \u001b[0;32mif\u001b[0m \u001b[0mrun_manager\u001b[0m \u001b[0;32mis\u001b[0m \u001b[0;32mnot\u001b[0m \u001b[0;32mNone\u001b[0m \u001b[0;32mand\u001b[0m \u001b[0maccepts_run_manager\u001b[0m\u001b[0;34m(\u001b[0m\u001b[0mfunc\u001b[0m\u001b[0;34m)\u001b[0m\u001b[0;34m:\u001b[0m\u001b[0;34m\u001b[0m\u001b[0;34m\u001b[0m\u001b[0m\n\u001b[1;32m    395\u001b[0m         \u001b[0mkwargs\u001b[0m\u001b[0;34m[\u001b[0m\u001b[0;34m\"run_manager\"\u001b[0m\u001b[0;34m]\u001b[0m \u001b[0;34m=\u001b[0m \u001b[0mrun_manager\u001b[0m\u001b[0;34m\u001b[0m\u001b[0;34m\u001b[0m\u001b[0m\n\u001b[0;32m--> 396\u001b[0;31m     \u001b[0;32mreturn\u001b[0m \u001b[0mfunc\u001b[0m\u001b[0;34m(\u001b[0m\u001b[0minput\u001b[0m\u001b[0;34m,\u001b[0m \u001b[0;34m**\u001b[0m\u001b[0mkwargs\u001b[0m\u001b[0;34m)\u001b[0m  \u001b[0;31m# type: ignore[call-arg]\u001b[0m\u001b[0;34m\u001b[0m\u001b[0;34m\u001b[0m\u001b[0m\n\u001b[0m\u001b[1;32m    397\u001b[0m \u001b[0;34m\u001b[0m\u001b[0m\n\u001b[1;32m    398\u001b[0m \u001b[0;34m\u001b[0m\u001b[0m\n",
            "\u001b[0;32m<ipython-input-142-0e86f45f3a5f>\u001b[0m in \u001b[0;36m<lambda>\u001b[0;34m(x)\u001b[0m\n\u001b[1;32m     16\u001b[0m chain = (RunnableParallel(\n\u001b[1;32m     17\u001b[0m     {\"context\": itemgetter(\"question\") | retriever,\n\u001b[0;32m---> 18\u001b[0;31m      'question': RunnablePassthrough(),\"chat_history\": lambda x: x['chat_history']}\n\u001b[0m\u001b[1;32m     19\u001b[0m     ) | prompt | llm.with_config(temprature=0.2) | StrOutputParser())\n",
            "\u001b[0;31mKeyError\u001b[0m: 'chat_history'"
          ]
        }
      ]
    },
    {
      "cell_type": "code",
      "source": [],
      "metadata": {
        "id": "8R-c_HS2TM-2"
      },
      "execution_count": null,
      "outputs": []
    },
    {
      "cell_type": "code",
      "source": [
        "from re import search\n",
        "run = itemgetter(\"question\") | db.as_retriever(search_kwargs={\"k\": 2})\n",
        "run.invoke({'question': query,})"
      ],
      "metadata": {
        "id": "jahWtZy_TCyZ"
      },
      "execution_count": null,
      "outputs": []
    },
    {
      "cell_type": "code",
      "execution_count": null,
      "metadata": {
        "id": "_uER_SsPFAtO"
      },
      "outputs": [],
      "source": [
        "# j = 1\n",
        "# queries = [\n",
        "#     \"What is the primary cause of aster yellows-phytoplasma in plants?\",\n",
        "#     'Which plants are commonly affected by aster yellows phytoplasma?',\n",
        "#     'How does aster yellows-phytoplasma spread from plant to plant?',\n",
        "#     'Are there any specific symptoms or signs that indicate the presence of aster yellows-phytoplasma in plants?',\n",
        "#          ' What are the potential economic impacts of aster yellows-phytoplasma on crop yields?',\n",
        "#            'what are the recommended control measures for managing aster yellows-phytoplasma in affected crops?'\n",
        "# ]\n",
        "# query  = queries[j]\n",
        "# chain.invoke({'question': query,})"
      ]
    },
    {
      "cell_type": "code",
      "execution_count": null,
      "metadata": {
        "id": "-zn632msp4XY"
      },
      "outputs": [],
      "source": [
        "llm.invoke([SystemMessage('you are a helpful assistant'), HumanMessage(query)])"
      ]
    },
    {
      "cell_type": "code",
      "execution_count": null,
      "metadata": {
        "id": "CtnfXdr8FYkm"
      },
      "outputs": [],
      "source": [
        "\n",
        "prompt = ChatPromptTemplate.from_messages(\n",
        "    [\n",
        "        (\n",
        "            \"system\",\n",
        "            \"You are a helpful assistant who answers only based on its {context}\",\n",
        "        ),\n",
        "        MessagesPlaceholder(variable_name=\"chat_history\"),\n",
        "        (\"user\", \"{question}\"),\n",
        "    ]\n",
        ")\n",
        "\n",
        "chain = (RunnableParallel(\n",
        "    {\"context\": itemgetter(\"question\") | retriever,\n",
        "     'question': RunnablePassthrough(),\"chat_history\": lambda x: x['chat_history']}\n",
        "    ) | prompt | {'out_put': llm.with_config(temprature=0.2) | StrOutputParser()})\n",
        "# chain = (RunnableParallel(\n",
        "#     {\"context\": itemgetter(\"question\") | retriever,\n",
        "#      'question': RunnablePassthrough(),\"chat_history\": lambda x: x['chat_history']}\n",
        "#     ) | prompt | llm.with_config(temprature=1.0) | StrOutputParser())\n"
      ]
    },
    {
      "cell_type": "code",
      "source": [
        "chat_history = []"
      ],
      "metadata": {
        "id": "7aeX6j0pdm11"
      },
      "execution_count": null,
      "outputs": []
    },
    {
      "cell_type": "code",
      "source": [
        "query  = queries[j]\n",
        "print('query is:', query)\n",
        "response = chain.invoke({'question': query, 'chat_history':chat_history})\n",
        "print('response is:', response)"
      ],
      "metadata": {
        "colab": {
          "base_uri": "https://localhost:8080/"
        },
        "id": "CCpBRYUmdObm",
        "outputId": "10bcb8b1-060f-4de4-c56b-48c743278b59"
      },
      "execution_count": null,
      "outputs": [
        {
          "output_type": "stream",
          "name": "stdout",
          "text": [
            "query is: What were the main motivations behind Paul Graham's switch from studying philosophy to AI in college?\n",
            "response is: {'out_put': \"Paul Graham's main motivations for switching from studying philosophy to AI in college included his realization that philosophy courses were often boring and did not engage him as he had hoped. Initially, he was drawn to philosophy because he believed it dealt with ultimate truths, but upon attending college, he found that other fields occupied most of the intellectual space, leaving philosophy with only edge cases. This disillusionment with philosophy led him to pursue AI instead, where he found more interest and engagement.\"}\n"
          ]
        }
      ]
    },
    {
      "cell_type": "code",
      "execution_count": null,
      "metadata": {
        "id": "xr_1lrTCHXQd"
      },
      "outputs": [],
      "source": [
        "from langchain.callbacks import get_openai_callback\n",
        "with get_openai_callback() as cb:\n",
        "  chain.invoke({'question':query, 'chat_history':[]})"
      ]
    },
    {
      "cell_type": "code",
      "execution_count": null,
      "metadata": {
        "id": "lzpFKXoaccgb"
      },
      "outputs": [],
      "source": [
        "print(cb)"
      ]
    },
    {
      "cell_type": "code",
      "execution_count": null,
      "metadata": {
        "id": "raTqdFsBOhuk"
      },
      "outputs": [],
      "source": [
        "from operator import itemgetter\n",
        "from langchain_core.runnables import RunnableParallel, RunnablePassthrough\n",
        "retrieval_chain = prompt | llm | StrOutputParser()\n",
        "from langchain.agents import AgentExecutor, OpenAIFunctionsAgent\n",
        "from langchain.tools.retriever import create_retriever_tool\n",
        "retriever_tool = create_retriever_tool(\n",
        "    db.as_retriever(), \"palntix\", \"Search for palnts diseases\"\n",
        ")"
      ]
    },
    {
      "cell_type": "code",
      "execution_count": null,
      "metadata": {
        "id": "tXZh9WbDPi6J",
        "colab": {
          "base_uri": "https://localhost:8080/"
        },
        "outputId": "45486854-fc34-4245-ac64-14c6b2f6e67b"
      },
      "outputs": [
        {
          "output_type": "stream",
          "name": "stderr",
          "text": [
            "<ipython-input-159-4e253f19e035>:12: LangChainDeprecationWarning: The class `OpenAIFunctionsAgent` was deprecated in LangChain 0.1.0 and will be removed in 1.0. Use :meth:`~create_openai_functions_agent` instead.\n",
            "  agent = OpenAIFunctionsAgent(\n"
          ]
        }
      ],
      "source": [
        "tools = [retriever_tool]\n",
        "prompt = ChatPromptTemplate.from_messages(\n",
        "    [\n",
        "        (\n",
        "            \"system\",\n",
        "            \"You are a helpful assistant who helps farmers\",\n",
        "        ),\n",
        "        MessagesPlaceholder(variable_name=\"agent_scratchpad\"),\n",
        "        (\"user\", \"{input}\"),\n",
        "    ]\n",
        ")\n",
        "agent = create_openai_functions_agent(\n",
        "    llm=llm, prompt=prompt, tools=tools\n",
        ")\n",
        "agent_executor = AgentExecutor(\n",
        "    agent=agent, tools=tools, max_iterations=5, early_stopping_method=\"generate\"\n",
        ") | (lambda x: x[\"output\"])"
      ]
    },
    {
      "cell_type": "code",
      "execution_count": null,
      "metadata": {
        "id": "FNlGAtNPabOO"
      },
      "outputs": [],
      "source": []
    },
    {
      "cell_type": "code",
      "execution_count": null,
      "metadata": {
        "id": "SiXu_NE0RGUS"
      },
      "outputs": [],
      "source": [
        "agent_executor.invoke({'input':query, 'chat_history':[]})"
      ]
    },
    {
      "cell_type": "code",
      "execution_count": null,
      "metadata": {
        "id": "8EIlzW4cQcIj"
      },
      "outputs": [],
      "source": [
        "dir(agent_executor)"
      ]
    },
    {
      "cell_type": "code",
      "source": [
        "from langchain.document_loaders import AsyncHtmlLoader\n",
        "import pandas as pd\n",
        "# df = pd.read_excel('/content/urls.xlsx')\n",
        "# urls = df['url'].values.tolist()\n",
        "# urls[:5]\n",
        "urls = ['https://plantix.net/en/library/plant-diseases/100323/anthracnose/',\n",
        " 'https://plantix.net/en/library/plant-diseases/500008/yellow-vine-mite/',\n",
        " 'https://plantix.net/en/library/plant-diseases/100348/ring-spot-of-sugarcane/',\n",
        " 'https://plantix.net/en/library/plant-diseases/100213/lentil-rust/',\n",
        " 'https://plantix.net/en/library/plant-diseases/800049/physiological-leaf-spot/']\n",
        " loader = AsyncHtmlLoader(urls[:5])\n",
        "docs = loader.load()\n",
        "from langchain_community.document_transformers import BeautifulSoupTransformer\n",
        "tags = [\"p\", \"li\", 'div']\n",
        "html = docs[0].page_content\n",
        "bs_transformer = BeautifulSoupTransformer()\n",
        "docs_transformed = bs_transformer.transform_documents(\n",
        "    docs, tags_to_extract=tags\n",
        ")\n",
        "from langchain.text_splitter import RecursiveCharacterTextSplitter\n",
        "text_splitter = RecursiveCharacterTextSplitter(chunk_size=2000, chunk_overlap=20)\n",
        "\n",
        "text_chunks = text_splitter.split_documents(docs_transformed)\n",
        "\n",
        "from langchain.vectorstores import FAISS\n",
        "vs = FAISS.from_documents(text_chunks, embedding)\n",
        "vs = FAISS.load_local('/content/drive/MyDrive/plantix/plantix_faiss', embedding)\n",
        "vs.similarity_search('aster yellows phytoplasma', k=3)"
      ],
      "metadata": {
        "id": "ONj3EdPi_Jho"
      },
      "execution_count": null,
      "outputs": []
    }
  ],
  "metadata": {
    "colab": {
      "provenance": []
    },
    "kernelspec": {
      "display_name": "Python 3",
      "name": "python3"
    },
    "language_info": {
      "name": "python"
    }
  },
  "nbformat": 4,
  "nbformat_minor": 0
}