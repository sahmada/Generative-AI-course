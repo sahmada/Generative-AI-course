{
  "cells": [
    {
      "cell_type": "markdown",
      "id": "b0a10911",
      "metadata": {
        "id": "b0a10911"
      },
      "source": [
        "# Python Dictionaries - Teaching Notes"
      ]
    },
    {
      "cell_type": "markdown",
      "id": "b42eb89c",
      "metadata": {
        "id": "b42eb89c"
      },
      "source": [
        "## 1. Definition\n",
        "- A **dictionary** is a mutable collection of key-value pairs in Python.\n",
        "- Keys must be unique and immutable (e.g., strings, numbers, or tuples).\n",
        "- Values can be of any data type and are mutable."
      ]
    },
    {
      "cell_type": "code",
      "source": [
        "my_dict = {\n",
        "    'name': 'Alice',\n",
        "    'age': 25,\n",
        "    'city': 'New York'\n",
        "}"
      ],
      "metadata": {
        "id": "PXDj4Ikj40st"
      },
      "id": "PXDj4Ikj40st",
      "execution_count": null,
      "outputs": []
    },
    {
      "cell_type": "code",
      "source": [
        "person = {'name': 'Alice', 'age': 25}\n",
        "\n",
        "person['city'] = 'New York'  # Adding a new key-value pair\n",
        "person['age'] = 30          # Updating an existing value\n",
        "print(person)\n",
        "# Output: {'name': 'Alice', 'age': 30, 'city': 'New York'}"
      ],
      "metadata": {
        "colab": {
          "base_uri": "https://localhost:8080/"
        },
        "id": "PqK9GW1D46aW",
        "outputId": "5b813675-5d5d-4500-a67f-e99e0f9e9958"
      },
      "id": "PqK9GW1D46aW",
      "execution_count": null,
      "outputs": [
        {
          "output_type": "stream",
          "name": "stdout",
          "text": [
            "{'name': 'Alice', 'age': 30, 'city': 'New York'}\n"
          ]
        }
      ]
    },
    {
      "cell_type": "code",
      "source": [
        "person.update({'age': 15})"
      ],
      "metadata": {
        "id": "OdgbIMOW5buD"
      },
      "id": "OdgbIMOW5buD",
      "execution_count": null,
      "outputs": []
    },
    {
      "cell_type": "code",
      "source": [
        "person"
      ],
      "metadata": {
        "colab": {
          "base_uri": "https://localhost:8080/"
        },
        "id": "QDiXuSXo6lfA",
        "outputId": "193c1ef2-09e5-41da-819a-78170bdb7570"
      },
      "id": "QDiXuSXo6lfA",
      "execution_count": null,
      "outputs": [
        {
          "output_type": "execute_result",
          "data": {
            "text/plain": [
              "{'name': 'Alice', 'age': 15, 'city': 'New York', 'field': 'Computer Science'}"
            ]
          },
          "metadata": {},
          "execution_count": 21
        }
      ]
    },
    {
      "cell_type": "code",
      "source": [
        "for key in person.keys():\n",
        "    print(key)"
      ],
      "metadata": {
        "colab": {
          "base_uri": "https://localhost:8080/"
        },
        "id": "NoCOMcyF6xfq",
        "outputId": "6972c855-2692-4caf-8865-c29089f4937b"
      },
      "id": "NoCOMcyF6xfq",
      "execution_count": null,
      "outputs": [
        {
          "output_type": "stream",
          "name": "stdout",
          "text": [
            "name\n",
            "age\n",
            "city\n",
            "field\n"
          ]
        }
      ]
    },
    {
      "cell_type": "code",
      "source": [
        "squares = {str(x): x**2 for x in range(5)}\n",
        "[x**2 for x in range(5)]\n",
        "print(squares)  # Output: {0: 0, 1: 1, 2: 4, 3: 9, 4: 16}\n"
      ],
      "metadata": {
        "colab": {
          "base_uri": "https://localhost:8080/"
        },
        "id": "K53qOVBM7DLz",
        "outputId": "c719f10d-7f4e-4ac9-8126-13f001481185"
      },
      "id": "K53qOVBM7DLz",
      "execution_count": null,
      "outputs": [
        {
          "output_type": "stream",
          "name": "stdout",
          "text": [
            "{'0': 0, '1': 1, '2': 4, '3': 9, '4': 16}\n"
          ]
        }
      ]
    },
    {
      "cell_type": "markdown",
      "id": "ffda5099",
      "metadata": {
        "id": "ffda5099"
      },
      "source": [
        "## 2. Syntax\n",
        "```python\n",
        "# Creating a dictionary\n",
        "my_dict = {\n",
        "    'name': 'Alice',\n",
        "    'age': 25,\n",
        "    'city': 'New York'\n",
        "}\n",
        "```"
      ]
    },
    {
      "cell_type": "markdown",
      "id": "183cf5bd",
      "metadata": {
        "id": "183cf5bd"
      },
      "source": [
        "## 3. Accessing and Modifying Data\n",
        "**Accessing Values**\n",
        "```python\n",
        "person = {'name': 'Alice', 'age': 25}\n",
        "print(person['name'])  # Output: 'Alice'\n",
        "```\n",
        "\n",
        "**Adding/Updating Key-Value Pairs**\n",
        "```python\n",
        "person['city'] = 'New York'  # Adding a new key-value pair\n",
        "person['age'] = 30          # Updating an existing value\n",
        "print(person)\n",
        "# Output: {'name': 'Alice', 'age': 30, 'city': 'New York'}\n",
        "```\n",
        "\n",
        "**Removing Key-Value Pairs**\n",
        "```python\n",
        "del person['age']  # Deletes the key 'age'\n",
        "print(person)\n",
        "# Output: {'name': 'Alice', 'city': 'New York'}\n",
        "```"
      ]
    },
    {
      "cell_type": "markdown",
      "id": "b6b42ed2",
      "metadata": {
        "id": "b6b42ed2"
      },
      "source": [
        "## 4. Dictionary Methods\n",
        "| Method           | Description                                       | Example                                      | Output                                    |\n",
        "|------------------|---------------------------------------------------|----------------------------------------------|------------------------------------------|\n",
        "| `get(key)`       | Returns the value for the key, or `None` if not found | `person.get('name')`                         | `'Alice'`                                |\n",
        "| `keys()`         | Returns a view object of all keys                 | `person.keys()`                              | `dict_keys(['name', 'city'])`            |\n",
        "| `values()`       | Returns a view object of all values               | `person.values()`                            | `dict_values(['Alice', 'New York'])`     |\n",
        "| `items()`        | Returns a view object of all key-value pairs      | `person.items()`                             | `dict_items([('name', 'Alice'), ('city', 'New York')])` |\n",
        "| `pop(key)`       | Removes the specified key and returns its value   | `person.pop('city')`                         | `'New York'`                             |\n",
        "| `update(other)`  | Updates the dictionary with key-value pairs from another dictionary | `person.update({'age': 30})` | `{'name': 'Alice', 'age': 30}`           |"
      ]
    },
    {
      "cell_type": "markdown",
      "id": "5dc34a75",
      "metadata": {
        "id": "5dc34a75"
      },
      "source": [
        "## 5. Looping Through a Dictionary\n",
        "```python\n",
        "person = {'name': 'Alice', 'age': 25, 'city': 'New York'}\n",
        "\n",
        "# Loop through keys\n",
        "for key in person:\n",
        "    print(key)\n",
        "\n",
        "# Loop through values\n",
        "for value in person.values():\n",
        "    print(value)\n",
        "\n",
        "# Loop through key-value pairs\n",
        "for key, value in person.items():\n",
        "    print(f\"{key}: {value}\")\n",
        "```"
      ]
    },
    {
      "cell_type": "markdown",
      "id": "bb2c1fe3",
      "metadata": {
        "id": "bb2c1fe3"
      },
      "source": [
        "## 6. Nested Dictionaries\n",
        "Dictionaries can contain other dictionaries as values.\n",
        "```python\n",
        "students = {\n",
        "    'Alice': {'age': 25, 'city': 'New York'},\n",
        "    'Bob': {'age': 30, 'city': 'Los Angeles'}\n",
        "}\n",
        "\n",
        "# Accessing nested values\n",
        "print(students['Alice']['age'])  # Output: 25\n",
        "```"
      ]
    },
    {
      "cell_type": "markdown",
      "id": "610ed817",
      "metadata": {
        "id": "610ed817"
      },
      "source": [
        "## 7. Dictionary Comprehension\n",
        "A concise way to create dictionaries.\n",
        "```python\n",
        "squares = {x: x**2 for x in range(5)}\n",
        "print(squares)  # Output: {0: 0, 1: 1, 2: 4, 3: 9, 4: 16}\n",
        "```"
      ]
    },
    {
      "cell_type": "markdown",
      "id": "ede656e7",
      "metadata": {
        "id": "ede656e7"
      },
      "source": [
        "## 8. Common Mistakes\n",
        "1. **Accessing a Non-Existent Key**:\n",
        "   ```python\n",
        "   person = {'name': 'Alice'}\n",
        "   print(person['age'])  # KeyError: 'age'\n",
        "   ```\n",
        "   **Solution**: Use `get()` to handle missing keys.\n",
        "   ```python\n",
        "   print(person.get('age', 'Key not found'))  # Output: 'Key not found'\n",
        "   ```\n",
        "\n",
        "2. **Mutable Default Arguments**:\n",
        "   ```python\n",
        "   def add_student(students={}):\n",
        "       students['new'] = 'student'\n",
        "       return students\n",
        "\n",
        "   print(add_student())  # {'new': 'student'}\n",
        "   print(add_student())  # {'new': 'student', 'new': 'student'} (unexpected behavior)\n",
        "   ```\n",
        "   **Solution**: Use `None` as the default value.\n",
        "   ```python\n",
        "   def add_student(students=None):\n",
        "       if students is None:\n",
        "           students = {}\n",
        "       students['new'] = 'student'\n",
        "       return students\n",
        "   ```"
      ]
    },
    {
      "cell_type": "markdown",
      "id": "0b923516",
      "metadata": {
        "id": "0b923516"
      },
      "source": [
        "## 9. Example Exercises\n",
        "1. Create a dictionary to store details about a book (title, author, year). Add a new key for the genre and update the year.\n",
        "2. Write a function that takes a dictionary of student names and their scores, and returns the name of the student with the highest score.\n",
        "3. Write a program to merge two dictionaries.\n",
        "4. Use dictionary comprehension to create a dictionary mapping numbers from 1 to 5 to their cubes.\n",
        "5. Create a nested dictionary representing employees with their names as keys and another dictionary as the value containing their department and salary.\n"
      ]
    }
  ],
  "metadata": {
    "colab": {
      "provenance": []
    },
    "language_info": {
      "name": "python"
    },
    "kernelspec": {
      "name": "python3",
      "display_name": "Python 3"
    }
  },
  "nbformat": 4,
  "nbformat_minor": 5
}