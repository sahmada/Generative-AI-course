{
  "cells": [
    {
      "cell_type": "markdown",
      "id": "c00de842",
      "metadata": {
        "id": "c00de842"
      },
      "source": [
        "# Python Numbers - Teaching Notes"
      ]
    },
    {
      "cell_type": "markdown",
      "id": "4ac6be7a",
      "metadata": {
        "id": "4ac6be7a"
      },
      "source": [
        "## 1. Definition\n",
        "- A **number** in Python is used to store numeric values.\n",
        "- Python supports multiple types of numbers:\n",
        "  - **Integers (`int`)**: Whole numbers, positive or negative.\n",
        "  - **Floating-point numbers (`float`)**: Numbers with decimal points.\n",
        "  - **Complex numbers (`complex`)**: Numbers with real and imaginary parts."
      ]
    },
    {
      "cell_type": "markdown",
      "id": "c59b4a47",
      "metadata": {
        "id": "c59b4a47"
      },
      "source": [
        "## 2. Number Types\n",
        "| Type        | Example        | Description                            |\n",
        "|-------------|----------------|----------------------------------------|\n",
        "| `int`       | `10, -5, 1000` | Whole numbers.                        |\n",
        "| `float`     | `3.14, -2.7`   | Numbers with decimals.                |\n",
        "| `complex`   | `3+5j, -2-4j`  | Numbers with real and imaginary parts.|"
      ]
    },
    {
      "cell_type": "code",
      "source": [
        "num = 10\n",
        "print(type(num))"
      ],
      "metadata": {
        "colab": {
          "base_uri": "https://localhost:8080/"
        },
        "id": "dELs3hI-9PIE",
        "outputId": "e33996f2-4dac-4558-d9c5-e9fcce831085"
      },
      "id": "dELs3hI-9PIE",
      "execution_count": null,
      "outputs": [
        {
          "output_type": "stream",
          "name": "stdout",
          "text": [
            "<class 'int'>\n"
          ]
        }
      ]
    },
    {
      "cell_type": "code",
      "source": [
        "num = 3+5j\n",
        "print(type(num))"
      ],
      "metadata": {
        "colab": {
          "base_uri": "https://localhost:8080/"
        },
        "id": "xua68gjewphz",
        "outputId": "98f87d65-9fa4-4adb-fe63-88f5fadbbb87"
      },
      "id": "xua68gjewphz",
      "execution_count": null,
      "outputs": [
        {
          "output_type": "stream",
          "name": "stdout",
          "text": [
            "<class 'complex'>\n"
          ]
        }
      ]
    },
    {
      "cell_type": "markdown",
      "id": "0b1246a5",
      "metadata": {
        "id": "0b1246a5"
      },
      "source": [
        "## 3. Arithmetic Operations\n",
        "Python supports basic arithmetic operations:\n",
        "```python\n",
        "# Examples of arithmetic operations\n",
        "print(5 + 3)   # Addition: 8\n",
        "print(10 - 4)  # Subtraction: 6\n",
        "print(2 * 3)   # Multiplication: 6\n",
        "print(15 / 3)  # Division: 5.0\n",
        "print(15 // 2) # Floor Division: 7\n",
        "print(15 % 4)  # Modulus (Remainder): 3\n",
        "print(2 ** 3)  # Exponentiation: 8\n",
        "```"
      ]
    },
    {
      "cell_type": "code",
      "source": [
        "print(16 // 3)"
      ],
      "metadata": {
        "colab": {
          "base_uri": "https://localhost:8080/"
        },
        "id": "grVHgUSD9ZcD",
        "outputId": "f4d01182-548f-463b-8b3e-220666725a46"
      },
      "id": "grVHgUSD9ZcD",
      "execution_count": null,
      "outputs": [
        {
          "output_type": "stream",
          "name": "stdout",
          "text": [
            "5\n"
          ]
        }
      ]
    },
    {
      "cell_type": "code",
      "source": [
        "print(25 % 10)\n",
        "print(2 ** 3)"
      ],
      "metadata": {
        "colab": {
          "base_uri": "https://localhost:8080/"
        },
        "id": "K6HyAfcrw8m1",
        "outputId": "61c2be51-b832-4313-ae17-809d61ba5f06"
      },
      "id": "K6HyAfcrw8m1",
      "execution_count": null,
      "outputs": [
        {
          "output_type": "stream",
          "name": "stdout",
          "text": [
            "5\n",
            "8\n"
          ]
        }
      ]
    },
    {
      "cell_type": "markdown",
      "id": "ea4fe2b2",
      "metadata": {
        "id": "ea4fe2b2"
      },
      "source": [
        "## 4. Type Conversion\n",
        "Numbers can be converted between types using typecasting functions:\n",
        "```python\n",
        "x = 10    # int\n",
        "y = 3.14  # float\n",
        "\n",
        "# Converting to different types\n",
        "a = float(x)    # Converts int to float\n",
        "b = int(y)      # Converts float to int (truncates decimal part)\n",
        "\n",
        "print(a, b)  # Output: 10.0, 3\n",
        "```"
      ]
    },
    {
      "cell_type": "code",
      "source": [
        "x = 10\n",
        "y = float(10)\n",
        "print(y)\n",
        "\n",
        "print(int(3.94))"
      ],
      "metadata": {
        "colab": {
          "base_uri": "https://localhost:8080/"
        },
        "id": "HXNTUu-CxO1W",
        "outputId": "51314387-14e4-49a2-a9ae-ccd46cab5f68"
      },
      "id": "HXNTUu-CxO1W",
      "execution_count": null,
      "outputs": [
        {
          "output_type": "stream",
          "name": "stdout",
          "text": [
            "10.0\n",
            "3\n"
          ]
        }
      ]
    },
    {
      "cell_type": "markdown",
      "id": "b0bdd41b",
      "metadata": {
        "id": "b0bdd41b"
      },
      "source": [
        "## 5. Built-in Functions\n",
        "Python provides several functions for working with numbers:\n",
        "| Function       | Description                              | Example          | Output |\n",
        "|----------------|------------------------------------------|------------------|--------|\n",
        "| `abs(x)`       | Returns absolute value of `x`           | `abs(-10)`       | `10`   |\n",
        "| `round(x, n)`  | Rounds `x` to `n` decimal places        | `round(3.1415, 2)` | `3.14` |\n",
        "| `pow(x, y)`    | Returns `x` raised to the power of `y`  | `pow(2, 3)`      | `8`    |\n",
        "| `max(a, b, ...)` | Returns the maximum value             | `max(1, 5, 3)`   | `5`    |\n",
        "| `min(a, b, ...)` | Returns the minimum value             | `min(1, 5, 3)`   | `1`    |"
      ]
    },
    {
      "cell_type": "code",
      "source": [
        "abs(-10)\n",
        "round(3.1415, 3)\n",
        "pow(2, 10)\n",
        "max(1, 5, 3)\n",
        "min(1, 5, 3)"
      ],
      "metadata": {
        "colab": {
          "base_uri": "https://localhost:8080/"
        },
        "id": "I0CANJ42XRvP",
        "outputId": "18fae449-0fa1-404c-c79b-3f2db92a4875"
      },
      "id": "I0CANJ42XRvP",
      "execution_count": null,
      "outputs": [
        {
          "output_type": "execute_result",
          "data": {
            "text/plain": [
              "1"
            ]
          },
          "metadata": {},
          "execution_count": 16
        }
      ]
    },
    {
      "cell_type": "code",
      "source": [
        "round(3.1415, 1)\n"
      ],
      "metadata": {
        "id": "3xMCAhdUXTZM",
        "outputId": "a9b76181-88d7-4301-a821-5689f99040a1",
        "colab": {
          "base_uri": "https://localhost:8080/"
        }
      },
      "id": "3xMCAhdUXTZM",
      "execution_count": null,
      "outputs": [
        {
          "output_type": "execute_result",
          "data": {
            "text/plain": [
              "3.1"
            ]
          },
          "metadata": {},
          "execution_count": 12
        }
      ]
    },
    {
      "cell_type": "code",
      "source": [
        "pow(2, 10)\n"
      ],
      "metadata": {
        "id": "bbpTzePt_6hq",
        "colab": {
          "base_uri": "https://localhost:8080/"
        },
        "outputId": "ccb31fb4-03e2-4610-f443-f53c4929a1a1"
      },
      "id": "bbpTzePt_6hq",
      "execution_count": null,
      "outputs": [
        {
          "output_type": "execute_result",
          "data": {
            "text/plain": [
              "1024"
            ]
          },
          "metadata": {},
          "execution_count": 14
        }
      ]
    },
    {
      "cell_type": "code",
      "source": [
        "min(1, -5, 3,500)\n"
      ],
      "metadata": {
        "colab": {
          "base_uri": "https://localhost:8080/"
        },
        "id": "_BonCZ1498mX",
        "outputId": "d7742946-3cdb-4762-8ed6-3146d397b1f1"
      },
      "id": "_BonCZ1498mX",
      "execution_count": null,
      "outputs": [
        {
          "output_type": "execute_result",
          "data": {
            "text/plain": [
              "-5"
            ]
          },
          "metadata": {},
          "execution_count": 17
        }
      ]
    },
    {
      "cell_type": "code",
      "source": [],
      "metadata": {
        "id": "9qysa2eP9-9r"
      },
      "id": "9qysa2eP9-9r",
      "execution_count": null,
      "outputs": []
    }
  ],
  "metadata": {
    "colab": {
      "provenance": []
    },
    "language_info": {
      "name": "python"
    },
    "kernelspec": {
      "name": "python3",
      "display_name": "Python 3"
    }
  },
  "nbformat": 4,
  "nbformat_minor": 5
}