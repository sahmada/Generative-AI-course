{
  "cells": [
    {
      "cell_type": "markdown",
      "id": "b0687f9c",
      "metadata": {
        "id": "b0687f9c"
      },
      "source": [
        "# Python Lists - Teaching Notes"
      ]
    },
    {
      "cell_type": "markdown",
      "id": "a45b370e",
      "metadata": {
        "id": "a45b370e"
      },
      "source": [
        "## 1. Definition\n",
        "- A **list** is a mutable, ordered collection of items in Python.\n",
        "- Items in a list can be of any data type (e.g., integers, strings, objects)."
      ]
    },
    {
      "cell_type": "code",
      "source": [
        "a = []"
      ],
      "metadata": {
        "id": "RdcyT7jaHTAm"
      },
      "id": "RdcyT7jaHTAm",
      "execution_count": null,
      "outputs": []
    },
    {
      "cell_type": "code",
      "source": [
        "my_list = [1, 2, 3, \"Python\", True, [5,6]]"
      ],
      "metadata": {
        "id": "fds3XFyuHXvd"
      },
      "id": "fds3XFyuHXvd",
      "execution_count": null,
      "outputs": []
    },
    {
      "cell_type": "markdown",
      "id": "2539ec5d",
      "metadata": {
        "id": "2539ec5d"
      },
      "source": [
        "## 2. Syntax\n",
        "```python\n",
        "# Creating a list\n",
        "my_list = [1, 2, 3, \"Python\", True]\n",
        "```"
      ]
    },
    {
      "cell_type": "code",
      "source": [
        "numbers = [10, 20, 30, 40]\n",
        "print(numbers[2:])   # Output: 10 (first element)\n",
        "# print(numbers[3])  # Output: 40 (last element)"
      ],
      "metadata": {
        "colab": {
          "base_uri": "https://localhost:8080/"
        },
        "id": "Pdd_AEYfHpxy",
        "outputId": "b9a83268-89d4-4b8d-e03a-05180ac9a837"
      },
      "id": "Pdd_AEYfHpxy",
      "execution_count": null,
      "outputs": [
        {
          "output_type": "stream",
          "name": "stdout",
          "text": [
            "[30, 40]\n"
          ]
        }
      ]
    },
    {
      "cell_type": "code",
      "source": [
        "numbers[0] = 600"
      ],
      "metadata": {
        "id": "Mw2KLYyXIGTV"
      },
      "id": "Mw2KLYyXIGTV",
      "execution_count": null,
      "outputs": []
    },
    {
      "cell_type": "code",
      "source": [
        "numbers.extend([900, 1200])\n",
        "\n",
        "print(numbers)\n",
        "# print(my_list)"
      ],
      "metadata": {
        "colab": {
          "base_uri": "https://localhost:8080/"
        },
        "id": "1eCSVVSXIIi-",
        "outputId": "14f65a09-dfb1-4346-f0dd-b92f9ff8ea2d"
      },
      "id": "1eCSVVSXIIi-",
      "execution_count": null,
      "outputs": [
        {
          "output_type": "stream",
          "name": "stdout",
          "text": [
            "[600, 20, 30, 40, 500, 500, [500, 600], 900, 1200]\n"
          ]
        }
      ]
    },
    {
      "cell_type": "code",
      "source": [
        "numbers.remove(500)"
      ],
      "metadata": {
        "id": "xcc8dKxWJDnR"
      },
      "id": "xcc8dKxWJDnR",
      "execution_count": null,
      "outputs": []
    },
    {
      "cell_type": "code",
      "source": [
        "numbers = [1, 5,2,5,3,4]"
      ],
      "metadata": {
        "id": "gyahm8r9JHTt"
      },
      "id": "gyahm8r9JHTt",
      "execution_count": null,
      "outputs": []
    },
    {
      "cell_type": "code",
      "source": [
        "numbers.remove(5)"
      ],
      "metadata": {
        "id": "0VamuXooJh3t"
      },
      "id": "0VamuXooJh3t",
      "execution_count": null,
      "outputs": []
    },
    {
      "cell_type": "code",
      "source": [
        "numbers"
      ],
      "metadata": {
        "colab": {
          "base_uri": "https://localhost:8080/"
        },
        "id": "Z83n0zQyJlBf",
        "outputId": "2fde2ae6-0591-4995-d003-f3f6ec860bcb"
      },
      "id": "Z83n0zQyJlBf",
      "execution_count": null,
      "outputs": [
        {
          "output_type": "execute_result",
          "data": {
            "text/plain": [
              "[1, 2, 5, 3, 4]"
            ]
          },
          "metadata": {},
          "execution_count": 23
        }
      ]
    },
    {
      "cell_type": "code",
      "source": [
        "numbers.pop(1)"
      ],
      "metadata": {
        "colab": {
          "base_uri": "https://localhost:8080/"
        },
        "id": "eWPU9dbsJwxE",
        "outputId": "fc8f07f3-bb3f-475c-968e-7d1778713d5f"
      },
      "id": "eWPU9dbsJwxE",
      "execution_count": null,
      "outputs": [
        {
          "output_type": "execute_result",
          "data": {
            "text/plain": [
              "2"
            ]
          },
          "metadata": {},
          "execution_count": 24
        }
      ]
    },
    {
      "cell_type": "code",
      "source": [],
      "metadata": {
        "id": "79n-yVmIJ8zA"
      },
      "id": "79n-yVmIJ8zA",
      "execution_count": null,
      "outputs": []
    },
    {
      "cell_type": "code",
      "source": [
        "numbers"
      ],
      "metadata": {
        "colab": {
          "base_uri": "https://localhost:8080/"
        },
        "id": "64hk5cnIKCyt",
        "outputId": "2ad3c5c1-73df-4da1-b489-b174992ab02b"
      },
      "id": "64hk5cnIKCyt",
      "execution_count": null,
      "outputs": [
        {
          "output_type": "execute_result",
          "data": {
            "text/plain": [
              "[1, 3, 4, 5]"
            ]
          },
          "metadata": {},
          "execution_count": 27
        }
      ]
    },
    {
      "cell_type": "code",
      "source": [
        "fruits = [\"apple\", \"banana\", \"cherry\"]\n",
        "fruits.reverse()"
      ],
      "metadata": {
        "id": "lUXZ0KyNKU3O"
      },
      "id": "lUXZ0KyNKU3O",
      "execution_count": null,
      "outputs": []
    },
    {
      "cell_type": "code",
      "source": [
        "fruits"
      ],
      "metadata": {
        "colab": {
          "base_uri": "https://localhost:8080/"
        },
        "id": "N2aWNIgTKXhf",
        "outputId": "6163eb55-dbbb-45f0-df84-2241402d34cb"
      },
      "id": "N2aWNIgTKXhf",
      "execution_count": null,
      "outputs": [
        {
          "output_type": "execute_result",
          "data": {
            "text/plain": [
              "['cherry', 'banana', 'apple']"
            ]
          },
          "metadata": {},
          "execution_count": 30
        }
      ]
    },
    {
      "cell_type": "code",
      "source": [
        "for i in range(len(fruits)):\n",
        "  print(fruits[i])"
      ],
      "metadata": {
        "colab": {
          "base_uri": "https://localhost:8080/"
        },
        "id": "wc2BmqFPKjlQ",
        "outputId": "a2a1c380-0366-4240-ce6e-562a42b6351e"
      },
      "id": "wc2BmqFPKjlQ",
      "execution_count": null,
      "outputs": [
        {
          "output_type": "stream",
          "name": "stdout",
          "text": [
            "cherry\n",
            "banana\n",
            "apple\n"
          ]
        }
      ]
    },
    {
      "cell_type": "code",
      "source": [
        "list1 = [1, 2, 3]\n",
        "list2 = [4, 5, 6]\n",
        "combined = list1 + list2\n",
        "print(combined)"
      ],
      "metadata": {
        "colab": {
          "base_uri": "https://localhost:8080/"
        },
        "id": "B4XgGwcxK83A",
        "outputId": "0d767703-082f-42d4-808d-6db8d58c03d4"
      },
      "id": "B4XgGwcxK83A",
      "execution_count": null,
      "outputs": [
        {
          "output_type": "stream",
          "name": "stdout",
          "text": [
            "[1, 2, 3, 4, 5, 6]\n"
          ]
        }
      ]
    },
    {
      "cell_type": "code",
      "source": [
        "# squares = [x**2 for x in range(5)]\n",
        "# print(squares)\n",
        "\n",
        "squares = []\n",
        "for x in range(5):\n",
        "  squares.append(x**2)\n",
        "print(squares)"
      ],
      "metadata": {
        "colab": {
          "base_uri": "https://localhost:8080/"
        },
        "id": "UyNQIqIELHOn",
        "outputId": "33b89b6a-32a4-4cb3-898e-598996e00042"
      },
      "id": "UyNQIqIELHOn",
      "execution_count": null,
      "outputs": [
        {
          "output_type": "stream",
          "name": "stdout",
          "text": [
            "[0, 1, 4, 9, 16]\n"
          ]
        }
      ]
    },
    {
      "cell_type": "code",
      "source": [
        "[i+5 for i in range(5)]"
      ],
      "metadata": {
        "colab": {
          "base_uri": "https://localhost:8080/"
        },
        "id": "sXurpuyHLVoC",
        "outputId": "39c1af93-5eb7-4cfa-ad82-39a0c6be5201"
      },
      "id": "sXurpuyHLVoC",
      "execution_count": null,
      "outputs": [
        {
          "output_type": "execute_result",
          "data": {
            "text/plain": [
              "[5, 6, 7, 8, 9]"
            ]
          },
          "metadata": {},
          "execution_count": 39
        }
      ]
    },
    {
      "cell_type": "code",
      "source": [
        "numbers = [1, 2, 3]\n",
        "numbers[1] = 20\n",
        "print(numbers)  # Output: [1, 20, 3]"
      ],
      "metadata": {
        "colab": {
          "base_uri": "https://localhost:8080/"
        },
        "id": "S-ijc1hBvHOt",
        "outputId": "95128798-ac4e-43b9-abb9-f4eb7656fd7e"
      },
      "id": "S-ijc1hBvHOt",
      "execution_count": null,
      "outputs": [
        {
          "output_type": "stream",
          "name": "stdout",
          "text": [
            "[1, 20, 3]\n"
          ]
        }
      ]
    },
    {
      "cell_type": "code",
      "source": [
        "numbers.extend([10, 90])\n",
        "print(numbers)  # Output: [1, 20, 3, 4]"
      ],
      "metadata": {
        "colab": {
          "base_uri": "https://localhost:8080/"
        },
        "id": "CBIADEYEvUaU",
        "outputId": "6ed79320-ca44-46ed-cf1e-d243fbf739ec"
      },
      "id": "CBIADEYEvUaU",
      "execution_count": null,
      "outputs": [
        {
          "output_type": "stream",
          "name": "stdout",
          "text": [
            "[1, 20, 3, 4, [4], 10, 90]\n"
          ]
        }
      ]
    },
    {
      "cell_type": "code",
      "source": [
        "numbers.pop(0)"
      ],
      "metadata": {
        "colab": {
          "base_uri": "https://localhost:8080/"
        },
        "id": "JSAYIHYRwGUx",
        "outputId": "8a992824-2081-4937-c598-f018716a935c"
      },
      "id": "JSAYIHYRwGUx",
      "execution_count": null,
      "outputs": [
        {
          "output_type": "execute_result",
          "data": {
            "text/plain": [
              "1"
            ]
          },
          "metadata": {},
          "execution_count": 9
        }
      ]
    },
    {
      "cell_type": "code",
      "source": [
        "numbers.remove( [4])"
      ],
      "metadata": {
        "id": "L32958XRwJNn"
      },
      "id": "L32958XRwJNn",
      "execution_count": null,
      "outputs": []
    },
    {
      "cell_type": "code",
      "source": [
        "numbers.sort()"
      ],
      "metadata": {
        "id": "ZKAKSE1dwaYC"
      },
      "id": "ZKAKSE1dwaYC",
      "execution_count": null,
      "outputs": []
    },
    {
      "cell_type": "code",
      "source": [
        "fruits = [\"apple\", \"banana\", \"cherry\"]\n",
        "fruits.reverse()"
      ],
      "metadata": {
        "id": "-kVkDYffwdAo"
      },
      "id": "-kVkDYffwdAo",
      "execution_count": null,
      "outputs": []
    },
    {
      "cell_type": "code",
      "source": [
        "fruits"
      ],
      "metadata": {
        "colab": {
          "base_uri": "https://localhost:8080/"
        },
        "id": "Jlhwjwb2wm7u",
        "outputId": "cf0bf6d0-a31e-4fa9-e621-13507b266d48"
      },
      "id": "Jlhwjwb2wm7u",
      "execution_count": null,
      "outputs": [
        {
          "output_type": "execute_result",
          "data": {
            "text/plain": [
              "['cherry', 'banana', 'apple']"
            ]
          },
          "metadata": {},
          "execution_count": 16
        }
      ]
    },
    {
      "cell_type": "code",
      "source": [
        "squares = [x**2 for x in range(5)]\n",
        "\n",
        "# squares = []\n",
        "# for i in range(5):\n",
        "#   squares.append(i**2)\n",
        "print(squares)\n"
      ],
      "metadata": {
        "colab": {
          "base_uri": "https://localhost:8080/"
        },
        "id": "RA6-5HmJwxhu",
        "outputId": "4a181148-8a73-42b9-8871-962772e97c99"
      },
      "id": "RA6-5HmJwxhu",
      "execution_count": null,
      "outputs": [
        {
          "output_type": "stream",
          "name": "stdout",
          "text": [
            "[0, 1, 4, 9, 16]\n"
          ]
        }
      ]
    },
    {
      "cell_type": "code",
      "source": [
        "fruits = [\"apple\", \"banana\", \"cherry\"]\n",
        "for fruit in fruits:\n",
        "    print(fruit)"
      ],
      "metadata": {
        "id": "w3idyMv7xLem",
        "outputId": "c110ba81-7100-4acc-9f25-14cdd80bde7e",
        "colab": {
          "base_uri": "https://localhost:8080/"
        }
      },
      "id": "w3idyMv7xLem",
      "execution_count": null,
      "outputs": [
        {
          "output_type": "stream",
          "name": "stdout",
          "text": [
            "apple\n",
            "banana\n",
            "cherry\n"
          ]
        }
      ]
    },
    {
      "cell_type": "markdown",
      "id": "f0b7dac3",
      "metadata": {
        "id": "f0b7dac3"
      },
      "source": [
        "## 3. Key Features\n",
        "1. **Indexed**: Access elements using their position (starting from 0).\n",
        "2. **Dynamic Size**: Can grow or shrink as needed.\n",
        "3. **Heterogeneous Elements**: Can store multiple data types."
      ]
    },
    {
      "cell_type": "markdown",
      "id": "d8d1ff9b",
      "metadata": {
        "id": "d8d1ff9b"
      },
      "source": [
        "## 4. Common Operations\n",
        "**Accessing Elements**\n",
        "```python\n",
        "numbers = [10, 20, 30, 40]\n",
        "print(numbers[0])   # Output: 10 (first element)\n",
        "print(numbers[-1])  # Output: 40 (last element)\n",
        "```\n",
        "\n",
        "**Slicing**\n",
        "```python\n",
        "numbers = [10, 20, 30, 40, 50]\n",
        "print(numbers[1:4])  # Output: [20, 30, 40] (from index 1 to 3)\n",
        "```\n",
        "\n",
        "**Modifying Elements**\n",
        "```python\n",
        "numbers = [1, 2, 3]\n",
        "numbers[1] = 20\n",
        "print(numbers)  # Output: [1, 20, 3]\n",
        "```\n",
        "\n",
        "**Appending Elements**\n",
        "```python\n",
        "numbers.append(4)\n",
        "print(numbers)  # Output: [1, 20, 3, 4]\n",
        "```\n",
        "\n",
        "**Extending a List**\n",
        "```python\n",
        "numbers.extend([5, 6])\n",
        "print(numbers)  # Output: [1, 20, 3, 4, 5, 6]\n",
        "```\n",
        "\n",
        "**Removing Elements**\n",
        "```python\n",
        "numbers.remove(20)  # Removes the first occurrence of 20\n",
        "print(numbers)      # Output: [1, 3, 4, 5, 6]\n",
        "```"
      ]
    },
    {
      "cell_type": "markdown",
      "id": "42c15066",
      "metadata": {
        "id": "42c15066"
      },
      "source": [
        "## 5. List Methods\n",
        "| Method         | Description                        | Example                                      |\n",
        "|----------------|------------------------------------|----------------------------------------------|\n",
        "| `append(x)`    | Adds an item to the end            | `numbers.append(10)`                        |\n",
        "| `extend(lst)`  | Adds items from another list       | `numbers.extend([10, 20])`                  |\n",
        "| `pop(index)`   | Removes and returns an item        | `numbers.pop(2)`                            |\n",
        "| `remove(x)`    | Removes the first occurrence of x  | `numbers.remove(10)`                        |\n",
        "| `sort()`       | Sorts the list in-place            | `numbers.sort()`                            |\n",
        "| `reverse()`    | Reverses the order of the list     | `numbers.reverse()`                         |"
      ]
    },
    {
      "cell_type": "markdown",
      "id": "27778d1a",
      "metadata": {
        "id": "27778d1a"
      },
      "source": [
        "## 6. Looping Through Lists\n",
        "```python\n",
        "fruits = [\"apple\", \"banana\", \"cherry\"]\n",
        "for fruit in fruits:\n",
        "    print(fruit)\n",
        "```"
      ]
    },
    {
      "cell_type": "markdown",
      "id": "0b002eb9",
      "metadata": {
        "id": "0b002eb9"
      },
      "source": [
        "## 7. Combining Lists\n",
        "```python\n",
        "list1 = [1, 2, 3]\n",
        "list2 = [4, 5, 6]\n",
        "combined = list1 + list2\n",
        "print(combined)  # Output: [1, 2, 3, 4, 5, 6]\n",
        "```"
      ]
    },
    {
      "cell_type": "markdown",
      "id": "dba659d7",
      "metadata": {
        "id": "dba659d7"
      },
      "source": [
        "## 8. List Comprehensions\n",
        "A concise way to create or transform lists.\n",
        "```python\n",
        "squares = [x**2 for x in range(5)]\n",
        "print(squares)  # Output: [0, 1, 4, 9, 16]\n",
        "```"
      ]
    },
    {
      "cell_type": "markdown",
      "id": "d2c675b6",
      "metadata": {
        "id": "d2c675b6"
      },
      "source": [
        "## 9. Key Points\n",
        "- Lists are **mutable**, meaning their elements can be changed after creation.\n",
        "- Use **slicing** to access parts of a list without modifying it.\n",
        "- Be mindful of **indexing errors** (e.g., `IndexError` when accessing out-of-range indices)."
      ]
    }
  ],
  "metadata": {
    "colab": {
      "provenance": []
    },
    "language_info": {
      "name": "python"
    },
    "kernelspec": {
      "name": "python3",
      "display_name": "Python 3"
    }
  },
  "nbformat": 4,
  "nbformat_minor": 5
}