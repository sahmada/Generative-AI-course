{
  "nbformat": 4,
  "nbformat_minor": 0,
  "metadata": {
    "colab": {
      "provenance": []
    },
    "kernelspec": {
      "name": "python3",
      "display_name": "Python 3"
    },
    "language_info": {
      "name": "python"
    }
  },
  "cells": [
    {
      "cell_type": "code",
      "execution_count": 1,
      "metadata": {
        "colab": {
          "base_uri": "https://localhost:8080/"
        },
        "id": "hiP4RwyD0yKu",
        "outputId": "e1f827e3-62b2-48f4-9d00-953ae6e48869"
      },
      "outputs": [
        {
          "output_type": "stream",
          "name": "stdout",
          "text": [
            "\u001b[2K     \u001b[90m━━━━━━━━━━━━━━━━━━━━━━━━━━━━━━━━━━━━━━━━\u001b[0m \u001b[32m42.5/42.5 kB\u001b[0m \u001b[31m1.4 MB/s\u001b[0m eta \u001b[36m0:00:00\u001b[0m\n",
            "\u001b[2K     \u001b[90m━━━━━━━━━━━━━━━━━━━━━━━━━━━━━━━━━━━━━━━━\u001b[0m \u001b[32m48.2/48.2 kB\u001b[0m \u001b[31m1.8 MB/s\u001b[0m eta \u001b[36m0:00:00\u001b[0m\n",
            "\u001b[2K   \u001b[90m━━━━━━━━━━━━━━━━━━━━━━━━━━━━━━━━━━━━━━━━\u001b[0m \u001b[32m55.4/55.4 kB\u001b[0m \u001b[31m2.8 MB/s\u001b[0m eta \u001b[36m0:00:00\u001b[0m\n",
            "\u001b[2K   \u001b[90m━━━━━━━━━━━━━━━━━━━━━━━━━━━━━━━━━━━━━━━━\u001b[0m \u001b[32m59.5/59.5 kB\u001b[0m \u001b[31m2.9 MB/s\u001b[0m eta \u001b[36m0:00:00\u001b[0m\n",
            "\u001b[2K   \u001b[90m━━━━━━━━━━━━━━━━━━━━━━━━━━━━━━━━━━━━━━━━\u001b[0m \u001b[32m5.6/5.6 MB\u001b[0m \u001b[31m58.6 MB/s\u001b[0m eta \u001b[36m0:00:00\u001b[0m\n",
            "\u001b[2K   \u001b[90m━━━━━━━━━━━━━━━━━━━━━━━━━━━━━━━━━━━━━━━━\u001b[0m \u001b[32m2.9/2.9 MB\u001b[0m \u001b[31m68.8 MB/s\u001b[0m eta \u001b[36m0:00:00\u001b[0m\n",
            "\u001b[2K   \u001b[90m━━━━━━━━━━━━━━━━━━━━━━━━━━━━━━━━━━━━━━━━\u001b[0m \u001b[32m1.2/1.2 MB\u001b[0m \u001b[31m44.4 MB/s\u001b[0m eta \u001b[36m0:00:00\u001b[0m\n",
            "\u001b[?25h"
          ]
        }
      ],
      "source": [
        "%pip install -q langchain_openai langchain pdfplumber\n"
      ]
    },
    {
      "cell_type": "code",
      "source": [
        "from google.colab import userdata\n",
        "openai_api_key = userdata.get('openai_api_key')\n",
        "\n",
        "import os\n",
        "os.environ['OPENAI_API_KEY'] = openai_api_key\n",
        "os.environ['GEMINI_API_KEY'] = userdata.get('gemini_api_key')"
      ],
      "metadata": {
        "id": "lDHDyT_C05uI"
      },
      "execution_count": 2,
      "outputs": []
    },
    {
      "cell_type": "code",
      "source": [
        "from langchain_openai import ChatOpenAI"
      ],
      "metadata": {
        "id": "08ok0noO08qa"
      },
      "execution_count": 3,
      "outputs": []
    },
    {
      "cell_type": "code",
      "source": [
        "model = ChatOpenAI(model='gpt-4o' ,openai_api_key=openai_api_key) #gpt-4-0125-preview  gpt-3.5-turbo-0125\n"
      ],
      "metadata": {
        "id": "RbeF3xQw09Yi"
      },
      "execution_count": 18,
      "outputs": []
    },
    {
      "cell_type": "code",
      "source": [
        "# pdf_file ="
      ],
      "metadata": {
        "id": "FtDHKyAH1rQr"
      },
      "execution_count": null,
      "outputs": []
    },
    {
      "cell_type": "code",
      "source": [
        "# prompt: write a code to give a zip file path and extract it\n",
        "\n",
        "import zipfile\n",
        "import os\n",
        "\n",
        "def extract_zip(zip_file_path, extract_to_path):\n",
        "    \"\"\"Extracts a zip file to a specified directory.\n",
        "\n",
        "    Args:\n",
        "        zip_file_path: The path to the zip file.\n",
        "        extract_to_path: The directory to extract the zip file to.\n",
        "    \"\"\"\n",
        "    try:\n",
        "        with zipfile.ZipFile(zip_file_path, 'r') as zip_ref:\n",
        "            zip_ref.extractall(extract_to_path)\n",
        "        print(f\"Successfully extracted '{zip_file_path}' to '{extract_to_path}'\")\n",
        "    except FileNotFoundError:\n",
        "        print(f\"Error: Zip file not found at '{zip_file_path}'\")\n",
        "    except zipfile.BadZipFile:\n",
        "        print(f\"Error: Invalid zip file at '{zip_file_path}'\")\n",
        "    except Exception as e:\n",
        "        print(f\"An unexpected error occurred: {e}\")\n",
        "\n",
        "\n",
        "for zip_file_path in [\"/content/PO.zip\", \"/content/Invoice.zip\"]:\n",
        "    extract_to_path = \".\"  # Replace with the desired extraction directory\n",
        "    extract_zip(zip_file_path, extract_to_path)\n"
      ],
      "metadata": {
        "colab": {
          "base_uri": "https://localhost:8080/"
        },
        "id": "VqI2Vr4O3yXZ",
        "outputId": "33b30d6c-8562-4810-dec5-23e7c5746735"
      },
      "execution_count": 5,
      "outputs": [
        {
          "output_type": "stream",
          "name": "stdout",
          "text": [
            "Successfully extracted '/content/PO.zip' to '.'\n",
            "Successfully extracted '/content/Invoice.zip' to '.'\n"
          ]
        }
      ]
    },
    {
      "cell_type": "code",
      "source": [
        "import pdfplumber"
      ],
      "metadata": {
        "id": "Bha91KG21BaY"
      },
      "execution_count": 6,
      "outputs": []
    },
    {
      "cell_type": "code",
      "source": [
        "def read_pdf(pdf_file):\n",
        "    with pdfplumber.open(pdf_file) as pdf:\n",
        "        text = \"\"\n",
        "        for page in pdf.pages:\n",
        "            text += page.extract_text()\n",
        "    return text"
      ],
      "metadata": {
        "id": "0esetDXZ4dcD"
      },
      "execution_count": 7,
      "outputs": []
    },
    {
      "cell_type": "code",
      "source": [
        "path_2_pdf = '/content/Invoice/8745-1691067610.pdf'\n",
        "path_2_pdf = '/content/PO/4681-1689166172.pdf'\n",
        "\n",
        "text = read_pdf(path_2_pdf)"
      ],
      "metadata": {
        "id": "BfA7nhetjyQf"
      },
      "execution_count": 23,
      "outputs": []
    },
    {
      "cell_type": "code",
      "source": [
        "text"
      ],
      "metadata": {
        "colab": {
          "base_uri": "https://localhost:8080/",
          "height": 174
        },
        "id": "n20OP_B7j8KX",
        "outputId": "46c4205d-2bc9-4adb-a1cc-56d4e93da4dd"
      },
      "execution_count": 9,
      "outputs": [
        {
          "output_type": "execute_result",
          "data": {
            "text/plain": [
              "'Invoice\\nNo: 1622487\\nDate: 09 June 2023\\nAccounts Payable\\nBuzz Wireless Network\\nOffice 2\\nThe Courtyard\\nBawtry\\nDoncaster\\nDN10 6JG\\nKNW No. 01302 710 819\\nSupplier No. Kieran Feenix\\nPurchase order\\nRE: AMOUNT\\nLantra-Landscape Tools Multi-tool\\n26th - 27th June 2023 938.00\\nAccreditation 4 Candidates\\n464.00\\nEquipment Hire - 4 Candidates\\n32.00\\nSite Hire\\n190.00\\nNet Amount\\n1,624.00\\nVAT @ 20% 324.80\\nTotal Due £ 1,948.80\\nPayment due immediately\\nPlease note bank details\\nNational Westminster Bank PLC\\n2, Howe Walk, Burnley, BB11 1NZ\\nA/c No: 17887623\\nA/c Name: Kielder Newport West Ltd\\nSort Code: 01-01-35\\nPlease make all cheques payable to Kielder Newport West Limited\\nIf you have any queries regarding this invoice please contact KNW on (01677) 424633\\nVAT Reg No: 693 0290 30'"
            ],
            "application/vnd.google.colaboratory.intrinsic+json": {
              "type": "string"
            }
          },
          "metadata": {},
          "execution_count": 9
        }
      ]
    },
    {
      "cell_type": "code",
      "source": [
        "from pydantic import BaseModel, Field\n",
        "from typing import Optional\n",
        "\n",
        "class PurchaseOrder(BaseModel):\n",
        "    \"\"\"Schema for extracting purchase order details from text.\"\"\"\n",
        "\n",
        "    company_name: str = Field(\n",
        "        description=\"The name of the company related to the purchase order. Ensure the name does not include 'BUZZ WIRELESS NETWORKS LTD.'\"\n",
        "    )\n",
        "\n",
        "    purchase_order: str = Field(...,\n",
        "        description=\"The unique identifier for the purchase order. This could also be referred to as 'purchase No' or 'order No'.\"\n",
        "    )\n",
        "\n",
        "    order_no: str = Field(\n",
        "        description=\"The order number for the transaction. It is used interchangeably with 'purchase order' or 'purchase No'.\"\n",
        "    )\n",
        "\n",
        "    quote_ref: Optional[str] = Field(\n",
        "        default=None, description=\"The reference number for the quote associated with the order. It may or may not be present.\"\n",
        "    )\n",
        "\n",
        "    net_amount: int = Field(\n",
        "        description=\"The net amount for the purchase, excluding any additional charges or taxes.\"\n",
        "    )\n",
        "\n",
        "    total_due: int = Field(\n",
        "        description=\"The total amount due for the purchase, which includes any applicable taxes or charges.\"\n",
        "    )\n"
      ],
      "metadata": {
        "id": "jbNCJS_L5vQe"
      },
      "execution_count": 19,
      "outputs": []
    },
    {
      "cell_type": "code",
      "source": [
        "model_with_structure = model.with_structured_output(PurchaseOrder)"
      ],
      "metadata": {
        "id": "ZiKg3yHE5-28"
      },
      "execution_count": 20,
      "outputs": []
    },
    {
      "cell_type": "code",
      "source": [
        "model_with_structure.invoke('hey, how are you?')"
      ],
      "metadata": {
        "colab": {
          "base_uri": "https://localhost:8080/"
        },
        "id": "XSPkjvmtlTZz",
        "outputId": "ceb2d4f7-885d-4e11-a534-3067706855f0"
      },
      "execution_count": 21,
      "outputs": [
        {
          "output_type": "execute_result",
          "data": {
            "text/plain": [
              "PurchaseOrder(company_name='Advanced Tech Innovations', purchase_order='PO123456', order_no='ORD987654', quote_ref='QR567890', net_amount=1500, total_due=1635)"
            ]
          },
          "metadata": {},
          "execution_count": 21
        }
      ]
    },
    {
      "cell_type": "code",
      "source": [
        "model_with_structure.invoke(text)"
      ],
      "metadata": {
        "colab": {
          "base_uri": "https://localhost:8080/"
        },
        "id": "lVb5PoV_6Dq2",
        "outputId": "07e8020d-e24f-48e8-d735-cbff81a36b83"
      },
      "execution_count": 24,
      "outputs": [
        {
          "output_type": "execute_result",
          "data": {
            "text/plain": [
              "PurchaseOrder(company_name='Clarke Telecom Ltd', purchase_order='P271070', order_no='P271070', quote_ref=None, net_amount=4235, total_due=4235)"
            ]
          },
          "metadata": {},
          "execution_count": 24
        }
      ]
    },
    {
      "cell_type": "code",
      "source": [
        "from pydantic import BaseModel, Field\n",
        "from typing import Optional\n",
        "\n",
        "class Invoice(BaseModel):\n",
        "    \"\"\"Schema for extracting invoice details from text.\"\"\"\n",
        "\n",
        "    company_name: str = Field(\n",
        "        description=\"The name of the company on the invoice. 'BUZZ WIRELESS NETWORKS LTD.' should not appear.\"\n",
        "    )\n",
        "\n",
        "    purchase_order: str = Field(\n",
        "        description=\"The identifier for the purchase order associated with the invoice. Could be referred to as 'purchase No' or 'order No'.\"\n",
        "    )\n",
        "\n",
        "    order_no: str = Field(\n",
        "        description=\"Order number for the transaction, used interchangeably with 'purchase order' and 'purchase No'.\"\n",
        "    )\n",
        "\n",
        "    invoice_no: str = Field(\n",
        "        description=\"The unique invoice number for the transaction.\"\n",
        "    )\n",
        "\n",
        "    date: str = Field(\n",
        "        description=\"The date when the invoice was issued. Usually formatted as 'DD Month YYYY'.\"\n",
        "    )\n",
        "\n",
        "    sort_code: str = Field(\n",
        "        description=\"The sort code for the bank account associated with the invoice.\"\n",
        "    )\n",
        "\n",
        "    net_amount: int = Field(\n",
        "        description=\"The net amount before tax and additional charges.\"\n",
        "    )\n",
        "\n",
        "    vat_20: int = Field(\n",
        "        description=\"The VAT (Value Added Tax) at 20% applicable to the net amount.\"\n",
        "    )\n",
        "\n",
        "    total_due: int = Field(\n",
        "        description=\"The total amount due, which includes the VAT and any additional charges.\"\n",
        "    )\n",
        "\n",
        "    account_number: str = Field(\n",
        "        description=\"The bank account number for payment processing.\"\n",
        "    )\n",
        "\n",
        "    ac_name: str = Field(\n",
        "        description=\"The name associated with the account where the payment should be made.\"\n",
        "    )\n"
      ],
      "metadata": {
        "id": "p0H1kpRu6O7J"
      },
      "execution_count": 25,
      "outputs": []
    },
    {
      "cell_type": "code",
      "source": [
        "invoice_structure = model.with_structured_output(Invoice)"
      ],
      "metadata": {
        "id": "wv19-wBP7tMN"
      },
      "execution_count": 26,
      "outputs": []
    },
    {
      "cell_type": "code",
      "source": [
        "pdf_file = '/content/Invoice/8603-1691675777.pdf'\n",
        "\n",
        "text = read_pdf(pdf_file)"
      ],
      "metadata": {
        "id": "RN1VnaE-73lf"
      },
      "execution_count": 30,
      "outputs": []
    },
    {
      "cell_type": "code",
      "source": [
        "invoice_structure.invoke(text)"
      ],
      "metadata": {
        "colab": {
          "base_uri": "https://localhost:8080/"
        },
        "id": "etRmsk8C8Jk7",
        "outputId": "abb5f8b1-ebfa-472e-ee01-e41139188aa7"
      },
      "execution_count": 31,
      "outputs": [
        {
          "output_type": "execute_result",
          "data": {
            "text/plain": [
              "Invoice(company_name='Fields And Towers Limited', purchase_order='EM01-2301', order_no='EM01-2301', invoice_no='0000087513', date='18/04/2023', sort_code='30-95-05', net_amount=500, vat_20=100, total_due=600, account_number='02622564', ac_name='Fields And Towers (Communications) Ltd')"
            ]
          },
          "metadata": {},
          "execution_count": 31
        }
      ]
    },
    {
      "cell_type": "code",
      "source": [
        "from pydantic import BaseModel\n",
        "from openai import OpenAI\n",
        "\n",
        "client = OpenAI()\n",
        "\n",
        "\n",
        "completion = client.beta.chat.completions.parse(\n",
        "    model=\"gpt-4o-2024-08-06\",\n",
        "    messages=[\n",
        "        {\"role\": \"system\", \"content\": \"Extract the Invoice information.\"},\n",
        "        {\"role\":\"user\", \"content\": f\"here is the invoice's text. work on it:\\n\\n{text}\"}\n",
        "    ],\n",
        "    response_format=Invoice,\n",
        ")\n",
        "\n",
        "invoice_information = completion.choices[0].message.parsed"
      ],
      "metadata": {
        "id": "d4t-GrhJ8QNw"
      },
      "execution_count": 40,
      "outputs": []
    },
    {
      "cell_type": "code",
      "source": [
        "text"
      ],
      "metadata": {
        "colab": {
          "base_uri": "https://localhost:8080/",
          "height": 261
        },
        "id": "eC6YW7iCoW3m",
        "outputId": "0555d9d0-37b3-4d58-ebf4-08bbb5d41cea"
      },
      "execution_count": 41,
      "outputs": [
        {
          "output_type": "execute_result",
          "data": {
            "text/plain": [
              "'##CFG SalesInvoices ## ##VAR1 BUZ001## ##VAR2 0000087513## ##COMPANY Buzz Wireless\\nNetworks## ##VAR3 EM01-2301## Fields And Towers Limited\\nBraidhurst House\\n2 Finch Way\\nStrathclyde Business Park\\nBellshill\\nML4 3PE\\nTel : 01698 842426\\n##NAME ## ##EMAIL invoices@buzzwn.co.uk## ##FAX ##\\nWeb: www.wirelessinfrastructure.co.uk\\nEmail: accounts_receivable@wirelessinfrastructure.co.uk\\nInvoice COPY\\nInvoice No: 0000087513\\nBuzz Wireless Networks\\nInvoice Date: 18/04/2023\\nOffice 2 The Courtyard\\nBawtry Account No: BUZ001\\nDoncaster\\nYour Order No: EM01-2301\\nDN10 6JG\\nGreat Britain\\nAll Prices In: Pound Sterling\\nSite Name: Pather Farm\\nOur Ref: 356738\\nYour Ref: Northern England, 03/04/2023\\nStatus: PPM - Annual Inspection Date To: 03/04/2023 Requestor:Evie Pritchard\\nDetails Qty Unit Price Net VAT %\\nAccess Invoice\\nIncurred costs to the above site 1 500.00 500.00 20.00\\nAny queries should be raised within 21 days of the invoice date; otherwise the invoiced amount will be deemed\\nto be accepted and payment expected in accordance with our payment terms\\nBANK DETAILS: TERMS: 30 days from document date\\nAccount Name: Fields And Towers (Communications) Ltd NET £ 500.00\\nAccount No: 02622564\\nSort Code: 30-95-05 VAT £ 100.00\\nGROSS £ 600.00\\nVAT Reg No:798 4834 55\\nCo Reg No:3080311'"
            ],
            "application/vnd.google.colaboratory.intrinsic+json": {
              "type": "string"
            }
          },
          "metadata": {},
          "execution_count": 41
        }
      ]
    },
    {
      "cell_type": "markdown",
      "source": [],
      "metadata": {
        "id": "kePuJgQgpGUL"
      }
    },
    {
      "cell_type": "code",
      "source": [
        "invoice_information"
      ],
      "metadata": {
        "colab": {
          "base_uri": "https://localhost:8080/"
        },
        "id": "V2lnbZvE9kUJ",
        "outputId": "b5c46dfe-624b-436e-f613-115401b6ed02"
      },
      "execution_count": 42,
      "outputs": [
        {
          "output_type": "execute_result",
          "data": {
            "text/plain": [
              "Invoice(company_name='Fields And Towers Limited', purchase_order='EM01-2301', order_no='EM01-2301', invoice_no='0000087513', date='18/04/2023', sort_code='30-95-05', net_amount=500, vat_20=100, total_due=600, account_number='02622564', ac_name='Fields And Towers (Communications) Ltd')"
            ]
          },
          "metadata": {},
          "execution_count": 42
        }
      ]
    },
    {
      "cell_type": "code",
      "source": [
        "from google import genai\n",
        "from pydantic import BaseModel\n",
        "\n",
        "\n",
        "\n",
        "g_client = genai.Client(api_key=userdata.get('gemini_api_key'))\n",
        "response = g_client.models.generate_content(\n",
        "    model='gemini-2.0-flash',\n",
        "    contents=f\"Extract the Invoice information.invoice's text is:\\n\\n{text}\",\n",
        "    config={\n",
        "        'response_mime_type': 'application/json',\n",
        "        'response_schema': list[Invoice],\n",
        "    },\n",
        ")\n",
        "# Use the response as a JSON string.\n",
        "print(response.text)\n",
        "\n",
        "# Use instantiated objects.\n",
        "# response.parsed[0]"
      ],
      "metadata": {
        "colab": {
          "base_uri": "https://localhost:8080/"
        },
        "id": "z5XBbAo69tTR",
        "outputId": "c52f6b7d-7fef-4a32-d000-66ba4d46ccb6"
      },
      "execution_count": 45,
      "outputs": [
        {
          "output_type": "stream",
          "name": "stdout",
          "text": [
            "[\n",
            "  {\n",
            "    \"company_name\": \"Buzz Wireless Networks\",\n",
            "    \"purchase_order\": \"EM01-2301\",\n",
            "    \"order_no\": \"EM01-2301\",\n",
            "    \"invoice_no\": \"0000087513\",\n",
            "    \"date\": \"18/04/2023\",\n",
            "    \"sort_code\": \"30-95-05\",\n",
            "    \"net_amount\": 500,\n",
            "    \"vat_20\": 100,\n",
            "    \"total_due\": 600,\n",
            "    \"account_number\": \"02622564\",\n",
            "    \"ac_name\": \"Fields And Towers (Communications) Ltd\"\n",
            "  }\n",
            "]\n"
          ]
        }
      ]
    },
    {
      "cell_type": "code",
      "source": [
        "import os\n",
        "\n",
        "def list_files_with_path(folder_path):\n",
        "    \"\"\"Lists all files in the given folder and returns their complete paths.\n",
        "\n",
        "    Args:\n",
        "        folder_path: The path to the folder.\n",
        "\n",
        "    Returns:\n",
        "        A list of strings, where each string is the complete path of a file\n",
        "        in the folder. Returns an empty list if the folder does not exist\n",
        "        or if there are no files in the folder.\n",
        "    \"\"\"\n",
        "    file_paths = []\n",
        "    if os.path.exists(folder_path) and os.path.isdir(folder_path):\n",
        "        for filename in os.listdir(folder_path):\n",
        "            file_path = os.path.join(folder_path, filename)\n",
        "            if os.path.isfile(file_path):\n",
        "                file_paths.append(file_path)\n",
        "    return file_paths\n",
        "\n",
        "# Example usage (assuming you have a folder named \"my_folder\"):\n",
        "folder_path = \"/content/Invoice\"  # Replace with the actual folder path\n",
        "file_paths = list_files_with_path(folder_path)\n",
        "\n",
        "if file_paths:\n",
        "    print(\"Files in the folder:\")\n",
        "    for file_path in file_paths:\n",
        "        print(file_path)\n",
        "else:\n",
        "    print(f\"The folder '{folder_path}' does not exist or contains no files.\")\n"
      ],
      "metadata": {
        "id": "jEnFIZMW-wtH"
      },
      "execution_count": null,
      "outputs": []
    },
    {
      "cell_type": "code",
      "source": [
        "import json\n",
        "\n",
        "results = {}\n",
        "g_client = genai.Client(api_key=userdata.get('gemini_api_key'))\n",
        "\n",
        "for file_path in file_paths[:5]:\n",
        "    try:\n",
        "        text = read_pdf(file_path)\n",
        "        response = g_client.models.generate_content(\n",
        "            model='gemini-2.0-flash',\n",
        "            contents=f\"Extract the Invoice information from the following text:\\n{text}\",\n",
        "            config={\n",
        "                'response_mime_type': 'application/json',\n",
        "                'response_schema': list[Invoice],\n",
        "            },\n",
        "        )\n",
        "        # Attempt to parse the JSON response\n",
        "        try:\n",
        "            parsed_response = json.loads(response.text)\n",
        "            results[file_path] = parsed_response\n",
        "        except json.JSONDecodeError as e:\n",
        "            print(f\"Error decoding JSON for {file_path}: {e}\")\n",
        "            results[file_path] = {\"error\": f\"JSON decoding error: {e}\", \"raw_response\": response.text}\n",
        "    except Exception as e:\n",
        "        print(f\"Error processing {file_path}: {e}\")\n",
        "        results[file_path] = {\"error\": str(e)}\n",
        "\n",
        "results\n"
      ],
      "metadata": {
        "colab": {
          "base_uri": "https://localhost:8080/"
        },
        "id": "tbaJ-v_qAsUw",
        "outputId": "2fd5f84c-0de2-4133-c595-edb67ce1df27"
      },
      "execution_count": 47,
      "outputs": [
        {
          "output_type": "execute_result",
          "data": {
            "text/plain": [
              "{'/content/Invoice/8946-1696581896.pdf': [{'company_name': '2JCT RIGGING LTD',\n",
              "   'purchase_order': 'N/A',\n",
              "   'order_no': 'N/A',\n",
              "   'invoice_no': '9',\n",
              "   'date': '01/09/2023',\n",
              "   'sort_code': '53 50 39',\n",
              "   'net_amount': 5130,\n",
              "   'vat_20': 0,\n",
              "   'total_due': 5130,\n",
              "   'account_number': '55433022',\n",
              "   'ac_name': 'James Howick'}],\n",
              " '/content/Invoice/8931-1696577535.pdf': [{'company_name': 'Dawsongroup Vans Ltd',\n",
              "   'purchase_order': '',\n",
              "   'order_no': '',\n",
              "   'invoice_no': '3118647',\n",
              "   'date': '23/08/2023',\n",
              "   'sort_code': '',\n",
              "   'net_amount': 22,\n",
              "   'vat_20': 4,\n",
              "   'total_due': 27,\n",
              "   'account_number': '52515',\n",
              "   'ac_name': ''}],\n",
              " '/content/Invoice/8815-1691335008.pdf': [{'company_name': 'MCS Test Equipment Ltd',\n",
              "   'purchase_order': 'PO KC01-1081',\n",
              "   'order_no': '1125',\n",
              "   'invoice_no': '20381',\n",
              "   'date': '13 Jul 2023',\n",
              "   'sort_code': '40-30-18',\n",
              "   'net_amount': 627,\n",
              "   'vat_20': 125,\n",
              "   'total_due': 752,\n",
              "   'account_number': '31284363',\n",
              "   'ac_name': 'MCS Test Equipment Ltd'}],\n",
              " '/content/Invoice/8748-1691068262.pdf': [{'company_name': 'BuzzWirelessNetworks',\n",
              "   'purchase_order': 'N/A',\n",
              "   'order_no': 'N/A',\n",
              "   'invoice_no': 'INV-9707',\n",
              "   'date': '26Jun2023',\n",
              "   'sort_code': '403438',\n",
              "   'net_amount': 360,\n",
              "   'vat_20': 72,\n",
              "   'total_due': 432,\n",
              "   'account_number': '31487299',\n",
              "   'ac_name': 'ConeyExpress'}],\n",
              " '/content/Invoice/8875-1692964285.pdf': [{'company_name': 'Smith Craven',\n",
              "   'purchase_order': 'N/A',\n",
              "   'order_no': 'N/A',\n",
              "   'invoice_no': '82587',\n",
              "   'date': '30/06/2023',\n",
              "   'sort_code': '20-55-58',\n",
              "   'net_amount': 638,\n",
              "   'vat_20': 127,\n",
              "   'total_due': 765,\n",
              "   'account_number': '00272477',\n",
              "   'ac_name': 'Barclays Bank'}]}"
            ]
          },
          "metadata": {},
          "execution_count": 47
        }
      ]
    },
    {
      "cell_type": "code",
      "source": [
        "import pandas as pd\n",
        "\n",
        "def dict_of_dict_to_pandas(input_dict):\n",
        "  \"\"\"Converts a dictionary of dictionaries to a pandas DataFrame.\n",
        "\n",
        "  Args:\n",
        "    input_dict: A dictionary where keys are file paths and values are lists\n",
        "                of dictionaries, each representing a record.\n",
        "\n",
        "  Returns:\n",
        "    A pandas DataFrame containing the data.\n",
        "  \"\"\"\n",
        "\n",
        "  all_records = []\n",
        "  for file_path, records in input_dict.items():\n",
        "    for record in records:\n",
        "      record['file_path'] = file_path  # Add file path as a column\n",
        "      all_records.append(record)\n",
        "\n",
        "  return pd.DataFrame(all_records)\n",
        "\n",
        "df = dict_of_dict_to_pandas(results) # use the results dictionary from the code\n",
        "df\n"
      ],
      "metadata": {
        "colab": {
          "base_uri": "https://localhost:8080/",
          "height": 313
        },
        "id": "P_ZVJAihEQJk",
        "outputId": "8472c855-9cc7-4480-b2d8-7187a281be46"
      },
      "execution_count": 48,
      "outputs": [
        {
          "output_type": "execute_result",
          "data": {
            "text/plain": [
              "             company_name purchase_order order_no invoice_no         date  \\\n",
              "0        2JCT RIGGING LTD            N/A      N/A          9   01/09/2023   \n",
              "1    Dawsongroup Vans Ltd                            3118647   23/08/2023   \n",
              "2  MCS Test Equipment Ltd   PO KC01-1081     1125      20381  13 Jul 2023   \n",
              "3    BuzzWirelessNetworks            N/A      N/A   INV-9707    26Jun2023   \n",
              "4            Smith Craven            N/A      N/A      82587   30/06/2023   \n",
              "\n",
              "  sort_code  net_amount  vat_20  total_due account_number  \\\n",
              "0  53 50 39        5130       0       5130       55433022   \n",
              "1                    22       4         27          52515   \n",
              "2  40-30-18         627     125        752       31284363   \n",
              "3    403438         360      72        432       31487299   \n",
              "4  20-55-58         638     127        765       00272477   \n",
              "\n",
              "                  ac_name                             file_path  \n",
              "0            James Howick  /content/Invoice/8946-1696581896.pdf  \n",
              "1                          /content/Invoice/8931-1696577535.pdf  \n",
              "2  MCS Test Equipment Ltd  /content/Invoice/8815-1691335008.pdf  \n",
              "3            ConeyExpress  /content/Invoice/8748-1691068262.pdf  \n",
              "4           Barclays Bank  /content/Invoice/8875-1692964285.pdf  "
            ],
            "text/html": [
              "\n",
              "  <div id=\"df-4c81f94a-91eb-4a28-8ba2-15ed32808e55\" class=\"colab-df-container\">\n",
              "    <div>\n",
              "<style scoped>\n",
              "    .dataframe tbody tr th:only-of-type {\n",
              "        vertical-align: middle;\n",
              "    }\n",
              "\n",
              "    .dataframe tbody tr th {\n",
              "        vertical-align: top;\n",
              "    }\n",
              "\n",
              "    .dataframe thead th {\n",
              "        text-align: right;\n",
              "    }\n",
              "</style>\n",
              "<table border=\"1\" class=\"dataframe\">\n",
              "  <thead>\n",
              "    <tr style=\"text-align: right;\">\n",
              "      <th></th>\n",
              "      <th>company_name</th>\n",
              "      <th>purchase_order</th>\n",
              "      <th>order_no</th>\n",
              "      <th>invoice_no</th>\n",
              "      <th>date</th>\n",
              "      <th>sort_code</th>\n",
              "      <th>net_amount</th>\n",
              "      <th>vat_20</th>\n",
              "      <th>total_due</th>\n",
              "      <th>account_number</th>\n",
              "      <th>ac_name</th>\n",
              "      <th>file_path</th>\n",
              "    </tr>\n",
              "  </thead>\n",
              "  <tbody>\n",
              "    <tr>\n",
              "      <th>0</th>\n",
              "      <td>2JCT RIGGING LTD</td>\n",
              "      <td>N/A</td>\n",
              "      <td>N/A</td>\n",
              "      <td>9</td>\n",
              "      <td>01/09/2023</td>\n",
              "      <td>53 50 39</td>\n",
              "      <td>5130</td>\n",
              "      <td>0</td>\n",
              "      <td>5130</td>\n",
              "      <td>55433022</td>\n",
              "      <td>James Howick</td>\n",
              "      <td>/content/Invoice/8946-1696581896.pdf</td>\n",
              "    </tr>\n",
              "    <tr>\n",
              "      <th>1</th>\n",
              "      <td>Dawsongroup Vans Ltd</td>\n",
              "      <td></td>\n",
              "      <td></td>\n",
              "      <td>3118647</td>\n",
              "      <td>23/08/2023</td>\n",
              "      <td></td>\n",
              "      <td>22</td>\n",
              "      <td>4</td>\n",
              "      <td>27</td>\n",
              "      <td>52515</td>\n",
              "      <td></td>\n",
              "      <td>/content/Invoice/8931-1696577535.pdf</td>\n",
              "    </tr>\n",
              "    <tr>\n",
              "      <th>2</th>\n",
              "      <td>MCS Test Equipment Ltd</td>\n",
              "      <td>PO KC01-1081</td>\n",
              "      <td>1125</td>\n",
              "      <td>20381</td>\n",
              "      <td>13 Jul 2023</td>\n",
              "      <td>40-30-18</td>\n",
              "      <td>627</td>\n",
              "      <td>125</td>\n",
              "      <td>752</td>\n",
              "      <td>31284363</td>\n",
              "      <td>MCS Test Equipment Ltd</td>\n",
              "      <td>/content/Invoice/8815-1691335008.pdf</td>\n",
              "    </tr>\n",
              "    <tr>\n",
              "      <th>3</th>\n",
              "      <td>BuzzWirelessNetworks</td>\n",
              "      <td>N/A</td>\n",
              "      <td>N/A</td>\n",
              "      <td>INV-9707</td>\n",
              "      <td>26Jun2023</td>\n",
              "      <td>403438</td>\n",
              "      <td>360</td>\n",
              "      <td>72</td>\n",
              "      <td>432</td>\n",
              "      <td>31487299</td>\n",
              "      <td>ConeyExpress</td>\n",
              "      <td>/content/Invoice/8748-1691068262.pdf</td>\n",
              "    </tr>\n",
              "    <tr>\n",
              "      <th>4</th>\n",
              "      <td>Smith Craven</td>\n",
              "      <td>N/A</td>\n",
              "      <td>N/A</td>\n",
              "      <td>82587</td>\n",
              "      <td>30/06/2023</td>\n",
              "      <td>20-55-58</td>\n",
              "      <td>638</td>\n",
              "      <td>127</td>\n",
              "      <td>765</td>\n",
              "      <td>00272477</td>\n",
              "      <td>Barclays Bank</td>\n",
              "      <td>/content/Invoice/8875-1692964285.pdf</td>\n",
              "    </tr>\n",
              "  </tbody>\n",
              "</table>\n",
              "</div>\n",
              "    <div class=\"colab-df-buttons\">\n",
              "\n",
              "  <div class=\"colab-df-container\">\n",
              "    <button class=\"colab-df-convert\" onclick=\"convertToInteractive('df-4c81f94a-91eb-4a28-8ba2-15ed32808e55')\"\n",
              "            title=\"Convert this dataframe to an interactive table.\"\n",
              "            style=\"display:none;\">\n",
              "\n",
              "  <svg xmlns=\"http://www.w3.org/2000/svg\" height=\"24px\" viewBox=\"0 -960 960 960\">\n",
              "    <path d=\"M120-120v-720h720v720H120Zm60-500h600v-160H180v160Zm220 220h160v-160H400v160Zm0 220h160v-160H400v160ZM180-400h160v-160H180v160Zm440 0h160v-160H620v160ZM180-180h160v-160H180v160Zm440 0h160v-160H620v160Z\"/>\n",
              "  </svg>\n",
              "    </button>\n",
              "\n",
              "  <style>\n",
              "    .colab-df-container {\n",
              "      display:flex;\n",
              "      gap: 12px;\n",
              "    }\n",
              "\n",
              "    .colab-df-convert {\n",
              "      background-color: #E8F0FE;\n",
              "      border: none;\n",
              "      border-radius: 50%;\n",
              "      cursor: pointer;\n",
              "      display: none;\n",
              "      fill: #1967D2;\n",
              "      height: 32px;\n",
              "      padding: 0 0 0 0;\n",
              "      width: 32px;\n",
              "    }\n",
              "\n",
              "    .colab-df-convert:hover {\n",
              "      background-color: #E2EBFA;\n",
              "      box-shadow: 0px 1px 2px rgba(60, 64, 67, 0.3), 0px 1px 3px 1px rgba(60, 64, 67, 0.15);\n",
              "      fill: #174EA6;\n",
              "    }\n",
              "\n",
              "    .colab-df-buttons div {\n",
              "      margin-bottom: 4px;\n",
              "    }\n",
              "\n",
              "    [theme=dark] .colab-df-convert {\n",
              "      background-color: #3B4455;\n",
              "      fill: #D2E3FC;\n",
              "    }\n",
              "\n",
              "    [theme=dark] .colab-df-convert:hover {\n",
              "      background-color: #434B5C;\n",
              "      box-shadow: 0px 1px 3px 1px rgba(0, 0, 0, 0.15);\n",
              "      filter: drop-shadow(0px 1px 2px rgba(0, 0, 0, 0.3));\n",
              "      fill: #FFFFFF;\n",
              "    }\n",
              "  </style>\n",
              "\n",
              "    <script>\n",
              "      const buttonEl =\n",
              "        document.querySelector('#df-4c81f94a-91eb-4a28-8ba2-15ed32808e55 button.colab-df-convert');\n",
              "      buttonEl.style.display =\n",
              "        google.colab.kernel.accessAllowed ? 'block' : 'none';\n",
              "\n",
              "      async function convertToInteractive(key) {\n",
              "        const element = document.querySelector('#df-4c81f94a-91eb-4a28-8ba2-15ed32808e55');\n",
              "        const dataTable =\n",
              "          await google.colab.kernel.invokeFunction('convertToInteractive',\n",
              "                                                    [key], {});\n",
              "        if (!dataTable) return;\n",
              "\n",
              "        const docLinkHtml = 'Like what you see? Visit the ' +\n",
              "          '<a target=\"_blank\" href=https://colab.research.google.com/notebooks/data_table.ipynb>data table notebook</a>'\n",
              "          + ' to learn more about interactive tables.';\n",
              "        element.innerHTML = '';\n",
              "        dataTable['output_type'] = 'display_data';\n",
              "        await google.colab.output.renderOutput(dataTable, element);\n",
              "        const docLink = document.createElement('div');\n",
              "        docLink.innerHTML = docLinkHtml;\n",
              "        element.appendChild(docLink);\n",
              "      }\n",
              "    </script>\n",
              "  </div>\n",
              "\n",
              "\n",
              "<div id=\"df-0b85581a-84b2-400f-a5d1-60ccc7baa3f6\">\n",
              "  <button class=\"colab-df-quickchart\" onclick=\"quickchart('df-0b85581a-84b2-400f-a5d1-60ccc7baa3f6')\"\n",
              "            title=\"Suggest charts\"\n",
              "            style=\"display:none;\">\n",
              "\n",
              "<svg xmlns=\"http://www.w3.org/2000/svg\" height=\"24px\"viewBox=\"0 0 24 24\"\n",
              "     width=\"24px\">\n",
              "    <g>\n",
              "        <path d=\"M19 3H5c-1.1 0-2 .9-2 2v14c0 1.1.9 2 2 2h14c1.1 0 2-.9 2-2V5c0-1.1-.9-2-2-2zM9 17H7v-7h2v7zm4 0h-2V7h2v10zm4 0h-2v-4h2v4z\"/>\n",
              "    </g>\n",
              "</svg>\n",
              "  </button>\n",
              "\n",
              "<style>\n",
              "  .colab-df-quickchart {\n",
              "      --bg-color: #E8F0FE;\n",
              "      --fill-color: #1967D2;\n",
              "      --hover-bg-color: #E2EBFA;\n",
              "      --hover-fill-color: #174EA6;\n",
              "      --disabled-fill-color: #AAA;\n",
              "      --disabled-bg-color: #DDD;\n",
              "  }\n",
              "\n",
              "  [theme=dark] .colab-df-quickchart {\n",
              "      --bg-color: #3B4455;\n",
              "      --fill-color: #D2E3FC;\n",
              "      --hover-bg-color: #434B5C;\n",
              "      --hover-fill-color: #FFFFFF;\n",
              "      --disabled-bg-color: #3B4455;\n",
              "      --disabled-fill-color: #666;\n",
              "  }\n",
              "\n",
              "  .colab-df-quickchart {\n",
              "    background-color: var(--bg-color);\n",
              "    border: none;\n",
              "    border-radius: 50%;\n",
              "    cursor: pointer;\n",
              "    display: none;\n",
              "    fill: var(--fill-color);\n",
              "    height: 32px;\n",
              "    padding: 0;\n",
              "    width: 32px;\n",
              "  }\n",
              "\n",
              "  .colab-df-quickchart:hover {\n",
              "    background-color: var(--hover-bg-color);\n",
              "    box-shadow: 0 1px 2px rgba(60, 64, 67, 0.3), 0 1px 3px 1px rgba(60, 64, 67, 0.15);\n",
              "    fill: var(--button-hover-fill-color);\n",
              "  }\n",
              "\n",
              "  .colab-df-quickchart-complete:disabled,\n",
              "  .colab-df-quickchart-complete:disabled:hover {\n",
              "    background-color: var(--disabled-bg-color);\n",
              "    fill: var(--disabled-fill-color);\n",
              "    box-shadow: none;\n",
              "  }\n",
              "\n",
              "  .colab-df-spinner {\n",
              "    border: 2px solid var(--fill-color);\n",
              "    border-color: transparent;\n",
              "    border-bottom-color: var(--fill-color);\n",
              "    animation:\n",
              "      spin 1s steps(1) infinite;\n",
              "  }\n",
              "\n",
              "  @keyframes spin {\n",
              "    0% {\n",
              "      border-color: transparent;\n",
              "      border-bottom-color: var(--fill-color);\n",
              "      border-left-color: var(--fill-color);\n",
              "    }\n",
              "    20% {\n",
              "      border-color: transparent;\n",
              "      border-left-color: var(--fill-color);\n",
              "      border-top-color: var(--fill-color);\n",
              "    }\n",
              "    30% {\n",
              "      border-color: transparent;\n",
              "      border-left-color: var(--fill-color);\n",
              "      border-top-color: var(--fill-color);\n",
              "      border-right-color: var(--fill-color);\n",
              "    }\n",
              "    40% {\n",
              "      border-color: transparent;\n",
              "      border-right-color: var(--fill-color);\n",
              "      border-top-color: var(--fill-color);\n",
              "    }\n",
              "    60% {\n",
              "      border-color: transparent;\n",
              "      border-right-color: var(--fill-color);\n",
              "    }\n",
              "    80% {\n",
              "      border-color: transparent;\n",
              "      border-right-color: var(--fill-color);\n",
              "      border-bottom-color: var(--fill-color);\n",
              "    }\n",
              "    90% {\n",
              "      border-color: transparent;\n",
              "      border-bottom-color: var(--fill-color);\n",
              "    }\n",
              "  }\n",
              "</style>\n",
              "\n",
              "  <script>\n",
              "    async function quickchart(key) {\n",
              "      const quickchartButtonEl =\n",
              "        document.querySelector('#' + key + ' button');\n",
              "      quickchartButtonEl.disabled = true;  // To prevent multiple clicks.\n",
              "      quickchartButtonEl.classList.add('colab-df-spinner');\n",
              "      try {\n",
              "        const charts = await google.colab.kernel.invokeFunction(\n",
              "            'suggestCharts', [key], {});\n",
              "      } catch (error) {\n",
              "        console.error('Error during call to suggestCharts:', error);\n",
              "      }\n",
              "      quickchartButtonEl.classList.remove('colab-df-spinner');\n",
              "      quickchartButtonEl.classList.add('colab-df-quickchart-complete');\n",
              "    }\n",
              "    (() => {\n",
              "      let quickchartButtonEl =\n",
              "        document.querySelector('#df-0b85581a-84b2-400f-a5d1-60ccc7baa3f6 button');\n",
              "      quickchartButtonEl.style.display =\n",
              "        google.colab.kernel.accessAllowed ? 'block' : 'none';\n",
              "    })();\n",
              "  </script>\n",
              "</div>\n",
              "    </div>\n",
              "  </div>\n"
            ],
            "application/vnd.google.colaboratory.intrinsic+json": {
              "type": "dataframe",
              "variable_name": "df",
              "summary": "{\n  \"name\": \"df\",\n  \"rows\": 5,\n  \"fields\": [\n    {\n      \"column\": \"company_name\",\n      \"properties\": {\n        \"dtype\": \"string\",\n        \"num_unique_values\": 5,\n        \"samples\": [\n          \"Dawsongroup Vans Ltd\",\n          \"Smith Craven\",\n          \"MCS Test Equipment Ltd\"\n        ],\n        \"semantic_type\": \"\",\n        \"description\": \"\"\n      }\n    },\n    {\n      \"column\": \"purchase_order\",\n      \"properties\": {\n        \"dtype\": \"string\",\n        \"num_unique_values\": 3,\n        \"samples\": [\n          \"N/A\",\n          \"\",\n          \"PO KC01-1081\"\n        ],\n        \"semantic_type\": \"\",\n        \"description\": \"\"\n      }\n    },\n    {\n      \"column\": \"order_no\",\n      \"properties\": {\n        \"dtype\": \"string\",\n        \"num_unique_values\": 3,\n        \"samples\": [\n          \"N/A\",\n          \"\",\n          \"1125\"\n        ],\n        \"semantic_type\": \"\",\n        \"description\": \"\"\n      }\n    },\n    {\n      \"column\": \"invoice_no\",\n      \"properties\": {\n        \"dtype\": \"string\",\n        \"num_unique_values\": 5,\n        \"samples\": [\n          \"3118647\",\n          \"82587\",\n          \"20381\"\n        ],\n        \"semantic_type\": \"\",\n        \"description\": \"\"\n      }\n    },\n    {\n      \"column\": \"date\",\n      \"properties\": {\n        \"dtype\": \"string\",\n        \"num_unique_values\": 5,\n        \"samples\": [\n          \"23/08/2023\",\n          \"30/06/2023\",\n          \"13 Jul 2023\"\n        ],\n        \"semantic_type\": \"\",\n        \"description\": \"\"\n      }\n    },\n    {\n      \"column\": \"sort_code\",\n      \"properties\": {\n        \"dtype\": \"string\",\n        \"num_unique_values\": 5,\n        \"samples\": [\n          \"\",\n          \"20-55-58\",\n          \"40-30-18\"\n        ],\n        \"semantic_type\": \"\",\n        \"description\": \"\"\n      }\n    },\n    {\n      \"column\": \"net_amount\",\n      \"properties\": {\n        \"dtype\": \"number\",\n        \"std\": 2124,\n        \"min\": 22,\n        \"max\": 5130,\n        \"num_unique_values\": 5,\n        \"samples\": [\n          22,\n          638,\n          627\n        ],\n        \"semantic_type\": \"\",\n        \"description\": \"\"\n      }\n    },\n    {\n      \"column\": \"vat_20\",\n      \"properties\": {\n        \"dtype\": \"number\",\n        \"std\": 62,\n        \"min\": 0,\n        \"max\": 127,\n        \"num_unique_values\": 5,\n        \"samples\": [\n          4,\n          127,\n          125\n        ],\n        \"semantic_type\": \"\",\n        \"description\": \"\"\n      }\n    },\n    {\n      \"column\": \"total_due\",\n      \"properties\": {\n        \"dtype\": \"number\",\n        \"std\": 2094,\n        \"min\": 27,\n        \"max\": 5130,\n        \"num_unique_values\": 5,\n        \"samples\": [\n          27,\n          765,\n          752\n        ],\n        \"semantic_type\": \"\",\n        \"description\": \"\"\n      }\n    },\n    {\n      \"column\": \"account_number\",\n      \"properties\": {\n        \"dtype\": \"string\",\n        \"num_unique_values\": 5,\n        \"samples\": [\n          \"52515\",\n          \"00272477\",\n          \"31284363\"\n        ],\n        \"semantic_type\": \"\",\n        \"description\": \"\"\n      }\n    },\n    {\n      \"column\": \"ac_name\",\n      \"properties\": {\n        \"dtype\": \"string\",\n        \"num_unique_values\": 5,\n        \"samples\": [\n          \"\",\n          \"Barclays Bank\",\n          \"MCS Test Equipment Ltd\"\n        ],\n        \"semantic_type\": \"\",\n        \"description\": \"\"\n      }\n    },\n    {\n      \"column\": \"file_path\",\n      \"properties\": {\n        \"dtype\": \"string\",\n        \"num_unique_values\": 5,\n        \"samples\": [\n          \"/content/Invoice/8931-1696577535.pdf\",\n          \"/content/Invoice/8875-1692964285.pdf\",\n          \"/content/Invoice/8815-1691335008.pdf\"\n        ],\n        \"semantic_type\": \"\",\n        \"description\": \"\"\n      }\n    }\n  ]\n}"
            }
          },
          "metadata": {},
          "execution_count": 48
        }
      ]
    },
    {
      "cell_type": "code",
      "source": [],
      "metadata": {
        "id": "fMij5MHXJ_dT"
      },
      "execution_count": null,
      "outputs": []
    }
  ]
}