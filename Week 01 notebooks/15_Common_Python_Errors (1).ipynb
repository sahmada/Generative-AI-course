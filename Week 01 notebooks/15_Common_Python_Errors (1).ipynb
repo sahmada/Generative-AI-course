{
  "cells": [
    {
      "cell_type": "markdown",
      "id": "761562d4",
      "metadata": {
        "id": "761562d4"
      },
      "source": [
        "# 15 Common Python Errors and How to Fix Them"
      ]
    },
    {
      "cell_type": "code",
      "execution_count": null,
      "id": "jGRZFdecVr-x",
      "metadata": {
        "colab": {
          "background_save": true
        },
        "id": "jGRZFdecVr-x",
        "outputId": "1d55d017-61ba-4f6e-a5bf-989c8abd44d9"
      },
      "outputs": [
        {
          "ename": "SyntaxError",
          "evalue": "invalid syntax. Perhaps you forgot a comma? (<ipython-input-1-0a163df3fbbb>, line 1)",
          "output_type": "error",
          "traceback": [
            "\u001b[0;36m  File \u001b[0;32m\"<ipython-input-1-0a163df3fbbb>\"\u001b[0;36m, line \u001b[0;32m1\u001b[0m\n\u001b[0;31m    employees = {\"pam\" 30, \"jim\": 28}  # Missing a colon after \"pam\"\u001b[0m\n\u001b[0m                 ^\u001b[0m\n\u001b[0;31mSyntaxError\u001b[0m\u001b[0;31m:\u001b[0m invalid syntax. Perhaps you forgot a comma?\n"
          ]
        }
      ],
      "source": [
        "employees = {\"pam\" 30, \"jim\": 28}  # Missing a colon after \"pam\"\n",
        "for name, age in employees.items():\n",
        "  print(f\"{name.capitalize()} is {age} years old.\")"
      ]
    },
    {
      "cell_type": "markdown",
      "id": "04861936",
      "metadata": {
        "id": "04861936"
      },
      "source": [
        "## 1. SyntaxError\n",
        "- **Description**: Raised when Python encounters invalid syntax.\n",
        "- **Causes**: Unclosed strings, missing colons, misusing assignment operators, or using invalid Python syntax.\n",
        "- **Example**:\n",
        "```python\n",
        "employees = {\"pam\" 30, \"jim\": 28}  # Missing a colon after \"pam\"\n",
        "for name, age in employees.items():\n",
        "    print(f\"{name.capitalize()} is {age} years old.\")\n",
        "```\n",
        "- **Fix**: Correct the syntax. For example:\n",
        "```python\n",
        "employees = {\"pam\": 30, \"jim\": 28}\n",
        "```"
      ]
    },
    {
      "cell_type": "markdown",
      "id": "9a940132",
      "metadata": {
        "id": "9a940132"
      },
      "source": [
        "## 2. IndentationError\n",
        "- **Description**: Raised when the indentation is incorrect or inconsistent.\n",
        "- **Causes**: Mixing tabs and spaces, missing indentation, or incorrectly nested blocks.\n",
        "- **Example**:\n",
        "```python\n",
        "if True:\n",
        "print(\"Incorrectly indented\")\n",
        "```\n",
        "- **Fix**: Use consistent indentation (e.g., 4 spaces):\n",
        "```python\n",
        "if True:\n",
        "    print(\"Correctly indented\")\n",
        "```"
      ]
    },
    {
      "cell_type": "markdown",
      "id": "3fcb1956",
      "metadata": {
        "id": "3fcb1956"
      },
      "source": [
        "## 3. NameError\n",
        "- **Description**: Raised when referencing a variable or function that hasn’t been defined.\n",
        "- **Example**:\n",
        "```python\n",
        "print(name)  # 'name' is not defined\n",
        "```\n",
        "- **Fix**: Define the variable before using it:\n",
        "```python\n",
        "name = \"Alice\"\n",
        "print(name)\n",
        "```"
      ]
    },
    {
      "cell_type": "markdown",
      "id": "18a7959c",
      "metadata": {
        "id": "18a7959c"
      },
      "source": [
        "## 4. ValueError\n",
        "- **Description**: Raised when a function receives the correct type of argument but an invalid value.\n",
        "- **Example**:\n",
        "```python\n",
        "num = int(\"forty-two\")  # Invalid literal for int()\n",
        "```\n",
        "- **Fix**: Ensure the value matches the function’s requirements:\n",
        "```python\n",
        "num = int(\"42\")\n",
        "```"
      ]
    },
    {
      "cell_type": "markdown",
      "id": "3b4d0f40",
      "metadata": {
        "id": "3b4d0f40"
      },
      "source": [
        "## 5. UnboundLocalError\n",
        "- **Description**: Raised when a local variable is referenced before being assigned.\n",
        "- **Example**:\n",
        "```python\n",
        "def display_name():\n",
        "    print(name)  # Referencing 'name' before assignment\n",
        "    name = \"John\"\n",
        "```\n",
        "- **Fix**: Assign the variable before referencing it, or use `global` if it's a global variable."
      ]
    },
    {
      "cell_type": "markdown",
      "id": "8ee8db61",
      "metadata": {
        "id": "8ee8db61"
      },
      "source": [
        "## 6. TypeError\n",
        "- **Description**: Raised when an operation or function is applied to an object of inappropriate type.\n",
        "- **Example**:\n",
        "```python\n",
        "print(\"hello\" / 3)  # Division operation is invalid for strings\n",
        "```\n",
        "- **Fix**: Ensure operations are applied to compatible types."
      ]
    },
    {
      "cell_type": "markdown",
      "id": "2812197c",
      "metadata": {
        "id": "2812197c"
      },
      "source": [
        "## 7. UnicodeError\n",
        "- **Description**: Raised when encoding or decoding strings to/from Unicode fails.\n",
        "- **Example**:\n",
        "```python\n",
        "unicode_str = \"\\u1234\"\n",
        "print(unicode_str.encode('utf-8').decode('ascii'))  # Invalid decoding\n",
        "```\n",
        "- **Fix**: Use appropriate encoding/decoding schemes (e.g., UTF-8)."
      ]
    },
    {
      "cell_type": "markdown",
      "id": "d9563276",
      "metadata": {
        "id": "d9563276"
      },
      "source": [
        "## 8. ZeroDivisionError\n",
        "- **Description**: Raised when dividing a number by zero.\n",
        "- **Example**:\n",
        "```python\n",
        "result = 5 / 0\n",
        "```\n",
        "- **Fix**: Check if the divisor is zero before performing division."
      ]
    },
    {
      "cell_type": "markdown",
      "id": "11456588",
      "metadata": {
        "id": "11456588"
      },
      "source": [
        "## 9. FileNotFoundError\n",
        "- **Description**: Raised when trying to open a file that does not exist.\n",
        "- **Example**:\n",
        "```python\n",
        "with open('non_existent_file.txt', 'r') as file:\n",
        "    content = file.read()\n",
        "```\n",
        "- **Fix**: Ensure the file exists or handle the error using a `try-except` block."
      ]
    },
    {
      "cell_type": "markdown",
      "id": "8f1b3fc6",
      "metadata": {
        "id": "8f1b3fc6"
      },
      "source": [
        "## 10. ModuleNotFoundError\n",
        "- **Description**: Raised when trying to import a module that isn’t installed or doesn’t exist.\n",
        "- **Example**:\n",
        "```python\n",
        "import non_existent_module\n",
        "```\n",
        "- **Fix**: Install the module using `pip`, or ensure the module name is correct."
      ]
    },
    {
      "cell_type": "markdown",
      "id": "e7e39095",
      "metadata": {
        "id": "e7e39095"
      },
      "source": [
        "## 11. MemoryError\n",
        "- **Description**: Raised when the system runs out of memory.\n",
        "- **Fix**: Optimize memory usage by processing data in chunks or using generators."
      ]
    },
    {
      "cell_type": "markdown",
      "id": "fff7cddd",
      "metadata": {
        "id": "fff7cddd"
      },
      "source": [
        "## 12. PermissionError\n",
        "- **Description**: Raised when attempting an operation without the necessary permissions.\n",
        "- **Example**:\n",
        "```python\n",
        "import os\n",
        "os.mkdir('/restricted_directory')\n",
        "```\n",
        "- **Fix**: Ensure the user has the required permissions."
      ]
    },
    {
      "cell_type": "markdown",
      "id": "6fcdb9d2",
      "metadata": {
        "id": "6fcdb9d2"
      },
      "source": [
        "## 13. IndexError\n",
        "- **Description**: Raised when accessing an index outside the range of a sequence.\n",
        "- **Example**:\n",
        "```python\n",
        "numbers = [1, 2, 3]\n",
        "print(numbers[5])  # Index out of range\n",
        "```\n",
        "- **Fix**: Check if the index is within the valid range using `len()`."
      ]
    },
    {
      "cell_type": "markdown",
      "id": "e23a10c0",
      "metadata": {
        "id": "e23a10c0"
      },
      "source": [
        "## 14. KeyError\n",
        "- **Description**: Raised when trying to access a dictionary key that doesn’t exist.\n",
        "- **Example**:\n",
        "```python\n",
        "my_dict = {'name': 'Alice'}\n",
        "print(my_dict['age'])\n",
        "```\n",
        "- **Fix**: Use the `get()` method or check for key existence."
      ]
    },
    {
      "cell_type": "markdown",
      "id": "acbd9a83",
      "metadata": {
        "id": "acbd9a83"
      },
      "source": [
        "## 15. AttributeError\n",
        "- **Description**: Raised when an invalid attribute is accessed.\n",
        "- **Example**:\n",
        "```python\n",
        "my_list = [1, 2, 3]\n",
        "my_list.lower()  # Invalid method for lists\n",
        "```\n",
        "- **Fix**: Check the object’s documentation for valid attributes and methods."
      ]
    }
  ],
  "metadata": {
    "colab": {
      "provenance": []
    }
  },
  "nbformat": 4,
  "nbformat_minor": 5
}